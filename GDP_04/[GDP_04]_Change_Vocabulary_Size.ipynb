{
  "cells": [
    {
      "cell_type": "markdown",
      "metadata": {
        "id": "UaBiUgfhpfGy"
      },
      "source": [
        "# 📰GDP-04. 뉴스 카테고리 다중 분류 - Vocabulary Size를 변경해서 시도해보기\n",
        "\n",
        "\n",
        "* 이번 시간에는 로이터 뉴스 데이터셋을 가져와 데이터셋을 이해 해 보고, 벡터화 하여 다양한 머신러닝 모델을 사용해 모델의 성능을 비교 해 보는 작업을 해보았습니다.\n",
        "\n",
        "\n",
        "* 이번 프로젝트에선, 단어의 수에 따라 모델의 성능이 어떻게 변화하는지 테스트 해 봅니다. \n"
      ]
    },
    {
      "cell_type": "markdown",
      "metadata": {
        "id": "Lw7uSqeKrESH"
      },
      "source": [
        "# 루브릭 평가 기준 \n",
        "\n",
        "| 평가문항 | 상세기준 |\n",
        "| :---: | --- |\n",
        "| 1. 분류 모델의 accuracy가 기준 이상 높게 나왔는가? | 3가지 단어 개수에 대해 8가지 머신러닝 기법을 적용하여 그중 최적의 솔루션을 도출하였다. |\n",
        "| 2. 분류 모델의 F1 score가 기준 이상 높게 나왔는가? | Vocabulary size에 따른 각 머신러닝 모델의 성능변화 추이를 살피고, 해당 머신러닝 알고리즘의 특성에 근거해 원인을 분석하였다. |\n",
        "| 3. 딥러닝 모델을 활용해 성능이 비교 및 확인되었는가? | 동일한 데이터셋과 전처리 조건으로 딥러닝 모델의 성능과 비교하여 결과에 따른 원인을 분석하였다. |"
      ]
    },
    {
      "cell_type": "markdown",
      "metadata": {
        "id": "90Hy3mmGrXTI"
      },
      "source": [
        "# 목차 \n",
        "\n",
        "\n",
        "## 1. 데이터 불러오기 및 필요한 도구 불러오기 \n",
        "## 2. 로이터 뉴스 데이터 확인하기\n",
        "## 3. 로이터 뉴스 데이터 전처리\n",
        "## 4. 다양한 머신 러닝 모델 가져오기\n",
        "## 5. 모델 학습하기 \n",
        "## 후기!\n",
        "## 🖇 참고페이지 "
      ]
    },
    {
      "cell_type": "markdown",
      "metadata": {
        "id": "4TgBQfAIrbEn"
      },
      "source": [
        "## 시작하기 전에..!\n",
        "\n",
        "\n",
        "* 구글 드라이브와 마운트 해 줍니다. \n",
        "* 예제에서 사용했던 폴더로 경로를 변경 해 주겠습니다."
      ]
    },
    {
      "cell_type": "code",
      "execution_count": 1,
      "metadata": {
        "colab": {
          "base_uri": "https://localhost:8080/",
          "height": 371
        },
        "id": "sZcFvcTKreMf",
        "outputId": "fb3393cb-f1a4-4e70-f800-90b733c514a9"
      },
      "outputs": [
        {
          "output_type": "error",
          "ename": "MessageError",
          "evalue": "ignored",
          "traceback": [
            "\u001b[0;31m---------------------------------------------------------------------------\u001b[0m",
            "\u001b[0;31mMessageError\u001b[0m                              Traceback (most recent call last)",
            "\u001b[0;32m<ipython-input-1-4b771692c20d>\u001b[0m in \u001b[0;36m<module>\u001b[0;34m()\u001b[0m\n\u001b[1;32m      2\u001b[0m \u001b[0;34m\u001b[0m\u001b[0m\n\u001b[1;32m      3\u001b[0m \u001b[0;32mfrom\u001b[0m \u001b[0mgoogle\u001b[0m\u001b[0;34m.\u001b[0m\u001b[0mcolab\u001b[0m \u001b[0;32mimport\u001b[0m \u001b[0mdrive\u001b[0m\u001b[0;34m\u001b[0m\u001b[0;34m\u001b[0m\u001b[0m\n\u001b[0;32m----> 4\u001b[0;31m \u001b[0mdrive\u001b[0m\u001b[0;34m.\u001b[0m\u001b[0mmount\u001b[0m\u001b[0;34m(\u001b[0m\u001b[0;34m'/content/gdrive'\u001b[0m\u001b[0;34m,\u001b[0m \u001b[0mforce_remount\u001b[0m\u001b[0;34m=\u001b[0m\u001b[0;32mTrue\u001b[0m\u001b[0;34m)\u001b[0m\u001b[0;34m\u001b[0m\u001b[0;34m\u001b[0m\u001b[0m\n\u001b[0m",
            "\u001b[0;32m/usr/local/lib/python3.7/dist-packages/google/colab/drive.py\u001b[0m in \u001b[0;36mmount\u001b[0;34m(mountpoint, force_remount, timeout_ms, use_metadata_server)\u001b[0m\n\u001b[1;32m    113\u001b[0m       \u001b[0mforce_remount\u001b[0m\u001b[0;34m=\u001b[0m\u001b[0mforce_remount\u001b[0m\u001b[0;34m,\u001b[0m\u001b[0;34m\u001b[0m\u001b[0;34m\u001b[0m\u001b[0m\n\u001b[1;32m    114\u001b[0m       \u001b[0mtimeout_ms\u001b[0m\u001b[0;34m=\u001b[0m\u001b[0mtimeout_ms\u001b[0m\u001b[0;34m,\u001b[0m\u001b[0;34m\u001b[0m\u001b[0;34m\u001b[0m\u001b[0m\n\u001b[0;32m--> 115\u001b[0;31m       ephemeral=True)\n\u001b[0m\u001b[1;32m    116\u001b[0m \u001b[0;34m\u001b[0m\u001b[0m\n\u001b[1;32m    117\u001b[0m \u001b[0;34m\u001b[0m\u001b[0m\n",
            "\u001b[0;32m/usr/local/lib/python3.7/dist-packages/google/colab/drive.py\u001b[0m in \u001b[0;36m_mount\u001b[0;34m(mountpoint, force_remount, timeout_ms, use_metadata_server, ephemeral)\u001b[0m\n\u001b[1;32m    133\u001b[0m   \u001b[0;32mif\u001b[0m \u001b[0mephemeral\u001b[0m\u001b[0;34m:\u001b[0m\u001b[0;34m\u001b[0m\u001b[0;34m\u001b[0m\u001b[0m\n\u001b[1;32m    134\u001b[0m     _message.blocking_request(\n\u001b[0;32m--> 135\u001b[0;31m         'request_auth', request={'authType': 'dfs_ephemeral'}, timeout_sec=None)\n\u001b[0m\u001b[1;32m    136\u001b[0m \u001b[0;34m\u001b[0m\u001b[0m\n\u001b[1;32m    137\u001b[0m   \u001b[0mmountpoint\u001b[0m \u001b[0;34m=\u001b[0m \u001b[0m_os\u001b[0m\u001b[0;34m.\u001b[0m\u001b[0mpath\u001b[0m\u001b[0;34m.\u001b[0m\u001b[0mexpanduser\u001b[0m\u001b[0;34m(\u001b[0m\u001b[0mmountpoint\u001b[0m\u001b[0;34m)\u001b[0m\u001b[0;34m\u001b[0m\u001b[0;34m\u001b[0m\u001b[0m\n",
            "\u001b[0;32m/usr/local/lib/python3.7/dist-packages/google/colab/_message.py\u001b[0m in \u001b[0;36mblocking_request\u001b[0;34m(request_type, request, timeout_sec, parent)\u001b[0m\n\u001b[1;32m    173\u001b[0m   request_id = send_request(\n\u001b[1;32m    174\u001b[0m       request_type, request, parent=parent, expect_reply=True)\n\u001b[0;32m--> 175\u001b[0;31m   \u001b[0;32mreturn\u001b[0m \u001b[0mread_reply_from_input\u001b[0m\u001b[0;34m(\u001b[0m\u001b[0mrequest_id\u001b[0m\u001b[0;34m,\u001b[0m \u001b[0mtimeout_sec\u001b[0m\u001b[0;34m)\u001b[0m\u001b[0;34m\u001b[0m\u001b[0;34m\u001b[0m\u001b[0m\n\u001b[0m",
            "\u001b[0;32m/usr/local/lib/python3.7/dist-packages/google/colab/_message.py\u001b[0m in \u001b[0;36mread_reply_from_input\u001b[0;34m(message_id, timeout_sec)\u001b[0m\n\u001b[1;32m    104\u001b[0m         reply.get('colab_msg_id') == message_id):\n\u001b[1;32m    105\u001b[0m       \u001b[0;32mif\u001b[0m \u001b[0;34m'error'\u001b[0m \u001b[0;32min\u001b[0m \u001b[0mreply\u001b[0m\u001b[0;34m:\u001b[0m\u001b[0;34m\u001b[0m\u001b[0;34m\u001b[0m\u001b[0m\n\u001b[0;32m--> 106\u001b[0;31m         \u001b[0;32mraise\u001b[0m \u001b[0mMessageError\u001b[0m\u001b[0;34m(\u001b[0m\u001b[0mreply\u001b[0m\u001b[0;34m[\u001b[0m\u001b[0;34m'error'\u001b[0m\u001b[0;34m]\u001b[0m\u001b[0;34m)\u001b[0m\u001b[0;34m\u001b[0m\u001b[0;34m\u001b[0m\u001b[0m\n\u001b[0m\u001b[1;32m    107\u001b[0m       \u001b[0;32mreturn\u001b[0m \u001b[0mreply\u001b[0m\u001b[0;34m.\u001b[0m\u001b[0mget\u001b[0m\u001b[0;34m(\u001b[0m\u001b[0;34m'data'\u001b[0m\u001b[0;34m,\u001b[0m \u001b[0;32mNone\u001b[0m\u001b[0;34m)\u001b[0m\u001b[0;34m\u001b[0m\u001b[0;34m\u001b[0m\u001b[0m\n\u001b[1;32m    108\u001b[0m \u001b[0;34m\u001b[0m\u001b[0m\n",
            "\u001b[0;31mMessageError\u001b[0m: Error: credential propagation was unsuccessful"
          ]
        }
      ],
      "source": [
        "# 구글 마운트\n",
        "\n",
        "from google.colab import drive\n",
        "drive.mount('/content/gdrive', force_remount=True)"
      ]
    },
    {
      "cell_type": "code",
      "execution_count": null,
      "metadata": {
        "id": "RKAvHNXKrnJi"
      },
      "outputs": [],
      "source": [
        "import os\n",
        "\n",
        "# 작업 디렉토리를 reuters_classification 으로 변경 \n",
        "os.chdir('/content/gdrive/MyDrive/AIFFEL/mkdir/reuters_classifiaction')"
      ]
    },
    {
      "cell_type": "markdown",
      "metadata": {
        "id": "SyHE9P3GvS_c"
      },
      "source": [
        ""
      ]
    },
    {
      "cell_type": "markdown",
      "metadata": {
        "id": "r-97GDcct74z"
      },
      "source": [
        "------------  \n",
        "\n",
        "\n",
        "# 1. 데이터 불러오기 및 필요한 도구 불러오기 \n",
        "\n",
        "\n",
        "* 이번 프로젝트에 사용할 모듈과 데이터셋을 불러옵니다.\n",
        "* num_words 마다 다른 변수명으로 지정 해 주겠습니다. 예제에선 10,000 개의 단어를 시도 해 봤었습니다. 이번 프로젝트에선 빈도수 상위 5000개,15000개, 20000개, 모든 단어 ㅡ 총 4번의 시도를 해 보고, 예제의 결과 값과 비교 해 보겠습니다."
      ]
    },
    {
      "cell_type": "code",
      "execution_count": 2,
      "metadata": {
        "id": "GP3lBHsbvKZD"
      },
      "outputs": [],
      "source": [
        "# 필요한 라이브러리 import \n",
        "from tensorflow.keras.datasets import reuters # 로이터 데이터셋 \n",
        "import matplotlib.pyplot as plt\n",
        "import seaborn as sns\n",
        "import numpy as np\n",
        "import pandas as pd\n",
        "\n",
        "# 벡터화 하기 \n",
        "from sklearn.feature_extraction.text import CountVectorizer\n",
        "from sklearn.feature_extraction.text import TfidfTransformer\n",
        "\n",
        "# 머신러닝 모델 라이브러리 가져오기 \n",
        "from sklearn.naive_bayes import MultinomialNB #다항분포 나이브 베이즈 모델\n",
        "from sklearn.linear_model import LogisticRegression, SGDClassifier\n",
        "from sklearn.naive_bayes import ComplementNB\n",
        "from sklearn.tree import DecisionTreeClassifier\n",
        "from sklearn.ensemble import RandomForestClassifier\n",
        "from sklearn.ensemble import GradientBoostingClassifier\n",
        "from sklearn.ensemble import VotingClassifier\n",
        "from sklearn.svm import LinearSVC\n",
        "from sklearn.metrics import accuracy_score #정확도 계산\n",
        "\n",
        "# classificatin_report, confusion_matrix \n",
        "from sklearn.metrics import classification_report\n",
        "from sklearn.metrics import confusion_matrix"
      ]
    },
    {
      "cell_type": "markdown",
      "metadata": {
        "id": "DOyBgdLJ8aIl"
      },
      "source": [
        ""
      ]
    },
    {
      "cell_type": "code",
      "execution_count": 3,
      "metadata": {
        "colab": {
          "base_uri": "https://localhost:8080/"
        },
        "id": "IG6aeR28vK1j",
        "outputId": "acecaa07-2cd8-4a32-96c3-344d79978bc0"
      },
      "outputs": [
        {
          "output_type": "stream",
          "name": "stdout",
          "text": [
            "Downloading data from https://storage.googleapis.com/tensorflow/tf-keras-datasets/reuters.npz\n",
            "2113536/2110848 [==============================] - 0s 0us/step\n",
            "2121728/2110848 [==============================] - 0s 0us/step\n"
          ]
        }
      ],
      "source": [
        "# 텐서플로우 데이터셋으로 부터 로이터 뉴스 데이터 받아오기\n",
        "# 빈도수 상위 5000개 \n",
        "(x5_train, y5_train), (x5_test, y5_test) = reuters.load_data(num_words=5000, test_split=0.2)\n"
      ]
    },
    {
      "cell_type": "code",
      "execution_count": 4,
      "metadata": {
        "colab": {
          "base_uri": "https://localhost:8080/"
        },
        "id": "ETPRr_ug8Gl6",
        "outputId": "2628269b-0b37-436b-bb8e-7bc94d75e1c5"
      },
      "outputs": [
        {
          "output_type": "stream",
          "name": "stdout",
          "text": [
            "num_words=5000\n",
            "훈련 샘플의 수: 8982\n",
            "테스트 샘플의 수: 2246\n"
          ]
        }
      ],
      "source": [
        "print('num_words=5000') \n",
        "print('훈련 샘플의 수: {}'.format(len(x5_train)))\n",
        "print('테스트 샘플의 수: {}'.format(len(x5_test)))"
      ]
    },
    {
      "cell_type": "markdown",
      "metadata": {
        "id": "UHn46ErB8ZL3"
      },
      "source": [
        ""
      ]
    },
    {
      "cell_type": "code",
      "execution_count": 5,
      "metadata": {
        "id": "ggHTQHzN3C83"
      },
      "outputs": [],
      "source": [
        "# 빈도수 상위 15000개 \n",
        "(x15_train, y15_train), (x15_test, y15_test) = reuters.load_data(num_words=15000, test_split=0.2)"
      ]
    },
    {
      "cell_type": "code",
      "execution_count": 6,
      "metadata": {
        "colab": {
          "base_uri": "https://localhost:8080/"
        },
        "id": "dUZ0qnoq8FSL",
        "outputId": "a67ce646-1799-4370-fb91-af7bf92f5bcd"
      },
      "outputs": [
        {
          "output_type": "stream",
          "name": "stdout",
          "text": [
            "num_words=15000\n",
            "훈련 샘플의 수: 8982\n",
            "테스트 샘플의 수: 2246\n"
          ]
        }
      ],
      "source": [
        "print('num_words=15000') \n",
        "print('훈련 샘플의 수: {}'.format(len(x15_train)))\n",
        "print('테스트 샘플의 수: {}'.format(len(x15_test)))"
      ]
    },
    {
      "cell_type": "markdown",
      "metadata": {
        "id": "mrK2b8DX8cKB"
      },
      "source": [
        ""
      ]
    },
    {
      "cell_type": "code",
      "execution_count": 8,
      "metadata": {
        "id": "KTK2bkow3DGI"
      },
      "outputs": [],
      "source": [
        "# 빈도수 상위 20000개 \n",
        "(x20_train, y20_train), (x20_test, y20_test) = reuters.load_data(num_words=20000, test_split=0.2)\n"
      ]
    },
    {
      "cell_type": "code",
      "execution_count": 9,
      "metadata": {
        "colab": {
          "base_uri": "https://localhost:8080/"
        },
        "id": "SBQ62V9t8GCM",
        "outputId": "a551f0d0-b246-4d07-ad1e-442ace7feefa"
      },
      "outputs": [
        {
          "output_type": "stream",
          "name": "stdout",
          "text": [
            "num_words=20000\n",
            "훈련 샘플의 수: 8982\n",
            "테스트 샘플의 수: 2246\n"
          ]
        }
      ],
      "source": [
        "print('num_words=20000') \n",
        "print('훈련 샘플의 수: {}'.format(len(x20_train)))\n",
        "print('테스트 샘플의 수: {}'.format(len(x20_test)))"
      ]
    },
    {
      "cell_type": "markdown",
      "metadata": {
        "id": "Kwp-Ldg08c6k"
      },
      "source": [
        ""
      ]
    },
    {
      "cell_type": "code",
      "execution_count": 10,
      "metadata": {
        "id": "5auYolbF3DKC"
      },
      "outputs": [],
      "source": [
        "# 모든 단어 사용 \n",
        "(xall_train, yall_train), (xall_test, yall_test) = reuters.load_data(num_words=None, test_split=0.2)\n"
      ]
    },
    {
      "cell_type": "code",
      "execution_count": 11,
      "metadata": {
        "colab": {
          "base_uri": "https://localhost:8080/"
        },
        "id": "IKhPSmXA5TrG",
        "outputId": "9dc8eeb1-be68-472b-c54c-70b4b005b288"
      },
      "outputs": [
        {
          "output_type": "stream",
          "name": "stdout",
          "text": [
            "num_words=None, 모든 단어 사용하기 \n",
            "훈련 샘플의 수: 8982\n",
            "테스트 샘플의 수: 2246\n"
          ]
        }
      ],
      "source": [
        "print('num_words=None, 모든 단어 사용하기 ') \n",
        "print('훈련 샘플의 수: {}'.format(len(xall_train)))\n",
        "print('테스트 샘플의 수: {}'.format(len(xall_test)))"
      ]
    },
    {
      "cell_type": "markdown",
      "metadata": {
        "id": "kfEfBhay9obA"
      },
      "source": [
        "* `num_words=None, test_split=0.2"
      ]
    },
    {
      "cell_type": "markdown",
      "metadata": {
        "id": "7ERgunU0t72S"
      },
      "source": [
        "------------  \n",
        "\n",
        "\n",
        "# 2. 로이터 뉴스 데이터 확인하기\n",
        "\n",
        "* 훈련용 데이터의 뉴스와 테스트용 데이터의 뉴스 한줄을 출력 해서 확인 해 봅니다. \n",
        "* 데이터는 빈도수 상위 5000개의 데이터를 이용합니다.\n",
        "* 텐서플로우에서 제공하는 데이터셋은 기본적인 전처리와 정수 인코딩이 되어 제공되기 때문에, 출력값이 정수형으로 출력되는것. "
      ]
    },
    {
      "cell_type": "markdown",
      "metadata": {
        "id": "0Jc3nXPFFRoA"
      },
      "source": [
        "## &nbsp;&nbsp;2-1. 데이터 내용 확인 해 보기 "
      ]
    },
    {
      "cell_type": "code",
      "execution_count": 7,
      "metadata": {
        "colab": {
          "base_uri": "https://localhost:8080/"
        },
        "id": "BwXJCMWe8fOW",
        "outputId": "fa800326-b460-4fda-d3bc-4fedf2927efb"
      },
      "outputs": [
        {
          "output_type": "stream",
          "name": "stdout",
          "text": [
            "[1, 2, 2, 8, 43, 10, 447, 5, 25, 207, 270, 5, 3095, 111, 16, 369, 186, 90, 67, 7, 89, 5, 19, 102, 6, 19, 124, 15, 90, 67, 84, 22, 482, 26, 7, 48, 4, 49, 8, 864, 39, 209, 154, 6, 151, 6, 83, 11, 15, 22, 155, 11, 15, 7, 48, 9, 4579, 1005, 504, 6, 258, 6, 272, 11, 15, 22, 134, 44, 11, 15, 16, 8, 197, 1245, 90, 67, 52, 29, 209, 30, 32, 132, 6, 109, 15, 17, 12]\n",
            "[1, 4, 1378, 2025, 9, 697, 4622, 111, 8, 25, 109, 29, 3650, 11, 150, 244, 364, 33, 30, 30, 1398, 333, 6, 2, 159, 9, 1084, 363, 13, 2, 71, 9, 2, 71, 117, 4, 225, 78, 206, 10, 9, 1214, 8, 4, 270, 5, 2, 7, 748, 48, 9, 2, 7, 207, 1451, 966, 1864, 793, 97, 133, 336, 7, 4, 493, 98, 273, 104, 284, 25, 39, 338, 22, 905, 220, 3465, 644, 59, 20, 6, 119, 61, 11, 15, 58, 579, 26, 10, 67, 7, 4, 738, 98, 43, 88, 333, 722, 12, 20, 6, 19, 746, 35, 15, 10, 9, 1214, 855, 129, 783, 21, 4, 2280, 244, 364, 51, 16, 299, 452, 16, 515, 4, 99, 29, 5, 4, 364, 281, 48, 10, 9, 1214, 23, 644, 47, 20, 324, 27, 56, 2, 2, 5, 192, 510, 17, 12]\n"
          ]
        }
      ],
      "source": [
        "print(x5_train[0])\n",
        "print(x5_test[0])\n"
      ]
    },
    {
      "cell_type": "code",
      "execution_count": 8,
      "metadata": {
        "colab": {
          "base_uri": "https://localhost:8080/"
        },
        "id": "BlcAz9pM8fSC",
        "outputId": "9f43b226-ea1e-4430-ec70-f381d24dc27d"
      },
      "outputs": [
        {
          "output_type": "stream",
          "name": "stdout",
          "text": [
            "3\n",
            "3\n"
          ]
        }
      ],
      "source": [
        "#레이블도 출력 해 보겠습니다.\n",
        "print(y5_train[0])\n",
        "print(y5_test[0])"
      ]
    },
    {
      "cell_type": "markdown",
      "metadata": {
        "id": "69guE63rEQ_A"
      },
      "source": [
        "* 레이블은 index 값 처럼 숫자 0부터 시작하기 때문에, 총 레이블의 개수를 확인해 보려면 최댓값에 1을 더해 출력하면 확인 할 수 있다. \n",
        "    - ex) 라벨 0 = 시사, 라벨 1 = 사회 ... (어디까지나 예시)\n"
      ]
    },
    {
      "cell_type": "code",
      "execution_count": 9,
      "metadata": {
        "colab": {
          "base_uri": "https://localhost:8080/"
        },
        "id": "FNgdb8Eh8fVq",
        "outputId": "ab2716b0-5a3d-4d93-ca2e-d59de4c5bbd9"
      },
      "outputs": [
        {
          "output_type": "stream",
          "name": "stdout",
          "text": [
            "클래스의 수 : 46\n"
          ]
        }
      ],
      "source": [
        "num_classes = max(y5_train) + 1\n",
        "print('클래스의 수 : {}'.format(num_classes))"
      ]
    },
    {
      "cell_type": "markdown",
      "metadata": {
        "id": "MFKGZJTHFdGH"
      },
      "source": [
        "## &nbsp;&nbsp;2-2. 데이터 분포 확인하기 \n",
        "\n",
        "* 뉴스 기사의 길이 분포를 확인 해 봅니다. "
      ]
    },
    {
      "cell_type": "code",
      "execution_count": 10,
      "metadata": {
        "colab": {
          "base_uri": "https://localhost:8080/",
          "height": 317
        },
        "id": "Q1NRM68J8fZL",
        "outputId": "c5a17949-fed4-4283-cc4b-c113d3699390"
      },
      "outputs": [
        {
          "output_type": "stream",
          "name": "stdout",
          "text": [
            "훈련용 뉴스의 최대 길이 :2376\n",
            "훈련용 뉴스의 평균 길이 :145.5398574927633\n"
          ]
        },
        {
          "output_type": "display_data",
          "data": {
            "text/plain": [
              "<Figure size 432x288 with 1 Axes>"
            ],
            "image/png": "[encoded data removed]"
          },
          "metadata": {
            "needs_background": "light"
          }
        }
      ],
      "source": [
        "print('훈련용 뉴스의 최대 길이 :{}'.format(max(len(l) for l in x5_train)))\n",
        "print('훈련용 뉴스의 평균 길이 :{}'.format(sum(map(len, x5_train))/len(x5_train)))\n",
        "\n",
        "plt.hist([len(s) for s in x5_train], bins=50)\n",
        "plt.xlabel('length of samples')\n",
        "plt.ylabel('number of samples')\n",
        "plt.show()"
      ]
    },
    {
      "cell_type": "markdown",
      "metadata": {
        "id": "RiOTz3iGF2ke"
      },
      "source": [
        "* 맞춰야 하는 클래스 별 데이터 분포도 확인 해 봅니다. \n",
        "\n",
        "\n",
        "*  수치적으로도 확인 해 보고, 그래프 시각화를 통해서도 확인 해 봅시다. "
      ]
    },
    {
      "cell_type": "code",
      "execution_count": 11,
      "metadata": {
        "colab": {
          "base_uri": "https://localhost:8080/",
          "height": 509
        },
        "id": "RsZA1OcoGm2y",
        "outputId": "ac31875f-ba1d-4dd4-a04c-a9c45548b180"
      },
      "outputs": [
        {
          "output_type": "stream",
          "name": "stdout",
          "text": [
            "각 클래스 빈도수:\n",
            "[[   0    1    2    3    4    5    6    7    8    9   10   11   12   13\n",
            "    14   15   16   17   18   19   20   21   22   23   24   25   26   27\n",
            "    28   29   30   31   32   33   34   35   36   37   38   39   40   41\n",
            "    42   43   44   45]\n",
            " [  55  432   74 3159 1949   17   48   16  139  101  124  390   49  172\n",
            "    26   20  444   39   66  549  269  100   15   41   62   92   24   15\n",
            "    48   19   45   39   32   11   50   10   49   19   19   24   36   30\n",
            "    13   21   12   18]]\n",
            " \n"
          ]
        },
        {
          "output_type": "display_data",
          "data": {
            "text/plain": [
              "<Figure size 792x360 with 1 Axes>"
            ],
            "image/png": "[encoded data removed]"
          },
          "metadata": {
            "needs_background": "light"
          }
        }
      ],
      "source": [
        "unique_elements, counts_elements = np.unique(y5_train, return_counts=True)\n",
        "print(\"각 클래스 빈도수:\")\n",
        "print(np.asarray((unique_elements, counts_elements)))\n",
        "print(' ') # 문단 나누기 용 띄어쓰기 \n",
        "fig, axe = plt.subplots(ncols=1)\n",
        "fig.set_size_inches(11,5)\n",
        "sns.countplot(x=y5_train)\n",
        "plt.show()\n"
      ]
    },
    {
      "cell_type": "markdown",
      "metadata": {
        "id": "t8q59j-qt7wl"
      },
      "source": [
        "------------  \n",
        "\n",
        "\n",
        "# 3. 로이터 뉴스 데이터 전처리\n",
        "\n",
        "* 텐서플로우 케라스에서 지원하는 로이터 뉴스 데이터는 이미 전처리가 되어있는 상태라, 따로 전처리를 해 줄 필요는 없습니다. 하지만, 처음 출력했을 때도 확인 했듯, 출력값이 정수형 데이터이기 때문에 원본 뉴스 데이터를 확인 할  수 없습니다. 이를 위해 원본 뉴스 데이터로 복원하는 작업을 해 보겠습니다. 또한, \n",
        "train data와 test data도 텍스트 데이터로 변환 하겠습니다. \n",
        "\n",
        "* 텍스트 데이터를 모델 입력으로 넣기 위해 각 문서를 벡터화 하는 작업이 필요합니다. 머신러닝 방법을 사용할 것이기 때문에, Bag of Words 가설을 기반으로 하는 DTM, TF-IDF 행렬을 이용해 벡터화 해 주겠습니다. \n"
      ]
    },
    {
      "cell_type": "markdown",
      "metadata": {
        "id": "ubDrk4IWGnWI"
      },
      "source": [
        "## &nbsp;&nbsp;3-1. 원본 뉴스 데이터로 복원하기 \n",
        "\n",
        "\n",
        "- 정수 시퀀스로 변환된 데이터를 ‘굳이’ 다시 텍스트로 돌려보는 작업을 해 봅니다.\n",
        "- 로이터 뉴스 데이터\n",
        "    - dictionary data\n",
        "    - key값 = 단어, value 값 = 고유한 ‘정수’\n",
        "- `word_index` 로 저장 해 봅니다.\n",
        "\n"
      ]
    },
    {
      "cell_type": "code",
      "execution_count": 12,
      "metadata": {
        "colab": {
          "base_uri": "https://localhost:8080/"
        },
        "id": "Yx-UcZco8gfR",
        "outputId": "e16fbc8e-73a5-42d8-cf22-8e8f76131ec8"
      },
      "outputs": [
        {
          "output_type": "stream",
          "name": "stdout",
          "text": [
            "Downloading data from https://storage.googleapis.com/tensorflow/tf-keras-datasets/reuters_word_index.json\n",
            "557056/550378 [==============================] - 0s 0us/step\n",
            "565248/550378 [==============================] - 0s 0us/step\n",
            "word_index = 뉴스 데이터 단어장 완! 성!\n"
          ]
        }
      ],
      "source": [
        "word_index = reuters.get_word_index(path=\"reuters_word_index.json\")\n",
        "print('word_index = 뉴스 데이터 단어장 완! 성!')"
      ]
    },
    {
      "cell_type": "markdown",
      "metadata": {
        "id": "-GveWGIfJrry"
      },
      "source": [
        "- word_index에 단어를 입력하면 어떤 정수와 맵핑됬는지 확인 할 수 있습니다."
      ]
    },
    {
      "cell_type": "code",
      "execution_count": 13,
      "metadata": {
        "colab": {
          "base_uri": "https://localhost:8080/"
        },
        "id": "CGiJoIwP8gcE",
        "outputId": "9ca9767f-ecda-4166-b490-66bf5105b625"
      },
      "outputs": [
        {
          "output_type": "execute_result",
          "data": {
            "text/plain": [
              "12073"
            ]
          },
          "metadata": {},
          "execution_count": 13
        }
      ],
      "source": [
        "word_index['apple']"
      ]
    },
    {
      "cell_type": "code",
      "execution_count": 14,
      "metadata": {
        "colab": {
          "base_uri": "https://localhost:8080/"
        },
        "id": "PJhCJ6pW8gYu",
        "outputId": "9af96d7f-e861-44bd-e891-1bd9af74ed38"
      },
      "outputs": [
        {
          "output_type": "execute_result",
          "data": {
            "text/plain": [
              "581"
            ]
          },
          "metadata": {},
          "execution_count": 14
        }
      ],
      "source": [
        "word_index['final']"
      ]
    },
    {
      "cell_type": "markdown",
      "metadata": {
        "id": "3MEWRvapJ30b"
      },
      "source": [
        "* 사실 위 출력된 정수는 원래 고유한 정수가 아님. 0,1,2 부분에 각각 \\<pad>, \\<sos>, \\<unk> 토큰이 매핑되어있음. \n",
        "- 그렇기 때문에, index에 3을 더해주어야 정확한 고유 숫자를 얻을 수 있다. "
      ]
    },
    {
      "cell_type": "code",
      "execution_count": 15,
      "metadata": {
        "colab": {
          "base_uri": "https://localhost:8080/"
        },
        "id": "rXqaW5X4J3vh",
        "outputId": "decfe4fb-79ce-4bed-ebc8-7db72f7e930e"
      },
      "outputs": [
        {
          "output_type": "stream",
          "name": "stdout",
          "text": [
            "=3\n"
          ]
        }
      ],
      "source": [
        "# index + 3 \n",
        "index_to_word = { index+3 : word for word, index in word_index.items() }\n",
        "print('=3')"
      ]
    },
    {
      "cell_type": "code",
      "execution_count": 16,
      "metadata": {
        "colab": {
          "base_uri": "https://localhost:8080/"
        },
        "id": "hfoVacWLKTVy",
        "outputId": "1928fa06-3b5d-41f5-b1dd-6f15707da292"
      },
      "outputs": [
        {
          "output_type": "stream",
          "name": "stdout",
          "text": [
            "apple\n",
            "final\n"
          ]
        }
      ],
      "source": [
        "# 확인! \n",
        "print(index_to_word[12076])\n",
        "print(index_to_word[581+3])"
      ]
    },
    {
      "cell_type": "markdown",
      "metadata": {
        "id": "EbeXUsaDKvWo"
      },
      "source": [
        "![image.png](data:image/png;base64,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)\n",
        "* index에 +3을 함으로써, index 번호가 밀려 0,1,2 번에는 매칭되는 단어가 없어졌다. index_to_word에 0,1,2 값을 넣어 없는것을 확인 할 수 있다.\n",
        "* 0,1,2 부분엔 각각 \\<pad>, \\<sos>, \\<unk> 를 넣어주겠습니다. "
      ]
    },
    {
      "cell_type": "code",
      "execution_count": 17,
      "metadata": {
        "colab": {
          "base_uri": "https://localhost:8080/"
        },
        "id": "40y_GtvIK5AN",
        "outputId": "f4bb1f33-208b-4074-f5b0-f33dc5f3d47b"
      },
      "outputs": [
        {
          "output_type": "stream",
          "name": "stdout",
          "text": [
            "the\n"
          ]
        }
      ],
      "source": [
        "print(index_to_word[4])"
      ]
    },
    {
      "cell_type": "code",
      "execution_count": 18,
      "metadata": {
        "colab": {
          "base_uri": "https://localhost:8080/"
        },
        "id": "kg8l7-oBLRMT",
        "outputId": "52c74944-339b-4607-e1bc-e75bed771d42"
      },
      "outputs": [
        {
          "output_type": "stream",
          "name": "stdout",
          "text": [
            "wan! ryo!\n"
          ]
        }
      ],
      "source": [
        "# index_to_word에 숫자 0은 <pad>, 숫자 1은 <sos>, 숫자 2는 <unk>를 넣어줍니다.\n",
        "for index, token in enumerate((\"<pad>\", \"<sos>\", \"<unk>\")):\n",
        "  index_to_word[index]=token\n",
        "print('wan! ryo!')"
      ]
    },
    {
      "cell_type": "code",
      "execution_count": 19,
      "metadata": {
        "colab": {
          "base_uri": "https://localhost:8080/"
        },
        "id": "zogRqQA8LYKH",
        "outputId": "235ec547-879c-479a-9c4a-b6858fc8df0e"
      },
      "outputs": [
        {
          "output_type": "stream",
          "name": "stdout",
          "text": [
            "index 0 번째 값 :  <pad>\n",
            "index 1 번째 값 :  <sos>\n",
            "index 2 번째 값 :  <unk>\n"
          ]
        }
      ],
      "source": [
        "for i in range(3):\n",
        "    print('index %d 번째 값 : '%i,index_to_word[i])"
      ]
    },
    {
      "cell_type": "markdown",
      "metadata": {
        "id": "dOc1KTdILuTK"
      },
      "source": [
        "* index_to_word를 통해서 첫 번째 훈련용 뉴스 기사를 원래 텍스트로 복원해 봅니다."
      ]
    },
    {
      "cell_type": "code",
      "execution_count": 20,
      "metadata": {
        "colab": {
          "base_uri": "https://localhost:8080/"
        },
        "id": "ZbX2suiELteO",
        "outputId": "5be6415d-af68-4e90-ef7d-cdf4d3b70804"
      },
      "outputs": [
        {
          "output_type": "stream",
          "name": "stdout",
          "text": [
            "<sos> <unk> <unk> said as a result of its december acquisition of space co it expects earnings per share in 1987 of 1 15 to 1 30 dlrs per share up from 70 cts in 1986 the company said pretax net should rise to nine to 10 mln dlrs from six mln dlrs in 1986 and rental operation revenues to 19 to 22 mln dlrs from 12 5 mln dlrs it said cash flow per share this year should be 2 50 to three dlrs reuter 3\n"
          ]
        }
      ],
      "source": [
        "print(' '.join([index_to_word[index] for index in x5_train[0]]))"
      ]
    },
    {
      "cell_type": "markdown",
      "metadata": {
        "id": "QRl6RlThL1CG"
      },
      "source": [
        "- 이 데이터 자체도 어느정도 전처리가 되어있기 때문에 자연스럽게 읽히진 않음.\n",
        "- but 문맥을 가진 텍스트이기 때문에 머신러닝 해도 별 무리는 없을듯\n",
        "- `<sos>` - 텍스트 분류를 위한 토큰이 아님 = 신경 안써도 됨\n",
        "- `<unk>` - 는 자연어 처리 전반에서 쓰이는 특별 토큰"
      ]
    },
    {
      "cell_type": "markdown",
      "metadata": {
        "id": "IqacwY6hQfVb"
      },
      "source": [
        "## &nbsp;&nbsp;3-2. train, test 텍스트 데이터 변환 \n",
        "\n",
        "* 우선 상위 5000개의 분포를 쓴 데이터 먼저 변환해 주겠습니다. \n",
        "- 다른 경우의 데이터는 시도하면서 함께 바꿔주는걸로.. "
      ]
    },
    {
      "cell_type": "code",
      "execution_count": 21,
      "metadata": {
        "colab": {
          "base_uri": "https://localhost:8080/"
        },
        "id": "a2LjCNBBQfK9",
        "outputId": "9025e524-f0b0-4eca-b83f-7306be84cc03"
      },
      "outputs": [
        {
          "output_type": "stream",
          "name": "stdout",
          "text": [
            "8982\n"
          ]
        }
      ],
      "source": [
        "# train data \n",
        "decoded = []\n",
        "for i in range(len(x5_train)):\n",
        "    t = ' '.join([index_to_word[index] for index in x5_train[i]])\n",
        "    decoded.append(t)\n",
        "\n",
        "x5_train = decoded\n",
        "print(len(x5_train))"
      ]
    },
    {
      "cell_type": "code",
      "execution_count": 22,
      "metadata": {
        "colab": {
          "base_uri": "https://localhost:8080/"
        },
        "id": "6iamWXyXQfA1",
        "outputId": "56ffdf13-4cda-40d4-84ac-d921ce0f2aec"
      },
      "outputs": [
        {
          "output_type": "stream",
          "name": "stdout",
          "text": [
            "2246\n"
          ]
        }
      ],
      "source": [
        "#test data\n",
        "decoded = []\n",
        "for i in range(len(x5_test)):\n",
        "    t = ' '.join([index_to_word[index] for index in x5_test[i]])\n",
        "    decoded.append(t)\n",
        "\n",
        "x5_test = decoded\n",
        "print(len(x5_test))"
      ]
    },
    {
      "cell_type": "markdown",
      "metadata": {
        "id": "snBYu_iw-PRc"
      },
      "source": [
        "* 제대로 변환되었는지 확인 해 봅니다."
      ]
    },
    {
      "cell_type": "code",
      "execution_count": 23,
      "metadata": {
        "colab": {
          "base_uri": "https://localhost:8080/"
        },
        "id": "Q2_WFA_6-POU",
        "outputId": "4b506f9b-d54b-4f7b-c861-7d0d7b58917c"
      },
      "outputs": [
        {
          "output_type": "execute_result",
          "data": {
            "text/plain": [
              "['<sos> <unk> <unk> said as a result of its december acquisition of space co it expects earnings per share in 1987 of 1 15 to 1 30 dlrs per share up from 70 cts in 1986 the company said pretax net should rise to nine to 10 mln dlrs from six mln dlrs in 1986 and rental operation revenues to 19 to 22 mln dlrs from 12 5 mln dlrs it said cash flow per share this year should be 2 50 to three dlrs reuter 3',\n",
              " '<sos> generale de banque sa lt <unk> <unk> and lt heller overseas corp of chicago have each taken 50 pct stakes in <unk> company sa <unk> factors generale de banque said in a statement it gave no financial details of the transaction sa <unk> <unk> turnover in 1986 was 17 5 billion belgian francs reuter 3',\n",
              " '<sos> shr 3 28 dlrs vs 22 cts shr diluted 2 99 dlrs vs 22 cts net 46 0 mln vs 3 328 000 avg shrs 14 0 mln vs 15 2 mln year shr 5 41 dlrs vs 1 56 dlrs shr diluted 4 94 dlrs vs 1 50 dlrs net 78 2 mln vs 25 9 mln avg shrs 14 5 mln vs 15 1 mln note earnings per share reflect the two for one split effective january 6 1987 per share amounts are calculated after preferred stock dividends loss continuing operations for the qtr 1986 includes gains of sale of investments in <unk> corp of 14 mln dlrs and associated companies of 4 189 000 less writedowns of investments in national <unk> inc of 11 8 mln and <unk> corp of 15 6 mln reuter 3',\n",
              " \"<sos> the farmers home administration the u s agriculture department's farm lending arm could lose about seven billion dlrs in outstanding principal on its severely <unk> borrowers or about one fourth of its farm loan portfolio the general accounting office gao said in remarks prepared for delivery to the senate agriculture committee brian <unk> senior associate director of gao also said that a preliminary analysis of proposed changes in <unk> financial <unk> standards indicated as many as one half of <unk> borrowers who received new loans from the agency in 1986 would be <unk> under the proposed system the agency has proposed <unk> <unk> credit using a variety of financial <unk> instead of <unk> <unk> on <unk> ability senate agriculture committee chairman <unk> <unk> d <unk> <unk> the proposed <unk> changes telling <unk> administrator <unk> clark at a hearing that they would mark a dramatic shift in the <unk> purpose away from being <unk> <unk> of last <unk> toward becoming a big city bank but clark <unk> the new regulations saying the agency had a responsibility to <unk> its 70 billion dlr loan portfolio in a <unk> yet <unk> manner <unk> of gao <unk> <unk> arm said the proposed credit <unk> system attempted to ensure that <unk> would make loans only to borrowers who had a reasonable change of <unk> their debt reuter 3\",\n",
              " '<sos> <unk> co said its board has received a proposal from chairman and chief executive officer philip d <unk> to acquire <unk> for 15 75 dlrs per share in cash <unk> said the acquisition bid is subject to <unk> arranging the necessary financing it said he intends to ask other members of senior management to participate the company said <unk> owns 30 pct of <unk> stock and other management members another 7 5 pct <unk> said it has formed an independent board committee to consider the offer and has deferred the annual meeting it had scheduled for march 31 reuter 3']"
            ]
          },
          "metadata": {},
          "execution_count": 23
        }
      ],
      "source": [
        "x5_train[:5]"
      ]
    },
    {
      "cell_type": "code",
      "execution_count": 24,
      "metadata": {
        "colab": {
          "base_uri": "https://localhost:8080/"
        },
        "id": "jV62MyVr-PFT",
        "outputId": "db095696-3aba-4d1f-d52e-3f53bde84c85"
      },
      "outputs": [
        {
          "output_type": "execute_result",
          "data": {
            "text/plain": [
              "['<sos> the great atlantic and pacific tea co said its three year 345 mln dlr capital program will be be substantially increased to <unk> growth and expansion plans for <unk> inc and <unk> inc over the next two years a and p said the acquisition of <unk> in august 1986 and <unk> in december helped us achieve better than expected results in the fourth quarter ended february 28 its net income from continuing operations jumped 52 6 pct to 20 7 mln dlrs or 55 cts a share in the latest quarter as sales increased 48 3 pct to 1 58 billion dlrs a and p gave no details on the expanded capital program but it did say it completed the first year of the program during 1986 a and p is 52 4 pct owned by lt <unk> <unk> of west germany reuter 3',\n",
              " \"<sos> philippine sugar production in the 1987 88 crop year ending august has been set at 1 6 mln tonnes up from a provisional 1 3 mln tonnes this year sugar regulatory administration <unk> chairman <unk> <unk> said <unk> told reuters a survey during the current milling season which ends next month showed the 1986 87 estimate would almost certainly be met he said at least 1 2 mln tonnes of the 1987 88 crop would be <unk> for domestic consumption <unk> said about 130 000 tonnes would be set aside for the u s sugar quota 150 000 tonnes for strategic reserves and 50 000 tonnes would be sold on the world market he said if the government approved a long standing <unk> recommendation to manufacture <unk> the project would take up another 150 000 tonnes slightly raising the target the government for its own reasons has been <unk> approval of the project but we expect it to come through by july <unk> said <unk> could make up five pct of gasoline cutting the oil import bill by about 300 mln pesos <unk> said three major philippine <unk> were ready to start manufacturing <unk> if the project was approved the <unk> project would result in employment for about 100 000 people sharply reducing those <unk> out of work by depressed world sugar prices and a <unk> domestic industry production quotas set for the first time in 1987 88 had been submitted to president <unk> <unk> i think the president would rather wait <unk> the new congress <unk> after the may elections he said but there is really no need for such quotas we are right now producing just slightly over our own consumption level the producers have never <unk> such high prices <unk> said adding sugar was currently selling <unk> for 320 pesos per <unk> up from 190 pesos last august <unk> said prices were <unk> up because of speculation following the <unk> bid to control production we are no longer concerned so much with the world market he said adding producers in the <unk> region had <unk> from their <unk> and diversified into corn and <unk> <unk> and <unk> production he said <unk> into products other than <unk> was also possible within the sugar industry the <unk> long ago <unk> their <unk> <unk> said they have 300 sugar mills compared with our 41 but they <unk> many of them and diversified production we want to call this a <unk> <unk> instead of the sugar industry he said <unk> could be fed to <unk> and livestock used for <unk> <unk> or used in room <unk> when you cut <unk> you don't even have to produce sugar he said <unk> said the philippines was <unk> for a renewal of the international sugar agreement which expired in 1984 as a major sugar producer we are urging them to write a new agreement which would <unk> world prices <unk> said if there is no agreement world prices will always be depressed particularly because the european community is <unk> its producers and dumping sugar on the markets he said current world prices holding steady at about 7 60 cents per pound were <unk> for the philippines where production costs ranged from 12 to 14 cents a pound if the price holds steady for a while at 7 60 cents i expect the level to rise to about 11 cents a pound by the end of this year he said <unk> said economists forecast a bullish sugar market by 1990 with world consumption <unk> production he said sugar markets were holding up despite <unk> from <unk> <unk> and high <unk> corn <unk> but we are not happy with the reagan administration he said since <unk> we have been regular suppliers of sugar to the u s in 1982 when they restored the quota system they cut <unk> in half without any <unk> <unk> was <unk> <unk> washington's moves to cut domestic support prices to 12 cents a pound from 18 cents the u s agriculture department last december <unk> its 12 month 1987 sugar import quota from the philippines to 143 780 short tons from 231 660 short tons in 1986 <unk> said despite next year's increased production target some philippine mills were expected to shut down at least four of the 41 mills were not working during the 1986 87 season he said we expect two or three more to follow suit during the next season reuter 3\",\n",
              " \"<sos> the agriculture department's widening of louisiana gulf differentials will affect county posted prices for number two <unk> corn in ten states a usda official said all <unk> in iowa will be affected as will <unk> which use the gulf to price corn in illinois indiana <unk> <unk> missouri mississippi <unk> <unk> and louisiana said <unk> <unk> deputy director of commodity operations division for the usda usda last night <unk> the grain industry that effective immediately all gulf differentials used to price interior corn would be widened on a <unk> scale basis of four to eight cts depending on what the differential is usda's action was taken to lower <unk> high posted county prices for corn caused by high gulf prices we've been following this louisiana gulf situation for a month and we don't think it's going to get back in line in any nearby time <unk> said <unk> said usda will probably narrow back the gulf differentials when and if gulf prices <unk> if we're off the mark now because we're too high <unk> we be as much off the mark if we're too low he said while forecasting more adjustments if gulf prices fall <unk> said no other changes in usda's price system are being planned right now we don't <unk> we don't make changes <unk> and we don't make changes often he said reuter 3\",\n",
              " '<sos> <unk> <unk> oil and gas partnership said it completed the sale of interests in two major oil and gas fields to lt energy assets international corp for 21 mln dlrs the company said it sold about one half of its 50 pct interest in the <unk> hill and north <unk> fields its two largest producing properties it said it used about 20 mln dlrs of the proceeds to <unk> principal on its senior secured notes semi annual principal payments on the remaining 40 mln dlrs of notes have been satisfied until december 1988 as a result it said the company said the note agreements were amended to reflect an easing of some financial <unk> and an increase of interest to 13 5 pct from 13 0 pct until december 1990 it said the <unk> exercise price for 1 125 000 warrants was also reduced to 50 cts from 1 50 dlrs the company said energy assets agreed to share the costs of increasing production at the <unk> hill field reuter 3',\n",
              " '<sos> strong south <unk> winds were keeping many vessels <unk> in the ice off the <unk> and swedish <unk> in one of the worst <unk> periods in the baltic for many years the <unk> board of navigation said in <unk> and sweden up to 50 vessels were reported to be <unk> in the ice and even the largest of the <unk> <unk> were having difficulties in breaking through to the <unk> ships <unk> officials said however <unk> conditions in the southern baltic at the soviet oil ports of <unk> and <unk> had eased they said weather officials in <unk> sweden said the <unk> conditions in the baltic were the worst for 30 years with ships fighting a losing battle to keep moving in the coastal <unk> of the gulf of <unk> which <unk> <unk> and sweden the ice is up to one <unk> <unk> with <unk> and <unk> <unk> it into almost <unk> <unk> three metres high swedish <unk> officials said weather forecasts say winds may ease during the weekend but a further drop in <unk> could bring shipping to a standstill the officials said reuter 3']"
            ]
          },
          "metadata": {},
          "execution_count": 24
        }
      ],
      "source": [
        "x5_test[:5]"
      ]
    },
    {
      "cell_type": "markdown",
      "metadata": {
        "id": "NE5n_qfT8giV"
      },
      "source": [
        "## &nbsp;&nbsp;3-3. 데이터 벡터화 하기 \n",
        "\n",
        "\n",
        "*  **DTM** , **TF-IDF** 행렬 을 이용해 벡터화 합니다.\n",
        "* scikit-learn을 이용해, DTM을 생성합니다.\n",
        "* 생성한 DTM을 이용해 TF-IDF 행렬을 만듭니다. \n",
        "    - 추가적인 전처리를 하지 않는 이상, DTM과 동일한 크기를 가집니다."
      ]
    },
    {
      "cell_type": "code",
      "execution_count": 25,
      "metadata": {
        "colab": {
          "base_uri": "https://localhost:8080/"
        },
        "id": "28OSOWro8gVn",
        "outputId": "8654458d-ab8d-4118-9dc9-69bce7d86fd5"
      },
      "outputs": [
        {
          "output_type": "stream",
          "name": "stdout",
          "text": [
            "(8982, 4867)\n"
          ]
        }
      ],
      "source": [
        "# DTM 생성하기 \n",
        "dtmvector = CountVectorizer()\n",
        "x5_train_dtm = dtmvector.fit_transform(x5_train)\n",
        "# DTM의 크기 확인! \n",
        "print(x5_train_dtm.shape)"
      ]
    },
    {
      "cell_type": "code",
      "execution_count": 26,
      "metadata": {
        "colab": {
          "base_uri": "https://localhost:8080/"
        },
        "id": "iXw7hx118gSP",
        "outputId": "0def9471-9b91-42e1-934b-1ea6d1feb69c"
      },
      "outputs": [
        {
          "output_type": "stream",
          "name": "stdout",
          "text": [
            "(8982, 4867)\n"
          ]
        }
      ],
      "source": [
        "# TF-IDF 행렬 만들기\n",
        "tfidf_transformer = TfidfTransformer()\n",
        "tfidfv5 = tfidf_transformer.fit_transform(x5_train_dtm)\n",
        "# TF-IDF 행렬 크기 확인! \n",
        "print(tfidfv5.shape)\n"
      ]
    },
    {
      "cell_type": "markdown",
      "metadata": {
        "id": "KcM6MhwcA851"
      },
      "source": [
        "* test data에도 똑같이 생성 해 줍니다. "
      ]
    },
    {
      "cell_type": "code",
      "execution_count": 27,
      "metadata": {
        "id": "VN9ot1DyA7IQ"
      },
      "outputs": [],
      "source": [
        "x5_test_dtm = dtmvector.transform(x5_test) #테스트 데이터를 DTM으로 변환\n",
        "tfidfv5_test = tfidf_transformer.transform(x5_test_dtm) #DTM을 TF-IDF 행렬로 변환"
      ]
    },
    {
      "cell_type": "markdown",
      "metadata": {
        "id": "X9TPiCNbt7uP"
      },
      "source": [
        "------------  \n",
        "\n",
        "\n",
        "# 4. 다양한 머신 러닝 모델 가져오기\n",
        "* 이번 프로젝트에서 사용 할 모델은 총 8종 입니다. \n",
        "    - 나이브 베이즈 분류기\n",
        "    - CNB\n",
        "    - 로지스틱 회귀\n",
        "    - 서포트 벡터 머신(SVM)\n",
        "    - 결정 트리\n",
        "    - 랜덤 포레스트\n",
        "    - 그래디언트 부스팅 트리\n",
        "    - 보팅 \n",
        "\n",
        "* 한꺼번에 처리 해 주기 위해, 모델 생성 과정을 함수화 처리한 코드를 가져와 활용 해 보겠습니다. "
      ]
    },
    {
      "cell_type": "code",
      "execution_count": 33,
      "metadata": {
        "id": "XJJ64BxQAT0V"
      },
      "outputs": [],
      "source": [
        "def train_ml(tfidfv, y_train, tfidfv_test, y_test):\n",
        "    # 나이브 베이즈 분류기 \n",
        "    mod = MultinomialNB()\n",
        "    mod.fit(tfidfv, y_train)\n",
        "    \n",
        "    mod_predicted = mod.predict(tfidfv_test) #테스트 데이터에 대한 예측\n",
        "    print(\"나이브 베이즈 정확도:\", accuracy_score(y_test, mod_predicted)) #예측값과 실제값 비교\n",
        "    \n",
        "    # CNB\n",
        "    cb = ComplementNB()\n",
        "    cb.fit(tfidfv, y_train)\n",
        "    \n",
        "    cb_predicted = cb.predict(tfidfv_test) #테스트 데이터에 대한 예측\n",
        "    print(\"CNB 정확도:\", accuracy_score(y_test, cb_predicted)) #예측값과 실제값 비교\n",
        "    \n",
        "    # 로지스틱 회귀 \n",
        "    lr = LogisticRegression(C=10000, penalty='l2')\n",
        "    lr.fit(tfidfv, y_train)\n",
        "\n",
        "    lr_predicted = lr.predict(tfidfv_test) #테스트 데이터에 대한 예측\n",
        "    print(\"로지스틱 회귀 정확도:\", accuracy_score(y_test, lr_predicted)) #예측값과 실제값 비교\n",
        "    \n",
        "    # 선형 서포트 벡터 머신 \n",
        "    lsvc = LinearSVC(C=1000, penalty='l1', max_iter=500, dual=False)\n",
        "    lsvc.fit(tfidfv, y_train)\n",
        "    \n",
        "    lsvc_predicted = lsvc.predict(tfidfv_test) #테스트 데이터에 대한 예측\n",
        "    print(\"SVM 정확도:\", accuracy_score(y_test, lsvc_predicted)) #예측값과 실제값 비교\n",
        "    \n",
        "    # 결정 트리(Decision Tree) \n",
        "    tree = DecisionTreeClassifier(max_depth=10, random_state=0)\n",
        "    tree.fit(tfidfv, y_train)\n",
        "    \n",
        "    tree_predicted = tree.predict(tfidfv_test) #테스트 데이터에 대한 예측\n",
        "    print(\"결정 트리 정확도:\", accuracy_score(y_test, tree_predicted)) #예측값과 실제값 비교\n",
        "    \n",
        "    # 랜덤 포레스트(Random Forest)\n",
        "    forest = RandomForestClassifier(n_estimators=5, random_state=0)\n",
        "    forest.fit(tfidfv, y_train)\n",
        "    \n",
        "    forest_predicted = forest.predict(tfidfv_test) #테스트 데이터에 대한 예측\n",
        "    print(\"랜덤 포레스트 정확도:\", accuracy_score(y_test, forest_predicted)) #예측값과 실제값 비교\n",
        "    \n",
        "    # 그래디언트 부스팅 트리(GradientBoostingClassifier)\n",
        "    grbt = GradientBoostingClassifier(random_state=0, verbose=3) # verbose=3\n",
        "    grbt.fit(tfidfv, y_train)\n",
        "\n",
        "    grbt_predicted = grbt.predict(tfidfv_test) #테스트 데이터에 대한 예측\n",
        "    print(\"그래디언트 부스팅 트리 정확도:\", accuracy_score(y_test, grbt_predicted)) #예측값과 실제값 비교\n",
        "    \n",
        "    # 보팅(Voting)\n",
        "    voting_classifier = VotingClassifier(estimators=[\n",
        "         ('lr', LogisticRegression(C=10000, penalty='l2')),\n",
        "        ('cb', ComplementNB()),\n",
        "        ('grbt', GradientBoostingClassifier(random_state=0))\n",
        "        ], voting='soft', n_jobs=-1)\n",
        "    voting_classifier.fit(tfidfv, y_train)\n",
        "    \n",
        "    voting_classifier_predicted = voting_classifier.predict(tfidfv_test) #테스트 데이터에 대한 예측\n",
        "    print(\"보팅 정확도:\", accuracy_score(y_test, voting_classifier_predicted)) #예측값과 실제값 비교\n",
        "    \n",
        "    return mod, cb, lr, lsvc, tree, forest, grbt, voting_classifier"
      ]
    },
    {
      "cell_type": "markdown",
      "metadata": {
        "id": "rk0cRnOSt7r9"
      },
      "source": [
        "------------  \n",
        "\n",
        "\n",
        "# 5. 모델 학습하기 \n",
        "\n",
        "\n",
        "* 4에서 만든 함수를 이용해 빈도수 상위 5000개의 단어분포 데이터를 학습시켜주겠습니다. "
      ]
    },
    {
      "cell_type": "code",
      "execution_count": 34,
      "metadata": {
        "colab": {
          "base_uri": "https://localhost:8080/"
        },
        "id": "iRAV5fLcATxm",
        "outputId": "979f62aa-1912-4b18-e5fa-78ab4c91d87e"
      },
      "outputs": [
        {
          "output_type": "stream",
          "name": "stdout",
          "text": [
            "나이브 베이즈 정확도: 0.6731967943009796\n",
            "CNB 정확도: 0.7707034728406055\n"
          ]
        },
        {
          "output_type": "stream",
          "name": "stderr",
          "text": [
            "/usr/local/lib/python3.7/dist-packages/sklearn/linear_model/_logistic.py:818: ConvergenceWarning: lbfgs failed to converge (status=1):\n",
            "STOP: TOTAL NO. of ITERATIONS REACHED LIMIT.\n",
            "\n",
            "Increase the number of iterations (max_iter) or scale the data as shown in:\n",
            "    https://scikit-learn.org/stable/modules/preprocessing.html\n",
            "Please also refer to the documentation for alternative solver options:\n",
            "    https://scikit-learn.org/stable/modules/linear_model.html#logistic-regression\n",
            "  extra_warning_msg=_LOGISTIC_SOLVER_CONVERGENCE_MSG,\n"
          ]
        },
        {
          "output_type": "stream",
          "name": "stdout",
          "text": [
            "로지스틱 회귀 정확도: 0.8058771148708815\n"
          ]
        },
        {
          "output_type": "stream",
          "name": "stderr",
          "text": [
            "/usr/local/lib/python3.7/dist-packages/sklearn/svm/_base.py:1208: ConvergenceWarning: Liblinear failed to converge, increase the number of iterations.\n",
            "  ConvergenceWarning,\n"
          ]
        },
        {
          "output_type": "stream",
          "name": "stdout",
          "text": [
            "SVM 정확도: 0.7702582368655387\n",
            "결정 트리 정확도: 0.6179875333926982\n",
            "랜덤 포레스트 정확도: 0.701246660730187\n",
            "      Iter       Train Loss   Remaining Time \n",
            "         1           1.4697           15.83m\n",
            "         2     2131099.0239           15.86m\n",
            "         3 113352934366748750033493137947714414201794552363528671409179356940992512.0000           15.76m\n",
            "         4 645005367195105573487290209089081189090170195029150070319832395667206596719018218881024.0000           15.77m\n",
            "         5 443067299530301659980374363525949995629695549691559890285869350923592723545213280554158712204202745088665306932510573934053386280801140736.0000           15.62m\n",
            "         6 443067299530301659980374363525949995629695549691559890285869350923592723545213280554158712204202745088665306932510573934053386280801140736.0000           15.45m\n",
            "         7 443067299530301659980374363525949995629695549691559890285869350923592723545213280554158712204202745088665306932510573934053386280801140736.0000           15.28m\n",
            "         8 443067299530301659980374363525949995629695549691559890285869350923592723545213280554158712204202745088665306932510573934053386280801140736.0000           15.11m\n",
            "         9 443067299530301659980374363525949995629695549691559890285869350923592723545213280554158712204202745088665306932510573934053386280801140736.0000           14.94m\n",
            "        10 443067299530301659980374363525949995629695549691559890285869350923592723545213280554158712204202745088665306932510573934053386280801140736.0000           14.78m\n",
            "        11 443067299530301659980374363525949995629695549691559890285869350923592723545213280554158712204202745088665306932510573934053386280801140736.0000           14.62m\n",
            "        12 443067299530301659980374363525949995629695549691559890285869350923592723545213280554158712204202745088665306932510573934053386280801140736.0000           14.45m\n",
            "        13 443067299530301659980374363525949995629695549691559890285869350923592723545213280554158712204202745088665306932510573934053386280801140736.0000           14.29m\n",
            "        14 443067299530301659980374363525949995629695549691559890285869350923592723545213280554158712204202745088665306932510573934053386280801140736.0000           14.12m\n",
            "        15 443067299530301659980374363525949995629695549691559890285869350923592723545213280554158712204202745088665306932510573934053386280801140736.0000           13.95m\n",
            "        16 443067299530301659980374363525949995629695549691559890285869350923592723545213280554158712204202745088665306932510573934053386280801140736.0000           13.79m\n",
            "        17 443067299530301659980374363525949995629695549691559890285869350923592723545213280554158712204202745088665306932510573934053386280801140736.0000           13.62m\n",
            "        18 443067299530301659980374363525949995629695549691559890285869350923592723545213280554158712204202745088665306932510573934053386280801140736.0000           13.47m\n",
            "        19 443067299530301659980374363525949995629695549691559890285869350923592723545213280554158712204202745088665306932510573934053386280801140736.0000           13.31m\n",
            "        20 443067299530301659980374363525949995629695549691559890285869350923592723545213280554158712204202745088665306932510573934053386280801140736.0000           13.14m\n",
            "        21 443067299530301659980374363525949995629695549691559890285869350923592723545213280554158712204202745088665306932510573934053386280801140736.0000           12.98m\n",
            "        22 443067299530301659980374363525949995629695549691559890285869350923592723545213280554158712204202745088665306932510573934053386280801140736.0000           12.81m\n",
            "        23 443067299530301659980374363525949995629695549691559890285869350923592723545213280554158712204202745088665306932510573934053386280801140736.0000           12.65m\n",
            "        24 443067299530301659980374363525949995629695549691559890285869350923592723545213280554158712204202745088665306932510573934053386280801140736.0000           12.48m\n",
            "        25 443067299530301659980374363525949995629695549691559890285869350923592723545213280554158712204202745088665306932510573934053386280801140736.0000           12.32m\n",
            "        26 443067299530301659980374363525949995629695549691559890285869350923592723545213280554158712204202745088665306932510573934053386280801140736.0000           12.15m\n",
            "        27 443067299530302073140354857431324340576763070173459783038796203599354776450710327057778234898793885831921831754563603678560901920400080896.0000           11.98m\n",
            "        28 443067299530302073140354857431324340576763070173459783038796203599354776450710327057778234898793885831921831754563603678560901920400080896.0000           11.82m\n",
            "        29 443067299530302073140354857431324340576763070173459783038796203599354776450710327057778234898793885831921831754563603678560901920400080896.0000           11.66m\n",
            "        30 443067299530302073140354857431324340576763070173459783038796203599354776450710327057778234898793885831921831754563603678560901920400080896.0000           11.50m\n",
            "        31 443067299530302073140354857431324340576763070173459783038796203599354776450710327057778234898793885831921831754563603678560901920400080896.0000           11.34m\n",
            "        32 443067299530302073140354857431324340576763070173459783038796203599354776450710327057778234898793885831921831754563603678560901920400080896.0000           11.17m\n",
            "        33 443067299530302073140354857431324340576763070173459783038796203599354776450710327057778234898793885831921831754563603678560901920400080896.0000           11.01m\n",
            "        34 443067299530302073140354857431324340576763070173459783038796203599354776450710327057778234898793885831921831754563603678560901920400080896.0000           10.84m\n",
            "        35 443067299530302073140354857431324340576763070173459783038796203599354776450710327057778234898793885831921831754563603678560901920400080896.0000           10.68m\n",
            "        36 443067299530302073140354857431324340576763070173459783038796203599354776450710327057778234898793885831921831754563603678560901920400080896.0000           10.51m\n",
            "        37 443067299530302073140354857431324340576763070173459783038796203599354776450710327057778234898793885831921831754563603678560901920400080896.0000           10.35m\n",
            "        38 443067299530302073140354857431324340576763070173459783038796203599354776450710327057778234898793885831921831754563603678560901920400080896.0000           10.18m\n",
            "        39 443067299530302073140354857431324340576763070173459783038796203599354776450710327057778234898793885831921831754563603678560901920400080896.0000           10.02m\n",
            "        40 443067299530302073140354857431324340576763070173459783038796203599354776450710327057778234898793885831921831754563603678560901920400080896.0000            9.85m\n",
            "        41 443067299530302073140354857431324340576763070173459783038796203599354776450710327057778234898793885831921831754563603678560901920400080896.0000            9.69m\n",
            "        42 443067299530302073140354857431324340576763070173459783038796203599354776450710327057778234898793885831921831754563603678560901920400080896.0000            9.52m\n",
            "        43 443067299530302073140354857431324340576763070173459783038796203599354776450710327057778234898793885831921831754563603678560901920400080896.0000            9.36m\n",
            "        44 443067299530302073140354857431324340576763070173459783038796203599354776450710327057778234898793885831921831754563603678560901920400080896.0000            9.19m\n",
            "        45 443067299530302073140354857431324340576763070173459783038796203599354776450710327057778234898793885831921831754563603678560901920400080896.0000            9.03m\n",
            "        46 443067299530302073140354857431324340576763070173459783038796203599354776450710327057778234898793885831921831754563603678560901920400080896.0000            8.86m\n",
            "        47 443067299530302073140354857431324340576763070173459783038796203599354776450710327057778234898793885831921831754563603678560901920400080896.0000            8.70m\n",
            "        48 443067299530302073140354857431324340576763070173459783038796203599354776450710327057778234898793885831921831754563603678560901920400080896.0000            8.53m\n",
            "        49 443067299530302073140354857431324340576763070173459783038796203599354776450710327057778234898793885831921831754563603678560901920400080896.0000            8.37m\n",
            "        50 443067299530302073140354857431324340576763070173459783038796203599354776450710327057778234898793885831921831754563603678560901920400080896.0000            8.21m\n",
            "        51 443067299530302073140354857431324340576763070173459783038796203599354776450710327057778234898793885831921831754563603678560901920400080896.0000            8.04m\n",
            "        52 443067299530302073140354857431324340576763070173459783038796203599354776450710327057778234898793885831921831754563603678560901920400080896.0000            7.88m\n",
            "        53 443067299530302073140354857431324340576763070173459783038796203599354776450710327057778234898793885831921831754563603678560901920400080896.0000            7.71m\n",
            "        54 443067299530302073140354857431324340576763070173459783038796203599354776450710327057778234898793885831921831754563603678560901920400080896.0000            7.55m\n",
            "        55 443067299530302073140354857431324340576763070173459783038796203599354776450710327057778234898793885831921831754563603678560901920400080896.0000            7.39m\n",
            "        56 443067299530302073140354857431324340576763070173459783038796203599354776450710327057778234898793885831921831754563603678560901920400080896.0000            7.22m\n",
            "        57 443067299530302073140354857431324340576763070173459783038796203599354776450710327057778234898793885831921831754563603678560901920400080896.0000            7.06m\n",
            "        58 443067299530302073140354857431324340576763070173459783038796203599354776450710327057778234898793885831921831754563603678560901920400080896.0000            6.89m\n",
            "        59 443067299530302073140354857431324340576763070173459783038796203599354776450710327057778234898793885831921831754563603678560901920400080896.0000            6.73m\n",
            "        60 443067299530302073140354857431324340576763070173459783038796203599354776450710327057778234898793885831921831754563603678560901920400080896.0000            6.56m\n",
            "        61 443067299530302073140354857431324340576763070173459783038796203599354776450710327057778234898793885831921831754563603678560901920400080896.0000            6.40m\n",
            "        62 443067299530302073140354857431324340576763070173459783038796203599354776450710327057778234898793885831921831754563603678560901920400080896.0000            6.23m\n",
            "        63 443067299530302073140354857431324340576763070173459783038796203599354776450710327057778234898793885831921831754563603678560901920400080896.0000            6.07m\n",
            "        64 443067299530302073140354857431324340576763070173459783038796203599354776450710327057778234898793885831921831754563603678560901920400080896.0000            5.91m\n",
            "        65 443067299530302073140354857431324340576763070173459783038796203599354776450710327057778234898793885831921831754563603678560901920400080896.0000            5.74m\n",
            "        66 443067299530302073140354857431324340576763070173459783038796203599354776450710327057778234898793885831921831754563603678560901920400080896.0000            5.58m\n",
            "        67 443067299530302073140354857431324340576763070173459783038796203599354776450710327057778234898793885831921831754563603678560901920400080896.0000            5.41m\n",
            "        68 443067299530302073140354857431324340576763070173459783038796203599354776450710327057778234898793885831921831754563603678560901920400080896.0000            5.25m\n",
            "        69 443067299530302073140354857431324340576763070173459783038796203599354776450710327057778234898793885831921831754563603678560901920400080896.0000            5.08m\n",
            "        70 443067299530302073140354857431324340576763070173459783038796203599354776450710327057778234898793885831921831754563603678560901920400080896.0000            4.92m\n",
            "        71 443067299530302073140354857431324340576763070173459783038796203599354776450710327057778234898793885831921831754563603678560901920400080896.0000            4.75m\n",
            "        72 443067299530302073140354857431324340576763070173459783038796203599354776450710327057778234898793885831921831754563603678560901920400080896.0000            4.59m\n",
            "        73 443067299530302073140354857431324340576763070173459783038796203599354776450710327057778234898793885831921831754563603678560901920400080896.0000            4.43m\n",
            "        74 443067299530302073140354857431324340576763070173459783038796203599354776450710327057778234898793885831921831754563603678560901920400080896.0000            4.26m\n",
            "        75 443067299530302073140354857431324340576763070173459783038796203599354776450710327057778234898793885831921831754563603678560901920400080896.0000            4.10m\n",
            "        76 443067299530302073140354857431324340576763070173459783038796203599354776450710327057778234898793885831921831754563603678560901920400080896.0000            3.93m\n",
            "        77 443067299530302073140354857431324340576763070173459783038796203599354776450710327057778234898793885831921831754563603678560901920400080896.0000            3.77m\n",
            "        78 443067299530302073140354857431324340576763070173459783038796203599354776450710327057778234898793885831921831754563603678560901920400080896.0000            3.61m\n",
            "        79 443067299530302073140354857431324340576763070173459783038796203599354776450710327057778234898793885831921831754563603678560901920400080896.0000            3.44m\n",
            "        80 443067299530302073140354857431324340576763070173459783038796203599354776450710327057778234898793885831921831754563603678560901920400080896.0000            3.28m\n",
            "        81 443067299530302073140354857431324340576763070173459783038796203599354776450710327057778234898793885831921831754563603678560901920400080896.0000            3.11m\n",
            "        82 443067299530302073140354857431324340576763070173459783038796203599354776450710327057778234898793885831921831754563603678560901920400080896.0000            2.95m\n",
            "        83 443067299530302073140354857431324340576763070173459783038796203599354776450710327057778234898793885831921831754563603678560901920400080896.0000            2.79m\n",
            "        84 443067299530302073140354857431324340576763070173459783038796203599354776450710327057778234898793885831921831754563603678560901920400080896.0000            2.62m\n",
            "        85 443067299530302073140354857431324340576763070173459783038796203599354776450710327057778234898793885831921831754563603678560901920400080896.0000            2.46m\n",
            "        86 443067299530302073140354857431324340576763070173459783038796203599354776450710327057778234898793885831921831754563603678560901920400080896.0000            2.29m\n",
            "        87 443067299530302073140354857431324340576763070173459783038796203599354776450710327057778234898793885831921831754563603678560901920400080896.0000            2.13m\n",
            "        88 443067299530302073140354857431324340576763070173459783038796203599354776450710327057778234898793885831921831754563603678560901920400080896.0000            1.97m\n",
            "        89 443067299530302073140354857431324340576763070173459783038796203599354776450710327057778234898793885831921831754563603678560901920400080896.0000            1.80m\n",
            "        90 443067299530302073140354857431324340576763070173459783038796203599354776450710327057778234898793885831921831754563603678560901920400080896.0000            1.64m\n",
            "        91 443067299530302073140354857431324340576763070173459783038796203599354776450710327057778234898793885831921831754563603678560901920400080896.0000            1.48m\n",
            "        92 443067299530302073140354857431324340576763070173459783038796203599354776450710327057778234898793885831921831754563603678560901920400080896.0000            1.31m\n",
            "        93 443067299530302073140354857431324340576763070173459783038796203599354776450710327057778234898793885831921831754563603678560901920400080896.0000            1.15m\n",
            "        94 443067299530302073140354857431324340576763070173459783038796203599354776450710327057778234898793885831921831754563603678560901920400080896.0000           59.02s\n",
            "        95 443067299530302073140354857431324340576763070173459783038796203599354776450710327057778234898793885831921831754563603678560901920400080896.0000           49.19s\n",
            "        96 443067299530302073140354857431324340576763070173459783038796203599354776450710327057778234898793885831921831754563603678560901920400080896.0000           39.35s\n",
            "        97 443067299530302073140354857431324340576763070173459783038796203599354776450710327057778234898793885831921831754563603678560901920400080896.0000           29.51s\n",
            "        98 443067299530302073140354857431324340576763070173459783038796203599354776450710327057778234898793885831921831754563603678560901920400080896.0000           19.67s\n",
            "        99 443067299530302073140354857431324340576763070173459783038796203599354776450710327057778234898793885831921831754563603678560901920400080896.0000            9.83s\n",
            "       100 443067299530302073140354857431324340576763070173459783038796203599354776450710327057778234898793885831921831754563603678560901920400080896.0000            0.00s\n",
            "그래디언트 부스팅 트리 정확도: 0.767586821015138\n",
            "보팅 정확도: 0.8161175422974176\n"
          ]
        }
      ],
      "source": [
        "mod, cb, lr, lsvc, tree, forest, grbt, voting_classifier = train_ml(tfidfv5, y5_train, tfidfv5_test, y5_test)"
      ]
    },
    {
      "cell_type": "markdown",
      "metadata": {
        "id": "gABqvTCat7gm"
      },
      "source": [
        "------------  \n",
        "\n",
        "\n",
        "\n",
        "\n",
        "#6. 다양한 시도 해 보기\n",
        "\n",
        "* 빈도수 상위 15,000개, 20,000개, 모든 단어를 사용해 모델을 학습시켜보겠습니다. "
      ]
    },
    {
      "cell_type": "markdown",
      "metadata": {
        "id": "ZqGAyIv0H7lI"
      },
      "source": [
        "## &nbsp;&nbsp;6-1. 빈도수 상위 15,000개 의 경우 \n",
        "\n",
        "* x15_train , y15_train\n"
      ]
    },
    {
      "cell_type": "markdown",
      "metadata": {
        "id": "H_l39453H7iC"
      },
      "source": [
        "* **train, test 데이터 변환** "
      ]
    },
    {
      "cell_type": "code",
      "execution_count": 35,
      "metadata": {
        "colab": {
          "base_uri": "https://localhost:8080/"
        },
        "id": "QFE7-mclH7fM",
        "outputId": "7381ce79-184d-4896-be48-5a86633a80e9"
      },
      "outputs": [
        {
          "output_type": "stream",
          "name": "stdout",
          "text": [
            "8982\n"
          ]
        }
      ],
      "source": [
        "# train data \n",
        "decoded = []\n",
        "for i in range(len(x15_train)):\n",
        "    t = ' '.join([index_to_word[index] for index in x15_train[i]])\n",
        "    decoded.append(t)\n",
        "\n",
        "x15_train = decoded\n",
        "print(len(x15_train))"
      ]
    },
    {
      "cell_type": "code",
      "execution_count": 36,
      "metadata": {
        "colab": {
          "base_uri": "https://localhost:8080/"
        },
        "id": "1a5KI4WNH7cJ",
        "outputId": "f501e751-1f8d-4eb4-a712-073f6338be76"
      },
      "outputs": [
        {
          "output_type": "stream",
          "name": "stdout",
          "text": [
            "2246\n"
          ]
        }
      ],
      "source": [
        "#test data\n",
        "decoded = []\n",
        "for i in range(len(x15_test)):\n",
        "    t = ' '.join([index_to_word[index] for index in x15_test[i]])\n",
        "    decoded.append(t)\n",
        "\n",
        "x15_test = decoded\n",
        "print(len(x15_test))"
      ]
    },
    {
      "cell_type": "markdown",
      "metadata": {
        "id": "y_98CwmUH7ZC"
      },
      "source": [
        "* **행렬변환** "
      ]
    },
    {
      "cell_type": "code",
      "execution_count": 37,
      "metadata": {
        "colab": {
          "base_uri": "https://localhost:8080/"
        },
        "id": "_m2ecXfjH7V8",
        "outputId": "cdea936e-f339-405a-98a1-04b85357f148"
      },
      "outputs": [
        {
          "output_type": "stream",
          "name": "stdout",
          "text": [
            "(8982, 14227)\n",
            "(2246, 14227)\n"
          ]
        }
      ],
      "source": [
        "# DTM 생성하기 \n",
        "dtmvector = CountVectorizer()\n",
        "x15_train_dtm = dtmvector.fit_transform(x15_train)\n",
        "x15_test_dtm = dtmvector.transform(x15_test) #테스트 데이터를 DTM으로 변환\n",
        "# DTM의 크기 확인! \n",
        "print(x15_train_dtm.shape)\n",
        "print(x15_test_dtm.shape)"
      ]
    },
    {
      "cell_type": "code",
      "execution_count": 38,
      "metadata": {
        "colab": {
          "base_uri": "https://localhost:8080/"
        },
        "id": "55nKgAe4H7So",
        "outputId": "e2f998e9-0992-4f10-acbd-9e2a91ba71ea"
      },
      "outputs": [
        {
          "output_type": "stream",
          "name": "stdout",
          "text": [
            "(8982, 14227)\n",
            "(2246, 14227)\n"
          ]
        }
      ],
      "source": [
        "# TF-IDF 행렬 만들기\n",
        "tfidf_transformer = TfidfTransformer()\n",
        "tfidfv15 = tfidf_transformer.fit_transform(x15_train_dtm)\n",
        "tfidfv15_test = tfidf_transformer.transform(x15_test_dtm) #DTM을 TF-IDF 행렬로 변환\n",
        "# TF-IDF 행렬 크기 확인! \n",
        "print(tfidfv15.shape)\n",
        "print(tfidfv15_test.shape)"
      ]
    },
    {
      "cell_type": "code",
      "execution_count": 39,
      "metadata": {
        "colab": {
          "base_uri": "https://localhost:8080/"
        },
        "id": "ibFm0S6PJCpZ",
        "outputId": "f04cb532-36f2-4b56-e5ef-fc4663aa85bb"
      },
      "outputs": [
        {
          "output_type": "stream",
          "name": "stdout",
          "text": [
            "나이브 베이즈 정확도: 0.6331255565449688\n",
            "CNB 정확도: 0.7720391807658059\n"
          ]
        },
        {
          "output_type": "stream",
          "name": "stderr",
          "text": [
            "/usr/local/lib/python3.7/dist-packages/sklearn/linear_model/_logistic.py:818: ConvergenceWarning: lbfgs failed to converge (status=1):\n",
            "STOP: TOTAL NO. of ITERATIONS REACHED LIMIT.\n",
            "\n",
            "Increase the number of iterations (max_iter) or scale the data as shown in:\n",
            "    https://scikit-learn.org/stable/modules/preprocessing.html\n",
            "Please also refer to the documentation for alternative solver options:\n",
            "    https://scikit-learn.org/stable/modules/linear_model.html#logistic-regression\n",
            "  extra_warning_msg=_LOGISTIC_SOLVER_CONVERGENCE_MSG,\n"
          ]
        },
        {
          "output_type": "stream",
          "name": "stdout",
          "text": [
            "로지스틱 회귀 정확도: 0.8125556544968834\n"
          ]
        },
        {
          "output_type": "stream",
          "name": "stderr",
          "text": [
            "/usr/local/lib/python3.7/dist-packages/sklearn/svm/_base.py:1208: ConvergenceWarning: Liblinear failed to converge, increase the number of iterations.\n",
            "  ConvergenceWarning,\n"
          ]
        },
        {
          "output_type": "stream",
          "name": "stdout",
          "text": [
            "SVM 정확도: 0.7791629563668745\n",
            "결정 트리 정확도: 0.6193232413178985\n",
            "랜덤 포레스트 정확도: 0.6714158504007124\n",
            "      Iter       Train Loss   Remaining Time \n",
            "         1           1.4326           17.38m\n",
            "         2       81331.2398           17.37m\n",
            "         3     5836811.5076           17.22m\n",
            "         4 63789339395313685793847548538268197034083221504000.0000           17.08m\n",
            "         5 196168839837262027401908577577888497468749556189708834227594295318514495389696.0000           16.98m\n",
            "         6 195923785634665546449869624710654194514209248812873904757767900848230842770539944000396265808857873033572436963932241920.0000           16.81m\n",
            "         7 195923785634665546449869624710654194514209248812873904757767900848230842770539944000396265808857873033572436963932241920.0000           16.67m\n",
            "         8 195923785634665546449869624710654194514209248812873904757767900848230842770539944000396265808857873033572436963932241920.0000           16.51m\n",
            "         9 195923785634665546449869624710654194514209248812873904757767900848230842770539944000396265808857873033572436963932241920.0000           16.35m\n",
            "        10 195923785634665546449869624710654194514209248812873904757767900848230842770539944000396265808857873033572436963932241920.0000           16.18m\n",
            "        11 195923785634665546449869624710654194514209248812873904757767900848230842770539944000396265808857873033572436963932241920.0000           16.01m\n",
            "        12 195923785634665546449869624710654194514209248812873904757767900848230842770539944000396265808857873033572436963932241920.0000           15.85m\n",
            "        13 195923785634665546449869624710654194514209248812873904757767900848230842770539944000396265808857873033572436963932241920.0000           15.67m\n",
            "        14 195923785634665546449869624710654194514209248812873904757767900848230842770539944000396265808857873033572436963932241920.0000           15.49m\n",
            "        15 195923785634665546449869624710654194514209248812873904757767900848230842770539944000396265808857873033572436963932241920.0000           15.31m\n",
            "        16 195923785634665546449869624710654194514209248812873904757767900848230842770539944000396265808857873033572436963932241920.0000           15.14m\n",
            "        17 195923785634665546449869624710654194514209248812873904757767900848230842770539944000396265808857873033572436963932241920.0000           14.96m\n",
            "        18 195923785634665546449869624710654194514209248812873904757767900848230842770539944000396265808857873033572436963932241920.0000           14.79m\n",
            "        19 195923785634665546449869624710654194514209248812873904757767900848230842770539944000396265808857873033572436963932241920.0000           14.61m\n",
            "        20 195923785634665546449869624710654194514209248812873904757767900848230842770539944000396265808857873033572436963932241920.0000           14.43m\n",
            "        21 195923785634665546449869624710654194514209248812873904757767900848230842770539944000396265808857873033572436963932241920.0000           14.25m\n",
            "        22 195923785634665546449869624710654194514209248812873904757767900848230842770539944000396265808857873033572436963932241920.0000           14.07m\n",
            "        23 195923785634665546449869624710654194514209248812873904757767900848230842770539944000396265808857873033572436963932241920.0000           13.89m\n",
            "        24 195923785634665546449869624710654194514209248812873904757767900848230842770539944000396265808857873033572436963932241920.0000           13.70m\n",
            "        25 195923785634665546449869624710654194514209248812873904757767900848230842770539944000396265808857873033572436963932241920.0000           13.52m\n",
            "        26 195923785634665546449869624710654194514209248812873904757767900848230842770539944000396265808857873033572436963932241920.0000           13.33m\n",
            "        27 195923785634665546449869624710654194514209248812873904757767900848230842770539944000396265808857873033572436963932241920.0000           13.15m\n",
            "        28 195923785634665546449869624710654194514209248812873904757767900848230842770539944000396265808857873033572436963932241920.0000           12.97m\n",
            "        29 195923785634665546449869624710654194514209248812873904757767900848230842770539944000396265808857873033572436963932241920.0000           12.78m\n",
            "        30 195923785634665546449869624710654194514209248812873904757767900848230842770539944000396265808857873033572436963932241920.0000           12.60m\n",
            "        31 195923785634665546449869624710654194514209248812873904757767900848230842770539944000396265808857873033572436963932241920.0000           12.42m\n",
            "        32 195923785634665546449869624710654194514209248812873904757767900848230842770539944000396265808857873033572436963932241920.0000           12.23m\n",
            "        33 195923785634665546449869624710654194514209248812873904757767900848230842770539944000396265808857873033572436963932241920.0000           12.05m\n",
            "        34 195923785634665546449869624710654194514209248812873904757767900848230842770539944000396265808857873033572436963932241920.0000           11.87m\n",
            "        35 195923785634665546449869624710654194514209248812873904757767900848230842770539944000396265808857873033572436963932241920.0000           11.68m\n",
            "        36 195923785634665546449869624710654194514209248812873904757767900848230842770539944000396265808857873033572436963932241920.0000           11.50m\n",
            "        37 195923785634665546449869624710654194514209248812873904757767900848230842770539944000396265808857873033572436963932241920.0000           11.32m\n",
            "        38 195923785634665546449869624710654194514209248812873904757767900848230842770539944000396265808857873033572436963932241920.0000           11.14m\n",
            "        39 195923785634665546449869624710654194514209248812873904757767900848230842770539944000396265808857873033572436963932241920.0000           10.96m\n",
            "        40 195923785634665546449869624710654194514209248812873904757767900848230842770539944000396265808857873033572436963932241920.0000           10.78m\n",
            "        41 195923785634665546449869624710654194514209248812873904757767900848230842770539944000396265808857873033572436963932241920.0000           10.60m\n",
            "        42 195923785634665546449869624710654194514209248812873904757767900848230842770539944000396265808857873033572436963932241920.0000           10.41m\n",
            "        43 195923785634665546449869624710654194514209248812873904757767900848230842770539944000396265808857873033572436963932241920.0000           10.23m\n",
            "        44 195923785634665546449869624710654194514209248812873904757767900848230842770539944000396265808857873033572436963932241920.0000           10.05m\n",
            "        45 195923785634665546449869624710654194514209248812873904757767900848230842770539944000396265808857873033572436963932241920.0000            9.87m\n",
            "        46 195923785634665546449869624710654194514209248812873904757767900848230842770539944000396265808857873033572436963932241920.0000            9.69m\n",
            "        47 195923785634665546449869624710654194514209248812873904757767900848230842770539944000396265808857873033572436963932241920.0000            9.51m\n",
            "        48 195923785634665546449869624710654194514209248812873904757767900848230842770539944000396265808857873033572436963932241920.0000            9.33m\n",
            "        49 195923785634665546449869624710654194514209248812873904757767900848230842770539944000396265808857873033572436963932241920.0000            9.15m\n",
            "        50 195923785634665546449869624710654194514209248812873904757767900848230842770539944000396265808857873033572436963932241920.0000            8.97m\n",
            "        51 195923785634665546449869624710654194514209248812873904757767900848230842770539944000396265808857873033572436963932241920.0000            8.79m\n",
            "        52 195923785634665546449869624710654194514209248812873904757767900848230842770539944000396265808857873033572436963932241920.0000            8.61m\n",
            "        53 195923785634665546449869624710654194514209248812873904757767900848230842770539944000396265808857873033572436963932241920.0000            8.43m\n",
            "        54 195923785634665546449869624710654194514209248812873904757767900848230842770539944000396265808857873033572436963932241920.0000            8.25m\n",
            "        55 195923785634665546449869624710654194514209248812873904757767900848230842770539944000396265808857873033572436963932241920.0000            8.07m\n",
            "        56 195923785634665546449869624710654194514209248812873904757767900848230842770539944000396265808857873033572436963932241920.0000            7.89m\n",
            "        57 195923785634665546449869624710654194514209248812873904757767900848230842770539944000396265808857873033572436963932241920.0000            7.71m\n",
            "        58 195923785634665546449869624710654194514209248812873904757767900848230842770539944000396265808857873033572436963932241920.0000            7.53m\n",
            "        59 195923785634665546449869624710654194514209248812873904757767900848230842770539944000396265808857873033572436963932241920.0000            7.35m\n",
            "        60 195923785634665546449869624710654194514209248812873904757767900848230842770539944000396265808857873033572436963932241920.0000            7.17m\n",
            "        61 195923785634665546449869624710654194514209248812873904757767900848230842770539944000396265808857873033572436963932241920.0000            6.99m\n",
            "        62 195923785634665546449869624710654194514209248812873904757767900848230842770539944000396265808857873033572436963932241920.0000            6.81m\n",
            "        63 195923785634665546449869624710654194514209248812873904757767900848230842770539944000396265808857873033572436963932241920.0000            6.63m\n",
            "        64 195923785634665546449869624710654194514209248812873904757767900848230842770539944000396265808857873033572436963932241920.0000            6.45m\n",
            "        65 195923785634665546449869624710654194514209248812873904757767900848230842770539944000396265808857873033572436963932241920.0000            6.27m\n",
            "        66 195923785634665546449869624710654194514209248812873904757767900848230842770539944000396265808857873033572436963932241920.0000            6.09m\n",
            "        67 195923785634665546449869624710654194514209248812873904757767900848230842770539944000396265808857873033572436963932241920.0000            5.91m\n",
            "        68 195923785634665546449869624710654194514209248812873904757767900848230842770539944000396265808857873033572436963932241920.0000            5.73m\n",
            "        69 195923785634665546449869624710654194514209248812873904757767900848230842770539944000396265808857873033572436963932241920.0000            5.56m\n",
            "        70 195923785634665546449869624710654194514209248812873904757767900848230842770539944000396265808857873033572436963932241920.0000            5.38m\n",
            "        71 195923785634665546449869624710654194514209248812873904757767900848230842770539944000396265808857873033572436963932241920.0000            5.20m\n",
            "        72 195923785634665546449869624710654194514209248812873904757767900848230842770539944000396265808857873033572436963932241920.0000            5.02m\n",
            "        73 195923785634665546449869624710654194514209248812873904757767900848230842770539944000396265808857873033572436963932241920.0000            4.84m\n",
            "        74 195923785634665546449869624710654194514209248812873904757767900848230842770539944000396265808857873033572436963932241920.0000            4.66m\n",
            "        75 195923785634665546449869624710654194514209248812873904757767900848230842770539944000396265808857873033572436963932241920.0000            4.48m\n",
            "        76 195923785634665546449869624710654194514209248812873904757767900848230842770539944000396265808857873033572436963932241920.0000            4.30m\n",
            "        77 195923785634665546449869624710654194514209248812873904757767900848230842770539944000396265808857873033572436963932241920.0000            4.12m\n",
            "        78 195923785634665546449869624710654194514209248812873904757767900848230842770539944000396265808857873033572436963932241920.0000            3.94m\n",
            "        79 195923785634665546449869624710654194514209248812873904757767900848230842770539944000396265808857873033572436963932241920.0000            3.76m\n",
            "        80 195923785634665546449869624710654194514209248812873904757767900848230842770539944000396265808857873033572436963932241920.0000            3.58m\n",
            "        81 195923785634665546449869624710654194514209248812873904757767900848230842770539944000396265808857873033572436963932241920.0000            3.40m\n",
            "        82 195923785634665546449869624710654194514209248812873904757767900848230842770539944000396265808857873033572436963932241920.0000            3.22m\n",
            "        83 195923785634665546449869624710654194514209248812873904757767900848230842770539944000396265808857873033572436963932241920.0000            3.04m\n",
            "        84 195923785634665546449869624710654194514209248812873904757767900848230842770539944000396265808857873033572436963932241920.0000            2.86m\n",
            "        85 195923785634665546449869624710654194514209248812873904757767900848230842770539944000396265808857873033572436963932241920.0000            2.69m\n",
            "        86 195923785634665546449869624710654194514209248812873904757767900848230842770539944000396265808857873033572436963932241920.0000            2.51m\n",
            "        87 195923785634665546449869624710654194514209248812873904757767900848230842770539944000396265808857873033572436963932241920.0000            2.33m\n",
            "        88 195923785634665546449869624710654194514209248812873904757767900848230842770539944000396265808857873033572436963932241920.0000            2.15m\n",
            "        89 195923785634665546449869624710654194514209248812873904757767900848230842770539944000396265808857873033572436963932241920.0000            1.97m\n",
            "        90 195923785634665546449869624710654194514209248812873904757767900848230842770539944000396265808857873033572436963932241920.0000            1.79m\n",
            "        91 195923785634665546449869624710654194514209248812873904757767900848230842770539944000396265808857873033572436963932241920.0000            1.61m\n",
            "        92 195923785634665546449869624710654194514209248812873904757767900848230842770539944000396265808857873033572436963932241920.0000            1.43m\n",
            "        93 195923785634665546449869624710654194514209248812873904757767900848230842770539944000396265808857873033572436963932241920.0000            1.25m\n",
            "        94 195923785634665546449869624710654194514209248812873904757767900848230842770539944000396265808857873033572436963932241920.0000            1.07m\n",
            "        95 195923785634665546449869624710654194514209248812873904757767900848230842770539944000396265808857873033572436963932241920.0000           53.67s\n",
            "        96 195923785634665546449869624710654194514209248812873904757767900848230842770539944000396265808857873033572436963932241920.0000           42.93s\n",
            "        97 195923785634665546449869624710654194514209248812873904757767900848230842770539944000396265808857873033572436963932241920.0000           32.19s\n",
            "        98 195923785634665546449869624710654194514209248812873904757767900848230842770539944000396265808857873033572436963932241920.0000           21.46s\n",
            "        99 195923785634665546449869624710654194514209248812873904757767900848230842770539944000396265808857873033572436963932241920.0000           10.73s\n",
            "       100 195923785634665546449869624710654194514209248812873904757767900848230842770539944000396265808857873033572436963932241920.0000            0.00s\n",
            "그래디언트 부스팅 트리 정확도: 0.7707034728406055\n",
            "보팅 정확도: 0.8165627782724845\n"
          ]
        }
      ],
      "source": [
        "# 모델 학습 \n",
        "mod15, cb15, lr15, lsvc15, tree15, forest15, grbt15, voting_classifier15 = train_ml(tfidfv15, y15_train, tfidfv15_test, y15_test)"
      ]
    },
    {
      "cell_type": "markdown",
      "metadata": {
        "id": "oZLS3QR7JCmX"
      },
      "source": [
        "## &nbsp;&nbsp;6-2. 빈도수 상위 20,000개 의 경우 \n",
        "\n",
        "* x20_train , y20_train\n"
      ]
    },
    {
      "cell_type": "markdown",
      "metadata": {
        "id": "hLT8iB_ByaAj"
      },
      "source": [
        "* **train, test 데이터 변환** "
      ]
    },
    {
      "cell_type": "code",
      "execution_count": 40,
      "metadata": {
        "colab": {
          "base_uri": "https://localhost:8080/"
        },
        "id": "Q3mRfckByaAk",
        "outputId": "55fe988b-5786-4d74-c0d3-c2f0d10c1ac8"
      },
      "outputs": [
        {
          "output_type": "stream",
          "name": "stdout",
          "text": [
            "8982\n"
          ]
        }
      ],
      "source": [
        "# train data \n",
        "decoded = []\n",
        "for i in range(len(x20_train)):\n",
        "    t = ' '.join([index_to_word[index] for index in x20_train[i]])\n",
        "    decoded.append(t)\n",
        "\n",
        "x20_train = decoded\n",
        "print(len(x20_train))"
      ]
    },
    {
      "cell_type": "code",
      "execution_count": 41,
      "metadata": {
        "colab": {
          "base_uri": "https://localhost:8080/"
        },
        "id": "GGXNt7pMyaAm",
        "outputId": "563530de-31c6-43e4-d917-5a86471377eb"
      },
      "outputs": [
        {
          "output_type": "stream",
          "name": "stdout",
          "text": [
            "2246\n"
          ]
        }
      ],
      "source": [
        "#test data\n",
        "decoded = []\n",
        "for i in range(len(x20_test)):\n",
        "    t = ' '.join([index_to_word[index] for index in x20_test[i]])\n",
        "    decoded.append(t)\n",
        "\n",
        "x20_test = decoded\n",
        "print(len(x20_test))"
      ]
    },
    {
      "cell_type": "markdown",
      "metadata": {
        "id": "czXDC8hYyaAn"
      },
      "source": [
        "* **행렬변환** "
      ]
    },
    {
      "cell_type": "code",
      "execution_count": 42,
      "metadata": {
        "colab": {
          "base_uri": "https://localhost:8080/"
        },
        "id": "GNwgjQReyaAn",
        "outputId": "b7494ec3-ddb5-4fa9-b4ec-4576b67c6538"
      },
      "outputs": [
        {
          "output_type": "stream",
          "name": "stdout",
          "text": [
            "(8982, 18479)\n",
            "(2246, 18479)\n"
          ]
        }
      ],
      "source": [
        "# DTM 생성하기 \n",
        "dtmvector = CountVectorizer()\n",
        "x20_train_dtm = dtmvector.fit_transform(x20_train)\n",
        "x20_test_dtm = dtmvector.transform(x20_test) #테스트 데이터를 DTM으로 변환\n",
        "# DTM의 크기 확인! \n",
        "print(x20_train_dtm.shape)\n",
        "print(x20_test_dtm.shape)"
      ]
    },
    {
      "cell_type": "code",
      "execution_count": 43,
      "metadata": {
        "colab": {
          "base_uri": "https://localhost:8080/"
        },
        "id": "hzHOaRUKyaAo",
        "outputId": "19f2b927-dd7d-486d-87b9-621b698b0033"
      },
      "outputs": [
        {
          "output_type": "stream",
          "name": "stdout",
          "text": [
            "(8982, 18479)\n",
            "(2246, 18479)\n"
          ]
        }
      ],
      "source": [
        "# TF-IDF 행렬 만들기\n",
        "tfidf_transformer = TfidfTransformer()\n",
        "tfidfv20 = tfidf_transformer.fit_transform(x20_train_dtm)\n",
        "tfidfv20_test = tfidf_transformer.transform(x20_test_dtm) #DTM을 TF-IDF 행렬로 변환\n",
        "# TF-IDF 행렬 크기 확인! \n",
        "print(tfidfv20.shape) \n",
        "print(tfidfv20_test.shape)"
      ]
    },
    {
      "cell_type": "code",
      "execution_count": 44,
      "metadata": {
        "colab": {
          "base_uri": "https://localhost:8080/"
        },
        "id": "ISayZ-foyaAp",
        "outputId": "e6bcaeba-4c22-48b0-9b20-c8146e2a04b7"
      },
      "outputs": [
        {
          "output_type": "stream",
          "name": "stdout",
          "text": [
            "나이브 베이즈 정확도: 0.6193232413178985\n",
            "CNB 정확도: 0.7671415850400712\n"
          ]
        },
        {
          "output_type": "stream",
          "name": "stderr",
          "text": [
            "/usr/local/lib/python3.7/dist-packages/sklearn/linear_model/_logistic.py:818: ConvergenceWarning: lbfgs failed to converge (status=1):\n",
            "STOP: TOTAL NO. of ITERATIONS REACHED LIMIT.\n",
            "\n",
            "Increase the number of iterations (max_iter) or scale the data as shown in:\n",
            "    https://scikit-learn.org/stable/modules/preprocessing.html\n",
            "Please also refer to the documentation for alternative solver options:\n",
            "    https://scikit-learn.org/stable/modules/linear_model.html#logistic-regression\n",
            "  extra_warning_msg=_LOGISTIC_SOLVER_CONVERGENCE_MSG,\n"
          ]
        },
        {
          "output_type": "stream",
          "name": "stdout",
          "text": [
            "로지스틱 회귀 정확도: 0.8098842386464826\n"
          ]
        },
        {
          "output_type": "stream",
          "name": "stderr",
          "text": [
            "/usr/local/lib/python3.7/dist-packages/sklearn/svm/_base.py:1208: ConvergenceWarning: Liblinear failed to converge, increase the number of iterations.\n",
            "  ConvergenceWarning,\n"
          ]
        },
        {
          "output_type": "stream",
          "name": "stdout",
          "text": [
            "SVM 정확도: 0.7818343722172751\n",
            "결정 트리 정확도: 0.6211041852181657\n",
            "랜덤 포레스트 정확도: 0.6714158504007124\n",
            "      Iter       Train Loss   Remaining Time \n",
            "         1           1.4325           17.89m\n",
            "         2       95425.3579           17.89m\n",
            "         3      105570.6041           17.68m\n",
            "         4 593224062708261760.0000           17.51m\n",
            "         5 3774435173865725234928276254753926961504996704196152337310417818266040513071397885183910310310561420723401279705159106767064399872.0000           17.35m\n",
            "         6 3774435173865725234928276254753926961504996704196152337310417818266040513071397885183910310310561420723401279705159106767064399872.0000           17.17m\n",
            "         7 1489548745818530758244232012042654711502171239857813292906777294351633452202689035463067802524827847410009904379930627599745172362994401857765376.0000           17.00m\n",
            "         8 1489548745818530758244232012042654711502171239857813292906777294351633452202689035463067802524827847410009904379930627599745172362994401857765376.0000           16.83m\n",
            "         9 1489548745818530758244232012042654711502171239857813292906777294351633452202689035463067802524827847410009904379930627599745172362994401857765376.0000           16.66m\n",
            "        10 1489548745818530758244232012042654711502171239857813292906777294351633452202689035463067802524827847410009904379930627599745172362994401857765376.0000           16.48m\n",
            "        11 1489548745818530758244232012042654711502171239857813292906777294351633452202689035463067802524827847410009904379930627599745172362994401857765376.0000           16.30m\n",
            "        12 1489548745818530758244232012042654711502171239857813292906777294351633452202689035463067802524827847410009904379930627599745172362994401857765376.0000           16.11m\n",
            "        13 1489548745818530758244232012042654711502171239857813292906777294351633452202689035463067802524827847410009904379930627599745172362994401857765376.0000           15.92m\n",
            "        14 1489548745818530758244232012042654711502171239857813292906777294351633452202689035463067802524827847410009904379930627599745172362994401857765376.0000           15.73m\n",
            "        15 1489548745818530758244232012042654711502171239857813292906777294351633452202689035463067802524827847410009904379930627599745172362994401857765376.0000           15.55m\n",
            "        16 1489548745818530758244232012042654711502171239857813292906777294351633452202689035463067802524827847410009904379930627599745172362994401857765376.0000           15.37m\n",
            "        17 1489548745818530758244232012042654711502171239857813292906777294351633452202689035463067802524827847410009904379930627599745172362994401857765376.0000           15.18m\n",
            "        18 1489548745818530758244232012042654711502171239857813292906777294351633452202689035463067802524827847410009904379930627599745172362994401857765376.0000           15.00m\n",
            "        19 1489548745818530758244232012042654711502171239857813292906777294351633452202689035463067802524827847410009904379930627599745172362994401857765376.0000           14.81m\n",
            "        20 1489548745818530758244232012042654711502171239857813292906777294351633452202689035463067802524827847410009904379930627599745172362994401857765376.0000           14.63m\n",
            "        21 1489548745818530758244232012042654711502171239857813292906777294351633452202689035463067802524827847410009904379930627599745172362994401857765376.0000           14.44m\n",
            "        22 1489548745818530758244232012042654711502171239857813292906777294351633452202689035463067802524827847410009904379930627599745172362994401857765376.0000           14.26m\n",
            "        23 1489548745818530758244232012042654711502171239857813292906777294351633452202689035463067802524827847410009904379930627599745172362994401857765376.0000           14.07m\n",
            "        24 1489548745818530758244232012042654711502171239857813292906777294351633452202689035463067802524827847410009904379930627599745172362994401857765376.0000           13.89m\n",
            "        25 1489548745818530758244232012042654711502171239857813292906777294351633452202689035463067802524827847410009904379930627599745172362994401857765376.0000           13.70m\n",
            "        26 1489548745818530758244232012042654711502171239857813292906777294351633452202689035463067802524827847410009904379930627599745172362994401857765376.0000           13.52m\n",
            "        27 1489548745818530758244232012042654711502171239857813292906777294351633452202689035463067802524827847410009904379930627599745172362994401857765376.0000           13.34m\n",
            "        28 1489548745818530758244232012042654711502171239857813292906777294351633452202689035463067802524827847410009904379930627599745172362994401857765376.0000           13.15m\n",
            "        29 1489548745818530758244232012042654711502171239857813292906777294351633452202689035463067802524827847410009904379930627599745172362994401857765376.0000           12.97m\n",
            "        30 1489548745818530758244232012042654711502171239857813292906777294351633452202689035463067802524827847410009904379930627599745172362994401857765376.0000           12.78m\n",
            "        31 1489548745818530758244232012042654711502171239857813292906777294351633452202689035463067802524827847410009904379930627599745172362994401857765376.0000           12.60m\n",
            "        32 1489548745818530758244232012042654711502171239857813292906777294351633452202689035463067802524827847410009904379930627599745172362994401857765376.0000           12.42m\n",
            "        33 1489548745818530758244232012042654711502171239857813292906777294351633452202689035463067802524827847410009904379930627599745172362994401857765376.0000           12.23m\n",
            "        34 1489548745818530758244232012042654711502171239857813292906777294351633452202689035463067802524827847410009904379930627599745172362994401857765376.0000           12.05m\n",
            "        35 1489548745818530758244232012042654711502171239857813292906777294351633452202689035463067802524827847410009904379930627599745172362994401857765376.0000           11.87m\n",
            "        36 1489548745818530758244232012042654711502171239857813292906777294351633452202689035463067802524827847410009904379930627599745172362994401857765376.0000           11.69m\n",
            "        37 1489548745818530758244232012042654711502171239857813292906777294351633452202689035463067802524827847410009904379930627599745172362994401857765376.0000           11.51m\n",
            "        38 1489548745818530758244232012042654711502171239857813292906777294351633452202689035463067802524827847410009904379930627599745172362994401857765376.0000           11.32m\n",
            "        39 1489548745818530758244232012042654711502171239857813292906777294351633452202689035463067802524827847410009904379930627599745172362994401857765376.0000           11.14m\n",
            "        40 1489548745818530758244232012042654711502171239857813292906777294351633452202689035463067802524827847410009904379930627599745172362994401857765376.0000           10.96m\n",
            "        41 1489548745818530758244232012042654711502171239857813292906777294351633452202689035463067802524827847410009904379930627599745172362994401857765376.0000           10.78m\n",
            "        42 1489548745818530758244232012042654711502171239857813292906777294351633452202689035463067802524827847410009904379930627599745172362994401857765376.0000           10.60m\n",
            "        43 1489548745818530758244232012042654711502171239857813292906777294351633452202689035463067802524827847410009904379930627599745172362994401857765376.0000           10.42m\n",
            "        44 1489548745818530758244232012042654711502171239857813292906777294351633452202689035463067802524827847410009904379930627599745172362994401857765376.0000           10.24m\n",
            "        45 1489548745818530758244232012042654711502171239857813292906777294351633452202689035463067802524827847410009904379930627599745172362994401857765376.0000           10.06m\n",
            "        46 1489548745818530758244232012042654711502171239857813292906777294351633452202689035463067802524827847410009904379930627599745172362994401857765376.0000            9.87m\n",
            "        47 1489548745818530758244232012042654711502171239857813292906777294351633452202689035463067802524827847410009904379930627599745172362994401857765376.0000            9.69m\n",
            "        48 1489548745818530758244232012042654711502171239857813292906777294351633452202689035463067802524827847410009904379930627599745172362994401857765376.0000            9.51m\n",
            "        49 1489548745818530758244232012042654711502171239857813292906777294351633452202689035463067802524827847410009904379930627599745172362994401857765376.0000            9.32m\n",
            "        50 1489548745818530758244232012042654711502171239857813292906777294351633452202689035463067802524827847410009904379930627599745172362994401857765376.0000            9.14m\n",
            "        51 1489548745818530758244232012042654711502171239857813292906777294351633452202689035463067802524827847410009904379930627599745172362994401857765376.0000            8.96m\n",
            "        52 1489548745818530758244232012042654711502171239857813292906777294351633452202689035463067802524827847410009904379930627599745172362994401857765376.0000            8.77m\n",
            "        53 1489548745818530758244232012042654711502171239857813292906777294351633452202689035463067802524827847410009904379930627599745172362994401857765376.0000            8.59m\n",
            "        54 1489548745818530758244232012042654711502171239857813292906777294351633452202689035463067802524827847410009904379930627599745172362994401857765376.0000            8.41m\n",
            "        55 1489548745818530758244232012042654711502171239857813292906777294351633452202689035463067802524827847410009904379930627599745172362994401857765376.0000            8.23m\n",
            "        56 1489548745818530758244232012042654711502171239857813292906777294351633452202689035463067802524827847410009904379930627599745172362994401857765376.0000            8.04m\n",
            "        57 1489548745818530758244232012042654711502171239857813292906777294351633452202689035463067802524827847410009904379930627599745172362994401857765376.0000            7.86m\n",
            "        58 1489548745818530758244232012042654711502171239857813292906777294351633452202689035463067802524827847410009904379930627599745172362994401857765376.0000            7.68m\n",
            "        59 1489548745818530758244232012042654711502171239857813292906777294351633452202689035463067802524827847410009904379930627599745172362994401857765376.0000            7.50m\n",
            "        60 1489548745818530758244232012042654711502171239857813292906777294351633452202689035463067802524827847410009904379930627599745172362994401857765376.0000            7.31m\n",
            "        61 1489548745818530758244232012042654711502171239857813292906777294351633452202689035463067802524827847410009904379930627599745172362994401857765376.0000            7.13m\n",
            "        62 1489548745818530758244232012042654711502171239857813292906777294351633452202689035463067802524827847410009904379930627599745172362994401857765376.0000            6.95m\n",
            "        63 1489548745818530758244232012042654711502171239857813292906777294351633452202689035463067802524827847410009904379930627599745172362994401857765376.0000            6.76m\n",
            "        64 1489548745818530758244232012042654711502171239857813292906777294351633452202689035463067802524827847410009904379930627599745172362994401857765376.0000            6.58m\n",
            "        65 1489548745818530758244232012042654711502171239857813292906777294351633452202689035463067802524827847410009904379930627599745172362994401857765376.0000            6.40m\n",
            "        66 1489548745818530758244232012042654711502171239857813292906777294351633452202689035463067802524827847410009904379930627599745172362994401857765376.0000            6.22m\n",
            "        67 1489548745818530758244232012042654711502171239857813292906777294351633452202689035463067802524827847410009904379930627599745172362994401857765376.0000            6.03m\n",
            "        68 1489548745818530758244232012042654711502171239857813292906777294351633452202689035463067802524827847410009904379930627599745172362994401857765376.0000            5.85m\n",
            "        69 1489548745818530758244232012042654711502171239857813292906777294351633452202689035463067802524827847410009904379930627599745172362994401857765376.0000            5.67m\n",
            "        70 1489548745818530758244232012042654711502171239857813292906777294351633452202689035463067802524827847410009904379930627599745172362994401857765376.0000            5.49m\n",
            "        71 1489548745818530758244232012042654711502171239857813292906777294351633452202689035463067802524827847410009904379930627599745172362994401857765376.0000            5.30m\n",
            "        72 1489548745818530758244232012042654711502171239857813292906777294351633452202689035463067802524827847410009904379930627599745172362994401857765376.0000            5.12m\n",
            "        73 1489548745818530758244232012042654711502171239857813292906777294351633452202689035463067802524827847410009904379930627599745172362994401857765376.0000            4.94m\n",
            "        74 1489548745818530758244232012042654711502171239857813292906777294351633452202689035463067802524827847410009904379930627599745172362994401857765376.0000            4.76m\n",
            "        75 1489548745818530758244232012042654711502171239857813292906777294351633452202689035463067802524827847410009904379930627599745172362994401857765376.0000            4.57m\n",
            "        76 1489548745818530758244232012042654711502171239857813292906777294351633452202689035463067802524827847410009904379930627599745172362994401857765376.0000            4.39m\n",
            "        77 1489548745818530758244232012042654711502171239857813292906777294351633452202689035463067802524827847410009904379930627599745172362994401857765376.0000            4.21m\n",
            "        78 1489548745818530758244232012042654711502171239857813292906777294351633452202689035463067802524827847410009904379930627599745172362994401857765376.0000            4.02m\n",
            "        79 1489548745818530758244232012042654711502171239857813292906777294351633452202689035463067802524827847410009904379930627599745172362994401857765376.0000            3.84m\n",
            "        80 1489548745818530758244232012042654711502171239857813292906777294351633452202689035463067802524827847410009904379930627599745172362994401857765376.0000            3.66m\n",
            "        81 1489548745818530758244232012042654711502171239857813292906777294351633452202689035463067802524827847410009904379930627599745172362994401857765376.0000            3.48m\n",
            "        82 1489548745818530758244232012042654711502171239857813292906777294351633452202689035463067802524827847410009904379930627599745172362994401857765376.0000            3.29m\n",
            "        83 1489548745818530758244232012042654711502171239857813292906777294351633452202689035463067802524827847410009904379930627599745172362994401857765376.0000            3.11m\n",
            "        84 1489548745818530758244232012042654711502171239857813292906777294351633452202689035463067802524827847410009904379930627599745172362994401857765376.0000            2.93m\n",
            "        85 1489548745818530758244232012042654711502171239857813292906777294351633452202689035463067802524827847410009904379930627599745172362994401857765376.0000            2.74m\n",
            "        86 1489548745818530758244232012042654711502171239857813292906777294351633452202689035463067802524827847410009904379930627599745172362994401857765376.0000            2.56m\n",
            "        87 1489548745818530758244232012042654711502171239857813292906777294351633452202689035463067802524827847410009904379930627599745172362994401857765376.0000            2.38m\n",
            "        88 1489548745818530758244232012042654711502171239857813292906777294351633452202689035463067802524827847410009904379930627599745172362994401857765376.0000            2.20m\n",
            "        89 1489548745818530758244232012042654711502171239857813292906777294351633452202689035463067802524827847410009904379930627599745172362994401857765376.0000            2.01m\n",
            "        90 1489548745818530758244232012042654711502171239857813292906777294351633452202689035463067802524827847410009904379930627599745172362994401857765376.0000            1.83m\n",
            "        91 1489548745818530758244232012042654711502171239857813292906777294351633452202689035463067802524827847410009904379930627599745172362994401857765376.0000            1.65m\n",
            "        92 1489548745818530758244232012042654711502171239857813292906777294351633452202689035463067802524827847410009904379930627599745172362994401857765376.0000            1.46m\n",
            "        93 1489548745818530758244232012042654711502171239857813292906777294351633452202689035463067802524827847410009904379930627599745172362994401857765376.0000            1.28m\n",
            "        94 1489548745818530758244232012042654711502171239857813292906777294351633452202689035463067802524827847410009904379930627599745172362994401857765376.0000            1.10m\n",
            "        95 1489548745818530758244232012042654711502171239857813292906777294351633452202689035463067802524827847410009904379930627599745172362994401857765376.0000           54.88s\n",
            "        96 1489548745818530758244232012042654711502171239857813292906777294351633452202689035463067802524827847410009904379930627599745172362994401857765376.0000           43.91s\n",
            "        97 1489548745818530758244232012042654711502171239857813292906777294351633452202689035463067802524827847410009904379930627599745172362994401857765376.0000           32.93s\n",
            "        98 1489548745818530758244232012042654711502171239857813292906777294351633452202689035463067802524827847410009904379930627599745172362994401857765376.0000           21.95s\n",
            "        99 1489548745818530758244232012042654711502171239857813292906777294351633452202689035463067802524827847410009904379930627599745172362994401857765376.0000           10.97s\n",
            "       100 1489548745818530758244232012042654711502171239857813292906777294351633452202689035463067802524827847410009904379930627599745172362994401857765376.0000            0.00s\n",
            "그래디언트 부스팅 트리 정확도: 0.7702582368655387\n",
            "보팅 정확도: 0.8178984861976848\n"
          ]
        }
      ],
      "source": [
        "# 모델 학습 \n",
        "mod20, cb20, lr20, lsvc20, tree20, forest20, grbt20, voting_classifier20 = train_ml(tfidfv20, y20_train, tfidfv20_test, y20_test)"
      ]
    },
    {
      "cell_type": "markdown",
      "metadata": {
        "id": "FUX6uOg1H6e1"
      },
      "source": [
        ""
      ]
    },
    {
      "cell_type": "markdown",
      "metadata": {
        "id": "nr9_RIVm080h"
      },
      "source": [
        "## &nbsp;&nbsp;6-3. 모든 단어를 사용했을 경우 \n",
        "\n",
        "* xall_train , yall_train\n"
      ]
    },
    {
      "cell_type": "markdown",
      "metadata": {
        "id": "t-BOQ6xk080i"
      },
      "source": [
        "* **train, test 데이터 변환** "
      ]
    },
    {
      "cell_type": "code",
      "execution_count": 45,
      "metadata": {
        "colab": {
          "base_uri": "https://localhost:8080/"
        },
        "id": "TN3npZY6080j",
        "outputId": "cacfb9fe-ab9b-4ae7-e818-ab0c39d1e3c3"
      },
      "outputs": [
        {
          "output_type": "stream",
          "name": "stdout",
          "text": [
            "8982\n"
          ]
        }
      ],
      "source": [
        "# train data \n",
        "decoded = []\n",
        "for i in range(len(xall_train)):\n",
        "    t = ' '.join([index_to_word[index] for index in xall_train[i]])\n",
        "    decoded.append(t)\n",
        "\n",
        "xall_train = decoded\n",
        "print(len(xall_train))"
      ]
    },
    {
      "cell_type": "code",
      "execution_count": 46,
      "metadata": {
        "colab": {
          "base_uri": "https://localhost:8080/"
        },
        "id": "X9wt3nfs080k",
        "outputId": "849d0c58-17ee-4d80-ab05-4afd0295d061"
      },
      "outputs": [
        {
          "output_type": "stream",
          "name": "stdout",
          "text": [
            "2246\n"
          ]
        }
      ],
      "source": [
        "#test data\n",
        "decoded = []\n",
        "for i in range(len(xall_test)):\n",
        "    t = ' '.join([index_to_word[index] for index in xall_test[i]])\n",
        "    decoded.append(t)\n",
        "\n",
        "xall_test = decoded\n",
        "print(len(xall_test))"
      ]
    },
    {
      "cell_type": "markdown",
      "metadata": {
        "id": "2rEmecF2080l"
      },
      "source": [
        "* **행렬변환** "
      ]
    },
    {
      "cell_type": "code",
      "execution_count": 47,
      "metadata": {
        "colab": {
          "base_uri": "https://localhost:8080/"
        },
        "id": "A939XBg8080l",
        "outputId": "42773903-13da-4111-96b7-0d23ddaedaa8"
      },
      "outputs": [
        {
          "output_type": "stream",
          "name": "stdout",
          "text": [
            "(8982, 26506)\n",
            "(2246, 26506)\n"
          ]
        }
      ],
      "source": [
        "# DTM 생성하기 \n",
        "dtmvector = CountVectorizer()\n",
        "xall_train_dtm = dtmvector.fit_transform(xall_train)\n",
        "xall_test_dtm = dtmvector.transform(xall_test) #테스트 데이터를 DTM으로 변환\n",
        "# DTM의 크기 확인! \n",
        "print(xall_train_dtm.shape)\n",
        "print(xall_test_dtm.shape)"
      ]
    },
    {
      "cell_type": "code",
      "execution_count": 48,
      "metadata": {
        "colab": {
          "base_uri": "https://localhost:8080/"
        },
        "id": "ROp3GbWc080m",
        "outputId": "b82cb203-20ea-427c-bd71-c9d1e17122ee"
      },
      "outputs": [
        {
          "output_type": "stream",
          "name": "stdout",
          "text": [
            "(8982, 26506)\n",
            "(2246, 26506)\n"
          ]
        }
      ],
      "source": [
        "# TF-IDF 행렬 만들기\n",
        "tfidf_transformer = TfidfTransformer()\n",
        "tfidfvall = tfidf_transformer.fit_transform(xall_train_dtm)\n",
        "tfidfvall_test = tfidf_transformer.transform(xall_test_dtm) #DTM을 TF-IDF 행렬로 변환\n",
        "# TF-IDF 행렬 크기 확인! \n",
        "print(tfidfvall.shape)\n",
        "print(tfidfvall_test.shape)"
      ]
    },
    {
      "cell_type": "code",
      "execution_count": 49,
      "metadata": {
        "colab": {
          "base_uri": "https://localhost:8080/"
        },
        "id": "OqEX0zuk080o",
        "outputId": "c350bbff-1cb5-42c7-8ba0-8189ca8c4bdd"
      },
      "outputs": [
        {
          "output_type": "stream",
          "name": "stdout",
          "text": [
            "나이브 베이즈 정확도: 0.6193232413178985\n",
            "CNB 정확도: 0.7671415850400712\n"
          ]
        },
        {
          "output_type": "stream",
          "name": "stderr",
          "text": [
            "/usr/local/lib/python3.7/dist-packages/sklearn/linear_model/_logistic.py:818: ConvergenceWarning: lbfgs failed to converge (status=1):\n",
            "STOP: TOTAL NO. of ITERATIONS REACHED LIMIT.\n",
            "\n",
            "Increase the number of iterations (max_iter) or scale the data as shown in:\n",
            "    https://scikit-learn.org/stable/modules/preprocessing.html\n",
            "Please also refer to the documentation for alternative solver options:\n",
            "    https://scikit-learn.org/stable/modules/linear_model.html#logistic-regression\n",
            "  extra_warning_msg=_LOGISTIC_SOLVER_CONVERGENCE_MSG,\n"
          ]
        },
        {
          "output_type": "stream",
          "name": "stdout",
          "text": [
            "로지스틱 회귀 정확도: 0.8098842386464826\n"
          ]
        },
        {
          "output_type": "stream",
          "name": "stderr",
          "text": [
            "/usr/local/lib/python3.7/dist-packages/sklearn/svm/_base.py:1208: ConvergenceWarning: Liblinear failed to converge, increase the number of iterations.\n",
            "  ConvergenceWarning,\n"
          ]
        },
        {
          "output_type": "stream",
          "name": "stdout",
          "text": [
            "SVM 정확도: 0.7742653606411398\n",
            "결정 트리 정확도: 0.6211041852181657\n",
            "랜덤 포레스트 정확도: 0.6714158504007124\n",
            "      Iter       Train Loss   Remaining Time \n",
            "         1           1.4325           17.23m\n",
            "         2       95425.3579           17.28m\n",
            "         3      105570.6041           17.16m\n",
            "         4 593224062708261760.0000           17.01m\n",
            "         5 3774435173865725234928276254753926961504996704196152337310417818266040513071397885183910310310561420723401279705159106767064399872.0000           16.84m\n",
            "         6 3774435173865725234928276254753926961504996704196152337310417818266040513071397885183910310310561420723401279705159106767064399872.0000           16.66m\n",
            "         7 1489548745818530758244232012042654711502171239857813292906777294351633452202689035463067802524827847410009904379930627599745172362994401857765376.0000           16.50m\n",
            "         8 1489548745818530758244232012042654711502171239857813292906777294351633452202689035463067802524827847410009904379930627599745172362994401857765376.0000           16.32m\n",
            "         9 1489548745818530758244232012042654711502171239857813292906777294351633452202689035463067802524827847410009904379930627599745172362994401857765376.0000           16.19m\n",
            "        10 1489548745818530758244232012042654711502171239857813292906777294351633452202689035463067802524827847410009904379930627599745172362994401857765376.0000           16.02m\n",
            "        11 1489548745818530758244232012042654711502171239857813292906777294351633452202689035463067802524827847410009904379930627599745172362994401857765376.0000           15.85m\n",
            "        12 1489548745818530758244232012042654711502171239857813292906777294351633452202689035463067802524827847410009904379930627599745172362994401857765376.0000           15.65m\n",
            "        13 1489548745818530758244232012042654711502171239857813292906777294351633452202689035463067802524827847410009904379930627599745172362994401857765376.0000           15.48m\n",
            "        14 1489548745818530758244232012042654711502171239857813292906777294351633452202689035463067802524827847410009904379930627599745172362994401857765376.0000           15.31m\n",
            "        15 1489548745818530758244232012042654711502171239857813292906777294351633452202689035463067802524827847410009904379930627599745172362994401857765376.0000           15.13m\n",
            "        16 1489548745818530758244232012042654711502171239857813292906777294351633452202689035463067802524827847410009904379930627599745172362994401857765376.0000           14.95m\n",
            "        17 1489548745818530758244232012042654711502171239857813292906777294351633452202689035463067802524827847410009904379930627599745172362994401857765376.0000           14.77m\n",
            "        18 1489548745818530758244232012042654711502171239857813292906777294351633452202689035463067802524827847410009904379930627599745172362994401857765376.0000           14.59m\n",
            "        19 1489548745818530758244232012042654711502171239857813292906777294351633452202689035463067802524827847410009904379930627599745172362994401857765376.0000           14.42m\n",
            "        20 1489548745818530758244232012042654711502171239857813292906777294351633452202689035463067802524827847410009904379930627599745172362994401857765376.0000           14.24m\n",
            "        21 1489548745818530758244232012042654711502171239857813292906777294351633452202689035463067802524827847410009904379930627599745172362994401857765376.0000           14.06m\n",
            "        22 1489548745818530758244232012042654711502171239857813292906777294351633452202689035463067802524827847410009904379930627599745172362994401857765376.0000           13.88m\n",
            "        23 1489548745818530758244232012042654711502171239857813292906777294351633452202689035463067802524827847410009904379930627599745172362994401857765376.0000           13.71m\n",
            "        24 1489548745818530758244232012042654711502171239857813292906777294351633452202689035463067802524827847410009904379930627599745172362994401857765376.0000           13.53m\n",
            "        25 1489548745818530758244232012042654711502171239857813292906777294351633452202689035463067802524827847410009904379930627599745172362994401857765376.0000           13.35m\n",
            "        26 1489548745818530758244232012042654711502171239857813292906777294351633452202689035463067802524827847410009904379930627599745172362994401857765376.0000           13.17m\n",
            "        27 1489548745818530758244232012042654711502171239857813292906777294351633452202689035463067802524827847410009904379930627599745172362994401857765376.0000           12.99m\n",
            "        28 1489548745818530758244232012042654711502171239857813292906777294351633452202689035463067802524827847410009904379930627599745172362994401857765376.0000           12.81m\n",
            "        29 1489548745818530758244232012042654711502171239857813292906777294351633452202689035463067802524827847410009904379930627599745172362994401857765376.0000           12.63m\n",
            "        30 1489548745818530758244232012042654711502171239857813292906777294351633452202689035463067802524827847410009904379930627599745172362994401857765376.0000           12.46m\n",
            "        31 1489548745818530758244232012042654711502171239857813292906777294351633452202689035463067802524827847410009904379930627599745172362994401857765376.0000           12.28m\n",
            "        32 1489548745818530758244232012042654711502171239857813292906777294351633452202689035463067802524827847410009904379930627599745172362994401857765376.0000           12.10m\n",
            "        33 1489548745818530758244232012042654711502171239857813292906777294351633452202689035463067802524827847410009904379930627599745172362994401857765376.0000           11.92m\n",
            "        34 1489548745818530758244232012042654711502171239857813292906777294351633452202689035463067802524827847410009904379930627599745172362994401857765376.0000           11.75m\n",
            "        35 1489548745818530758244232012042654711502171239857813292906777294351633452202689035463067802524827847410009904379930627599745172362994401857765376.0000           11.57m\n",
            "        36 1489548745818530758244232012042654711502171239857813292906777294351633452202689035463067802524827847410009904379930627599745172362994401857765376.0000           11.39m\n",
            "        37 1489548745818530758244232012042654711502171239857813292906777294351633452202689035463067802524827847410009904379930627599745172362994401857765376.0000           11.21m\n",
            "        38 1489548745818530758244232012042654711502171239857813292906777294351633452202689035463067802524827847410009904379930627599745172362994401857765376.0000           11.03m\n",
            "        39 1489548745818530758244232012042654711502171239857813292906777294351633452202689035463067802524827847410009904379930627599745172362994401857765376.0000           10.86m\n",
            "        40 1489548745818530758244232012042654711502171239857813292906777294351633452202689035463067802524827847410009904379930627599745172362994401857765376.0000           10.68m\n",
            "        41 1489548745818530758244232012042654711502171239857813292906777294351633452202689035463067802524827847410009904379930627599745172362994401857765376.0000           10.50m\n",
            "        42 1489548745818530758244232012042654711502171239857813292906777294351633452202689035463067802524827847410009904379930627599745172362994401857765376.0000           10.32m\n",
            "        43 1489548745818530758244232012042654711502171239857813292906777294351633452202689035463067802524827847410009904379930627599745172362994401857765376.0000           10.14m\n",
            "        44 1489548745818530758244232012042654711502171239857813292906777294351633452202689035463067802524827847410009904379930627599745172362994401857765376.0000            9.96m\n",
            "        45 1489548745818530758244232012042654711502171239857813292906777294351633452202689035463067802524827847410009904379930627599745172362994401857765376.0000            9.78m\n",
            "        46 1489548745818530758244232012042654711502171239857813292906777294351633452202689035463067802524827847410009904379930627599745172362994401857765376.0000            9.61m\n",
            "        47 1489548745818530758244232012042654711502171239857813292906777294351633452202689035463067802524827847410009904379930627599745172362994401857765376.0000            9.43m\n",
            "        48 1489548745818530758244232012042654711502171239857813292906777294351633452202689035463067802524827847410009904379930627599745172362994401857765376.0000            9.25m\n",
            "        49 1489548745818530758244232012042654711502171239857813292906777294351633452202689035463067802524827847410009904379930627599745172362994401857765376.0000            9.07m\n",
            "        50 1489548745818530758244232012042654711502171239857813292906777294351633452202689035463067802524827847410009904379930627599745172362994401857765376.0000            8.89m\n",
            "        51 1489548745818530758244232012042654711502171239857813292906777294351633452202689035463067802524827847410009904379930627599745172362994401857765376.0000            8.72m\n",
            "        52 1489548745818530758244232012042654711502171239857813292906777294351633452202689035463067802524827847410009904379930627599745172362994401857765376.0000            8.54m\n",
            "        53 1489548745818530758244232012042654711502171239857813292906777294351633452202689035463067802524827847410009904379930627599745172362994401857765376.0000            8.36m\n",
            "        54 1489548745818530758244232012042654711502171239857813292906777294351633452202689035463067802524827847410009904379930627599745172362994401857765376.0000            8.18m\n",
            "        55 1489548745818530758244232012042654711502171239857813292906777294351633452202689035463067802524827847410009904379930627599745172362994401857765376.0000            8.01m\n",
            "        56 1489548745818530758244232012042654711502171239857813292906777294351633452202689035463067802524827847410009904379930627599745172362994401857765376.0000            7.83m\n",
            "        57 1489548745818530758244232012042654711502171239857813292906777294351633452202689035463067802524827847410009904379930627599745172362994401857765376.0000            7.65m\n",
            "        58 1489548745818530758244232012042654711502171239857813292906777294351633452202689035463067802524827847410009904379930627599745172362994401857765376.0000            7.48m\n",
            "        59 1489548745818530758244232012042654711502171239857813292906777294351633452202689035463067802524827847410009904379930627599745172362994401857765376.0000            7.30m\n",
            "        60 1489548745818530758244232012042654711502171239857813292906777294351633452202689035463067802524827847410009904379930627599745172362994401857765376.0000            7.12m\n",
            "        61 1489548745818530758244232012042654711502171239857813292906777294351633452202689035463067802524827847410009904379930627599745172362994401857765376.0000            6.95m\n",
            "        62 1489548745818530758244232012042654711502171239857813292906777294351633452202689035463067802524827847410009904379930627599745172362994401857765376.0000            6.77m\n",
            "        63 1489548745818530758244232012042654711502171239857813292906777294351633452202689035463067802524827847410009904379930627599745172362994401857765376.0000            6.59m\n",
            "        64 1489548745818530758244232012042654711502171239857813292906777294351633452202689035463067802524827847410009904379930627599745172362994401857765376.0000            6.41m\n",
            "        65 1489548745818530758244232012042654711502171239857813292906777294351633452202689035463067802524827847410009904379930627599745172362994401857765376.0000            6.24m\n",
            "        66 1489548745818530758244232012042654711502171239857813292906777294351633452202689035463067802524827847410009904379930627599745172362994401857765376.0000            6.06m\n",
            "        67 1489548745818530758244232012042654711502171239857813292906777294351633452202689035463067802524827847410009904379930627599745172362994401857765376.0000            5.88m\n",
            "        68 1489548745818530758244232012042654711502171239857813292906777294351633452202689035463067802524827847410009904379930627599745172362994401857765376.0000            5.70m\n",
            "        69 1489548745818530758244232012042654711502171239857813292906777294351633452202689035463067802524827847410009904379930627599745172362994401857765376.0000            5.52m\n",
            "        70 1489548745818530758244232012042654711502171239857813292906777294351633452202689035463067802524827847410009904379930627599745172362994401857765376.0000            5.34m\n",
            "        71 1489548745818530758244232012042654711502171239857813292906777294351633452202689035463067802524827847410009904379930627599745172362994401857765376.0000            5.17m\n",
            "        72 1489548745818530758244232012042654711502171239857813292906777294351633452202689035463067802524827847410009904379930627599745172362994401857765376.0000            4.99m\n",
            "        73 1489548745818530758244232012042654711502171239857813292906777294351633452202689035463067802524827847410009904379930627599745172362994401857765376.0000            4.81m\n",
            "        74 1489548745818530758244232012042654711502171239857813292906777294351633452202689035463067802524827847410009904379930627599745172362994401857765376.0000            4.63m\n",
            "        75 1489548745818530758244232012042654711502171239857813292906777294351633452202689035463067802524827847410009904379930627599745172362994401857765376.0000            4.45m\n",
            "        76 1489548745818530758244232012042654711502171239857813292906777294351633452202689035463067802524827847410009904379930627599745172362994401857765376.0000            4.27m\n",
            "        77 1489548745818530758244232012042654711502171239857813292906777294351633452202689035463067802524827847410009904379930627599745172362994401857765376.0000            4.10m\n",
            "        78 1489548745818530758244232012042654711502171239857813292906777294351633452202689035463067802524827847410009904379930627599745172362994401857765376.0000            3.92m\n",
            "        79 1489548745818530758244232012042654711502171239857813292906777294351633452202689035463067802524827847410009904379930627599745172362994401857765376.0000            3.74m\n",
            "        80 1489548745818530758244232012042654711502171239857813292906777294351633452202689035463067802524827847410009904379930627599745172362994401857765376.0000            3.56m\n",
            "        81 1489548745818530758244232012042654711502171239857813292906777294351633452202689035463067802524827847410009904379930627599745172362994401857765376.0000            3.38m\n",
            "        82 1489548745818530758244232012042654711502171239857813292906777294351633452202689035463067802524827847410009904379930627599745172362994401857765376.0000            3.21m\n",
            "        83 1489548745818530758244232012042654711502171239857813292906777294351633452202689035463067802524827847410009904379930627599745172362994401857765376.0000            3.03m\n",
            "        84 1489548745818530758244232012042654711502171239857813292906777294351633452202689035463067802524827847410009904379930627599745172362994401857765376.0000            2.85m\n",
            "        85 1489548745818530758244232012042654711502171239857813292906777294351633452202689035463067802524827847410009904379930627599745172362994401857765376.0000            2.67m\n",
            "        86 1489548745818530758244232012042654711502171239857813292906777294351633452202689035463067802524827847410009904379930627599745172362994401857765376.0000            2.49m\n",
            "        87 1489548745818530758244232012042654711502171239857813292906777294351633452202689035463067802524827847410009904379930627599745172362994401857765376.0000            2.32m\n",
            "        88 1489548745818530758244232012042654711502171239857813292906777294351633452202689035463067802524827847410009904379930627599745172362994401857765376.0000            2.14m\n",
            "        89 1489548745818530758244232012042654711502171239857813292906777294351633452202689035463067802524827847410009904379930627599745172362994401857765376.0000            1.96m\n",
            "        90 1489548745818530758244232012042654711502171239857813292906777294351633452202689035463067802524827847410009904379930627599745172362994401857765376.0000            1.78m\n",
            "        91 1489548745818530758244232012042654711502171239857813292906777294351633452202689035463067802524827847410009904379930627599745172362994401857765376.0000            1.60m\n",
            "        92 1489548745818530758244232012042654711502171239857813292906777294351633452202689035463067802524827847410009904379930627599745172362994401857765376.0000            1.42m\n",
            "        93 1489548745818530758244232012042654711502171239857813292906777294351633452202689035463067802524827847410009904379930627599745172362994401857765376.0000            1.25m\n",
            "        94 1489548745818530758244232012042654711502171239857813292906777294351633452202689035463067802524827847410009904379930627599745172362994401857765376.0000            1.07m\n",
            "        95 1489548745818530758244232012042654711502171239857813292906777294351633452202689035463067802524827847410009904379930627599745172362994401857765376.0000           53.42s\n",
            "        96 1489548745818530758244232012042654711502171239857813292906777294351633452202689035463067802524827847410009904379930627599745172362994401857765376.0000           42.74s\n",
            "        97 1489548745818530758244232012042654711502171239857813292906777294351633452202689035463067802524827847410009904379930627599745172362994401857765376.0000           32.05s\n",
            "        98 1489548745818530758244232012042654711502171239857813292906777294351633452202689035463067802524827847410009904379930627599745172362994401857765376.0000           21.36s\n",
            "        99 1489548745818530758244232012042654711502171239857813292906777294351633452202689035463067802524827847410009904379930627599745172362994401857765376.0000           10.68s\n",
            "       100 1489548745818530758244232012042654711502171239857813292906777294351633452202689035463067802524827847410009904379930627599745172362994401857765376.0000            0.00s\n",
            "그래디언트 부스팅 트리 정확도: 0.7702582368655387\n",
            "보팅 정확도: 0.8178984861976848\n"
          ]
        }
      ],
      "source": [
        "# 모델 학습 \n",
        "modall, cball, lrall, lsvcall, treeall, forestall, grbtall, voting_classifierall = train_ml(tfidfv20, y20_train, tfidfv20_test, y20_test)"
      ]
    },
    {
      "cell_type": "markdown",
      "metadata": {
        "id": "u6mPJYLP2gX6"
      },
      "source": [
        "## &nbsp;&nbsp;6-4 모델 학습 결과 비교\n",
        "\n",
        "* 모델 학습 결과를 비교해 보겠습니다! \n",
        "\n",
        "* 나이브 베이즈 분류기 \n"
      ]
    },
    {
      "cell_type": "markdown",
      "metadata": {
        "id": "jutxw5m4uP9x"
      },
      "source": [
        "![image.png](data:image/png;base64,iVBORw0KGgoAAAANSUhEUgAAArYAAAErCAYAAAArE8DsAAAgAElEQVR4Xu29T2gtx7XvvzTPKNzBDQ8TCNbxxdk3A0MOYetm8DIwHBmT87OJMovADhKOIRIB4TsQGQQN3kFgtgJxkEgCyuzK3PxOcCzBGeQO3pUGyQ8Pkh3/8NHGEMzDgQSPPNdb/ad6d/eu6qrqrj+9e3818bFUXVX9qdVV3169atXaHf9Q6ecvf/kLffWrXy3/Cv8GARBwRADPlyOQltWAuyUwR8XB3RFIy2rA3RKYo+Lg7gikZTV17msQtpYEURwEOhDAxNcBXodLwb0DvA6XgnsHeB0uBfcO8DpcCu4d4HW4FMK2AzxcCgJdCWDi60qw3fXg3o5b16vAvSvBdteDeztuXa8C964E213fKGzX1tba1YqrQAAEQAAEQAAEQAAEQCACgXJU7dp0Oi1ibEejUYTuoEkQAAEQAAEQAAEQAAEQaEeAtWxxYSXGVnhsa/vJ2rWCq0AABCoE8HzBIEAABEAABEDAHQHZugph644vagKBRgIQtjAQEAABEAABEHBHAMLWHUvUBALWBCBsrZHhAhAAARAAARBQEoCwhXGAQEQCELYR4aNpEIhB4GqX1jaJLu9O6UGM9mO2OTuhjfV9Gl3e0amLm0/ru6Ct22vaezbmjaHtPhGAsO3TaKAvK0cAwnblhhw3PDgCV7TLSnU6uaXrBXWV/Y1V7FzIxRa2PsWgrm5TYTtjbttHdHZzU1jLeGdChwd79KAsYHXtDc7WcEMmBCBsTSihDAh4IgBh6wksql1xAk1i0zUa18I2q+/MqJs79p7fVFif0Y4rr2m5nzqhaSJs0/5NaWdyTgf8opDp2Bld7W4Td5smZe+srj0jhig0NAIQtkMbUdzPUhGAsF2q4UJnl4aAP2F7tbtGm3RJd8W3dD/CtuLldcg97X+imnfK9+CoAZ3Q1Arb5nFL+z6d0O31XiZ4Ze3F9og7Qolq2hOAsG3PDleCQGcCELadEaICEJAQ8CNsZycbtH6xNRdWacvLI2zT/u+z1/Nyiy42k3/IwifaG1RW/w2NVfXqhK3m71n9o7mXWiGkF18+2t8Trlw+AhC2yzdm6PGACEDYDmgwcSs9IuBB2CpFlz50oPLZX+tRlMTldiXLMasnx0e0Px3R5Pw022iV30/iuT1n73P3vVczOtlYpwsa0w3VxX9+A3mb88jZeiiFA49t6WXDl9e763Dger8EIGz98kXtINBIAMIWBgICPgi4F7YLn8GLbvfVYzuj2eyW3k8E7Rl7UaUCdh67Ot7Z4s1ZL/HmrHYSd+5NPaCnicDdkniDdR7b1AHuJsZWPV4+7A119okAhG2fRgN9WTkCELYrN+TVGy68dwdEJ9t0xJ9xU2/WeGfuWcuv0AmrxZ33U/7SfE73jpNNN5mPLNlZfn6axCeyoNG01zQyWZzm4salxt9X4lKT2jNRdcR9Ex486c73XOhU7qUcHyq8kfk9Juwuzx/S4/V6poIu99zkRe2nsL3a3eB4VA6l3TrkTVgaj+yM2bx/TEcXHHw7uqRry1xcMx6jdW6s2NhVCNhbzgZREsomwjaxDB7T43pWBB7XQ/Y2G2dF0MX7rvjUM+Tbh7Ad8uji3npPAMK290Pkt4O5sN3ZOaOzhW3w48oO8DbCdjxm0Tj/7pvdy3hCk9E+e/Hqt2axw74Qm+X8ofNP8tUd93VReJU2vLvBO//rfUv/UuuH8ODtjIgeHlSFUh7fqsogUI71LDZNlW/bdANVY/hAP4WtX8MVtSuyFaTvLVnOWg7opXMhrA2FrXHfG8Wrh5AO446hYEwCELYx6aPtlScAYbviJpCnXmK1yev/Oe2l7qhELKynO9cXhFl5R3iBTpUrNZF7pXoTz+b2JrFTONe34lNx5snc5D+Yp4CSiLlcZBCLac6YP8/pWhOFicBMftL7q3wen/ejsmM/ZyTbkCTE6rginpIcqJlonl+Ti25u71bEkya5Ut8nOmXRpfuRbxoTV/mJsTVL95UkN3B02IEOguzvPDYbR7ToSS10b5aP9vnz/AUoqLDNY35lIRFt7hXXLA0BCNulGSp0dIgEIGyHOKoW96TMKToXYiKtlL3HVpKrVAjpBU+lfUxqvT+p+PvwkG6fP6pkDqiKwlyEM6Izhbd0IZzBglFBvvAWCoFtf3/lUXS6y167eUxiP1af1TNBJ15gLKxxXpS9+kVKrVYVKC5qELYio4Jxc4n9HDxtPHnM6bgZdwwFYxOAsI09Amh/pQlA2K708BcbZSpJ51MkuTjheMf2wrYU81h40FRHmrbwblXCEbLrPzxk7+F60saHdJgeGVurVwhO7o/yWNW68JOGPSSImo5nlQjZxLvIbmLeRsXJ/w3iTkum6VQgeRe2mmfKSiRbPp+lWN1qCMyYvfMtNqfp+qr5u9Nxs0SB4vEIQNjGY4+WQYAgbFfcCJQiZwmEbVlYpmL2giMQkk/O5dCI5N/8KVqcFhVT2OYvDFcnvEmKA4xTgcvhH5XNTQpzNBNIhl7hoQrb/MWB3xoWsysIwZsEdrOn1XhzGoTtik+Q7W4fwrYdN1wFAk4IQNg6wbi8ldgKW0kmgiw9Ui3swNrL2cJjW/Iq18MPEiF49DyHAdw7prWj50uftQ1DEcqxxKp7ERvHZCENC6EIiyaykOy/wYqaY2zFhassbA3v3TbGtpOwbWPTyzuVoOdzAhC2sAYQiEgAwjYi/D40bSFsixjE0gao2dUJbfMJUsl+sMVDADyHInCb4iSrJPvCwoYxFrSXWxd0ROfzjWR8jcnmscpGMaWwnceS7lzO00rNWAwd8278dOtccQIWb5zbJXrpgNNe5dmnilO4hDe5yR6MvKyG4q6N3ekEnk2dLusS7RoLVkuxqesrsiLYjPzKlIWwXZmhxo32kQCEbR9HJWCfLIStOLp1MUvXDu0kucLKu+ODeGxTZZumdEo+61fjhLMQhCkL3lESd1tJPJCn+1rjzAUy1PWNS0phW26/VtGYYzqTIM+SsN2VtWe8ScokdVQXYRtww5dOLLYyf8N7NxbAeSd0fW36u+7aVveJi5aBAITtMowS+jhYAhC2gx1asxuzEraZkNvdZm+kSNmVHrhwj45ZtEURtiIcgeq76IVQa8qNy2X4gIbkVKzsJ9lgdLh4vGuTsE0uW2CSHBFLKZNpIWy5GNeznW4ea2irYdT0cbaG4s7MMvyV8iX4ehZjaxY+4g8zao5HAMI2Hnu0DALYPAYbAIFlIaAT2JrDIuq3KcvLGwSFL2GbvmTMTzBzkhVBB0R5LyYedl3l+PuyEoCwXdaRQ78HQQAe20EMI25iRQjovbYrAqLntwlvbc8HyHP3IGw9A0b1INBEAMIW9tE/ArqTtOrxtP27A389gifQH1tHNRtt9HPUFqrpJQEI214OCzq1KgQgbFdlpJfpPiFsl2m00FcQAIEqAQhbWAQIRCQAYRsRPpoGARAAARAYHAEI28ENKW5omQhA2C7TaKGvIAACIAACfScAYdv3EUL/Bk0AwnbQw4ubAwEQAAEQCEwAwjYwcDQHAmUCELawBxAAARAAARBwR0AqbKfT6Z1oYjQapf+8uyt+5a511AQCK05APIDiGUv+P3nW8F//HITpgXdYewP3sLyFfYM7uK/SupLYO2vZQmGs8YNQqFh4lFZceeH2vRLA8+UVb2PlYpKP14PVbBnc44w7uIN7HALhW0UoQnjmaBEE5m+R7KHFF5E4BoGFHtzjEIjTKuwd3OMQCN8qhG145mgRBCBse2ADWOjjDAK4g3scAnFahb2H5w5hG545WgQBCNse2AAWnDiDAO7gHodAnFZh7+G5Q9iGZ44WQQDCtgc2gAUnziCAO7jHIRCnVdh7eO4QtuGZo0UQgLDtgQ1gwYkzCOAO7nEIxGkV9h6eO4RteOZoEQQgbHtgA1hw4gwCuIN7HAJxWoW9h+cOYRueOVoEgR4I2xmdbKzT/k19MMY0ub2mvWfLv+eyu9u0f5YXHu/Q5fkpPaiUScq7LufXUMIuODO62l2nxw/v6PSB7L5cs3Ndn7ux6A/31XoGwnCv2t2Y54rDIHMF7N3mCZ2dbNA6T/47l6r5KJnOT2hj/YK2FtaDUksmZWw65qgshK0jkKgGBNoQiJfH1nRRj1WuDU27a8Is9Lw+XO3S9uYZJa8F8oUkFmPTdu246kqD+1C5q+6LX4Tv+EW4MAzT+49VTmfBdn8PZe/mvSpxHU/o9nqPFnwUqZ8CwtacKUqCAAj0xmN7sXVL11X3bGV0xJv9eHJJ53sP0glQ/I5VGt3l7kfX5UKYiPcFZ3ZFu+ubdMY3M94ZE7HHeyTxkLhm57o+12PRF+7pFwb+arEqz4B37vwCt7Y5pcnlOe2ln3P4K8XJNm2yZ3A8mc8zru3TdX1LZ++2HU4F6z5PSmO64bftxS90eYUQtrZkUR4EQCAhEM9jy6JrbZOmpQVncUTyN3tafKu/2l2jzTPhiXFdLoxteF/ok4Vh+0PaOjzghf425c2uq1oogmt2rutzPxb94J7c12o9A965X13R1YMHJc9s6vbLQp5G4iXYtX26rm8J7d2yy8Xcffs8HbHAvSk5KGpeDYQiWLJFcRAAgR4I20WhVR6WhoVfeGfS+CvX5cKYhveFvnIbGaNF3q7Zua7P/Vj0g/tc2K7KMxCWu7CbulfctX26rm/Z7V3X/4zXWSpm1/N9FvVQEXhsdRTxdxAAgQYC0Ty2+eeo8t6x8c6Ezk9L8VZ5Gdnn80r8FWWftpyVkwZ8uTejsAu9QtjGYmw6Zh7GohfcU2diZrer8gyE5Z4/r+kL8Nk8thz27n4is6mxPh71/y/XhVAEG7IoCwIgIAj0SdhmfSq9vTdNbOUFar1hk0GbctKsAe5tJuxC3yRsFTuP27BbgrHoBXeFsB3yMxCWe+nFofypO9acYvpceJh7gnNXTpVi01jZQ5t7cGWbyCBs3S86qBEEVoFANGFbhzvjjR7HvNGDNzgVGz1iLUIeFheZLYVdcCBsyy9zd3d3gR5vVQiIpPmBPwMh7V1kAkk2mJ7zBtPC8R9rToGwLb5Q8G6xyobhLOZWkuYRwjbQHIVmQGBgBHojbFOutY0Y2kUo9zSmn7WbvI6W5Tx8/l5eYWvJbgnGIqTAEhvEmuNoK99fs7hDsWFyQM9AKO5XuxsslJLUdue8UbL2MMfiafpceJh7QnHXLY1KAZuHI5Sz3GTLAdJ96Zji7yAAAhIC/RK2LAOSt/dpngWhKR4unQyTvVCcn9J1uUCWEnbBaRFj65Ox6Zh5GItecG+4r6E+AyG4Z6J2RJe3sgNc5uEJ0nh82LuHp01UmYccNLZQ20QGYetxPFA1CAyYQL+ErSI1T5GqZz4QlcV/IaVP13JhBjzEQl8i0ZzuKzjj+lirxsz9WPSDu+q+hvsMeOdeFqZKszG1u1jllt3eFf0XXlnN7VUOkIGwdW8MqBEEVoFALGE7O9ml43sHdMCfCtOvb3yYwMn2ZnrEbnlyW0x+bpp0vVu5EGPvfaGv3IQ61jMWY9N2XY9Ff7iv1jPgm3v6skvzQ1uUrw75ca7zQ1+6zRWmdmxabrntXdZ7sWlMdlx6Xl5kCClvIoOwdW0KqA8EVoNAPGGbnRW+8LOwO1bxCct7Of/j73uhr95B0yamWIxN23U7Fn3hXpygV78977Y9RO6q428FXMlOfHB3+2Cp3ySytHaqgxjy6xZicCXp8IomRF0mZcLcZaUV2bq6xjtWiy2rsRbeCCzQJAgEJxDv+eKFaHeb9jkLQvYzpp3JIR3kx+ZWQCRHw7I3VxRdyHcrCrsu53k0+iKw0tt0zc51fQ7Hoj/cV+sZ8MtdF8NZj9+MNKeYPhdLa++LHc9e4BqOzi3m7zyvs41ohbB1aCmoCgQGQiCesB0IwA634Xeh79CxgV8K7nEGGNzBPQ6B8K3CYxueOVoEgYIAhG08Y8BCH4c9uIN7HAJxWoW9h+cOYRueOVoEAQjbHtgAFpw4gwDu4B6HQJxWYe/huUPYhmeOFkEAwrYHNoAFJ84ggDu4xyEQp1XYe3juELbhmaNFEICw7YENYMGJMwjgDu5xCMRpFfYenjuEbXjmaBEEIGx7YANYcOIMAriDexwCcVqFvYfnDmEbnjlaBAEI2x7YABacOIMA7uAeh0CcVmHv4bkbC9vwXUOLIAACIAACIAACIAACIGBPoHQkA61Np9PigIbRaGRfG64AARAAARAAARAAARAAgUgEWMvOv47i5LFIo4BmV44A8tjGG3J8IozDHtzBPQ6BOK3C3sNzNw5FKLt0w3cTLYLAMAlA2MYbVyw4cdiDO7jHIRCnVdh7eO4QtuGZo0UQmH8eWVtL/40Xx/BGgQUnPPOkRXAH9zgE4rQKew/PHcI2PHO0CAIQtj2wASw4cQYB3ME9DoE4rcLew3MPJ2yvdmltc0qT22vae9bBjab1EV3endIDB9X5q+KKdrOO0umD7N/TyS1dd4WwNPfvj6yrmmcnG7R+sUW313vkwjRt+oVQBBtabstiwXHL07Q2cDcl5bYcuLvlaVobuJuScleuk7C1EgSGwnZ2dULbR/t0c5Pd5HhnQocHe/Sgrjh6IOyudtdoky7p7rQsrWd0srFOF1tCvNoJ22W6/2yEyvfXYJhG45XVdWZk3zvOXmqs7Niob+aFIGzNWbkuiQXHNVGz+sDdjJPrUuDumqhZfeBuxsllqV4J21Rg7BPtXJ6zdzNRsjO62t2mzbPRoojRCiWXgkuO3LWwdXf/NgJR3Ftboeif8wJ9zdhnHPM3I9nQjScV7yyErcspZXnqwoITZ6zAHdzjEIjTKuw9PPceCVvVZ/rMA7o/qnlGBydsXd+/xJgMveZ2Ztg/YdvUf9nLyPCFLT9D/IK4f1Z8BqHLcw7hMYq7kFx7nYf/pPbU5F8fV0KPZie7tL1/RuKVY7xzSef8tcOoG3ZGaVTa/4LjiXt6d/m8uPD+VmJuOT5G0BwUWm7uTN7Qjk3LOUBqVMWyc5/fZOLwWqfHD5PwPsmtz3hN2j6is/lnX4v5zgilVSFwt8LlpHBvhG3mZZN4ZpPblInYgQlb9/e/aB/Ckzl2EeNbVG/jHdZ5hV3WJXs+6mEiWZlhC1sDAaScSuTjUdiPjXCandAGf45Z1GFV77mTWc2wEr8LjkfuELYNI+yZu6kdm5YztFUXxZbb3vO5muecbX6ZTuaRnXTfSo2Mijvp1h4XhOV1gHv4fVC9Ebbyz/q5oeTGOiobsqGw9Rmv6TIUwf391x+yRKQc0fOTLbq4IDp3tlHKpcfWsK62c5DMjgYubOcvM+wd3cu8o0WoBntMq/HhVbCpTfIDVPasJjHgx09fotPGzY+5IC7Xz+x3379HB3kfsjCjda6/6tVtO7RtrvO54PjnLn9JM+MgGR+zC52UWmrupnZsWs4JUbNKlps72+x6tv9ivDMmdsdSRQ/kCLI5a1wNZzzhcMYkNE0z35lRtC8F7s3rjD1R/RXLIWxlG5QMhW2WjaABhLYe9bVi4ZeVmHtFzTaPNQrbVvcvESn5Rrer3Q06ev68e2aGtAlDMWrE2bAuvV1LS6g8s8P12ObeK1r0ima22+DFEJ6PFotB49eH8sgoXjRaDq/1Zf4WnBDc22dYMR4fa6JmFyw3d8k9mtqxaTkzjNallpp7wm77Q9o6PKC9B7elTENlDOpnQjvfWdM0vwDcw3vLAwvbqv+0/CnBvbAzFElGgktuxE0e2/repexeNQ/eQoYF0a7kXiz6vSjckoV3mz48FJv0zB/SxZIuwwcMx6xVd9XshytsG8SPJt5abGS0T89nIbjShf6CtlylALS0C38LTgjubZ8Vi/Gx5GlafLm5q4StgR3D3hfgtZtnFLbf8OLQrh1Ti24uNxx7Xx7ugYWtOo+t+0/xhhO/hUCsm2//QxH4c2/yGUaaozUTtxdbrjy3LiYBG5HMn6QsYoXTsZrK4zkHK2ybPESNi2zZ43iPjjf4E2AaHMuf+Cb8MtQUhmC4QXHGGzyOt7ne+qZQF2ZkWIe3BScEd0ksYZIa8fxUk4vZcHwMEbYqttTca3dsasem5VoBNbxoONxVa7vGecEZl+xf1A3hNhQD9/DceyNs3W+eshFJ7VzlLoWt6/tPYyE5H/CUhYN657kQviOapJ94Yu1P7z55NNWge1sftrBVeJIaP4uKTCQTmkz3qf71Qf1CochgUnx4qGZRGGxWhKaXBlfcW22S0YyP38ewqN3vQh/A3mubJpV2bFoO3C3nGZWwFRsHOW6fU4aK9WxWbDiLE8+/9PZe2OfycO+NsBWxmouncrVN9+V/tnApbN3df5b792g6okPTlE55epTp6NAw/ZJq57EF81ouWYsrrYqKTTzSHbR5TRC2C98ishPyxrxJo2wTiZ2kGzgUL4L5Qq5kLcmikIiC68YgeKvhtircvwUn9zjZck/uesbP/XGS8/tG/SVDNz5W9NoXXnrupnZsWq49Sqsrl567VmBxAUWmljE/U0n2r+F5bNu8yLWdZxq+gveMe4+ErTDKae2AhmTntGQh7RBCYDUbNBR2K2yX7/6VaKw2SfgSyeJwjxu2p9v8wA95j1dX2KriAvOvHbKXj4ZP2U3hHgvkTYSYqwdVUU+8hd4t9/ntqTetJWWsxscj+0FxN7Vj03LgnhFoDJnRhBkmGSm29yvhUwf3jonfyZ2dVmkzTMOx9+Xh3l3YSk54St6Oih9+S0o3h9wmnyHVMbaivPiEPs8l3/MjdRX5xGyzIizj/bsRtou1qMMyzDa+zG3I7NPTsIXtvjQtjjQ3dDEUDZ+slS8tZmNTH+2YYsvvghOKe5Womme78bFZwE3LrhZ30/Expde+3HC4G+6fKaHCPFO2mzbze/q2ochGobbJWNw7CVurR8z1poUeeGzN7r9sDA4Xl77cvyye0Mpj617YpunMyDSsYsgHNKgnMN2Eo0yPo3qOWz7fun6YPWPtSnlb6MWpYJKNcbr7teZeufWGBavl+LQj23zV8Libe8N14++Dt6hzONwtBVa+HnEcgqMUl3ajBO7huUPY2tloi9IQtrbQunpsW7UnzRxhW5N9edkDaF+L+orFgwLyDYP8paUxq4SImeIY2Ftx7K3YsCQJUWjOE5kcLXtM9w4O+BhfsUHRsB8uYdTq8rfgzA/BGE/EwRiG92vIPTmu9fjeAR3whs+UKMc/n3CWiSwP/WLu7ph5POtDuLzcTe3YtJxH45ZUvbzc6zfTFOvJYQjEB8jkG6GTr3fbm8mJh2Zf73yMCLjzF/vA+9IHJmx9xWt2MfeQwjbC/XvIzQhh28Xe5IvAQsRMRZzKYjPVtrQonHS77Rvscszx89fhj1xMKPlccMRnO1/ci9Pj6sMt3ZSpGx+X9qava3m5m9qxaTk9K5cllpe7jbCtZl4RVzZtHnbJWFYXuPsmvFj/wIRteID6FkMKW31vnJeAsO2E1LfHNu1cmvVC5KJNjqSs5ztVbTqab8BL62EROuFMGwtv3yaf+vLMG2fJ1uSsMq7OPFykE2TFxX4XHN/cE6/gNu2LzQhpjuHD0pHFpZs2GR8fgIfI3dSOTcuBe/KgpJl8kowejfNMwaopFKH2XKjmLHAfNHcI24AGrk7p1aITvYqxTT71mP2YHKoAj60ZS5TqRsC7sO3WvcFeDe5xhhbcwT0OgfCthhO24e8NLYJA7wkE8dj2nkKcDmKhB/c4BOK0CnsH9zgEwrcKYRueOVoEgYIAhG08Y8BCH4c9uIN7HAJxWoW9h+cOYRueOVoEAQjbHtgAFpw4gwDu4B6HQJxWYe/huUPYhmeOFkEAwrYHNoAFJ84ggDu4xyEQp1XYe3juELbhmaNFEICw7YENYMGJMwjgDu5xCMRpFfYenjuEbXjmaBEEIGx7YANYcOIMAriDexwCcVqFvYfnLhW20+n0TnRlNBql/7y7uysSmouBwn/XwAV20em5EM8Zni/ML5hPMZ9iHsA8gHmg+zwg1lXWsnMnEj9chbDFru3wbxtocXUIiOfr88dHq3PTPbnTLzw8JHAPPxjgHp550mLCvbS0x+nECrYKj234QUcoQnjmaBEEFkIRILDCGwUEVnjmQmDB3sOzh7ANzzxpEcI2PHcI2/DM0SIIQNj2wAYgbOMMArjH4w6PbXj2ELZxmCetlu19DaEI4QcCLa4mAYQixBt3CKw47ME9HncI2/DsIWzjMIewDc8dLYJASgDCNp4hQGDFYQ/u8bhD2IZnD2EbhzmEbXjuaBEEIGwj2wAEVpwBAPd43CFsw7OHsI3DHMI2PHe0CAIQtpFtAAIrzgCAezzuELbh2UPYxmHeXdjOrujk+Iguzm7oRtzDeIcmhwe09+DZ7DezE9pY3+e/j2lye017+a8Xbvlql9Y2iS7vTumB+GNxbbn0mMY7h3R++oBUVYXHiRZBwI5AmFCEz+hn77xLbz35JOvcc1+n3+x/m178kqKvH/yWvvCTPzbcyDP06Oe79OanhuUW2vmMnrzzNv3uG0f00xfseLks7V9ggbtsvFaHe3X87/Nz9+9Nz51L45bU5T8rwoxOdrdpn3VA+sMa4PKc1/HGtf6s4a5lWkHSxnWuFVLtYFufZ+hcvX9hC+71UeycFWF2skHr+4WcrdXPhi0Ealmcjid0e70nF6TGwjZvaueS7ljc4gcElpGAf2HLi+tbb9NbH9Xp5OJUJm49CtuPue7vs2j+A3fntR8PWdiCu+p59Cts+8Jd1Q9+qXzML5URJiu/wpbF1cY6LUqBBkeWtRC9ol32etWl63hyS9eJp8y6vjCD4FfYgrtsFDsJ20LU5t7Zl/jVTLyczdiL+/7xU7p3upd5XnNhS+Mx3dyw31YYY71XSmF7QVtlT2/iJd7e5AdJ4wEOY7toBQRaEfAtbD9+75S+9stP6P7r36NfvHyPvsK9FL+jF79Hn//gnkW/n9IPH/6afqW9TlLuU/7dG3wtt3b/xWeI2Hs8GrCwBXe1WfkUtr3hnr4c/tYSbmQAACAASURBVI0e/fg79OYLX2QY/JXivXfplfRZ/BH9/uXkd2F/fApboQXGk0s638u+ohb6wNr5lAvY2nVXu2uUOGTH/HvxpXZ2dULHT1+iU+Un4ISxvL5Q9H0KW3CXj2J7YSs8sE3e13KbefnR5S09f5S82SkEqamwLcRyTfCGsla0AwIOCPgVtrnXiDbpT4/GqagVP0/eOaRXnth5jzLR8M9aj5O03Kc39K3J3+nV736TF/p/pAKZBitswb3p0fAnbHvE/YOn9OSFezXPbN6/L9u+UDqYaLgKf8I29xrS4pfYTIyWvtwa3Eom1kbycERrkSwEdq0+g364KuJP2IK7aoxaC1trgy2E7R2drufxtjJRbCNsZWVdWSPqAYEABPwK28xzOpV5iIRHKYmVVcXaVu6/oS7rclldwxW24B5H2PaVu6CRCdv//LeheWwzj+hU9hU2XaOnzftqKsYirysTu2RRj6i0oW8B5vekCX/CFtwdC9v8TWFkEd9aFrYcmzB3oefxMYUdqjaPVT2zM67vmC39rMUbXCB7RjMgoCXgVdgmXtI3LuWf/NO//ZleNRW2pkLYqNzAhS24N9q9N49tb7nnOPLY9Vix5d48trW1vTL46d8svqpKhXDZM3mPjjc4zjbd1jOmncl5cxiCtbDWTtnWBbwJW3BXjkVLj232psDfCsh439bCIIig51pIgsXmsXI8j7W14QIQ6AEB/8JWIV6bRMACF9NPqKblVkHYgrvq8fIrbPvInUnkz9sftPHp/iYlv8JWIV6bxNfCraocZuL3E5pM9xc2qCn361ALB5wH/H6FLbjLhiyisOXuiDjdstfVQtim72w7Ew4kV2RY8GCkqBIEXBJYCmFr6mkyLUcQtkYb50x5mpYDd7MNi6Y8DcuJTCDJZs1f8GbNcqy7y7lEV1fvhW2e1WBnwWGWf3Lnjec0KqX45A3ku+tJlgRFDK+yPh0pt3/vvbAdIPdOwlYaU6OyCcWbmwhJKIzZOMZ2xrr4mLb3eZukKsOCW/tEbSDgnEBcYWsWipBuNPvr4ga0OgzTcrTyAgvcP3985PxZyryiTR7b8NyfvHPKmzST1Hbf4ZzN4TMhlCHHE7ZmoQjpvp2pLBVontVAuSdHHsOrrs+96TXVGE/Yri73lsJWvRtPOcDKTxIiJCF/6zIWtllLfTHesI8KWhsKAf/CVhFjm3qbSJvhQIhQ6Qa0yiCYbi5LLloFjy24q55Rv6EI/eGeiVrOIvLzhsNQAk5kfoXtPo1koYnGG7ybNnk1hBQodUX8TWNiaP0KW3CXPUIthW3D5i9Lj21avByS8PCx4uQx+dsHhG3AmRFNOSfgVdhy7sz0cAZJeiFj76rRZjDGYlouJThwYQvujc+JN2HbJ+7GL47OpxRlhd6EbUMsq/H6rNnkpczCpLquB5vGvAtbcFfaemthy2p0ftJIenTeAR+dNz87Lzmg4Xj7KT3kE8bKBzRI3+pSbZudYLazs0NnHF2weKRuXdjO6OpkmzaTo06QGSHc7IiWnBLwK2znhzHMD2iwSxRvmu/WtFwGb+jCFtybHhJ/wrY/3NPngeLkq23ylN/d3Tmdv0RliwcFzNdn9eaueVe06UPFqWK81t/yjvVUaTTk0tfW54WCvFJvHtuSbppvpAf3ZBQ6CNvkcnb3F6k3ZIO6eKSuSthWhHI9GLx8HO9CM3bJnwPaM5oCAS0B38JWiMjkxK/Kz3PlmFlVYnvTLAem5UQPhi9swV1t+j6FbT+4q47TFUzsDkbRTiKGBfx5bHMtIDnulo8YpVt2bmUuL1UIo0n2AtXRsYlfq56dyaQ+Q2gOivkUtsWpavV+rjj3jsI2M9bZFW/iOjrjo3LndMfsxT0se3FN0n4UArYmVhXCNsmIcHjAHuG5o9iBGaIKEAhHwL+w5XtJjrOd8HG2H2X3df/FTd6dXT6JTCFs8xRFpDsC1LRcgXUVhC24q54iv8K2D9zzI6WV08gQhW0iBdjRxcfcZzlmZRmLFMI2X9/1m8DZG7nLX2nnDdDk/JQWTtM1ri/MPO9X2IK7bBQdCNswxoFWQGCIBIII2yGCc3BP3gWWgz4OsQpwjzOqfj22ce5pGVr1LmyXAULgPkLYBgaO5kCgTADCNp49QGDFYQ/u8bj7irGNc0fL0SqEbfhxgrANzxwtgkBBAMI2njFAYMVhD+7xuEPYhmcPYRuHedJq2d7X+H+KrZMy5Ru+m2gRBIZJAMI23rhCYMVhD+7xuEPYhmcPYRuHOYRteO5oEQRSAhC28QwBAisOe3CPxx3CNjx7CNs4zCFsw3NHiyAAYRvZBiCw4gwAuMfjDmEbnj2EbRzmELbhuaNFEICwjWwDEFhxBgDc43GHsA3PHsI2DvMFYTudTosY29FoVPQqeSjEIOG/a2lgMjiAQ1c7EA9Y13pwvd3zCO52vFzZF7iD+yqtm7D3ePbOWrbQr9g8Fv4FAy2uKAHE2MYbeHgO47AHd3CPQyBOq7D38NwT5ghFCM8dLYIAQhEi2wAWnDgDAO7gHodAnFZh7+G5Q9iGZ44WQWD+eWRtLf3354+PQCUwASw4gYHnzYE7uMchEKdV2Ht47hC24ZmjRRCAsO2BDWDBiTMI4A7ucQjEaRX2Hp770grb2ckGrV9s0e31Hj0bnpu6xatdWtskurw7pQdd+qWrZ3ZCG+sXtHV7TXtdAbisq8s9r+C1iLGNN+hYcOKwB3dwj0MgTquw9/DcIWy1zGd0srFO+zcNBceTucDWCVJte3kBXT0aMXq1u0abZ+rGxpNbuhaKGMLWdFScl4OwdY7UuEIsOMaonBYEd6c4jSsDd2NUTguCu1OcRpV1F7apAGtQULVu7Fze0emCK9NAPHI9ZTHWymPbSsBlfbvYKgnBJrQ6QSq99op22c1rRHHnku4SgK3uJWlccj+t6zKyMRRqIABhG888sODEYQ/u4B6HQJxWYe/huXcXtqZ9TsXTPo2kwrZeiV5MDkvYmkIslWstRiFsW9D2dkkYYfsZ/eydd+mtJ59k9/Hc1+k3+9+mF7+kuy3T60zLJe1Jyj7ivui64uHv/hccGy7lGzS9znU5D5AlVS4/d3FTn9GTd96m333jiH76wuKNfvzeb+n7v/wj/SH/0/0Xv0e/+ME9+koYzAutrAp36RxjNN/5GRhw98O1qdaVErapGOaYgspneC1zjTe5HIaQ1NXKY6vtxGIBCNsW0Pp3iX9hy+LnrbfprY/q9/4MPfr5Lr2pFLem15mWS9p/Sj98+Gv6Va0r91//Ef3+5S8GHxy/C44Nl5qoNRov0/pNy4XDv9zcM04ff8Ci9SeZaH3txxJh++kNfeuNy0LUFnSf26Q/PRpHEbcrwT15cTZ6fmDvNpy09t4z7j0Vttmn+Wk5DrRmh9Ye29xjTOMx3XC87MR405Xee1zpWkdhO+Prt4/O0j6Kn/F4hw7PeTNaeZNYa2ErYdu6rnCTw1Bb8i1sP37vlL72y0/o/uvsLXo58xaJ3xF7kD5nD5L0hxfuL/DCXbmOf/c1/l35Opv6n7xzSK88ISp7rj7+4IYm/+df6KcDE7Y2XCr8XXM3rC/k8+VTYPnmTp/yy9kb2cvZ/RefIeKvICOFsP3h//dPtJ8/c4kXMfHuvvJE90LpbyRWgXvr8feHncC9YZ3xxL27sHUSY7ugWtOwhRsRTyq5eTthm8ew5vVlG6t2DDMXhBO2Wb/GNLk8p71Cxc7o6mSbNtnTXIlPbi1GMxZ88/NY59Z1ebLKFarWr7DNvRe06CXKRCaHJDyWhwGkf/+r4rri9xb1Cw9Wk5gOPO7+FhwLLrV7ds3drL6w4JeXO3NK7Hjyd3r1u9+kN1/4R/oFgmTCVoY0fwakQjjAEAyfe/vnzid+cFevM764OxK2DtJble+wEMtq8WksbGcs5LbZ+zu6pHPedJU5PVks7rJY5N1aes9tIGGriUFORe+0lH2hpRidMY/jdQhbXw+Ubb1+hW326X8q+9SfevL+pgxHSD0f//2vC59NU6FE4g3cvP7Mk0Ka8Adbet3K+1twzLnU78ALd+04duNoe/Xycq/faTbOdsL2z/RqYwiQLU3z8sPn3v65M6doXxLc1euMPU2zK3oobPOY1tGEds72q57F0j1phS0LuJPjI9pn8brDHtDTynf8rKLZ1QkdH+2z6J3Q4cFe9VN/0ZZlxoa2oQiOhK0uzdeCWSRe7IOn7nLimtkdSuUEvArbJg9R+reGRTa/Ngk7EBtekjirJBShiCk0rr/sSfknmrzFn3LTmN9n6LXXvxMlDCFp3duCY8xF8hg45c71m9QX+GlcWu4LnMyF7cccwjCZsN1/OfxnWdHtwXPv8tx5fAbAPfzLXP+EbSoMp6kn9aX31YcwqIVt7o2dsqA9PKcDFrS68wtEXCunbCh5dVtaelthy815C0UoMZUe5tDS+9uSEC4rEfAvbBWTislnURay38o3yIguVzZ6NYnjSv25sP3yJj366+XCRrbBbR4z5qJ4FJxxz+vX1Rf4ifS70Hu0d1thm8c3F8/OULMi+LZ3U+5d++HpORi8vfeQuyNha5SBNTObehaBijHVNzapwwC0HltPRuq32hl7kY/dbx6DsPU7bB1q76+wTTa7vMtxuHmKMHGPSaowkZ7LeELLPxE+x5ttvvw/5ymPio044WOw/Hts2wosl9yTuzSor4P9trm0nwt9G04aj21N2Casko2Tv1dt2GwD0+KawXM3no8soDkoCu6X8g2WDtiqqugubGU1t/IA5p/8qRRHmtStqCu0sBWpwszGwnRjWkNtOs+vDWMIW7Nhi1AqrrBVfyLKNpfxDu4ff4c3yeSpuBIhmnxOFZvRtAuJqD9P8yVLdaSJ9fU5JPEWnFDcedO+yTj6hCype2m5L9yLeSgCfcrC+f/NXhRX7wtFR3s35W48H4U1+MHbew+590TYijhWhSCUCLPQwtb4UdAJUtOKdPVA2JqS7HU5/8JW8bacCkpSZEVoWLDLkxhluTqlu7wr9YtQBEl8oUlIhKcR9LvgmHCp35hr7ob1aQ/qcDsAS8t9gZOFsM0RqrJUuCUsr23w3Jvmksb5zi99cFetM/6490PYppkLHtPDeq7W0n1ncbDP0/n1XhozC2GbnOR2QVsm+XjhsfX3BHWs2auwFUmzJRtWGhdY7SYMIdrUgrVevzK92BA9tn3hbjyOHY3Y8nJvC7137hYvIgomgxS2veFuPh9Zmmyn4sO39/5x74ewbWE2QxK2dmEOSZjyLV2/9D6EbQu76dslfoXt/DCG+UEL/En0Pf4kmh7aoDrxS5wQpghF+GieZH4xIbqifhFvyDGGfxLHiorctpFOY/K34PSFu/k4hnwulpl7lZPKY5scdfy/af3/+SYfWy1O1DN57vyOwvC5t33uwD0lIELNSvO7mb33j3tLYWuWAqvRXBo3kekNTS5s4/erl0fqwmOrN6hIJXwLW9UxtlQRk5LE5pKNLwJRVRDLj8mt1p9cqTrqUnEkaYDx8LnQ94a78TgGAJ43sdzcy5wahK30WFe+trz5MhzytKXhc0/u0nQ+Cgcf3MMfId1S2IYzClVLQ/LYtqKJGNtW2Pp2kX9hW34Tz+7+/oubnJmgPNnIT+xJj7v9j8s852yyKHPe2e9y3lmxmUzALN70VfWLgrWd57zIP9r/Nr0ZOMZT9MbvgtMf7sbjGOjhWHruBaemGOZko+V/8bMjsoo8w89dKSNIINblZlaCe3LDxvNRmEEA9zCc67ae/P/d3V3x6zX+n+L/xMJbLhC+m4stQthaxNjqBsxGJOvqwt+tCAQRtlY9Wp3C3hec1UFpdafgboXLWWFwd4bSqiJwt8LlpPDSemyd3D0qAYHIBCBs4w0AFpw47MEd3OMQiNMq7D08dwjb8MzRIgjMP4+sraX//vzxEagEJoAFJzDwvDlwB/c4BOK0CnsPzx3CNjxztAgCELY9sAEsOHEGAdzBPQ6BOK3C3sNzh7ANzxwtggCEbQ9sAAtOnEEAd3CPQyBOq7D38NwhbMMzR4sgAGHbAxvAghNnEMAd3OMQiNMq7D08dwjb8MzRIghA2PbABrDgxBkEcAf3OATitAp7D89dKmyn02mR7ms0GqW9StJ9JTu48V9wgB24ew7EI4/nCs8Vnit3zxWeJzxPeJ5W93kS6ypr2bkTaRny2IZ/B0CLIOCeANJ9uWdqWiM8Kaak3JYDd7c8TWsDd1NSbsuBu1ueJrUhFMGEEsqAgCcCELaewBpUiwXHAJKHIuDuAapBleBuAMlDEXD3AFVTJYRteOZoEQTmn0eQxzaaNWDBiYMe3ME9DoE4rcLew3OHsA3PHC2CAIRtD2wAC06cQQB3cI9DIE6rsPfw3MMK26tdWtskurw7pQfh7zVSi1e0m900nT4o/7tbd2YnG7R+sUW313v0bLeqGq9O29kfORmzUH32iMN51QhFcI7UuEIsOMaonBYEd6c4jSsDd2NUTguCu1OcRpU5FLYGom1QwnZGJxvrtD+6pLvTskyv/35VhK1+/CFsF59JCFujecpLISw4XrBqKwV3LSIvBcDdC1ZtpeCuReS8QI+EbSaMzqxucUftSZyd0Mb6Pt0Y1reTelQNC6fFHAtbg/6W+9hWJGYe2CYqVabmHlsIWxvrEWUhbNtQc3MNFhw3HG1rAXdbYm7Kg7sbjra1gLstse7leyRsu99MpYZcKI6sBatpP3wI2wvaur2mPYPYgk7CVhHCIBOxoYXt1e4abVLJCz6b0dXxNh2d3RQvKeOdCZ2fJiEY+RjQRBuSkdY7zculXw6SV6iGF6PCDPI2bsY0EWPj8MtDGGH7Gf3snXfprSefZHf13NfpN/vfphe/pLD1D35LX/jJHxsehGfo0c936c1PDcsV7Vj2w/RRbFnO/4Jjeb/euAtAn9GTd96m333jiH76QktoDi5bGe6fPqUfTv6LfvWR4XPngG1TFUvL3Xr+qD5393m++/em+Q7cawTazu/latj2H/6afvXcJv3p0Zi+4plxvfoeCtsmsWIuZCiUsFU5P3eEODMMRUj7u8TCNufN6o+uFcpcJ8YX/t7gxR7n7WTCm+aiU/YA1ftWCFuWtroXn6IPJWHLbSwI8JYPrn9hy5P8W2/TWx/VO5hPXjJx60VgtehHS6aml/ld6FvcrxfuGY2Pue7v88vKH/jfr/14yMK2J9w/vaFvvXGZ8q7+8EvlY36pNDVSh+WW1t7TOcp0XFXlwL0wJY/zjGjj4/dO6Wu/5Be6pRe2BsKG1YDR5rGKd63yYKu8pJKnP5SwVcXY1gRvJqAaPtcvu7AVYrEQ9Itj0ihsJeOV2sHZmHYm53TAYjlzZM9odnVMx08P6DQR0AZ2tyB+075OaTxmL/DC+FX7ndnimLhozZuuD70wWZN8C1sxwdx//Xv0i5fvpW/OxaTz4vfo8x/cM+lmXiZ/C9det1jObT8sutxQ1OdC7/Z+23OnxGv4BntOmMP9F58hYq/9aMDCti/cn7xzSK88eYZfIr7D3vEvpsLsyXvv0ivJYq99ftzYd72Wpbb3XIxV5jH+3deSL0tlnmm5v9Ej5v5mjfv9139Ev385GYuwP0vNXYpKNx8lf///eVz+SL/667J7bIWwGc8/C8vjOfWff9UCKBO2F1tqr2AxDgYxq0XZUp/NTR6hCHNWYlwuabR/RM8rwimahO3iy4zpS4wIFVDZlcTLnwvbyWRE+/vTBm9vLl4nE5ruL3rT1S9g5lbkV9jm3gsO7qh/DsoWXjsvRiYa/lnrcVos57Yf5nSbS/pbcNzeb3vufP+J53Dyd3r1u9/khf4f6edBGqyw7Qv3bOGfSoRUm+cO9s7vY8l8JRFJC7//4Ck9eeFezSOe28WXbV/k3ZBfiXmmhCoZk//1zI/o3z95Wzpmbqjq5/akRHK0tvhZa3OkbuZdS6qofrKtNG/osVXHdWZCY9rwubsubJcrxla+2U18di+z1H3WVw1703XqjWWal5FkXI+ez+Jcy/+udULdtsz7aSpsuZH8pUoaViD7mxC2t4f04brango7vH2ejmRhIpZedtmY+BW26gWWhGcjiZVVxdpWOtxQl7acy364mxb9LTgu77cL9zqrrK7hCtuecM/DEGSe8ewlhbIYdaPnDvaeEEi5/fe/yl/QSSdYM2H7n/82NI9tT+y9bKLpukKp84MULyPuLFpdk6MYWyFMbun5I1kKrLwDhsJWHbJg8fk3VChCsBhbSdaIFp5mvbCt5qzVbh6TiDtV/KmybZVd5KJ0PLmk870HDfl6czaSMIjshasmzAthe00vva/K01v6OvDS+4r4Zwt7VDyDXoVtwwKbevLe+DO9arrAmgphWTmX/XA4K3oTti7vtwv3BVYDF7a94a4WHIMUtiG4520kYQe/4PCpNKQqD0XQxoznYQzacg7nlnJVqzPPVOcXlZfdE+ZKtU6EbUWwNAnKJmFb2tBjc+PKzT/eha1pL4e7eWx2dULbmxc0uryupUpLROE2XYwOOXvBXJCqhG2z2N6l7f0zuhlzrO3hObcjTxkhFbCkELwlYbv3rEKclsuQamOfRWhMNGGrEK9Ni9FCX00/5SnKNYloq36YPnNm5fwuOD3gvpLCtg/cxQYm3qBZxHqWN/A1bNw0M91WpZbe3lmgfivfACkAaONmxSa+SHHNST+Xnnthbc3rQCpkS97z5Ra2EgGp3Klu6rEtP7ZtP/faxNhye7LP/a1mj7YXWd6nv1AEQ49t0t9tjjs9V6Un4zRdu5ym6/nzIkuCqs/aDAOzKzo5PqJ9TvlF4x2anJ8upkQrvLul+OuKgC0NTO33svYrv2sYG23fNfbg32PrYKE39XioykHYzq3ARsh35Q5hG4+7Yuf5/eeeoT9whpJBhSK4er4b7T1JVceb70TKQjGySerCR/IsEyITSNnL23Z57nJd74Wtg3lGtg9geYWtEI+ST8BScRtS2HaxRNtrLb3NUi/zsglbW0ZcvrWwFW0VAjdJ0yXzEnMYTJHTtiE1XF3w1tnr/r+ikWt5dy25xBW2ZqEIphOUspx24TPrhyVabfF4C47Z/XbmDmFbE7aBubPd/5DDqH6VptrjDAmvf4f2/8f/5p38WQxi6JRfy2zvIstE2QOeZvyYJBk/ZJtjT1kEJ6ntRFYK7XTgrcAycy9DUc5HCmFsOn/5AN8+FEGI2oY4z0TIbPNhAOfJpqKk90MVtsYjo0v3pT8pTYjiTh5b1yePGYZ9dBa2OWdVNoLKy1QaPpAmuF3Mq7vgya2GFMjz6cpzDPffY8uZKmS74EtB/s0LrIPNS01eSuN+GD9kxgX9Ljg94L6SwraP3OcDEXux//zxkfHzYVzQyfPdNM80xIZLXpqfvJOIWs7e8vOGQ2iMb657wWHPM6q8wTVugUNB2gtbFgcbvBO+EK0m4w9hm2Z14HOALY/vXYTbVtiaDFO5jHbzWFK4o7C1vRdln0pfEG6fP1If3CALUShs8yE9ro+R0pve8xhbkdRckubGeIF1snlJHZtl3A9bwzUo723B6Q33OoSBbx7rLfd8HMQGqMHlU3XwfDfNM9rNaaWXmYgvyqopZ9jzzNCErcHCsVAEwnalha3SZKR2waJx95jo4QG9xBvGxJaxGYvMY/bEnkm/FIjwgx0+LPeMzlSHL0hjb7NrPxzxlZy27vLulB6IDiuFbc+zInD/FxPWzxPFazde8PWmeTd15br2o810o7vG34LTH+5VBkMXtj3i/gGHIdC/5IczJBvHbvjkt+QksjgbxxI7WF57zw8ESNiVNuMVoQgfzZnWNzDp5oAQf19e7rUvDZZ5z2M7LZLed85ja2QgKgHDgqLx67iu8kLkiGT9ugsa/t4ihZZ5a92F0FxrcZoqDvNIc8ead8C6pEuPrbrxhjy2inRqymwYpXjn5jKLBzOIPL4LGwlVwtYyLlp2/15jbNMGxaJQa71y1KEqsX3HbAiVJk36YW2enS7wueD0h3sZ0fCFbW+4KzaPxUo55VvYeufecAzs/AVd5z20O5Cm0+RSunj15pns5ldc2Loyn2WoB8JWNUrSWNV8s9gFZ0MQ+nbMWRG2Dg9oT5H2iwO5U6/4GftsK17XcsOqbAnptY/pYdlbm1ynELC2IRRxhC23KjZZpJtYkqNVNzkX5DjNBZn9KISt6adT43L5Zg9lP8I+w34XnB5xL7CugrDtC3d+pngX/1tiFz/v3n+0/+3ghzKUn6hlt/fE6z35D7EZj++MM0y89t3y5jDFy3MBYYjCti/2vjh3Q9iGXc8itjZsYas6q6IOXH1CWNPxthGHTdq0m7H077HtG7f+9Mf7Qt+fW+1VT8A9znCAO7jHIRC+1fabx8L3FS0OnEDXDAMh8bjw1ib9hbANOWrVtrDQx2EP7uAeh0CcVmHv4blD2IZnjhaVBNx4Qb0DbrMJUtEpCFvvo6VsAAtOHPbgDu5xCMRpFfYenjuEbXjmaBEECgIQtvGMAQtOHPbgDu5xCMRpFfYenjuEbXjmaBEEIGx7YANYcOIMAriDexwCcVqFvYfnDmEbnjlaBAEI2x7YABacOIMA7uAeh0CcVmHv4blD2IZnjhZBAMK2BzaABSfOIIA7uMchEKdV2Ht47lJhO51O70RXRqNR0avkFIckJhD/BQfYgbvnQDxgeK7CPlfgHpa3sG9wB/dVWj9g7/HsnbXs3InEE1AhbMXmlvLRZOH1N1oEgWESwPMVb1zF4hqvB6vZMrjHGXdwB/c4BMK3KltX1yBsww8EWlxNAhC28cYdC30c9uAO7nEIxGkV9h6eO4RteOZoEQTmn0c4tCf5wReR8EaBBSc886RFcAf3OATitAp7D88dwjY8c7QIAhC2PbABLDhxBgHcwT0OgTitwt7Dcw8rbB2e2EQu6wrE3dUxrIG6i2YCEEAoQgDIiiaw4MRhD+7gHodAnFZh7+G5dxO2sxPaWN+nG1W/dy7p7vTB/K9KKAxllwAAIABJREFUMZodpXqmuf+dyzsqqoOwDW8taNE5AQhb50iNK8SCY4zKaUFwd4rTuDJwN0bltCC4O8VpVFk3YatsIhOq08ktXe89ayBs6xVl11NZyC4U2aWsyCmVpLPRTZNOkNdqqQjq0t9SD+y+UtYTjSd0e71HggA8tmbDs0qlIGzjjTYWnDjswR3c4xCI0yrsPTx3P8I29aZOaXJ7TrS9TlXtt6MXo7nwHHkWto31dxyLq9012pxC2HbEOPjLwwjbGZ3sbtP+Wf4SNuZn8JxfCEvvnGrQkmuvVS+TM44QWqfHD0tfVioVd+mHe1Pwv+B0uV8T7tUyYx7XQ+m4dukHuF+2tfcZO2i2j+jsps1zB+6L3E3tXbDTzUfuGctqXJ15pj/cPQjbPKygHoaQ3LNh+EDhCS3VIfeOGohkmaWZCOeONg9h2xHgilzuX9jyYrBRf7lM4I75xfOayh9UFpHLQ4TG9S8xfOGMn+3tzbM0LEn+haNLP/wYg98Fp8v9mnBX1V+fE7v0A9zTJ6WNvSu/CrZcsxwMxWrYewZKPx85AGpYBbgbgnJYzLGwFZOo4uE1Erblibhh8TWqS0EKwtahCaGqLgR8C1vxQjieXNL53oM0LEb24ii7h/TljAPfx/yCec7B7em1Vyd0/PQlOhWKOPFKrWfx8eOdMbF7iqRfQtLn9YxFQqkf/Lv1pAHZS3AXqIbX+lxwvHMXX8Uuz2kvdb2zd+pkmzb581hZiHXphyFG62JLzd3Q3rNnZ8ymfc77QqrjA3uvmozRPGNo7zxBmc1H1lbb/oKltvcl5e5Q2ApB2k2MZhMxzcMYqPo5vzAvB8K2ITp2bsW1OFlT84bH1pTUapfzK2zzZ1LyDGWLSYP3SHicdKIzKbf9IW0dHrDAulXGxsueh2TkVb8PYRX+FpwA3K+u6OrBg9r+grzdkdi026EfHgdgqbkb2btij4mw96bnDtzlBIzsPX1rN5qPPGJeqHqp7X1JuTsRtqkX52ifvTa12D3p5xj1Yiq8C/NPmd3DGqQG7Mhji81jIaeHYbblV9iqF9gsLCiJg5eHI8xfMHXhCuVxUW/6VG2cTIUt1bKnBBpqfwtOaO4CWCZkL7bEpt32/fA5BMPhrrD3hvWl3XPlZjSGw11l73VOBpvQ3aBtrAXcA0CuNdFJ2M7Y7X+8zZ8h2fVZ/lypvA2llzUJ8ubPaFzRzuVt/ukmr0WIY/acXp7vzTe8OPDYdt08lk1SI/1muOJWuPzFViVTQvghR4t9IuBV2Da9wKV/u6AtqbAte/ru0fFG9owncbk7E/60qgzMbVhI8r4kn2HnYQ1ZKIIq64jvcfK24ATnnpPKwz0Knq374Zf8cLir7F39QjFIYdvaztrOMwp7XzDbgQtbcFdOVB2Ebe4dGE3o8KAkOJvmRJUYzXePPn+u8A7lf6fDazd5bJ16bCFs/S6Dw67dv7BViNfGZ0B80p7QZLpfy2oi30yTjZJmIeHnfyPfYCZGVbYxJ9SI+xVYIbkzMVnoSNPLi6M5sM1YDYe7yt5LYXlFDHR5Q5PJxs02ZJuvGQ53hb2vpLDtwTzTQ+4dhK37By9YjZZ5bFWLLzy2wUZssA31U9jmHqcxbwYbHRYe1vnGDFU4UZOwnX+VqQxmknpMmU7J77D3b6Fvx13sAC97w1NyELZzA2oU8u24N77I5d7zugWP+ZlKsn/pM5K4t/3B23sPBVbSJXB3b8u6Gh0JW1VKGVnzhulO2Et7cnxEF9ObdCIofnhiGI+2zL3EOgId/g5h2wEeLk0JxBW2qlCEPLZdtnGyMTZXLWzFLvFJyYOVCuUklEm1QdSzjcRbcNxxv9rdSDNXzHffl6Bpha2qH37BD4F7RkjzhYL5727z3pNSGM/BvWMOv2l5sFDHYRkC90Z7h7CtvcgFmmd6yN2RsDV84gzjYosUNUk83gGnGSonkp+x5+f9Yzra59lckl/QsCdOikHYOsG40pX4F7b7Dem3VAtsfXd9XSwp6lQu9LrY2yEKLP/cs0WeQ6FuFYdtNHkpDediHw+nX4Hln/uciX0M5yCzgLS2M7t5RmvvPRRYwnlxd3fn/lECdyXTHgpbw8lCs6vbvRUt1qjNipBfIkIZcKRuiFFZrja8ClvObZoezlCkfyotyZKT8crklOnA2nhstZscVELZ71h6E1ghuBsJ0/bj75P8UnOvgDFcq8Q1YgNlJIfMUnM3sve61VqOjyejB3dPYBuqdSRsHYYiNO7Wriy9ypyZ4TGatQhha8ZplUr5FbbzwxjmByPIE/kvOjuyAxWSuM3b/HCGYoOSMrdz8y5xPp6BpKEINwPbTMMwFw9GcMvdNE1a6354fAj9LfT+uVexNAgnToG5S3yQSX5udZISc3tzn0/mi2PrXj2HPbJ34/HxaN/1qpfZ3k3nmb5xdyps5/kTu1iN4VuWtcfWRnwr+t/ysIb5CzvSfXWxjCFe61vYijjA5GSwyk/FlmWJ/NXPizo9V9NCnwtlySDGyozgc8Hxy103l5X3MeTx0o3jH/bJWl7uFh5BxeaxWKntfAvb/th7/5xfy2vvNvNMv7j3UNhmaVGS/JZpbtwex9jaLgfw2NoSG355/8I2cafkm7TyTZjjnQlnOthLj8jNflQnVNUyGXAGg8n5KSnT2Go20xQHuYjNoLwRdOdQHDkafqz9Ljg+uSvEaoGwtkFXO/5h2S8vdwthmzxTnJt9P9s5liR61zw7/sdgeblb2nuB0tBJ5hk9uHsGLKneqbDlY8qNfow8NEuQFcHoZkuFIGxtiQ2/fBBhO3yMre7Q+4LTqlfDvwjc44wxuIN7HALhW3UkbMN3HC2CwBAIQNjGG0Us9HHYgzu4xyEQp1XYe3juELbhmaNFECgIQNjGMwYsOHHYgzu4xyEQp1XYe3juELbhmaNFEICw7YENYMGJMwjgDu5xCMRpFfYenjuEbXjmaBEEIGx7YANYcOIMAriDexwCcVqFvYfnDmEbnjlaBAEI2x7YABacOIMA7uAeh0CcVmHv4blD2IZnjhZBAMK2BzaABSfOIIA7uMchEKdV2Ht47lJhO51Oi4ONR6NR2qvkrGMxQPjvGnjAHpw8D+KRx/OF+QXzKuZVzAOYBzAPdJ8HxLrKWnbuROKHqxC22LUd/m0DLa4OATxf8cYanpQ47MEd3OMQiNMq7D08d4QihGeOFkEAoQg9sAEsOHEGAdzBPQ6BOK3C3sNzh7ANzxwtggCEbQ9sAAtOnEEAd3CPQyBOq7D38NwhbMMzR4sgAGHbAxvAghNnEMAd3OMQiNMq7D08d//C9mqX1jaJLu9O6QFd0S7/z3RyS9d7z3a720q93arye3V2zwyATh/M6GRjnS62HNy/306j9kAEEGMbCLSkGSw4cdiDO7jHIRCnVdh7eO6dhO3sZIPW92+kvd5JhRz/yVjYZqJPUV3WxnhCt9d7lEpiCNvw1oIWnROAsHWO1LhCLDjGqJwWBHenOI0rA3djVE4LgrtTnEaVdRK20hZmJ7Sxvk+jtsJ2dEl3qSLW/LQWtpkH9UxXf+XvO7nHuXrR1e4abcoq2infQ0ePbcrzgrZur8nKyZ2Pg/y1Y/HmixcRKy4o3JUAhG1Xgu2vx4LTnl2XK8G9C73214J7e3ZdrgT3LvTaXbuCwrYdKLOrcq9zRZzHFbbFC4bZDaBUYAJhhC3b5e427Z/lrzljflE759AgVTRQ+tLY9Oo3pknlRcuyfprxB5d1evww/6oTmLlozv+CY8ulDEJy7XUSzsU/1uNTrjd/sS9//QrMf/W4w971JubD3sF9VbkvhbBVhzzIPan6wUxK5CKUSuENxYVNf2uq3b2wFfc+to1LrnvOzaCgVGAC/oWtKsSnLk5LN24lnOzqn3Hd2yyaE4kd+yuBX4Flx6VqdvKvSsUcYDU+1ZqLuXSwwrZf3GHvDfNMYZru7R3cV5t7J2HrJcbWeyjCfKJPQwmmDcLWtC91QezKY5uLUxqP6YaVQNVLplFgELaBJWq75nwL2/mL0SWd7z1I49OL57YSMmPS/3wBKl1nXP+Mr13PQoDGO2Mi9h7H/prgU9gac5FgFyFOY+Z8zmFZ6ZhdndDx05fotDEeaXF8FgXzY36jOKMz6bxnYgPdy6wEd9i78Tzj1N7BHdx5iuoubC+25hu6ZHOexLsg9z7KvJ0Nk2jrGNt5neniI+1/2+wFLj221UUqe/gtPNQ2MbYRvTfdl8nlrsGvsFV/ebC2p0IQj0rx5hb1J/a4/SFtHR7Q3oPbUqaQeOPnT2BZcKnfvnhurV86xAtLeXxqspbnkKPnb+nww3XFC32YsVgJ7rD31Ji084xrewd3cA8nbE3SfUUStvuyhcAsLZm3zWPJW+c2p0Vjz6/w2CShE1ccJ5mEPhp5buGxDbNKd2zFr7BtsOP0xXBqZkvZVClJ1de2/nLceUeAHS73J7DachHi1PAZr9y7Zs4qOQJ4IAcqbHvIvfTsZCkfOxhsx0tXyt7BvXF+z74oeZhnesI9kMfWQthqtvFX48xEvS2feKXX12zhTYUtybM41EVvFk+o8QSzoD05PuJNPkn84TmXX9zdk36SPNpn0Tuhw4M99QYgCNuWRhH2Mq/CtskGbLNtyIRw6/rNni/fI+FtoW/NpezpvUfHGxy6kc6HY9qZ8HzQFIbQ+KJS5a0OwfJNPKt/dbgLnrB3eVYfX/YO7hyP0JBNafjcuwvbIvHsOAkFTX9ukoBQ/knFHPXsgAbtxgv55C7b6NIkbOe1mGRFyL2xU2Z2eE4HLGh1x1ekwfFHrIArXt1S3yFsw6zSHVvxL2wVqeKs7EPxNaVp8mysfxUW+jbcBecJTab7Czm91RtIm7921eepYQvb/nCXrwEdJ4wOl/t9oQB31dCAewejbXlpJ2Fr1KbxAQ1GtfkrZOvB4p64E7YebssmxjbxCdlmXfDQ5VWscimEbf4yuPByB2ErN9mOXKaJh2B0OA9DKjbEKGLsVePDvcs+OVbDrSBs68OWhzA45F5tAS9y8o2i4N5pzevRPNM3e++hsDU4gaygaLGZSmdBQxO2uvvF33tBIK6wNTv4QymEtBOrqv5VX+ibuZzJNnM2hBoox0cheFdX2AbivjCzwN7loQgNOZXb2Du4zwk06pnhc3ckbBtiR609toYZCRxkRag8BxC2vRB6q9YJ/8K2dApgGa7x89OwIacp3KCx/lVY6NtwbwgpULJWjY+hg6BF9oWuz6jfT7OxucvowN4v7/LDRaqLLp1srNO+LK2mtb2De4VA4/zrcp7pJ3f/wtZ6FlwyYas6oKnwupjE2FpDwgUDIeBV2IpDSCQLh7HXrnFTknqCbK5/4At9B+7K9EiqcVCOzwoK215w7+dCn/TK2wsFuDeuRuAefrGGsBXMW3hszYYLwtaM02qW8its54cxjCfigAbeqHjCaeN406dJXLUuD+XiQQQm9Q9d2HbgLja3sif1Nj+cIdvhvE83khAF3fhIZdZg0331lTvs/VqV0cOrvYP7qnJfIWFr6MFo0letDjLQCVuX/XJZ12oKzdB37VvYivyzCx8WKrasOlDAJLd0Hq9VB9f4rAx/wWnPXf0ML2ZmMRmfRYs29tZ7ehj8ebCSDpvYo8zefXKHvWdZfsDd/SMFe5cxXSFh696kzGrUCVuzWlBqmAT8C9tkPWEb5AM/spyoyZG2E95xv1dKKacQtrmnkE9xIOWbf7pe6eqvj90qLPQmXNQvFNlhLMWA0eT8lBacXqbjU8M/bGHbR+6w98wEQ9s7uK8qd6fCtkhpq9UgTdkMbLyODrMiaPvctgCEbVtyq3BdEGG7CiBb3KNfz2GLDq3IJeAeZ6DBHdzjEAjfqiNhG77jaBEEhkAAwjbeKGKhj8Me3ME9DoE4rcLew3OHsA3PHC2CQEEAwjaeMWDBicMe3ME9DoE4rcLew3OHsA3PHC2CAIRtD2wAC06cQQB3cI9DIE6rsPfw3CFswzNHiyAAYdsDG8CCE2cQwB3c4xCI0yrsPTx3CNvwzNEiCEDY9sAGsODEGQRwB/c4BOK0CnsPzx3CNjxztAgCELY9sAEsOHEGAdzBPQ6BOK3C3sNzlwrb6XR6J7oyGo2KXt3d3RXH8onBwn/XCFxgF12eA/GAwY7C2hG4h+Ut7Bvcwb3LfLls8yTsPZ69s5adO5HYcAphi13b4d820OLqEMDzFW+s4UmJwz7h/vnjoziNr3CrX3h4CO4Rxh/cw0NPmCc/JSlLaxC24QcCLa4mAQjbeOMOYRuHPYRtHO4QWOAeh0D4ViFswzNHiyAw/zzC3qv6myXwhCEAYRuGc70VCNs43CFswT0OgfCtQtiGZ44WQQDCtgc2AGEbZxAgbONwh7AF9zgEwre6VMJ2drJB6xdbdHu9R8/SjE421uli65au957tRu5ql9Y2iS7vTulBt5qIXNbVtS/Lfv0SsqzaqH4AEIqgZ+SrBIStL7LN9ULYxuEOYQvucQiEbxXCNmFuIqBmV7S7fURnNzfZKI3HtHN4TqcPaqLapK4Q4zw7oY31fRpd3nEfGxpM+zulye01dX0/0N9W9jKynyOUlh9P8hcXw3HRNxq0BIRtUNydGoOw7YSv9cUQtq3RdboQwrYTvtYXg3trdK0v7C5sU2F0ZtiBHYVXtEnwjAvRZe6xZRHKLtjGXu1c0p1QfDoxmou/ncuSkE2FLrcxKtVjIpJzwdmk7cowd3TCVEXet7BN67+gLStBnI9znZnqHnTj0mR1jjinNtekxMtCnPsDYWs4FfSgGIRtnEGAsI3DHQIL3OMQCN9qd2Fr2OdMIIzsPvfXvIm2wpYba/ZWir43CqhMJMvrkvxNJ8ZMBachV2Ux03baemyXRNhqPdYdOF/trtHmtORh7q2w5ReK3W3aPxNfG/gF85zDblQRPNqX1fnL5hyfpI3remiPZT86jI3Jpf6FreX9euOe0DAZHxNq3cv4F7af0c/eeZfeevJJ1tnnvk6/2f82vfglRd8/+C194Sd/bLixZ+jRz3fpzU8Nyy208xk9eedt+t03juinL3Tn17YG/8K2L9wt+9EWqOF14G4IymExCNsEZpMY1QjVVNyQhffXVHB2HWQrj6VMqDR3QHgyxxObGGddKELNo697SWjqYgDOyyFsVcwbxtxaYMm/kFRto0U/uj4Dmuv9CtsW9+uFezrBSb9g2T277gbDr7BlUfPW2/TWR/X+5uJUJm49CtuPue7vs2j+A3fntR8PWdj2hXuLfrgzbWlNfoVti/v1Yu8t+uGRO4StRtjqPi3LP1WrQi4Sx4lh7GvXQTdtp43HNq87iTNOQo7N43PDhyKsusd2/gJySed7D3jTZR4ukYRXlMNxjOwtF0i161KBz3E/Y/79OYf3pG1cndDx05foVARu56JtPCn1g3+3nlxo3Q+jzmoL+RS2veGevrcbjI+WlrsCPoXtx++d0td++Qndf/179IuX79FXuNvid/Ti9+jzH9yzuJGn9MOHv6Zfaa+TlPuUf/cGX8ut3X/xGSL2Ho8GLGz7wt1tPyxMpaGoT2Hr9n7b27vbfnTnDmEbyWNrFGNbi9+0Gm5vwrYqbrJFs0HIVzodXtj65Nx/j23Om6rhEpnJ24xbNojScCLxZUAjTmWsin7Uwjms7LxDYX/Ctj/cxYv0TaSXB9nw+BO2udeIv6H96dE4FbXi58k7h/TKEw5JeMwhCYY2ky3W/6y9Rlru0xv61uTv9Op3v0lvvvCPVCDTYIVtX7i77YehmWiL+RO2bu+3vb277YcWqEGBnghbP5vHEGO7T0bCjgxDEfINc1Pe/CU8c0ns3hXHbyaON73nNryw7eqxXe7NY9lLyFQWLmLtqZfXlfHRj73qy8dCKI/BpOWqiD9h2zPuBuPjiqlJPf6EbeZxmr7+I/r9y1+sdiX9/Pq3LFZWFWtbuaKhLutyWV3DFbZ94e6yHyaWbFbGn7B1eb9d7N1lP8yY6kr1S9hqdsvLRIY8Tqxpw5cEiS6W00NWhK6CSzewTv/Ogvbk+Ig3HyVfjSUpzhJvXvLp+WifpqMJHR7sKTYm6WJss14XY6obl6abNPVYa0DZbnrUha7Um/Oax7aJge3mP6kQLnsm79HxBmcJSd+kOBXehO2knD9OhK9UwhWyUITWmT86Grk3Ydsb7hbj05GlzeXehG3iJX3jUv7JP/3bn+lVU2FrKoSNyg1c2PaFu8t+2Bi0pqw3Yevyfo3smG9UVs5lPxxxDytsi8MV6r038+TFyYqQ99VVHltHgsvR+OtkXeaNnbKg5Zy9B7yNXncUxowF0PYRK+CKV7dlbyFsW4ITNtuQks3KDlXPp/j9hCbT/YX8xAsvnTyeGyxky18RYm1gSgj5FbaKVHhBuVuOTzdrM77ar7BViNemxXeh5/mn1S/rYnJNy62CsO0B96aXF6vxNzZlo4J+hS24ywYBwjah0kVA1anq6rLKVlDyXho9QmYe0caqusT1GvXRopCOZVNVjjgvv8fWgcDKN34telbzT+68iZBGh/PwlOQlcD3JI12OvRYhK7XgmDGXWUgLZmEjHYr2Xth25m4zPh1AWl7ae2Gb7xrXZjEwLUcQtkYb50x5qspB2M6fRBshP0DuELahha3lIuC0uO3nZ6eNL1Y2YwH0Poc4XPD364rcYaE0Hm01hDR47lip+mELW7MDNlQbv4o0UrKXoVroQrZZjWO5OZRlTyTQFYecSDa3hRjheMI2FPd8o6fB+ITgLdqIJ2zNQhHSjWZ/XdyAVmdkWo5WXtgG4q4Vtmb9cP0sxPPYmt2vqR0ry/WQezBhq14cEzPyE4qgOw/NKpbT9BNiFy+j6yeqXl+PhO3V7ka64WxnckgHL3GKqFKMw2w2o9vjZEPazTze1jcbRf3LL2wVxyob22nDRqim57byvDTEvEe0Sb/Ctg/cG+ZV0/nMw3PnV9gqYmxTrxRpMxwIESrdgFZhYbrZJrloFTy2PeDe5KU0Hn/3Bu9X2IK7bMTCCtvyQQaV3ug/oSefQQ+e8g7sIk43u+Ziy+aAAIXRmizypguBSV3unx2zGiOKiEoHTXfk94ClNitCfmPiJalXm8cahGfzi2ZptDRjpUwbVr6OGnI3mz5XZhZuVcqbsO0Ld35ZNBofXeC8FVV9YW/CltQxr6ZeKenmGNktmW62Sa8duLDtDXcH4683X+sS3oQtuCvHIpCwNfPI6izGfPOYrqba300EVMQF2PJu1MV7ImyNvaA96a8N/34J2/lhDPODETjW9YS94XxAg8nGLW2+W3FaFmc7uM0PZyhypxafwMXJV4pQhBvDdHM2A2FQ1p+w7Qt3hmA0PgawHBbxJ2znhzHMD2jg42zfe5deSQ9tkKQBq92Xab5b03JZ9UMXtv3hvnhQgN34OzTzoip/whbcVePVUtjqPaxaA2mxSWl5hW0cXgtjYCUUPfbZm8fWY5+1Bp0V6JuwVR2nyqqWbq/38iwXqgMFTF5I1cwrm80ajos1EdiG+K2K+RS2veEuvMeShNYx06x9/vjIaqzMC+enJ9UveK4cM6tKKG+a5cC0nOjE8IWtEO/JSWuVn+DcTcbf3JpclPQpbMFdPkItha2L4bavY3mFrf29ernCSth66UFR6bLE2NpS6J+wTdQ2e0y3RY7Z5OjbCWcwEKI2leNpWM9+fROXyD0rO+ChAqaW8YAzHUzOT6mcxjZtJc91nOW65R/eJJikkTsVm8lsYXcs71fY9of7/BCVHLxifDriNL7cp8c27URynO2Ej7P9KOvS/Rc36Rc/KJ9EphC2eYwm6Ty7puUKIqsgbHvEXTv+xqbqpKBfYQvuskFaKmFbvYE4MbZmJ3nZpuly8vzoK+mRsE2FzhJkRdBDrVllchKXMl/zYm1eD2iw7fyKlfcubFeMp+ntehe2ph1ZsXLeBdaK8TS9XXA3JeWu3BILW3cQUBMIxCIAYRuLvMcDGuLd0lK0DGEbZ5ggsMA9DoHwrULYhmeOFkGgIABhG88Y4LGNwx7CNg53CFtwj0MgfKsQtuGZo0UQgLDtgQ1A2MYZBAjbONwhbME9DoHwrULYhmeOFkEAwrYHNgBhG2cQIGzjcIewBfc4BMK3CmEbnjlaBAEI2x7YAIRtnEGAsI3DHcIW3OMQCN8qhG145mgRBCBse2ADELZxBgHCNg53CFtwj0MgfKtSYTudTu9EV0ajUfrPu7s7EgsB/rsGHrAHJ8+DeM7wfGF+wbyKeRXzAOYBzAPd5wGxrrKWnTuR+OEqhC12bYd/20CLq0NAPF/+TmJaHZa2dwoPli0xN+XB3Q1H21rA3ZaYm/Lg7oajTS0IRbChhbIg4JgAhK1joBbVYcGxgOWwKLg7hGlRFbhbwHJYFNwdwjSsCsLWEBSKgYAPAhC2Pqia1YkFx4yT61Lg7pqoWX3gbsbJdSlwd01UXx+ErZ4RSoCANwIQtt7QaivGgqNF5KUAuHvBqq0U3LWIvBQAdy9YGytdXmF7tUtrm0SXd6f0IDw3tAgCTghA2DrB2KoSLDitsHW+CNw7I2xVAbi3wtb5InDvjNC6gh4J2xmdbKzT/k3DPYwndHu9R88mRSBsrQcbF/SPAIRtvDHBghOHPbiDexwCcVqFvYfn3l3Yzk5oY32fRpd3dNrkOk2F6JQmt9e0lyrT+k8ubEeXdNdYUX4dhG14a0GLzglA2DpHalwhFhxjVE4LgrtTnMaVgbsxKqcFwd0pTqPKIGyNMKEQCPghEEbYfkY/e+ddeuvJJ9lNPPd1+s3+t+nFL+nuyfa6z+jJO2/T775xRD99QVW3pM5H3BddVzz83f+CY8tP3KTtdTru1fru8/j/u9H4e4DOVQ6e+we/pS/85I8N8J6hRz/fpTe1z59b/oPnXuCyfX7ccq7XBu5++cpq75+wVYYi7FTjaeGxDW8taNE5Af/Clif5t96mtz6qd123uNpd9zEv5t/nxfwP3MxrP1YJ26f0w4e/pl/s4EFgAAAHGklEQVTVunL/9R/R71/+onO2ugr9Ljh2/OZ9tbtOz11VH7/cPB7iC4UdPy/cV1LY9oB7Opht+6GbLdr/fbXnGd06055r05X9E7YIRfAz0qi1lwR8C9uP3zulr/3yE7r/+vfoFy/fo68wBfE7evF79PkP7sm55Itz5Tr+3dcST1T5uk9ZrL6RidX7Lz5DxF7hkULYPnnnkF55kpTjvnC7aV8+uKHJ//kX+unAhG1vuKfj+Dd69OPv0JsvJC8P7N197116JbWJ4b1Q9Ia79KnKX+yanjuPs5RPgdUb7qbzlkfOIT224C4fSGfCtmnP17zpMWJsAz5QaKr/BPwK29x7QZv0p0fjVEiKn0xkqr126d//qriu/PtPb+hbk7/Tq9/9Jgunf6QeWZIJ26TcG5f0h0iLuswS/C30PeL+wVN68sK9WqhH3r8vN7zYeHx0VoK7hF8mQv55gJ7y/ti78bzl0b7DCVtwVw2jM2GLzWMBnxQ0NRgCfoVt5iGayjxzwpOniPVLF+H//le5ICaVIMrakwnbbFGnKLGFTZOfn6OM+8Ndfu/Zgvif/zY0j22fuTf0LdBs5u+Foj/c281bfgcA3MO/QPdP2Gpcv+PJLV0naRUQY+v3aUTtQQh4Fba5l1QaGpD+7c/0qmoTS35tEnYwDxvIQhF0MbSLwrbsWfgnmrzFoQtpzO8z9Nrr34kShpC07m3B6Q13hQnnn2vV4+jX9FeSu+ZF0i/xrPaV4N5q3vJLH9ybNhP7Yd8jYWt5gxC2lsBQvI8E/AtbhXhtEl8CFC/G38o3hIlfNcdlqjy24tP3Jj366+XCRrbBxXo2vTQE5S6x+B6EhPhd6Ptg73XucUM/RG9Whrv1vOV3ZQD3OBuDk1G9u7srBneN/6f4P7HwlgtUzCDPY9s9xtbSuCBsLYGheB8J9FfYJimkeJORSBEm4CWpwpTpuVTCNv9U+RxvLvvy/yw8wFRsPIuzQ7+fC45L7lWLFxkUyl74GM/EqnGnyB7yfgtb1/bepj6/T8Fq2Hu/uHf32MpsIhW7F7SlPIxBb0iz2RW9f3xEF2c3VBHN4zGNR1t0eLBHD6QHPejrRgkQ6AuBuMJWHYqQbS7jVC3FbnomlgjRSZIBYXFTWcazWdj+6jnJdRE/0cZbcEJxn1v5k3dO04wUr/F4/jTNjhDvZ5W4J5RVG5pCj8AqcG83b/kdCXBXrRf+uPdS2F7tbtDmGdHO5JAOXnpAz5YE7Gw2o9vjbf77DRXxtv74oGYQ8ErAv7C9lKffSgUlKXZoqzeBUWNsri4UQbKJwOTTvKcR8Lvg9IF7Bi4Ttbwb/+cmh3J4gl2qdlW4l1/2pBs4/aOutDB87m3nLb8DAe4Nezk8oe+fsNUevZuTQCiCJ5NAtSEJeBW2Ilm5JK1ToxdJu/lJIdqUHtvcayVLLzZEj22PuGefwVUvMCEtfd6Wt4W+T9zF7Ua07/roDp5763nL73MA7qr1wh/33gnb2ckGre+PqqeMye7fQbiDP6yoGQTMCPgVtvPDGOYHLZgk6BcnhClCET5SnSbT4DERpzFxloU/5YczZN5fzm0rC1Eww9eplL8Fpz/c0xcYZXq2TvhaX7wK3AUcXb7o1hBbXDh87m3nrRYwLS4B9/Cnj7UUtjM62VinfbMdY3ITGE/o9nqPFsJk4bG1eGRQdNkJ+Ba2Iu61fowtVcSkJNF3w7Gg6iwGDcJWedRl0xG8fkfX54LTD+6q40UF14Ft2ktvS35sc3h7T/rSj2wIYrSHb+98p63mLcwzZQKt5veecW8pbP0aAmJs/fJF7f0h4F/Y8r2KTV9p7tjkSNtNzkxQPolMfoJNetztf1zmOWf5Qs5q8Np3mzYfNQnbbKGvZFrgDAuP9r9Nb34pznj4Xej7wF0h8grcQxS2feCeAxY5VSMdXVx/qoZv79kd289bfucfcA+/WbWXwjYxM2RF8PuwofZ+EAgibPtxq73rhfcFp3d33I8OgXuccQB3cI9DIHyrvRW24VGgRRAITwDCNjxz0SIW+jjswR3c4xCI0yrsPTx3CNvwzNEiCBQEIGzjGQMWnDjswR3c4xCI0yrsPTx3CNvwzNEiCEDY9sAGsODEGQRwB/c4BOK0CnsPzx3CNjxztAgCELY9sAEsOHEGAdzBPQ6BOK3C3sNzh7ANzxwtggCEbQ9sAAtOnEEAd3CPQyBOq7D38NwhbMMzR4sgAGHbAxvAghNnEMAd3OMQiNMq7D08d2NhG75raBEEQAAEQAAEQAAEQAAE7Anc3d3NnUjT6bT4v9FoZF8brgABEAABEAABEAABEACBSARYy86FLavcuczlX//lL3+hr371q5G6hmZBYNgE8HzFGV9wB/c4BOK0CnsH9zgE4rRat/c1CNs4A4FWV5MAFpw44w7u4B6HQJxWYe/gHodAnFbr9v5/AdZBd6BeiXpxAAAAAElFTkSuQmCC)"
      ]
    },
    {
      "cell_type": "markdown",
      "metadata": {
        "id": "U_0VbGK7ytGY"
      },
      "source": [
        "![image.png](data:image/png;base64,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)"
      ]
    },
    {
      "cell_type": "code",
      "execution_count": 1,
      "metadata": {
        "id": "cwhPOC6D3KA7"
      },
      "outputs": [],
      "source": [
        "bayse = [0.673196794300979, 0.656723063223508, 0.633125556544968, 0.619323241317898, 0.619323241317898]\n",
        "cnb = [0.770703472840605, 0.770703472840605, 0.772039180765805, 0.767141585040071, 0.767141585040071]\n",
        "logistic = [0.805877114870881, 0.807658058771148, 0.812555654496883, 0.809884238646482, 0.809884238646482]\n",
        "svm = [0.764915405164737, 0.770703472840605, 0.776046304541407, 0.774265360641139, 0.784505788067675]\n",
        "tree = [0.617987533392698, 0.620213713268032, 0.619323241317898, 0.621104185218165, 0.621104185218165]\n",
        "rf = [0.701246660730187, 0.674087266251113, 0.671415850400712, 0.671415850400712, 0.671415850400712]\n",
        "gbs = [0.767586821015138, 0.766251113089937, 0.770703472840605, 0.770258236865538, 0.770258236865538]\n",
        "voting = [0.816117542297417, 0.811665182546749, 0.816562778272484, 0.817898486197684, 0.817898486197684]\n",
        "\n",
        "vocab_size_list = ['5', '10', '15', '20', 'all']\n",
        "model_list = [bayse, cnb, logistic, svm, tree, rf, gbs, voting]"
      ]
    },
    {
      "cell_type": "code",
      "execution_count": 2,
      "metadata": {
        "id": "15TdCGfJ4U3_"
      },
      "outputs": [],
      "source": [
        "acc_dict = {}\n",
        "for idx, vs in enumerate(vocab_size_list):\n",
        "    acc_list = []\n",
        "    for model in model_list:\n",
        "        acc_list.append(model[idx])\n",
        "    acc_dict[vs] = sum(acc_list)/len(model_list)"
      ]
    },
    {
      "cell_type": "code",
      "execution_count": 3,
      "metadata": {
        "colab": {
          "base_uri": "https://localhost:8080/"
        },
        "id": "5kIQJ5G44Y8N",
        "outputId": "78cb29f0-33a5-4dcb-baf2-4e6f2e8c1270"
      },
      "outputs": [
        {
          "output_type": "execute_result",
          "data": {
            "text/plain": [
              "{'10': 0.7347506678539621,\n",
              " '15': 0.7339715048975952,\n",
              " '20': 0.7314113980409611,\n",
              " '5': 0.7397039180765803,\n",
              " 'all': 0.7326914514692782}"
            ]
          },
          "metadata": {},
          "execution_count": 3
        }
      ],
      "source": [
        "acc_dict"
      ]
    },
    {
      "cell_type": "markdown",
      "metadata": {
        "id": "4etLCzB44WP2"
      },
      "source": [
        "* 각 모델의 정확도 확인 결과, 5000개의 단어 개수가 가장 정확도가 높았음을 알 수 있었다. \n"
      ]
    },
    {
      "cell_type": "markdown",
      "metadata": {
        "id": "6TMrZADXWXai"
      },
      "source": [
        "## &nbsp;&nbsp;6-5. 딥러닝 모델학습 \n",
        "\n",
        "* 머신러닝 모델을 사용해 봤으니, 딥러닝 모델도 활용 해 봅시다. LSTM 모델을 이용합니다. \n",
        "*  가장 정확도가 높았던 상귀 5000개의 단어 분포를 vocab_size 로 정해 딥러닝 모델을 학습시켜주겠습니다. "
      ]
    },
    {
      "cell_type": "code",
      "execution_count": 28,
      "metadata": {
        "colab": {
          "base_uri": "https://localhost:8080/"
        },
        "id": "gcdsZKkSWXXA",
        "outputId": "71a10ed3-3ebb-4a85-cebc-d5aedc7d56af"
      },
      "outputs": [
        {
          "output_type": "stream",
          "name": "stdout",
          "text": [
            "Model: \"sequential\"\n",
            "_________________________________________________________________\n",
            " Layer (type)                Output Shape              Param #   \n",
            "=================================================================\n",
            " embedding (Embedding)       (None, None, 32)          160000    \n",
            "                                                                 \n",
            " lstm (LSTM)                 (None, 32)                8320      \n",
            "                                                                 \n",
            " dense (Dense)               (None, 46)                1518      \n",
            "                                                                 \n",
            "=================================================================\n",
            "Total params: 169,838\n",
            "Trainable params: 169,838\n",
            "Non-trainable params: 0\n",
            "_________________________________________________________________\n"
          ]
        }
      ],
      "source": [
        "from tensorflow import keras\n",
        "\n",
        "vocab_size = 5000\n",
        "word_vector_dim = 32  \n",
        "\n",
        "model_LSTM = keras.Sequential()\n",
        "model_LSTM.add(keras.layers.Embedding(vocab_size, word_vector_dim))\n",
        "model_LSTM.add(keras.layers.LSTM(32))\n",
        "# model_LSTM.add(keras.layers.Dense(128, activation='relu'))  \n",
        "model_LSTM.add(keras.layers.Dense(num_classes, activation='softmax'))  \n",
        "\n",
        "model_LSTM.summary()"
      ]
    },
    {
      "cell_type": "code",
      "execution_count": 29,
      "metadata": {
        "colab": {
          "base_uri": "https://localhost:8080/"
        },
        "id": "_k0sF9LOWXTw",
        "outputId": "9bc49856-126d-4eb5-effd-2841d27ffd03"
      },
      "outputs": [
        {
          "output_type": "execute_result",
          "data": {
            "text/plain": [
              "((8982, 4867), (8982,))"
            ]
          },
          "metadata": {},
          "execution_count": 29
        }
      ],
      "source": [
        "tfidfv5.shape, y5_train.shape"
      ]
    },
    {
      "cell_type": "markdown",
      "metadata": {
        "id": "vxoKbBJkWXF2"
      },
      "source": [
        "### 학습 데이터 실험\n",
        "- 캐글 데이터 LSTM 딥러닝 모델 학습 방법을 가져와 시도 해 봤습니다. \n",
        "- sparse한 행렬을 dense하게 만들기 위해 두가지 변환으로 실험합니다. \n",
        "    1. toarray() : array로 변환(에러메세지에서 추천하는 방법)\n",
        "    2. todense() : Return a dense matrix representation of this matrix.\n",
        "\n",
        "* [toarray, todense - SciPy 압축 희소 열 행렬](https://rfriend.tistory.com/551)"
      ]
    },
    {
      "cell_type": "code",
      "execution_count": 30,
      "metadata": {
        "id": "utQkzYkJ6Jua"
      },
      "outputs": [],
      "source": [
        "tfidfv5_arr = tfidfv5.toarray()\n",
        "tfidfv5_dense = tfidfv5.todense()"
      ]
    },
    {
      "cell_type": "code",
      "execution_count": 31,
      "metadata": {
        "id": "4tLq4Hvu6Jrj"
      },
      "outputs": [],
      "source": [
        "tfidfv5_test_arr = tfidfv5_test.toarray()\n",
        "tfidfv5_test_dense = tfidfv5_test.todense()"
      ]
    },
    {
      "cell_type": "code",
      "execution_count": 32,
      "metadata": {
        "colab": {
          "base_uri": "https://localhost:8080/"
        },
        "id": "A7W9hm6G6Jou",
        "outputId": "e4f70d87-c6d3-475f-e257-e25f9cf23aa0"
      },
      "outputs": [
        {
          "output_type": "stream",
          "name": "stdout",
          "text": [
            "Epoch 1/20\n",
            "113/113 [==============================] - 26s 176ms/step - loss: 2.7703 - accuracy: 0.3482 - val_loss: 2.4111 - val_accuracy: 0.3450\n",
            "Epoch 2/20\n",
            "113/113 [==============================] - 19s 173ms/step - loss: 2.4096 - accuracy: 0.3534 - val_loss: 2.4068 - val_accuracy: 0.3450\n",
            "Epoch 3/20\n",
            "113/113 [==============================] - 21s 185ms/step - loss: 2.4064 - accuracy: 0.3534 - val_loss: 2.4055 - val_accuracy: 0.3450\n",
            "Epoch 4/20\n",
            "113/113 [==============================] - 20s 175ms/step - loss: 2.4072 - accuracy: 0.3534 - val_loss: 2.4064 - val_accuracy: 0.3450\n",
            "Epoch 5/20\n",
            "113/113 [==============================] - 20s 174ms/step - loss: 2.4064 - accuracy: 0.3534 - val_loss: 2.4060 - val_accuracy: 0.3450\n",
            "Epoch 6/20\n",
            "113/113 [==============================] - 20s 173ms/step - loss: 2.4071 - accuracy: 0.3534 - val_loss: 2.4076 - val_accuracy: 0.3450\n",
            "Epoch 7/20\n",
            "113/113 [==============================] - 19s 173ms/step - loss: 2.4063 - accuracy: 0.3534 - val_loss: 2.4046 - val_accuracy: 0.3450\n",
            "Epoch 8/20\n",
            "113/113 [==============================] - 20s 173ms/step - loss: 2.4058 - accuracy: 0.3534 - val_loss: 2.4073 - val_accuracy: 0.3450\n",
            "Epoch 9/20\n",
            "113/113 [==============================] - 20s 173ms/step - loss: 2.4054 - accuracy: 0.3534 - val_loss: 2.4064 - val_accuracy: 0.3450\n",
            "Epoch 10/20\n",
            "113/113 [==============================] - 19s 172ms/step - loss: 2.4066 - accuracy: 0.3534 - val_loss: 2.4095 - val_accuracy: 0.3450\n",
            "Epoch 11/20\n",
            "113/113 [==============================] - 20s 173ms/step - loss: 2.4059 - accuracy: 0.3534 - val_loss: 2.4087 - val_accuracy: 0.3450\n",
            "Epoch 11: early stopping\n"
          ]
        }
      ],
      "source": [
        "es = keras.callbacks.EarlyStopping(monitor='val_loss', mode='min', verbose=1, patience=4)\n",
        "\n",
        "model_LSTM.compile(optimizer='adam',\n",
        "              loss='sparse_categorical_crossentropy',\n",
        "              metrics=['accuracy'])\n",
        "            \n",
        "epochs=20\n",
        "batch_size=64\n",
        "\n",
        "\n",
        "history_LSTM = model_LSTM.fit(tfidfv5_arr,\n",
        "                                y5_train,\n",
        "                                epochs=epochs,\n",
        "                                batch_size=batch_size,\n",
        "                                callbacks=[es],\n",
        "                                validation_split=0.2,\n",
        "                                verbose=1)"
      ]
    },
    {
      "cell_type": "code",
      "execution_count": 33,
      "metadata": {
        "colab": {
          "base_uri": "https://localhost:8080/"
        },
        "id": "iRUvcBGl6Jl1",
        "outputId": "144b87b1-9a07-4aac-c858-a6c7719cc241"
      },
      "outputs": [
        {
          "output_type": "stream",
          "name": "stdout",
          "text": [
            "71/71 - 4s - loss: 2.4191 - accuracy: 0.3620 - 4s/epoch - 63ms/step\n",
            "[2.4191091060638428, 0.36197686195373535]\n"
          ]
        }
      ],
      "source": [
        "results = model_LSTM.evaluate(tfidfv5_test_arr,  y5_test, verbose=2)\n",
        "print(results)"
      ]
    },
    {
      "cell_type": "markdown",
      "metadata": {
        "id": "KPOmB72IBtJS"
      },
      "source": [
        ""
      ]
    },
    {
      "cell_type": "code",
      "execution_count": 34,
      "metadata": {
        "colab": {
          "base_uri": "https://localhost:8080/"
        },
        "id": "UmtjfZiO6Jih",
        "outputId": "ef2b6690-f4cf-4bc7-feac-a74e07d6e3a2"
      },
      "outputs": [
        {
          "output_type": "stream",
          "name": "stdout",
          "text": [
            "Model: \"sequential_1\"\n",
            "_________________________________________________________________\n",
            " Layer (type)                Output Shape              Param #   \n",
            "=================================================================\n",
            " embedding_1 (Embedding)     (None, None, 32)          160000    \n",
            "                                                                 \n",
            " lstm_1 (LSTM)               (None, 32)                8320      \n",
            "                                                                 \n",
            " dense_1 (Dense)             (None, 46)                1518      \n",
            "                                                                 \n",
            "=================================================================\n",
            "Total params: 169,838\n",
            "Trainable params: 169,838\n",
            "Non-trainable params: 0\n",
            "_________________________________________________________________\n"
          ]
        }
      ],
      "source": [
        "from tensorflow import keras\n",
        "\n",
        "vocab_size = 5000\n",
        "word_vector_dim = 32  \n",
        "\n",
        "model_LSTM_dense = keras.Sequential()\n",
        "model_LSTM_dense.add(keras.layers.Embedding(vocab_size, \n",
        "                                 word_vector_dim))\n",
        "model_LSTM_dense.add(keras.layers.LSTM(32))\n",
        "# model_LSTM_dense.add(keras.layers.Dense(128, activation='relu'))  \n",
        "model_LSTM_dense.add(keras.layers.Dense(num_classes, activation='softmax'))  \n",
        "\n",
        "model_LSTM_dense.summary()"
      ]
    },
    {
      "cell_type": "code",
      "execution_count": 35,
      "metadata": {
        "id": "urEvI_TJ6JdG",
        "colab": {
          "base_uri": "https://localhost:8080/"
        },
        "outputId": "933b79f2-b0cb-46dd-8abb-75f59b812695"
      },
      "outputs": [
        {
          "output_type": "stream",
          "name": "stdout",
          "text": [
            "Epoch 1/20\n",
            "113/113 [==============================] - 21s 178ms/step - loss: 2.7623 - accuracy: 0.3137 - val_loss: 2.4082 - val_accuracy: 0.3450\n",
            "Epoch 2/20\n",
            "113/113 [==============================] - 20s 176ms/step - loss: 2.4107 - accuracy: 0.3534 - val_loss: 2.4044 - val_accuracy: 0.3450\n",
            "Epoch 3/20\n",
            "113/113 [==============================] - 20s 177ms/step - loss: 2.4070 - accuracy: 0.3534 - val_loss: 2.4077 - val_accuracy: 0.3450\n",
            "Epoch 4/20\n",
            "113/113 [==============================] - 20s 175ms/step - loss: 2.4063 - accuracy: 0.3534 - val_loss: 2.4073 - val_accuracy: 0.3450\n",
            "Epoch 5/20\n",
            "113/113 [==============================] - 20s 175ms/step - loss: 2.4061 - accuracy: 0.3534 - val_loss: 2.4088 - val_accuracy: 0.3450\n",
            "Epoch 6/20\n",
            "113/113 [==============================] - 20s 176ms/step - loss: 2.4054 - accuracy: 0.3534 - val_loss: 2.4062 - val_accuracy: 0.3450\n",
            "Epoch 6: early stopping\n"
          ]
        }
      ],
      "source": [
        "es = keras.callbacks.EarlyStopping(monitor='val_loss', mode='min', verbose=1, patience=4)\n",
        "\n",
        "model_LSTM_dense.compile(optimizer='adam',\n",
        "              loss='sparse_categorical_crossentropy',\n",
        "              metrics=['accuracy'])\n",
        "            \n",
        "epochs=20\n",
        "batch_size=64\n",
        "\n",
        "history_LSTM_dense = model_LSTM_dense.fit(tfidfv5_dense,\n",
        "                                y5_train,\n",
        "                                epochs=epochs,\n",
        "                                batch_size=batch_size,\n",
        "                                callbacks=[es],\n",
        "                                validation_split=0.2,\n",
        "                                verbose=1)"
      ]
    },
    {
      "cell_type": "code",
      "source": [
        "results_dense = model_LSTM_dense.evaluate(tfidfv5_test_dense,  y5_test, verbose=2)\n",
        "print(results_dense)"
      ],
      "metadata": {
        "colab": {
          "base_uri": "https://localhost:8080/"
        },
        "id": "t4votx6wFyUu",
        "outputId": "e34fa890-bde8-4329-8acd-484149fba924"
      },
      "execution_count": 36,
      "outputs": [
        {
          "output_type": "stream",
          "name": "stdout",
          "text": [
            "71/71 - 5s - loss: 2.4179 - accuracy: 0.3620 - 5s/epoch - 64ms/step\n",
            "[2.417923927307129, 0.36197686195373535]\n"
          ]
        }
      ]
    },
    {
      "cell_type": "markdown",
      "source": [
        "* toarray() : array로 변환(에러메세지에서 추천하는 방법) -> [2.4191091060638428, 0.36197686195373535]\n",
        "* todense() : Return a dense matrix representation of this matrix.\n",
        "    -> [2.417923927307129, 0.36197686195373535]\n",
        "\n",
        "* 두 방법의 결과값은 그렇게 큰 차이는 없었다. "
      ],
      "metadata": {
        "id": "_bYKjRAWrbIc"
      }
    },
    {
      "cell_type": "markdown",
      "metadata": {
        "id": "1n0aqxU-uIAA"
      },
      "source": [
        "----  \n",
        "\n",
        "\n",
        "# 후기!"
      ]
    },
    {
      "cell_type": "markdown",
      "metadata": {
        "id": "0QjMPwlb080p"
      },
      "source": [
        "## 함수화의 안좋은 점을 깨달았다.\n",
        "* 다양한 시도를 한줄의 코드 만으로 실행 시켜 줄 수 있었던 함수화. 스크롤 압박을 줄이고, 보기 쉬운 문서를 만들고 싶단 생각에, 캐글 스터디때 필사했던 프로젝트를 참고해서 프로젝트를 진행하였다.정말, 한줄에 8개의 머신러닝 모델의 결과값이 출력되니 학습과 출력에 시간은 오래 걸렸지만, 확실히 편했다.   \n",
        "- 하지만 이때문에 Confusion Matrix 와 classification_report 를 활용할 수 없어 모델의 정확한 성능을 알 수 없었다. 그저 나온 결과 값 만으로만 머신러닝 모델의 성능을 파악했었는데, 시각화나, classification_report 가 없으니 모델 학습이 잘 되었는가에 대한 확신이 서질 않았다. \n",
        "- 이후 진행하는 노드는, 다양한 시도용 노트북과 제출용 노트북을 나눠서 가장 좋았던 시도 하나만 가져와 시각화 해보는 식으로 해봐야겠다.\n",
        "\n",
        "\n",
        "## 데이터 변환, 함수화 하고 싶었어.. \n",
        "![image.png](data:image/png;base64,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)"
      ]
    },
    {
      "cell_type": "markdown",
      "source": [
        "* train, test를 변환해 주는 과정에서, 이 부분도 똑같이 반복하니 함수화 해 주면 더 편하지 않을까싶어, 함수화를 시도 했었었다. \n",
        "* 하지만 출력값이 텍스트형이 아닌 정수형으로 출력되었고, type도 `list` 가 아닌, `numpy.ndarray`  타입으로 출력되었다. 이를 통해 함수로 return 된 값은 원본 데이터를 변경시키지 않는단 사실을 알게되었고, 시도했던것을 지우고 그대로 똑같은 코드를 반복하는 식으로 진행했었다. \n",
        "* 거의 다 했을 때 쯤, exp11에서 시도했던 함수화 과정이 떠올랐고, 그때도 전처리된 데이터가 출력되지 않아 어려움을 겪었던 문제가 있었다. 변수명으로 함수를 선언하는 것으로 해결했었는데, 그렇게 했더라면 정수->텍스트 변환 함수가 완성됬을 수도 있었겠단 생각이 들었다. 다음 노드땐 꼭 해봐야지.. \n",
        "\n",
        "![image.png](data:image/png;base64,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)"
      ],
      "metadata": {
        "id": "Dm-jTKzt0JPs"
      }
    },
    {
      "cell_type": "markdown",
      "source": [
        "## 배워야할 게 많다 어서 움직이자.. \n",
        "* 응용이 힘들어 다른 분의 코드를 참고하는건 좋지만, 이해를 못 하고 넘어가니 이 부분의 이 메소드를 왜 사용하는지, 무슨 의도로 사용하신 건지를 모르겠다.  \n",
        "* 하나하나 내가 코드를 쳐봐야하고, 모델과 시각화 툴에 대해 알고 있어야 효율적인 모델을 구축하고 응용할 수 있단 사실을 뼈저리게 느낀 노드였다. \n",
        "* 기간으론 얼마 남지 않았지만, 그래도 앞으로 진행해야할 프로젝트와 노드가 많이 남았으니 열심히 공부해야지🙂 \n",
        "- 또한, 모델 학습후에 누가 보더라도 ‘잘 학습됬구나!’ 하고 느낄 수 있을 만큼 시각화나 학습에 대한 결과물도 보기 좋게 출력 할 수 있게 노력해야지. \n",
        "정말정말 맘에 안든다.."
      ],
      "metadata": {
        "id": "30m8co062UfE"
      }
    },
    {
      "cell_type": "markdown",
      "metadata": {
        "id": "qsy1k63uuILo"
      },
      "source": [
        "-----  \n",
        "\n",
        "\n",
        "# 🖇 참고페이지 "
      ]
    },
    {
      "cell_type": "markdown",
      "metadata": {
        "id": "AR8Rg7bpuNOz"
      },
      "source": [
        "## 머신러닝 모델 가져오기 함수화\n",
        "* [고마워요 캐글 스터디!](https://github.com/miinkang/AI_Project_AIFFEL/blob/main/[GD-04]TFIDF_vectorization.ipynb)"
      ]
    }
  ],
  "metadata": {
    "accelerator": "GPU",
    "colab": {
      "collapsed_sections": [
        "UaBiUgfhpfGy",
        "Lw7uSqeKrESH",
        "90Hy3mmGrXTI",
        "4TgBQfAIrbEn",
        "r-97GDcct74z",
        "7ERgunU0t72S",
        "0Jc3nXPFFRoA",
        "MFKGZJTHFdGH",
        "t8q59j-qt7wl",
        "ubDrk4IWGnWI",
        "IqacwY6hQfVb",
        "NE5n_qfT8giV",
        "X9TPiCNbt7uP",
        "gABqvTCat7gm",
        "ZqGAyIv0H7lI",
        "oZLS3QR7JCmX",
        "nr9_RIVm080h",
        "u6mPJYLP2gX6",
        "6TMrZADXWXai",
        "vxoKbBJkWXF2"
      ],
      "name": "[GDP-04] Change Vocabulary Size .ipynb",
      "provenance": []
    },
    "kernelspec": {
      "display_name": "Python 3",
      "name": "python3"
    },
    "language_info": {
      "name": "python"
    }
  },
  "nbformat": 4,
  "nbformat_minor": 0
}