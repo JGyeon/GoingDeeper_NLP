{
  "nbformat": 4,
  "nbformat_minor": 0,
  "metadata": {
    "colab": {
      "name": "[GD-02]awesome dictionary.ipynb",
      "provenance": [],
      "collapsed_sections": []
    },
    "kernelspec": {
      "name": "python3",
      "display_name": "Python 3"
    },
    "language_info": {
      "name": "python"
    }
  },
  "cells": [
    {
      "cell_type": "markdown",
      "source": [
        "# 🧀 GD-P 2. 멋진 단어사전 만들기 \n",
        "\n",
        "* 이번 시간엔 konlpy macab을 이용해 'korean-english-park.train.ko' 데이터셋의 문장길이를 알아보고, 그에 대한 전처리, 형태소 기반 토큰화 작업을 진행 해 보았습니다. \n",
        "\n",
        "\n",
        "* 이번 프로젝트에선 SentencePiece 모델을 적용해서 학습을 진행해 보고, 더 나아가 네이버 데이터셋에 SentencePiece 를 적용해 보겠습니다. "
      ],
      "metadata": {
        "id": "NfdDYgZY3wrg"
      }
    },
    {
      "cell_type": "markdown",
      "source": [
        "\n",
        "\n",
        "\n",
        "\\\\\n",
        "#  루브릭 평가 기준 \n",
        "\n",
        "\n",
        "| 평가문항 | 상세기준 |\n",
        "| :---: | :---: |\n",
        "| 1. SentencePiece를 이용하여 모델을 만들기까지의 과정이 정상적으로 진행되었는가? | 코퍼스 분석, 전처리, SentencePiece 적용, 토크나이저 구현 및 동작이 빠짐없이 진행되었는가? |\n",
        "| 2. SentencePiece를 통해 만든 Tokenizer가 자연어처리 모델과 결합하여 동작하는가? | SentencePiece 토크나이저가 적용된 Text Classifier 모델이 정상적으로 수렴하여 80% 이상의 test accuracy가 확인되었다. |\n",
        "| 3. SentencePiece의 성능을 다각도로 비교분석하였는가? | SentencePiece 토크나이저를 활용했을 때의 성능을 다른 토크나이저 혹은 SentencePiece의 다른 옵션의 경우와 비교하여 분석을 체계적으로 진행하였다. |\n",
        "\n"
      ],
      "metadata": {
        "id": "rDaWpr3bAVRW"
      }
    },
    {
      "cell_type": "markdown",
      "source": [
        "\n",
        "\n",
        "\\\\\n",
        "\n",
        "\n",
        "---\n",
        "\n"
      ],
      "metadata": {
        "id": "oP0lk6zaHX6o"
      }
    },
    {
      "cell_type": "code",
      "source": [
        "# 마운트 해제\n",
        "!fusermount -u drive\n",
        "!google-drive-ocamlfuse drive\n"
      ],
      "metadata": {
        "colab": {
          "base_uri": "https://localhost:8080/"
        },
        "id": "3rj09JeO0L5Z",
        "outputId": "98c78799-2249-44a0-c7db-bc7ec5e15085"
      },
      "execution_count": 1,
      "outputs": [
        {
          "output_type": "stream",
          "name": "stdout",
          "text": [
            "/bin/bash: google-drive-ocamlfuse: command not found\n"
          ]
        }
      ]
    },
    {
      "cell_type": "code",
      "source": [
        "from google.colab import drive\n",
        "drive.mount('/content/gdrive', force_remount=True)"
      ],
      "metadata": {
        "colab": {
          "base_uri": "https://localhost:8080/"
        },
        "id": "D9oWuapl9tuh",
        "outputId": "7040b301-fb56-4de2-a69a-90b9d1800c4d"
      },
      "execution_count": 2,
      "outputs": [
        {
          "output_type": "stream",
          "name": "stdout",
          "text": [
            "Mounted at /content/gdrive\n"
          ]
        }
      ]
    },
    {
      "cell_type": "code",
      "execution_count": 3,
      "metadata": {
        "id": "3nmN4fZ-xPuz",
        "colab": {
          "base_uri": "https://localhost:8080/"
        },
        "outputId": "3bf8c967-2108-43d4-eb11-9f0af9b9d949"
      },
      "outputs": [
        {
          "output_type": "stream",
          "name": "stdout",
          "text": [
            "--2022-03-23 08:55:36--  https://www.dropbox.com/s/9xls0tgtf3edgns/mecab-0.996-ko-0.9.2.tar.gz?dl=1\n",
            "Resolving www.dropbox.com (www.dropbox.com)... 162.125.2.18, 2620:100:6017:18::a27d:212\n",
            "Connecting to www.dropbox.com (www.dropbox.com)|162.125.2.18|:443... connected.\n",
            "HTTP request sent, awaiting response... 301 Moved Permanently\n",
            "Location: /s/dl/9xls0tgtf3edgns/mecab-0.996-ko-0.9.2.tar.gz [following]\n",
            "--2022-03-23 08:55:37--  https://www.dropbox.com/s/dl/9xls0tgtf3edgns/mecab-0.996-ko-0.9.2.tar.gz\n",
            "Reusing existing connection to www.dropbox.com:443.\n",
            "HTTP request sent, awaiting response... 302 Found\n",
            "Location: https://uc14990608dae7eba2aef3999750.dl.dropboxusercontent.com/cd/0/get/Bh8zrsBrmRhAsca8izRekqz0ctYyVOFLzuiRhPLiBK_OEEoj6B2W70law8YXP77UysidutmL1MOaBYhxSjAz2tKSVXEzRPkLftNQBhN6jLBtPVzLOLJZJhazjbM4ELkaq4jXQWkivO8ianwP_nsllB-gljXEWb0Ujf8wD9baJmnpOLMp4--fIZ8BU0gaDk-AFbU/file?dl=1# [following]\n",
            "--2022-03-23 08:55:37--  https://uc14990608dae7eba2aef3999750.dl.dropboxusercontent.com/cd/0/get/Bh8zrsBrmRhAsca8izRekqz0ctYyVOFLzuiRhPLiBK_OEEoj6B2W70law8YXP77UysidutmL1MOaBYhxSjAz2tKSVXEzRPkLftNQBhN6jLBtPVzLOLJZJhazjbM4ELkaq4jXQWkivO8ianwP_nsllB-gljXEWb0Ujf8wD9baJmnpOLMp4--fIZ8BU0gaDk-AFbU/file?dl=1\n",
            "Resolving uc14990608dae7eba2aef3999750.dl.dropboxusercontent.com (uc14990608dae7eba2aef3999750.dl.dropboxusercontent.com)... 162.125.2.15, 2620:100:6017:15::a27d:20f\n",
            "Connecting to uc14990608dae7eba2aef3999750.dl.dropboxusercontent.com (uc14990608dae7eba2aef3999750.dl.dropboxusercontent.com)|162.125.2.15|:443... connected.\n",
            "HTTP request sent, awaiting response... 200 OK\n",
            "Length: 1414979 (1.3M) [application/binary]\n",
            "Saving to: ‘mecab-0.996-ko-0.9.2.tar.gz?dl=1’\n",
            "\n",
            "mecab-0.996-ko-0.9. 100%[===================>]   1.35M  --.-KB/s    in 0.04s   \n",
            "\n",
            "2022-03-23 08:55:38 (32.6 MB/s) - ‘mecab-0.996-ko-0.9.2.tar.gz?dl=1’ saved [1414979/1414979]\n",
            "\n",
            "mecab-0.996-ko-0.9.2/\n",
            "mecab-0.996-ko-0.9.2/example/\n",
            "mecab-0.996-ko-0.9.2/example/example.cpp\n",
            "mecab-0.996-ko-0.9.2/example/example_lattice.cpp\n",
            "mecab-0.996-ko-0.9.2/example/example_lattice.c\n",
            "mecab-0.996-ko-0.9.2/example/example.c\n",
            "mecab-0.996-ko-0.9.2/example/thread_test.cpp\n",
            "mecab-0.996-ko-0.9.2/mecab-config.in\n",
            "mecab-0.996-ko-0.9.2/man/\n",
            "mecab-0.996-ko-0.9.2/man/Makefile.am\n",
            "mecab-0.996-ko-0.9.2/man/mecab.1\n",
            "mecab-0.996-ko-0.9.2/man/Makefile.in\n",
            "mecab-0.996-ko-0.9.2/mecab.iss.in\n",
            "mecab-0.996-ko-0.9.2/config.guess\n",
            "mecab-0.996-ko-0.9.2/README\n",
            "mecab-0.996-ko-0.9.2/COPYING\n",
            "mecab-0.996-ko-0.9.2/CHANGES.md\n",
            "mecab-0.996-ko-0.9.2/README.md\n",
            "mecab-0.996-ko-0.9.2/INSTALL\n",
            "mecab-0.996-ko-0.9.2/config.sub\n",
            "mecab-0.996-ko-0.9.2/configure.in\n",
            "mecab-0.996-ko-0.9.2/swig/\n",
            "mecab-0.996-ko-0.9.2/swig/Makefile\n",
            "mecab-0.996-ko-0.9.2/swig/version.h.in\n",
            "mecab-0.996-ko-0.9.2/swig/version.h\n",
            "mecab-0.996-ko-0.9.2/swig/MeCab.i\n",
            "mecab-0.996-ko-0.9.2/aclocal.m4\n",
            "mecab-0.996-ko-0.9.2/LGPL\n",
            "mecab-0.996-ko-0.9.2/Makefile.am\n",
            "mecab-0.996-ko-0.9.2/configure\n",
            "mecab-0.996-ko-0.9.2/tests/\n",
            "mecab-0.996-ko-0.9.2/tests/autolink/\n",
            "mecab-0.996-ko-0.9.2/tests/autolink/unk.def\n",
            "mecab-0.996-ko-0.9.2/tests/autolink/dicrc\n",
            "mecab-0.996-ko-0.9.2/tests/autolink/dic.csv\n",
            "mecab-0.996-ko-0.9.2/tests/autolink/test\n",
            "mecab-0.996-ko-0.9.2/tests/autolink/char.def\n",
            "mecab-0.996-ko-0.9.2/tests/autolink/matrix.def\n",
            "mecab-0.996-ko-0.9.2/tests/autolink/test.gld\n",
            "mecab-0.996-ko-0.9.2/tests/t9/\n",
            "mecab-0.996-ko-0.9.2/tests/t9/unk.def\n",
            "mecab-0.996-ko-0.9.2/tests/t9/ipadic.pl\n",
            "mecab-0.996-ko-0.9.2/tests/t9/dicrc\n",
            "mecab-0.996-ko-0.9.2/tests/t9/dic.csv\n",
            "mecab-0.996-ko-0.9.2/tests/t9/test\n",
            "mecab-0.996-ko-0.9.2/tests/t9/char.def\n",
            "mecab-0.996-ko-0.9.2/tests/t9/matrix.def\n",
            "mecab-0.996-ko-0.9.2/tests/t9/mkdic.pl\n",
            "mecab-0.996-ko-0.9.2/tests/t9/test.gld\n",
            "mecab-0.996-ko-0.9.2/tests/cost-train/\n",
            "mecab-0.996-ko-0.9.2/tests/cost-train/ipa.train\n",
            "mecab-0.996-ko-0.9.2/tests/cost-train/ipa.test\n",
            "mecab-0.996-ko-0.9.2/tests/cost-train/seed/\n",
            "mecab-0.996-ko-0.9.2/tests/cost-train/seed/rewrite.def\n",
            "mecab-0.996-ko-0.9.2/tests/cost-train/seed/feature.def\n",
            "mecab-0.996-ko-0.9.2/tests/cost-train/seed/unk.def\n",
            "mecab-0.996-ko-0.9.2/tests/cost-train/seed/dicrc\n",
            "mecab-0.996-ko-0.9.2/tests/cost-train/seed/dic.csv\n",
            "mecab-0.996-ko-0.9.2/tests/cost-train/seed/char.def\n",
            "mecab-0.996-ko-0.9.2/tests/cost-train/seed/matrix.def\n",
            "mecab-0.996-ko-0.9.2/tests/run-eval.sh\n",
            "mecab-0.996-ko-0.9.2/tests/run-cost-train.sh\n",
            "mecab-0.996-ko-0.9.2/tests/Makefile.am\n",
            "mecab-0.996-ko-0.9.2/tests/katakana/\n",
            "mecab-0.996-ko-0.9.2/tests/katakana/unk.def\n",
            "mecab-0.996-ko-0.9.2/tests/katakana/dicrc\n",
            "mecab-0.996-ko-0.9.2/tests/katakana/dic.csv\n",
            "mecab-0.996-ko-0.9.2/tests/katakana/test\n",
            "mecab-0.996-ko-0.9.2/tests/katakana/char.def\n",
            "mecab-0.996-ko-0.9.2/tests/katakana/matrix.def\n",
            "mecab-0.996-ko-0.9.2/tests/katakana/test.gld\n",
            "mecab-0.996-ko-0.9.2/tests/eval/\n",
            "mecab-0.996-ko-0.9.2/tests/eval/answer\n",
            "mecab-0.996-ko-0.9.2/tests/eval/system\n",
            "mecab-0.996-ko-0.9.2/tests/eval/test.gld\n",
            "mecab-0.996-ko-0.9.2/tests/shiin/\n",
            "mecab-0.996-ko-0.9.2/tests/shiin/unk.def\n",
            "mecab-0.996-ko-0.9.2/tests/shiin/dicrc\n",
            "mecab-0.996-ko-0.9.2/tests/shiin/dic.csv\n",
            "mecab-0.996-ko-0.9.2/tests/shiin/test\n",
            "mecab-0.996-ko-0.9.2/tests/shiin/char.def\n",
            "mecab-0.996-ko-0.9.2/tests/shiin/matrix.def\n",
            "mecab-0.996-ko-0.9.2/tests/shiin/mkdic.pl\n",
            "mecab-0.996-ko-0.9.2/tests/shiin/test.gld\n",
            "mecab-0.996-ko-0.9.2/tests/latin/\n",
            "mecab-0.996-ko-0.9.2/tests/latin/unk.def\n",
            "mecab-0.996-ko-0.9.2/tests/latin/dicrc\n",
            "mecab-0.996-ko-0.9.2/tests/latin/dic.csv\n",
            "mecab-0.996-ko-0.9.2/tests/latin/test\n",
            "mecab-0.996-ko-0.9.2/tests/latin/char.def\n",
            "mecab-0.996-ko-0.9.2/tests/latin/matrix.def\n",
            "mecab-0.996-ko-0.9.2/tests/latin/test.gld\n",
            "mecab-0.996-ko-0.9.2/tests/chartype/\n",
            "mecab-0.996-ko-0.9.2/tests/chartype/unk.def\n",
            "mecab-0.996-ko-0.9.2/tests/chartype/dicrc\n",
            "mecab-0.996-ko-0.9.2/tests/chartype/dic.csv\n",
            "mecab-0.996-ko-0.9.2/tests/chartype/test\n",
            "mecab-0.996-ko-0.9.2/tests/chartype/char.def\n",
            "mecab-0.996-ko-0.9.2/tests/chartype/matrix.def\n",
            "mecab-0.996-ko-0.9.2/tests/chartype/test.gld\n",
            "mecab-0.996-ko-0.9.2/tests/run-dics.sh\n",
            "mecab-0.996-ko-0.9.2/tests/ngram/\n",
            "mecab-0.996-ko-0.9.2/tests/ngram/unk.def\n",
            "mecab-0.996-ko-0.9.2/tests/ngram/dicrc\n",
            "mecab-0.996-ko-0.9.2/tests/ngram/dic.csv\n",
            "mecab-0.996-ko-0.9.2/tests/ngram/test\n",
            "mecab-0.996-ko-0.9.2/tests/ngram/char.def\n",
            "mecab-0.996-ko-0.9.2/tests/ngram/matrix.def\n",
            "mecab-0.996-ko-0.9.2/tests/ngram/test.gld\n",
            "mecab-0.996-ko-0.9.2/tests/Makefile.in\n",
            "mecab-0.996-ko-0.9.2/ltmain.sh\n",
            "mecab-0.996-ko-0.9.2/config.rpath\n",
            "mecab-0.996-ko-0.9.2/config.h.in\n",
            "mecab-0.996-ko-0.9.2/mecabrc.in\n",
            "mecab-0.996-ko-0.9.2/GPL\n",
            "mecab-0.996-ko-0.9.2/Makefile.train\n",
            "mecab-0.996-ko-0.9.2/ChangeLog\n",
            "mecab-0.996-ko-0.9.2/install-sh\n",
            "mecab-0.996-ko-0.9.2/AUTHORS\n",
            "mecab-0.996-ko-0.9.2/doc/\n",
            "mecab-0.996-ko-0.9.2/doc/bindings.html\n",
            "mecab-0.996-ko-0.9.2/doc/posid.html\n",
            "mecab-0.996-ko-0.9.2/doc/unk.html\n",
            "mecab-0.996-ko-0.9.2/doc/learn.html\n",
            "mecab-0.996-ko-0.9.2/doc/format.html\n",
            "mecab-0.996-ko-0.9.2/doc/libmecab.html\n",
            "mecab-0.996-ko-0.9.2/doc/mecab.css\n",
            "mecab-0.996-ko-0.9.2/doc/feature.html\n",
            "mecab-0.996-ko-0.9.2/doc/Makefile.am\n",
            "mecab-0.996-ko-0.9.2/doc/soft.html\n",
            "mecab-0.996-ko-0.9.2/doc/en/\n",
            "mecab-0.996-ko-0.9.2/doc/en/bindings.html\n",
            "mecab-0.996-ko-0.9.2/doc/dic-detail.html\n",
            "mecab-0.996-ko-0.9.2/doc/flow.png\n",
            "mecab-0.996-ko-0.9.2/doc/mecab.html\n",
            "mecab-0.996-ko-0.9.2/doc/index.html\n",
            "mecab-0.996-ko-0.9.2/doc/result.png\n",
            "mecab-0.996-ko-0.9.2/doc/doxygen/\n",
            "mecab-0.996-ko-0.9.2/doc/doxygen/tab_a.png\n",
            "mecab-0.996-ko-0.9.2/doc/doxygen/globals_eval.html\n",
            "mecab-0.996-ko-0.9.2/doc/doxygen/classMeCab_1_1Tagger-members.html\n",
            "mecab-0.996-ko-0.9.2/doc/doxygen/functions_vars.html\n",
            "mecab-0.996-ko-0.9.2/doc/doxygen/doxygen.css\n",
            "mecab-0.996-ko-0.9.2/doc/doxygen/tab_r.gif\n",
            "mecab-0.996-ko-0.9.2/doc/doxygen/classMeCab_1_1Lattice.html\n",
            "mecab-0.996-ko-0.9.2/doc/doxygen/functions.html\n",
            "mecab-0.996-ko-0.9.2/doc/doxygen/classMeCab_1_1Tagger.html\n",
            "mecab-0.996-ko-0.9.2/doc/doxygen/mecab_8h_source.html\n",
            "mecab-0.996-ko-0.9.2/doc/doxygen/tabs.css\n",
            "mecab-0.996-ko-0.9.2/doc/doxygen/nav_f.png\n",
            "mecab-0.996-ko-0.9.2/doc/doxygen/tab_b.png\n",
            "mecab-0.996-ko-0.9.2/doc/doxygen/globals.html\n",
            "mecab-0.996-ko-0.9.2/doc/doxygen/nav_h.png\n",
            "mecab-0.996-ko-0.9.2/doc/doxygen/tab_h.png\n",
            "mecab-0.996-ko-0.9.2/doc/doxygen/classMeCab_1_1Model.html\n",
            "mecab-0.996-ko-0.9.2/doc/doxygen/globals_func.html\n",
            "mecab-0.996-ko-0.9.2/doc/doxygen/closed.png\n",
            "mecab-0.996-ko-0.9.2/doc/doxygen/tab_l.gif\n",
            "mecab-0.996-ko-0.9.2/doc/doxygen/structmecab__path__t-members.html\n",
            "mecab-0.996-ko-0.9.2/doc/doxygen/functions_func.html\n",
            "mecab-0.996-ko-0.9.2/doc/doxygen/globals_type.html\n",
            "mecab-0.996-ko-0.9.2/doc/doxygen/classMeCab_1_1Lattice-members.html\n",
            "mecab-0.996-ko-0.9.2/doc/doxygen/structmecab__node__t.html\n",
            "mecab-0.996-ko-0.9.2/doc/doxygen/namespacemembers_func.html\n",
            "mecab-0.996-ko-0.9.2/doc/doxygen/tab_s.png\n",
            "mecab-0.996-ko-0.9.2/doc/doxygen/structmecab__dictionary__info__t-members.html\n",
            "mecab-0.996-ko-0.9.2/doc/doxygen/namespacemembers_type.html\n",
            "mecab-0.996-ko-0.9.2/doc/doxygen/classMeCab_1_1Model-members.html\n",
            "mecab-0.996-ko-0.9.2/doc/doxygen/structmecab__dictionary__info__t.html\n",
            "mecab-0.996-ko-0.9.2/doc/doxygen/namespaces.html\n",
            "mecab-0.996-ko-0.9.2/doc/doxygen/namespacemembers.html\n",
            "mecab-0.996-ko-0.9.2/doc/doxygen/namespaceMeCab.html\n",
            "mecab-0.996-ko-0.9.2/doc/doxygen/structmecab__path__t.html\n",
            "mecab-0.996-ko-0.9.2/doc/doxygen/files.html\n",
            "mecab-0.996-ko-0.9.2/doc/doxygen/structmecab__node__t-members.html\n",
            "mecab-0.996-ko-0.9.2/doc/doxygen/index.html\n",
            "mecab-0.996-ko-0.9.2/doc/doxygen/annotated.html\n",
            "mecab-0.996-ko-0.9.2/doc/doxygen/globals_defs.html\n",
            "mecab-0.996-ko-0.9.2/doc/doxygen/classes.html\n",
            "mecab-0.996-ko-0.9.2/doc/doxygen/mecab_8h-source.html\n",
            "mecab-0.996-ko-0.9.2/doc/doxygen/doxygen.png\n",
            "mecab-0.996-ko-0.9.2/doc/doxygen/tab_b.gif\n",
            "mecab-0.996-ko-0.9.2/doc/doxygen/bc_s.png\n",
            "mecab-0.996-ko-0.9.2/doc/doxygen/open.png\n",
            "mecab-0.996-ko-0.9.2/doc/doxygen/mecab_8h.html\n",
            "mecab-0.996-ko-0.9.2/doc/dic.html\n",
            "mecab-0.996-ko-0.9.2/doc/partial.html\n",
            "mecab-0.996-ko-0.9.2/doc/feature.png\n",
            "mecab-0.996-ko-0.9.2/doc/Makefile.in\n",
            "mecab-0.996-ko-0.9.2/missing\n",
            "mecab-0.996-ko-0.9.2/BSD\n",
            "mecab-0.996-ko-0.9.2/NEWS\n",
            "mecab-0.996-ko-0.9.2/mkinstalldirs\n",
            "mecab-0.996-ko-0.9.2/src/\n",
            "mecab-0.996-ko-0.9.2/src/dictionary.h\n",
            "mecab-0.996-ko-0.9.2/src/writer.h\n",
            "mecab-0.996-ko-0.9.2/src/utils.h\n",
            "mecab-0.996-ko-0.9.2/src/string_buffer.cpp\n",
            "mecab-0.996-ko-0.9.2/src/tokenizer.cpp\n",
            "mecab-0.996-ko-0.9.2/src/make.bat\n",
            "mecab-0.996-ko-0.9.2/src/mecab.h\n",
            "mecab-0.996-ko-0.9.2/src/freelist.h\n",
            "mecab-0.996-ko-0.9.2/src/string_buffer.h\n",
            "mecab-0.996-ko-0.9.2/src/learner_tagger.h\n",
            "mecab-0.996-ko-0.9.2/src/dictionary_compiler.cpp\n",
            "mecab-0.996-ko-0.9.2/src/eval.cpp\n",
            "mecab-0.996-ko-0.9.2/src/mecab-system-eval.cpp\n",
            "mecab-0.996-ko-0.9.2/src/darts.h\n",
            "mecab-0.996-ko-0.9.2/src/param.h\n",
            "mecab-0.996-ko-0.9.2/src/char_property.h\n",
            "mecab-0.996-ko-0.9.2/src/learner_node.h\n",
            "mecab-0.996-ko-0.9.2/src/mecab-dict-gen.cpp\n",
            "mecab-0.996-ko-0.9.2/src/mecab-dict-index.cpp\n",
            "mecab-0.996-ko-0.9.2/src/winmain.h\n",
            "mecab-0.996-ko-0.9.2/src/thread.h\n",
            "mecab-0.996-ko-0.9.2/src/context_id.cpp\n",
            "mecab-0.996-ko-0.9.2/src/Makefile.am\n",
            "mecab-0.996-ko-0.9.2/src/connector.h\n",
            "mecab-0.996-ko-0.9.2/src/common.h\n",
            "mecab-0.996-ko-0.9.2/src/dictionary_rewriter.cpp\n",
            "mecab-0.996-ko-0.9.2/src/Makefile.msvc.in\n",
            "mecab-0.996-ko-0.9.2/src/dictionary_rewriter.h\n",
            "mecab-0.996-ko-0.9.2/src/feature_index.h\n",
            "mecab-0.996-ko-0.9.2/src/iconv_utils.cpp\n",
            "mecab-0.996-ko-0.9.2/src/char_property.cpp\n",
            "mecab-0.996-ko-0.9.2/src/mecab-test-gen.cpp\n",
            "mecab-0.996-ko-0.9.2/src/tagger.cpp\n",
            "mecab-0.996-ko-0.9.2/src/mecab-cost-train.cpp\n",
            "mecab-0.996-ko-0.9.2/src/learner.cpp\n",
            "mecab-0.996-ko-0.9.2/src/dictionary.cpp\n",
            "mecab-0.996-ko-0.9.2/src/lbfgs.cpp\n",
            "mecab-0.996-ko-0.9.2/src/ucs.h\n",
            "mecab-0.996-ko-0.9.2/src/writer.cpp\n",
            "mecab-0.996-ko-0.9.2/src/learner_tagger.cpp\n",
            "mecab-0.996-ko-0.9.2/src/lbfgs.h\n",
            "mecab-0.996-ko-0.9.2/src/libmecab.cpp\n",
            "mecab-0.996-ko-0.9.2/src/tokenizer.h\n",
            "mecab-0.996-ko-0.9.2/src/mecab.cpp\n",
            "mecab-0.996-ko-0.9.2/src/utils.cpp\n",
            "mecab-0.996-ko-0.9.2/src/dictionary_generator.cpp\n",
            "mecab-0.996-ko-0.9.2/src/param.cpp\n",
            "mecab-0.996-ko-0.9.2/src/context_id.h\n",
            "mecab-0.996-ko-0.9.2/src/mmap.h\n",
            "mecab-0.996-ko-0.9.2/src/viterbi.h\n",
            "mecab-0.996-ko-0.9.2/src/viterbi.cpp\n",
            "mecab-0.996-ko-0.9.2/src/stream_wrapper.h\n",
            "mecab-0.996-ko-0.9.2/src/feature_index.cpp\n",
            "mecab-0.996-ko-0.9.2/src/nbest_generator.h\n",
            "mecab-0.996-ko-0.9.2/src/ucstable.h\n",
            "mecab-0.996-ko-0.9.2/src/nbest_generator.cpp\n",
            "mecab-0.996-ko-0.9.2/src/iconv_utils.h\n",
            "mecab-0.996-ko-0.9.2/src/connector.cpp\n",
            "mecab-0.996-ko-0.9.2/src/Makefile.in\n",
            "mecab-0.996-ko-0.9.2/src/scoped_ptr.h\n",
            "mecab-0.996-ko-0.9.2/Makefile.in\n",
            "checking for a BSD-compatible install... /usr/bin/install -c\n",
            "checking whether build environment is sane... yes\n",
            "checking for a thread-safe mkdir -p... /bin/mkdir -p\n",
            "checking for gawk... no\n",
            "checking for mawk... mawk\n",
            "checking whether make sets $(MAKE)... yes\n",
            "checking for gcc... gcc\n",
            "checking whether the C compiler works... yes\n",
            "checking for C compiler default output file name... a.out\n",
            "checking for suffix of executables... \n",
            "checking whether we are cross compiling... no\n",
            "checking for suffix of object files... o\n",
            "checking whether we are using the GNU C compiler... yes\n",
            "checking whether gcc accepts -g... yes\n",
            "checking for gcc option to accept ISO C89... none needed\n",
            "checking for style of include used by make... GNU\n",
            "checking dependency style of gcc... none\n",
            "checking for g++... g++\n",
            "checking whether we are using the GNU C++ compiler... yes\n",
            "checking whether g++ accepts -g... yes\n",
            "checking dependency style of g++... none\n",
            "checking how to run the C preprocessor... gcc -E\n",
            "checking for grep that handles long lines and -e... /bin/grep\n",
            "checking for egrep... /bin/grep -E\n",
            "checking whether gcc needs -traditional... no\n",
            "checking whether make sets $(MAKE)... (cached) yes\n",
            "checking build system type... x86_64-unknown-linux-gnu\n",
            "checking host system type... x86_64-unknown-linux-gnu\n",
            "checking how to print strings... printf\n",
            "checking for a sed that does not truncate output... /bin/sed\n",
            "checking for fgrep... /bin/grep -F\n",
            "checking for ld used by gcc... /usr/bin/ld\n",
            "checking if the linker (/usr/bin/ld) is GNU ld... yes\n",
            "checking for BSD- or MS-compatible name lister (nm)... /usr/bin/nm -B\n",
            "checking the name lister (/usr/bin/nm -B) interface... BSD nm\n",
            "checking whether ln -s works... yes\n",
            "checking the maximum length of command line arguments... 1572864\n",
            "checking whether the shell understands some XSI constructs... yes\n",
            "checking whether the shell understands \"+=\"... yes\n",
            "checking how to convert x86_64-unknown-linux-gnu file names to x86_64-unknown-linux-gnu format... func_convert_file_noop\n",
            "checking how to convert x86_64-unknown-linux-gnu file names to toolchain format... func_convert_file_noop\n",
            "checking for /usr/bin/ld option to reload object files... -r\n",
            "checking for objdump... objdump\n",
            "checking how to recognize dependent libraries... pass_all\n",
            "checking for dlltool... dlltool\n",
            "checking how to associate runtime and link libraries... printf %s\\n\n",
            "checking for ar... ar\n",
            "checking for archiver @FILE support... @\n",
            "checking for strip... strip\n",
            "checking for ranlib... ranlib\n",
            "checking command to parse /usr/bin/nm -B output from gcc object... ok\n",
            "checking for sysroot... no\n",
            "./configure: line 7378: /usr/bin/file: No such file or directory\n",
            "checking for mt... no\n",
            "checking if : is a manifest tool... no\n",
            "checking for ANSI C header files... yes\n",
            "checking for sys/types.h... yes\n",
            "checking for sys/stat.h... yes\n",
            "checking for stdlib.h... yes\n",
            "checking for string.h... yes\n",
            "checking for memory.h... yes\n",
            "checking for strings.h... yes\n",
            "checking for inttypes.h... yes\n",
            "checking for stdint.h... yes\n",
            "checking for unistd.h... yes\n",
            "checking for dlfcn.h... yes\n",
            "checking for objdir... .libs\n",
            "checking if gcc supports -fno-rtti -fno-exceptions... no\n",
            "checking for gcc option to produce PIC... -fPIC -DPIC\n",
            "checking if gcc PIC flag -fPIC -DPIC works... yes\n",
            "checking if gcc static flag -static works... yes\n",
            "checking if gcc supports -c -o file.o... yes\n",
            "checking if gcc supports -c -o file.o... (cached) yes\n",
            "checking whether the gcc linker (/usr/bin/ld) supports shared libraries... yes\n",
            "checking whether -lc should be explicitly linked in... no\n",
            "checking dynamic linker characteristics... GNU/Linux ld.so\n",
            "checking how to hardcode library paths into programs... immediate\n",
            "checking whether stripping libraries is possible... yes\n",
            "checking if libtool supports shared libraries... yes\n",
            "checking whether to build shared libraries... yes\n",
            "checking whether to build static libraries... yes\n",
            "checking how to run the C++ preprocessor... g++ -E\n",
            "checking for ld used by g++... /usr/bin/ld\n",
            "checking if the linker (/usr/bin/ld) is GNU ld... yes\n",
            "checking whether the g++ linker (/usr/bin/ld) supports shared libraries... yes\n",
            "checking for g++ option to produce PIC... -fPIC -DPIC\n",
            "checking if g++ PIC flag -fPIC -DPIC works... yes\n",
            "checking if g++ static flag -static works... yes\n",
            "checking if g++ supports -c -o file.o... yes\n",
            "checking if g++ supports -c -o file.o... (cached) yes\n",
            "checking whether the g++ linker (/usr/bin/ld) supports shared libraries... yes\n",
            "checking dynamic linker characteristics... (cached) GNU/Linux ld.so\n",
            "checking how to hardcode library paths into programs... immediate\n",
            "checking for library containing strerror... none required\n",
            "checking whether byte ordering is bigendian... no\n",
            "checking for ld used by GCC... /usr/bin/ld\n",
            "checking if the linker (/usr/bin/ld) is GNU ld... yes\n",
            "checking for shared library run path origin... done\n",
            "checking for iconv... yes\n",
            "checking for working iconv... yes\n",
            "checking for iconv declaration... \n",
            "         extern size_t iconv (iconv_t cd, char * *inbuf, size_t *inbytesleft, char * *outbuf, size_t *outbytesleft);\n",
            "checking for ANSI C header files... (cached) yes\n",
            "checking for an ANSI C-conforming const... yes\n",
            "checking whether byte ordering is bigendian... (cached) no\n",
            "checking for string.h... (cached) yes\n",
            "checking for stdlib.h... (cached) yes\n",
            "checking for unistd.h... (cached) yes\n",
            "checking fcntl.h usability... yes\n",
            "checking fcntl.h presence... yes\n",
            "checking for fcntl.h... yes\n",
            "checking for stdint.h... (cached) yes\n",
            "checking for sys/stat.h... (cached) yes\n",
            "checking sys/mman.h usability... yes\n",
            "checking sys/mman.h presence... yes\n",
            "checking for sys/mman.h... yes\n",
            "checking sys/times.h usability... yes\n",
            "checking sys/times.h presence... yes\n",
            "checking for sys/times.h... yes\n",
            "checking for sys/types.h... (cached) yes\n",
            "checking dirent.h usability... yes\n",
            "checking dirent.h presence... yes\n",
            "checking for dirent.h... yes\n",
            "checking ctype.h usability... yes\n",
            "checking ctype.h presence... yes\n",
            "checking for ctype.h... yes\n",
            "checking for sys/types.h... (cached) yes\n",
            "checking io.h usability... no\n",
            "checking io.h presence... no\n",
            "checking for io.h... no\n",
            "checking windows.h usability... no\n",
            "checking windows.h presence... no\n",
            "checking for windows.h... no\n",
            "checking pthread.h usability... yes\n",
            "checking pthread.h presence... yes\n",
            "checking for pthread.h... yes\n",
            "checking for off_t... yes\n",
            "checking for size_t... yes\n",
            "checking size of char... 1\n",
            "checking size of short... 2\n",
            "checking size of int... 4\n",
            "checking size of long... 8\n",
            "checking size of long long... 8\n",
            "checking size of size_t... 8\n",
            "checking for size_t... (cached) yes\n",
            "checking for unsigned long long int... yes\n",
            "checking for stdlib.h... (cached) yes\n",
            "checking for unistd.h... (cached) yes\n",
            "checking for sys/param.h... yes\n",
            "checking for getpagesize... yes\n",
            "checking for working mmap... yes\n",
            "checking for main in -lstdc++... yes\n",
            "checking for pthread_create in -lpthread... yes\n",
            "checking for pthread_join in -lpthread... yes\n",
            "checking for getenv... yes\n",
            "checking for opendir... yes\n",
            "checking whether make is GNU Make... yes\n",
            "checking if g++ supports stl <vector> (required)... yes\n",
            "checking if g++ supports stl <list> (required)... yes\n",
            "checking if g++ supports stl <map> (required)... yes\n",
            "checking if g++ supports stl <set> (required)... yes\n",
            "checking if g++ supports stl <queue> (required)... yes\n",
            "checking if g++ supports stl <functional> (required)... yes\n",
            "checking if g++ supports stl <algorithm> (required)... yes\n",
            "checking if g++ supports stl <string> (required)... yes\n",
            "checking if g++ supports stl <iostream> (required)... yes\n",
            "checking if g++ supports stl <sstream> (required)... yes\n",
            "checking if g++ supports stl <fstream> (required)... yes\n",
            "checking if g++ supports template <class T> (required)... yes\n",
            "checking if g++ supports const_cast<> (required)... yes\n",
            "checking if g++ supports static_cast<> (required)... yes\n",
            "checking if g++ supports reinterpret_cast<> (required)... yes\n",
            "checking if g++ supports namespaces (required) ... yes\n",
            "checking if g++ supports __thread (optional)... yes\n",
            "checking if g++ supports template <class T> (required)... yes\n",
            "checking if g++ supports GCC native atomic operations (optional)... yes\n",
            "checking if g++ supports OSX native atomic operations (optional)... no\n",
            "checking if g++ environment provides all required features... yes\n",
            "configure: creating ./config.status\n",
            "config.status: creating Makefile\n",
            "config.status: creating src/Makefile\n",
            "config.status: creating src/Makefile.msvc\n",
            "config.status: creating man/Makefile\n",
            "config.status: creating doc/Makefile\n",
            "config.status: creating tests/Makefile\n",
            "config.status: creating swig/version.h\n",
            "config.status: creating mecab.iss\n",
            "config.status: creating mecab-config\n",
            "config.status: creating mecabrc\n",
            "config.status: creating config.h\n",
            "config.status: executing depfiles commands\n",
            "config.status: executing libtool commands\n",
            "config.status: executing default commands\n",
            "make  all-recursive\n",
            "make[1]: Entering directory '/tmp/mecab-0.996-ko-0.9.2'\n",
            "Making all in src\n",
            "make[2]: Entering directory '/tmp/mecab-0.996-ko-0.9.2/src'\n",
            "/bin/bash ../libtool --tag=CXX   --mode=compile g++ -DHAVE_CONFIG_H -I. -I.. -DDIC_VERSION=102   -DMECAB_DEFAULT_RC=\"\\\"/usr/local/etc/mecabrc\\\"\"    -O3 -Wall  -c -o viterbi.lo viterbi.cpp\n",
            "libtool: compile:  g++ -DHAVE_CONFIG_H -I. -I.. -DDIC_VERSION=102 -DMECAB_DEFAULT_RC=\\\"/usr/local/etc/mecabrc\\\" -O3 -Wall -c viterbi.cpp  -fPIC -DPIC -o .libs/viterbi.o\n",
            "In file included from \u001b[01m\u001b[Kviterbi.cpp:14:0\u001b[m\u001b[K:\n",
            "\u001b[01m\u001b[Kparam.h:30:13:\u001b[m\u001b[K \u001b[01;35m\u001b[Kwarning: \u001b[m\u001b[K'\u001b[01m\u001b[KTarget {anonymous}::lexical_cast(Source) [with Target = std::__cxx11::basic_string<char>; Source = std::__cxx11::basic_string<char>]\u001b[m\u001b[K' defined but not used [\u001b[01;35m\u001b[K-Wunused-function\u001b[m\u001b[K]\n",
            " std::string \u001b[01;35m\u001b[Klexical_cast<std::string, std::string>\u001b[m\u001b[K(std::string arg) {\n",
            "             \u001b[01;35m\u001b[K^~~~~~~~~~~~~~~~~~~~~~~~~~~~~~~~~~~~~~\u001b[m\u001b[K\n",
            "libtool: compile:  g++ -DHAVE_CONFIG_H -I. -I.. -DDIC_VERSION=102 -DMECAB_DEFAULT_RC=\\\"/usr/local/etc/mecabrc\\\" -O3 -Wall -c viterbi.cpp -o viterbi.o >/dev/null 2>&1\n",
            "/bin/bash ../libtool --tag=CXX   --mode=compile g++ -DHAVE_CONFIG_H -I. -I.. -DDIC_VERSION=102   -DMECAB_DEFAULT_RC=\"\\\"/usr/local/etc/mecabrc\\\"\"    -O3 -Wall  -c -o tagger.lo tagger.cpp\n",
            "libtool: compile:  g++ -DHAVE_CONFIG_H -I. -I.. -DDIC_VERSION=102 -DMECAB_DEFAULT_RC=\\\"/usr/local/etc/mecabrc\\\" -O3 -Wall -c tagger.cpp  -fPIC -DPIC -o .libs/tagger.o\n",
            "libtool: compile:  g++ -DHAVE_CONFIG_H -I. -I.. -DDIC_VERSION=102 -DMECAB_DEFAULT_RC=\\\"/usr/local/etc/mecabrc\\\" -O3 -Wall -c tagger.cpp -o tagger.o >/dev/null 2>&1\n",
            "/bin/bash ../libtool --tag=CXX   --mode=compile g++ -DHAVE_CONFIG_H -I. -I.. -DDIC_VERSION=102   -DMECAB_DEFAULT_RC=\"\\\"/usr/local/etc/mecabrc\\\"\"    -O3 -Wall  -c -o utils.lo utils.cpp\n",
            "libtool: compile:  g++ -DHAVE_CONFIG_H -I. -I.. -DDIC_VERSION=102 -DMECAB_DEFAULT_RC=\\\"/usr/local/etc/mecabrc\\\" -O3 -Wall -c utils.cpp  -fPIC -DPIC -o .libs/utils.o\n",
            "libtool: compile:  g++ -DHAVE_CONFIG_H -I. -I.. -DDIC_VERSION=102 -DMECAB_DEFAULT_RC=\\\"/usr/local/etc/mecabrc\\\" -O3 -Wall -c utils.cpp -o utils.o >/dev/null 2>&1\n",
            "/bin/bash ../libtool --tag=CXX   --mode=compile g++ -DHAVE_CONFIG_H -I. -I.. -DDIC_VERSION=102   -DMECAB_DEFAULT_RC=\"\\\"/usr/local/etc/mecabrc\\\"\"    -O3 -Wall  -c -o eval.lo eval.cpp\n",
            "libtool: compile:  g++ -DHAVE_CONFIG_H -I. -I.. -DDIC_VERSION=102 -DMECAB_DEFAULT_RC=\\\"/usr/local/etc/mecabrc\\\" -O3 -Wall -c eval.cpp  -fPIC -DPIC -o .libs/eval.o\n",
            "libtool: compile:  g++ -DHAVE_CONFIG_H -I. -I.. -DDIC_VERSION=102 -DMECAB_DEFAULT_RC=\\\"/usr/local/etc/mecabrc\\\" -O3 -Wall -c eval.cpp -o eval.o >/dev/null 2>&1\n",
            "/bin/bash ../libtool --tag=CXX   --mode=compile g++ -DHAVE_CONFIG_H -I. -I.. -DDIC_VERSION=102   -DMECAB_DEFAULT_RC=\"\\\"/usr/local/etc/mecabrc\\\"\"    -O3 -Wall  -c -o iconv_utils.lo iconv_utils.cpp\n",
            "libtool: compile:  g++ -DHAVE_CONFIG_H -I. -I.. -DDIC_VERSION=102 -DMECAB_DEFAULT_RC=\\\"/usr/local/etc/mecabrc\\\" -O3 -Wall -c iconv_utils.cpp  -fPIC -DPIC -o .libs/iconv_utils.o\n",
            "libtool: compile:  g++ -DHAVE_CONFIG_H -I. -I.. -DDIC_VERSION=102 -DMECAB_DEFAULT_RC=\\\"/usr/local/etc/mecabrc\\\" -O3 -Wall -c iconv_utils.cpp -o iconv_utils.o >/dev/null 2>&1\n",
            "/bin/bash ../libtool --tag=CXX   --mode=compile g++ -DHAVE_CONFIG_H -I. -I.. -DDIC_VERSION=102   -DMECAB_DEFAULT_RC=\"\\\"/usr/local/etc/mecabrc\\\"\"    -O3 -Wall  -c -o dictionary_rewriter.lo dictionary_rewriter.cpp\n",
            "libtool: compile:  g++ -DHAVE_CONFIG_H -I. -I.. -DDIC_VERSION=102 -DMECAB_DEFAULT_RC=\\\"/usr/local/etc/mecabrc\\\" -O3 -Wall -c dictionary_rewriter.cpp  -fPIC -DPIC -o .libs/dictionary_rewriter.o\n",
            "libtool: compile:  g++ -DHAVE_CONFIG_H -I. -I.. -DDIC_VERSION=102 -DMECAB_DEFAULT_RC=\\\"/usr/local/etc/mecabrc\\\" -O3 -Wall -c dictionary_rewriter.cpp -o dictionary_rewriter.o >/dev/null 2>&1\n",
            "/bin/bash ../libtool --tag=CXX   --mode=compile g++ -DHAVE_CONFIG_H -I. -I.. -DDIC_VERSION=102   -DMECAB_DEFAULT_RC=\"\\\"/usr/local/etc/mecabrc\\\"\"    -O3 -Wall  -c -o dictionary_generator.lo dictionary_generator.cpp\n",
            "libtool: compile:  g++ -DHAVE_CONFIG_H -I. -I.. -DDIC_VERSION=102 -DMECAB_DEFAULT_RC=\\\"/usr/local/etc/mecabrc\\\" -O3 -Wall -c dictionary_generator.cpp  -fPIC -DPIC -o .libs/dictionary_generator.o\n",
            "libtool: compile:  g++ -DHAVE_CONFIG_H -I. -I.. -DDIC_VERSION=102 -DMECAB_DEFAULT_RC=\\\"/usr/local/etc/mecabrc\\\" -O3 -Wall -c dictionary_generator.cpp -o dictionary_generator.o >/dev/null 2>&1\n",
            "/bin/bash ../libtool --tag=CXX   --mode=compile g++ -DHAVE_CONFIG_H -I. -I.. -DDIC_VERSION=102   -DMECAB_DEFAULT_RC=\"\\\"/usr/local/etc/mecabrc\\\"\"    -O3 -Wall  -c -o dictionary_compiler.lo dictionary_compiler.cpp\n",
            "libtool: compile:  g++ -DHAVE_CONFIG_H -I. -I.. -DDIC_VERSION=102 -DMECAB_DEFAULT_RC=\\\"/usr/local/etc/mecabrc\\\" -O3 -Wall -c dictionary_compiler.cpp  -fPIC -DPIC -o .libs/dictionary_compiler.o\n",
            "libtool: compile:  g++ -DHAVE_CONFIG_H -I. -I.. -DDIC_VERSION=102 -DMECAB_DEFAULT_RC=\\\"/usr/local/etc/mecabrc\\\" -O3 -Wall -c dictionary_compiler.cpp -o dictionary_compiler.o >/dev/null 2>&1\n",
            "/bin/bash ../libtool --tag=CXX   --mode=compile g++ -DHAVE_CONFIG_H -I. -I.. -DDIC_VERSION=102   -DMECAB_DEFAULT_RC=\"\\\"/usr/local/etc/mecabrc\\\"\"    -O3 -Wall  -c -o context_id.lo context_id.cpp\n",
            "libtool: compile:  g++ -DHAVE_CONFIG_H -I. -I.. -DDIC_VERSION=102 -DMECAB_DEFAULT_RC=\\\"/usr/local/etc/mecabrc\\\" -O3 -Wall -c context_id.cpp  -fPIC -DPIC -o .libs/context_id.o\n",
            "libtool: compile:  g++ -DHAVE_CONFIG_H -I. -I.. -DDIC_VERSION=102 -DMECAB_DEFAULT_RC=\\\"/usr/local/etc/mecabrc\\\" -O3 -Wall -c context_id.cpp -o context_id.o >/dev/null 2>&1\n",
            "/bin/bash ../libtool --tag=CXX   --mode=compile g++ -DHAVE_CONFIG_H -I. -I.. -DDIC_VERSION=102   -DMECAB_DEFAULT_RC=\"\\\"/usr/local/etc/mecabrc\\\"\"    -O3 -Wall  -c -o connector.lo connector.cpp\n",
            "libtool: compile:  g++ -DHAVE_CONFIG_H -I. -I.. -DDIC_VERSION=102 -DMECAB_DEFAULT_RC=\\\"/usr/local/etc/mecabrc\\\" -O3 -Wall -c connector.cpp  -fPIC -DPIC -o .libs/connector.o\n",
            "libtool: compile:  g++ -DHAVE_CONFIG_H -I. -I.. -DDIC_VERSION=102 -DMECAB_DEFAULT_RC=\\\"/usr/local/etc/mecabrc\\\" -O3 -Wall -c connector.cpp -o connector.o >/dev/null 2>&1\n",
            "/bin/bash ../libtool --tag=CXX   --mode=compile g++ -DHAVE_CONFIG_H -I. -I.. -DDIC_VERSION=102   -DMECAB_DEFAULT_RC=\"\\\"/usr/local/etc/mecabrc\\\"\"    -O3 -Wall  -c -o nbest_generator.lo nbest_generator.cpp\n",
            "libtool: compile:  g++ -DHAVE_CONFIG_H -I. -I.. -DDIC_VERSION=102 -DMECAB_DEFAULT_RC=\\\"/usr/local/etc/mecabrc\\\" -O3 -Wall -c nbest_generator.cpp  -fPIC -DPIC -o .libs/nbest_generator.o\n",
            "libtool: compile:  g++ -DHAVE_CONFIG_H -I. -I.. -DDIC_VERSION=102 -DMECAB_DEFAULT_RC=\\\"/usr/local/etc/mecabrc\\\" -O3 -Wall -c nbest_generator.cpp -o nbest_generator.o >/dev/null 2>&1\n",
            "/bin/bash ../libtool --tag=CXX   --mode=compile g++ -DHAVE_CONFIG_H -I. -I.. -DDIC_VERSION=102   -DMECAB_DEFAULT_RC=\"\\\"/usr/local/etc/mecabrc\\\"\"    -O3 -Wall  -c -o writer.lo writer.cpp\n",
            "libtool: compile:  g++ -DHAVE_CONFIG_H -I. -I.. -DDIC_VERSION=102 -DMECAB_DEFAULT_RC=\\\"/usr/local/etc/mecabrc\\\" -O3 -Wall -c writer.cpp  -fPIC -DPIC -o .libs/writer.o\n",
            "libtool: compile:  g++ -DHAVE_CONFIG_H -I. -I.. -DDIC_VERSION=102 -DMECAB_DEFAULT_RC=\\\"/usr/local/etc/mecabrc\\\" -O3 -Wall -c writer.cpp -o writer.o >/dev/null 2>&1\n",
            "/bin/bash ../libtool --tag=CXX   --mode=compile g++ -DHAVE_CONFIG_H -I. -I.. -DDIC_VERSION=102   -DMECAB_DEFAULT_RC=\"\\\"/usr/local/etc/mecabrc\\\"\"    -O3 -Wall  -c -o string_buffer.lo string_buffer.cpp\n",
            "libtool: compile:  g++ -DHAVE_CONFIG_H -I. -I.. -DDIC_VERSION=102 -DMECAB_DEFAULT_RC=\\\"/usr/local/etc/mecabrc\\\" -O3 -Wall -c string_buffer.cpp  -fPIC -DPIC -o .libs/string_buffer.o\n",
            "libtool: compile:  g++ -DHAVE_CONFIG_H -I. -I.. -DDIC_VERSION=102 -DMECAB_DEFAULT_RC=\\\"/usr/local/etc/mecabrc\\\" -O3 -Wall -c string_buffer.cpp -o string_buffer.o >/dev/null 2>&1\n",
            "/bin/bash ../libtool --tag=CXX   --mode=compile g++ -DHAVE_CONFIG_H -I. -I.. -DDIC_VERSION=102   -DMECAB_DEFAULT_RC=\"\\\"/usr/local/etc/mecabrc\\\"\"    -O3 -Wall  -c -o param.lo param.cpp\n",
            "libtool: compile:  g++ -DHAVE_CONFIG_H -I. -I.. -DDIC_VERSION=102 -DMECAB_DEFAULT_RC=\\\"/usr/local/etc/mecabrc\\\" -O3 -Wall -c param.cpp  -fPIC -DPIC -o .libs/param.o\n",
            "libtool: compile:  g++ -DHAVE_CONFIG_H -I. -I.. -DDIC_VERSION=102 -DMECAB_DEFAULT_RC=\\\"/usr/local/etc/mecabrc\\\" -O3 -Wall -c param.cpp -o param.o >/dev/null 2>&1\n",
            "/bin/bash ../libtool --tag=CXX   --mode=compile g++ -DHAVE_CONFIG_H -I. -I.. -DDIC_VERSION=102   -DMECAB_DEFAULT_RC=\"\\\"/usr/local/etc/mecabrc\\\"\"    -O3 -Wall  -c -o tokenizer.lo tokenizer.cpp\n",
            "libtool: compile:  g++ -DHAVE_CONFIG_H -I. -I.. -DDIC_VERSION=102 -DMECAB_DEFAULT_RC=\\\"/usr/local/etc/mecabrc\\\" -O3 -Wall -c tokenizer.cpp  -fPIC -DPIC -o .libs/tokenizer.o\n",
            "libtool: compile:  g++ -DHAVE_CONFIG_H -I. -I.. -DDIC_VERSION=102 -DMECAB_DEFAULT_RC=\\\"/usr/local/etc/mecabrc\\\" -O3 -Wall -c tokenizer.cpp -o tokenizer.o >/dev/null 2>&1\n",
            "/bin/bash ../libtool --tag=CXX   --mode=compile g++ -DHAVE_CONFIG_H -I. -I.. -DDIC_VERSION=102   -DMECAB_DEFAULT_RC=\"\\\"/usr/local/etc/mecabrc\\\"\"    -O3 -Wall  -c -o char_property.lo char_property.cpp\n",
            "libtool: compile:  g++ -DHAVE_CONFIG_H -I. -I.. -DDIC_VERSION=102 -DMECAB_DEFAULT_RC=\\\"/usr/local/etc/mecabrc\\\" -O3 -Wall -c char_property.cpp  -fPIC -DPIC -o .libs/char_property.o\n",
            "libtool: compile:  g++ -DHAVE_CONFIG_H -I. -I.. -DDIC_VERSION=102 -DMECAB_DEFAULT_RC=\\\"/usr/local/etc/mecabrc\\\" -O3 -Wall -c char_property.cpp -o char_property.o >/dev/null 2>&1\n",
            "/bin/bash ../libtool --tag=CXX   --mode=compile g++ -DHAVE_CONFIG_H -I. -I.. -DDIC_VERSION=102   -DMECAB_DEFAULT_RC=\"\\\"/usr/local/etc/mecabrc\\\"\"    -O3 -Wall  -c -o dictionary.lo dictionary.cpp\n",
            "libtool: compile:  g++ -DHAVE_CONFIG_H -I. -I.. -DDIC_VERSION=102 -DMECAB_DEFAULT_RC=\\\"/usr/local/etc/mecabrc\\\" -O3 -Wall -c dictionary.cpp  -fPIC -DPIC -o .libs/dictionary.o\n",
            "libtool: compile:  g++ -DHAVE_CONFIG_H -I. -I.. -DDIC_VERSION=102 -DMECAB_DEFAULT_RC=\\\"/usr/local/etc/mecabrc\\\" -O3 -Wall -c dictionary.cpp -o dictionary.o >/dev/null 2>&1\n",
            "/bin/bash ../libtool --tag=CXX   --mode=compile g++ -DHAVE_CONFIG_H -I. -I.. -DDIC_VERSION=102   -DMECAB_DEFAULT_RC=\"\\\"/usr/local/etc/mecabrc\\\"\"    -O3 -Wall  -c -o feature_index.lo feature_index.cpp\n",
            "libtool: compile:  g++ -DHAVE_CONFIG_H -I. -I.. -DDIC_VERSION=102 -DMECAB_DEFAULT_RC=\\\"/usr/local/etc/mecabrc\\\" -O3 -Wall -c feature_index.cpp  -fPIC -DPIC -o .libs/feature_index.o\n",
            "libtool: compile:  g++ -DHAVE_CONFIG_H -I. -I.. -DDIC_VERSION=102 -DMECAB_DEFAULT_RC=\\\"/usr/local/etc/mecabrc\\\" -O3 -Wall -c feature_index.cpp -o feature_index.o >/dev/null 2>&1\n",
            "/bin/bash ../libtool --tag=CXX   --mode=compile g++ -DHAVE_CONFIG_H -I. -I.. -DDIC_VERSION=102   -DMECAB_DEFAULT_RC=\"\\\"/usr/local/etc/mecabrc\\\"\"    -O3 -Wall  -c -o lbfgs.lo lbfgs.cpp\n",
            "libtool: compile:  g++ -DHAVE_CONFIG_H -I. -I.. -DDIC_VERSION=102 -DMECAB_DEFAULT_RC=\\\"/usr/local/etc/mecabrc\\\" -O3 -Wall -c lbfgs.cpp  -fPIC -DPIC -o .libs/lbfgs.o\n",
            "libtool: compile:  g++ -DHAVE_CONFIG_H -I. -I.. -DDIC_VERSION=102 -DMECAB_DEFAULT_RC=\\\"/usr/local/etc/mecabrc\\\" -O3 -Wall -c lbfgs.cpp -o lbfgs.o >/dev/null 2>&1\n",
            "/bin/bash ../libtool --tag=CXX   --mode=compile g++ -DHAVE_CONFIG_H -I. -I.. -DDIC_VERSION=102   -DMECAB_DEFAULT_RC=\"\\\"/usr/local/etc/mecabrc\\\"\"    -O3 -Wall  -c -o learner_tagger.lo learner_tagger.cpp\n",
            "libtool: compile:  g++ -DHAVE_CONFIG_H -I. -I.. -DDIC_VERSION=102 -DMECAB_DEFAULT_RC=\\\"/usr/local/etc/mecabrc\\\" -O3 -Wall -c learner_tagger.cpp  -fPIC -DPIC -o .libs/learner_tagger.o\n",
            "\u001b[01m\u001b[Klearner_tagger.cpp:25:7:\u001b[m\u001b[K \u001b[01;35m\u001b[Kwarning: \u001b[m\u001b[K'\u001b[01m\u001b[Kchar* MeCab::{anonymous}::mystrdup(const string&)\u001b[m\u001b[K' defined but not used [\u001b[01;35m\u001b[K-Wunused-function\u001b[m\u001b[K]\n",
            " char *\u001b[01;35m\u001b[Kmystrdup\u001b[m\u001b[K(const std::string &str) {\n",
            "       \u001b[01;35m\u001b[K^~~~~~~~\u001b[m\u001b[K\n",
            "libtool: compile:  g++ -DHAVE_CONFIG_H -I. -I.. -DDIC_VERSION=102 -DMECAB_DEFAULT_RC=\\\"/usr/local/etc/mecabrc\\\" -O3 -Wall -c learner_tagger.cpp -o learner_tagger.o >/dev/null 2>&1\n",
            "/bin/bash ../libtool --tag=CXX   --mode=compile g++ -DHAVE_CONFIG_H -I. -I.. -DDIC_VERSION=102   -DMECAB_DEFAULT_RC=\"\\\"/usr/local/etc/mecabrc\\\"\"    -O3 -Wall  -c -o learner.lo learner.cpp\n",
            "libtool: compile:  g++ -DHAVE_CONFIG_H -I. -I.. -DDIC_VERSION=102 -DMECAB_DEFAULT_RC=\\\"/usr/local/etc/mecabrc\\\" -O3 -Wall -c learner.cpp  -fPIC -DPIC -o .libs/learner.o\n",
            "libtool: compile:  g++ -DHAVE_CONFIG_H -I. -I.. -DDIC_VERSION=102 -DMECAB_DEFAULT_RC=\\\"/usr/local/etc/mecabrc\\\" -O3 -Wall -c learner.cpp -o learner.o >/dev/null 2>&1\n",
            "/bin/bash ../libtool --tag=CXX   --mode=compile g++ -DHAVE_CONFIG_H -I. -I.. -DDIC_VERSION=102   -DMECAB_DEFAULT_RC=\"\\\"/usr/local/etc/mecabrc\\\"\"    -O3 -Wall  -c -o libmecab.lo libmecab.cpp\n",
            "libtool: compile:  g++ -DHAVE_CONFIG_H -I. -I.. -DDIC_VERSION=102 -DMECAB_DEFAULT_RC=\\\"/usr/local/etc/mecabrc\\\" -O3 -Wall -c libmecab.cpp  -fPIC -DPIC -o .libs/libmecab.o\n",
            "libtool: compile:  g++ -DHAVE_CONFIG_H -I. -I.. -DDIC_VERSION=102 -DMECAB_DEFAULT_RC=\\\"/usr/local/etc/mecabrc\\\" -O3 -Wall -c libmecab.cpp -o libmecab.o >/dev/null 2>&1\n",
            "/bin/bash ../libtool --tag=CXX   --mode=link g++  -O3 -Wall  -no-undefined -version-info 2:0:0  -o libmecab.la -rpath /usr/local/lib viterbi.lo tagger.lo utils.lo eval.lo iconv_utils.lo dictionary_rewriter.lo dictionary_generator.lo dictionary_compiler.lo context_id.lo connector.lo nbest_generator.lo writer.lo string_buffer.lo param.lo tokenizer.lo char_property.lo dictionary.lo feature_index.lo lbfgs.lo learner_tagger.lo learner.lo libmecab.lo  -lpthread -lpthread  -lstdc++ \n",
            "libtool: link: g++  -fPIC -DPIC -shared -nostdlib /usr/lib/gcc/x86_64-linux-gnu/7/../../../x86_64-linux-gnu/crti.o /usr/lib/gcc/x86_64-linux-gnu/7/crtbeginS.o  .libs/viterbi.o .libs/tagger.o .libs/utils.o .libs/eval.o .libs/iconv_utils.o .libs/dictionary_rewriter.o .libs/dictionary_generator.o .libs/dictionary_compiler.o .libs/context_id.o .libs/connector.o .libs/nbest_generator.o .libs/writer.o .libs/string_buffer.o .libs/param.o .libs/tokenizer.o .libs/char_property.o .libs/dictionary.o .libs/feature_index.o .libs/lbfgs.o .libs/learner_tagger.o .libs/learner.o .libs/libmecab.o   -lpthread -L/usr/lib/gcc/x86_64-linux-gnu/7 -L/usr/lib/gcc/x86_64-linux-gnu/7/../../../x86_64-linux-gnu -L/usr/lib/gcc/x86_64-linux-gnu/7/../../../../lib -L/lib/x86_64-linux-gnu -L/lib/../lib -L/usr/lib/x86_64-linux-gnu -L/usr/lib/../lib -L/usr/local/cuda/lib64/stubs -L/usr/lib/gcc/x86_64-linux-gnu/7/../../.. -lstdc++ -lm -lc -lgcc_s /usr/lib/gcc/x86_64-linux-gnu/7/crtendS.o /usr/lib/gcc/x86_64-linux-gnu/7/../../../x86_64-linux-gnu/crtn.o  -O3   -Wl,-soname -Wl,libmecab.so.2 -o .libs/libmecab.so.2.0.0\n",
            "libtool: link: (cd \".libs\" && rm -f \"libmecab.so.2\" && ln -s \"libmecab.so.2.0.0\" \"libmecab.so.2\")\n",
            "libtool: link: (cd \".libs\" && rm -f \"libmecab.so\" && ln -s \"libmecab.so.2.0.0\" \"libmecab.so\")\n",
            "libtool: link: ar cru .libs/libmecab.a  viterbi.o tagger.o utils.o eval.o iconv_utils.o dictionary_rewriter.o dictionary_generator.o dictionary_compiler.o context_id.o connector.o nbest_generator.o writer.o string_buffer.o param.o tokenizer.o char_property.o dictionary.o feature_index.o lbfgs.o learner_tagger.o learner.o libmecab.o\n",
            "ar: `u' modifier ignored since `D' is the default (see `U')\n",
            "libtool: link: ranlib .libs/libmecab.a\n",
            "libtool: link: ( cd \".libs\" && rm -f \"libmecab.la\" && ln -s \"../libmecab.la\" \"libmecab.la\" )\n",
            "g++ -DHAVE_CONFIG_H -I. -I.. -DDIC_VERSION=102   -DMECAB_DEFAULT_RC=\"\\\"/usr/local/etc/mecabrc\\\"\"    -O3 -Wall  -c -o mecab.o mecab.cpp\n",
            "/bin/bash ../libtool --tag=CXX   --mode=link g++  -O3 -Wall    -o mecab mecab.o libmecab.la -lpthread -lpthread  -lstdc++ \n",
            "libtool: link: g++ -O3 -Wall -o .libs/mecab mecab.o  ./.libs/libmecab.so -lpthread -lstdc++\n",
            "g++ -DHAVE_CONFIG_H -I. -I.. -DDIC_VERSION=102   -DMECAB_DEFAULT_RC=\"\\\"/usr/local/etc/mecabrc\\\"\"    -O3 -Wall  -c -o mecab-dict-index.o mecab-dict-index.cpp\n",
            "/bin/bash ../libtool --tag=CXX   --mode=link g++  -O3 -Wall    -o mecab-dict-index mecab-dict-index.o libmecab.la -lpthread -lpthread  -lstdc++ \n",
            "libtool: link: g++ -O3 -Wall -o .libs/mecab-dict-index mecab-dict-index.o  ./.libs/libmecab.so -lpthread -lstdc++\n",
            "g++ -DHAVE_CONFIG_H -I. -I.. -DDIC_VERSION=102   -DMECAB_DEFAULT_RC=\"\\\"/usr/local/etc/mecabrc\\\"\"    -O3 -Wall  -c -o mecab-dict-gen.o mecab-dict-gen.cpp\n",
            "/bin/bash ../libtool --tag=CXX   --mode=link g++  -O3 -Wall    -o mecab-dict-gen mecab-dict-gen.o libmecab.la -lpthread -lpthread  -lstdc++ \n",
            "libtool: link: g++ -O3 -Wall -o .libs/mecab-dict-gen mecab-dict-gen.o  ./.libs/libmecab.so -lpthread -lstdc++\n",
            "g++ -DHAVE_CONFIG_H -I. -I.. -DDIC_VERSION=102   -DMECAB_DEFAULT_RC=\"\\\"/usr/local/etc/mecabrc\\\"\"    -O3 -Wall  -c -o mecab-cost-train.o mecab-cost-train.cpp\n",
            "/bin/bash ../libtool --tag=CXX   --mode=link g++  -O3 -Wall    -o mecab-cost-train mecab-cost-train.o libmecab.la -lpthread -lpthread  -lstdc++ \n",
            "libtool: link: g++ -O3 -Wall -o .libs/mecab-cost-train mecab-cost-train.o  ./.libs/libmecab.so -lpthread -lstdc++\n",
            "g++ -DHAVE_CONFIG_H -I. -I.. -DDIC_VERSION=102   -DMECAB_DEFAULT_RC=\"\\\"/usr/local/etc/mecabrc\\\"\"    -O3 -Wall  -c -o mecab-system-eval.o mecab-system-eval.cpp\n",
            "/bin/bash ../libtool --tag=CXX   --mode=link g++  -O3 -Wall    -o mecab-system-eval mecab-system-eval.o libmecab.la -lpthread -lpthread  -lstdc++ \n",
            "libtool: link: g++ -O3 -Wall -o .libs/mecab-system-eval mecab-system-eval.o  ./.libs/libmecab.so -lpthread -lstdc++\n",
            "g++ -DHAVE_CONFIG_H -I. -I.. -DDIC_VERSION=102   -DMECAB_DEFAULT_RC=\"\\\"/usr/local/etc/mecabrc\\\"\"    -O3 -Wall  -c -o mecab-test-gen.o mecab-test-gen.cpp\n",
            "/bin/bash ../libtool --tag=CXX   --mode=link g++  -O3 -Wall    -o mecab-test-gen mecab-test-gen.o libmecab.la -lpthread -lpthread  -lstdc++ \n",
            "libtool: link: g++ -O3 -Wall -o .libs/mecab-test-gen mecab-test-gen.o  ./.libs/libmecab.so -lpthread -lstdc++\n",
            "make[2]: Leaving directory '/tmp/mecab-0.996-ko-0.9.2/src'\n",
            "Making all in man\n",
            "make[2]: Entering directory '/tmp/mecab-0.996-ko-0.9.2/man'\n",
            "make[2]: Nothing to be done for 'all'.\n",
            "make[2]: Leaving directory '/tmp/mecab-0.996-ko-0.9.2/man'\n",
            "Making all in doc\n",
            "make[2]: Entering directory '/tmp/mecab-0.996-ko-0.9.2/doc'\n",
            "make[2]: Nothing to be done for 'all'.\n",
            "make[2]: Leaving directory '/tmp/mecab-0.996-ko-0.9.2/doc'\n",
            "Making all in tests\n",
            "make[2]: Entering directory '/tmp/mecab-0.996-ko-0.9.2/tests'\n",
            "make[2]: Nothing to be done for 'all'.\n",
            "make[2]: Leaving directory '/tmp/mecab-0.996-ko-0.9.2/tests'\n",
            "make[2]: Entering directory '/tmp/mecab-0.996-ko-0.9.2'\n",
            "make[2]: Leaving directory '/tmp/mecab-0.996-ko-0.9.2'\n",
            "make[1]: Leaving directory '/tmp/mecab-0.996-ko-0.9.2'\n",
            "Making check in src\n",
            "make[1]: Entering directory '/tmp/mecab-0.996-ko-0.9.2/src'\n",
            "make[1]: Nothing to be done for 'check'.\n",
            "make[1]: Leaving directory '/tmp/mecab-0.996-ko-0.9.2/src'\n",
            "Making check in man\n",
            "make[1]: Entering directory '/tmp/mecab-0.996-ko-0.9.2/man'\n",
            "make[1]: Nothing to be done for 'check'.\n",
            "make[1]: Leaving directory '/tmp/mecab-0.996-ko-0.9.2/man'\n",
            "Making check in doc\n",
            "make[1]: Entering directory '/tmp/mecab-0.996-ko-0.9.2/doc'\n",
            "make[1]: Nothing to be done for 'check'.\n",
            "make[1]: Leaving directory '/tmp/mecab-0.996-ko-0.9.2/doc'\n",
            "Making check in tests\n",
            "make[1]: Entering directory '/tmp/mecab-0.996-ko-0.9.2/tests'\n",
            "make  check-TESTS\n",
            "make[2]: Entering directory '/tmp/mecab-0.996-ko-0.9.2/tests'\n",
            "./pos-id.def is not found. minimum setting is used\n",
            "reading ./unk.def ... 2\n",
            "emitting double-array: 100% |###########################################| \n",
            "./model.def is not found. skipped.\n",
            "./pos-id.def is not found. minimum setting is used\n",
            "reading ./dic.csv ... 177\n",
            "emitting double-array: 100% |###########################################| \n",
            "reading ./matrix.def ... 178x178\n",
            "emitting matrix      : 100% |###########################################| \n",
            "\n",
            "done!\n",
            "./pos-id.def is not found. minimum setting is used\n",
            "reading ./unk.def ... 2\n",
            "emitting double-array: 100% |###########################################| \n",
            "./model.def is not found. skipped.\n",
            "./pos-id.def is not found. minimum setting is used\n",
            "reading ./dic.csv ... 83\n",
            "emitting double-array: 100% |###########################################| \n",
            "reading ./matrix.def ... 84x84\n",
            "emitting matrix      : 100% |###########################################| \n",
            "\n",
            "done!\n",
            "./pos-id.def is not found. minimum setting is used\n",
            "reading ./unk.def ... 2\n",
            "emitting double-array: 100% |###########################################| \n",
            "./model.def is not found. skipped.\n",
            "./pos-id.def is not found. minimum setting is used\n",
            "reading ./dic.csv ... 450\n",
            "emitting double-array: 100% |###########################################| \n",
            "reading ./matrix.def ... 1x1\n",
            "\n",
            "done!\n",
            "./pos-id.def is not found. minimum setting is used\n",
            "reading ./unk.def ... 2\n",
            "emitting double-array: 100% |###########################################| \n",
            "./model.def is not found. skipped.\n",
            "./pos-id.def is not found. minimum setting is used\n",
            "reading ./dic.csv ... 162\n",
            "emitting double-array: 100% |###########################################| \n",
            "reading ./matrix.def ... 3x3\n",
            "emitting matrix      : 100% |###########################################| \n",
            "\n",
            "done!\n",
            "./pos-id.def is not found. minimum setting is used\n",
            "reading ./unk.def ... 2\n",
            "emitting double-array: 100% |###########################################| \n",
            "./model.def is not found. skipped.\n",
            "./pos-id.def is not found. minimum setting is used\n",
            "reading ./dic.csv ... 4\n",
            "emitting double-array: 100% |###########################################| \n",
            "reading ./matrix.def ... 1x1\n",
            "\n",
            "done!\n",
            "./pos-id.def is not found. minimum setting is used\n",
            "reading ./unk.def ... 11\n",
            "emitting double-array: 100% |###########################################| \n",
            "./model.def is not found. skipped.\n",
            "./pos-id.def is not found. minimum setting is used\n",
            "reading ./dic.csv ... 1\n",
            "reading ./matrix.def ... 1x1\n",
            "\n",
            "done!\n",
            "./pos-id.def is not found. minimum setting is used\n",
            "reading ./unk.def ... 2\n",
            "emitting double-array: 100% |###########################################| \n",
            "./model.def is not found. skipped.\n",
            "./pos-id.def is not found. minimum setting is used\n",
            "reading ./dic.csv ... 1\n",
            "reading ./matrix.def ... 1x1\n",
            "\n",
            "done!\n",
            "PASS: run-dics.sh\n",
            "PASS: run-eval.sh\n",
            "seed/pos-id.def is not found. minimum setting is used\n",
            "reading seed/unk.def ... 40\n",
            "emitting double-array: 100% |###########################################| \n",
            "seed/model.def is not found. skipped.\n",
            "seed/pos-id.def is not found. minimum setting is used\n",
            "reading seed/dic.csv ... 4335\n",
            "emitting double-array: 100% |###########################################| \n",
            "reading seed/matrix.def ... 1x1\n",
            "\n",
            "done!\n",
            "reading corpus ...\n",
            "Number of sentences: 34\n",
            "Number of features:  64108\n",
            "eta:                 0.00005\n",
            "freq:                1\n",
            "eval-size:           6\n",
            "unk-eval-size:       4\n",
            "threads:             1\n",
            "charset:             EUC-JP\n",
            "C(sigma^2):          1.00000\n",
            "\n",
            "iter=0 err=1.00000 F=0.35771 target=2406.28355 diff=1.00000\n",
            "iter=1 err=0.97059 F=0.65652 target=1484.25231 diff=0.38318\n",
            "iter=2 err=0.91176 F=0.79331 target=863.32765 diff=0.41834\n",
            "iter=3 err=0.85294 F=0.89213 target=596.72480 diff=0.30881\n",
            "iter=4 err=0.61765 F=0.95467 target=336.30744 diff=0.43641\n",
            "iter=5 err=0.50000 F=0.96702 target=246.53039 diff=0.26695\n",
            "iter=6 err=0.35294 F=0.95472 target=188.93963 diff=0.23361\n",
            "iter=7 err=0.20588 F=0.99106 target=168.62665 diff=0.10751\n",
            "iter=8 err=0.05882 F=0.99777 target=158.64865 diff=0.05917\n",
            "iter=9 err=0.08824 F=0.99665 target=154.14530 diff=0.02839\n",
            "iter=10 err=0.08824 F=0.99665 target=151.94257 diff=0.01429\n",
            "iter=11 err=0.02941 F=0.99888 target=147.20825 diff=0.03116\n",
            "iter=12 err=0.00000 F=1.00000 target=147.34956 diff=0.00096\n",
            "iter=13 err=0.02941 F=0.99888 target=146.32592 diff=0.00695\n",
            "iter=14 err=0.00000 F=1.00000 target=145.77299 diff=0.00378\n",
            "iter=15 err=0.02941 F=0.99888 target=145.24641 diff=0.00361\n",
            "iter=16 err=0.00000 F=1.00000 target=144.96490 diff=0.00194\n",
            "iter=17 err=0.02941 F=0.99888 target=144.90246 diff=0.00043\n",
            "iter=18 err=0.00000 F=1.00000 target=144.75959 diff=0.00099\n",
            "iter=19 err=0.00000 F=1.00000 target=144.71727 diff=0.00029\n",
            "iter=20 err=0.00000 F=1.00000 target=144.66337 diff=0.00037\n",
            "iter=21 err=0.00000 F=1.00000 target=144.61349 diff=0.00034\n",
            "iter=22 err=0.00000 F=1.00000 target=144.62987 diff=0.00011\n",
            "iter=23 err=0.00000 F=1.00000 target=144.60060 diff=0.00020\n",
            "iter=24 err=0.00000 F=1.00000 target=144.59125 diff=0.00006\n",
            "iter=25 err=0.00000 F=1.00000 target=144.58619 diff=0.00004\n",
            "iter=26 err=0.00000 F=1.00000 target=144.58219 diff=0.00003\n",
            "iter=27 err=0.00000 F=1.00000 target=144.58059 diff=0.00001\n",
            "\n",
            "Done! writing model file ... \n",
            "model-ipadic.c1.0.f1.model is not a binary model. reopen it as text mode...\n",
            "reading seed/unk.def ... 40\n",
            "reading seed/dic.csv ... 4335\n",
            "emitting model-ipadic.c1.0.f1.dic/left-id.def/ model-ipadic.c1.0.f1.dic/right-id.def\n",
            "emitting model-ipadic.c1.0.f1.dic/unk.def ... 40\n",
            "emitting model-ipadic.c1.0.f1.dic/dic.csv ... 4335\n",
            "emitting matrix      : 100% |###########################################| \n",
            "copying seed/char.def to model-ipadic.c1.0.f1.dic/char.def\n",
            "copying seed/rewrite.def to model-ipadic.c1.0.f1.dic/rewrite.def\n",
            "copying seed/dicrc to model-ipadic.c1.0.f1.dic/dicrc\n",
            "copying seed/feature.def to model-ipadic.c1.0.f1.dic/feature.def\n",
            "copying model-ipadic.c1.0.f1.model to model-ipadic.c1.0.f1.dic/model.def\n",
            "\n",
            "done!\n",
            "model-ipadic.c1.0.f1.dic/pos-id.def is not found. minimum setting is used\n",
            "reading model-ipadic.c1.0.f1.dic/unk.def ... 40\n",
            "emitting double-array: 100% |###########################################| \n",
            "model-ipadic.c1.0.f1.dic/pos-id.def is not found. minimum setting is used\n",
            "reading model-ipadic.c1.0.f1.dic/dic.csv ... 4335\n",
            "emitting double-array: 100% |###########################################| \n",
            "reading model-ipadic.c1.0.f1.dic/matrix.def ... 346x346\n",
            "emitting matrix      : 100% |###########################################| \n",
            "\n",
            "done!\n",
            "              precision          recall         F\n",
            "LEVEL 0:    12.8959(57/442) 11.8998(57/479) 12.3779\n",
            "LEVEL 1:    12.2172(54/442) 11.2735(54/479) 11.7264\n",
            "LEVEL 2:    11.7647(52/442) 10.8559(52/479) 11.2921\n",
            "LEVEL 4:    11.7647(52/442) 10.8559(52/479) 11.2921\n",
            "PASS: run-cost-train.sh\n",
            "==================\n",
            "All 3 tests passed\n",
            "==================\n",
            "make[2]: Leaving directory '/tmp/mecab-0.996-ko-0.9.2/tests'\n",
            "make[1]: Leaving directory '/tmp/mecab-0.996-ko-0.9.2/tests'\n",
            "make[1]: Entering directory '/tmp/mecab-0.996-ko-0.9.2'\n",
            "make[1]: Leaving directory '/tmp/mecab-0.996-ko-0.9.2'\n",
            "Making install in src\n",
            "make[1]: Entering directory '/tmp/mecab-0.996-ko-0.9.2/src'\n",
            "make[2]: Entering directory '/tmp/mecab-0.996-ko-0.9.2/src'\n",
            "test -z \"/usr/local/lib\" || /bin/mkdir -p \"/usr/local/lib\"\n",
            " /bin/bash ../libtool   --mode=install /usr/bin/install -c   libmecab.la '/usr/local/lib'\n",
            "libtool: install: /usr/bin/install -c .libs/libmecab.so.2.0.0 /usr/local/lib/libmecab.so.2.0.0\n",
            "libtool: install: (cd /usr/local/lib && { ln -s -f libmecab.so.2.0.0 libmecab.so.2 || { rm -f libmecab.so.2 && ln -s libmecab.so.2.0.0 libmecab.so.2; }; })\n",
            "libtool: install: (cd /usr/local/lib && { ln -s -f libmecab.so.2.0.0 libmecab.so || { rm -f libmecab.so && ln -s libmecab.so.2.0.0 libmecab.so; }; })\n",
            "libtool: install: /usr/bin/install -c .libs/libmecab.lai /usr/local/lib/libmecab.la\n",
            "libtool: install: /usr/bin/install -c .libs/libmecab.a /usr/local/lib/libmecab.a\n",
            "libtool: install: chmod 644 /usr/local/lib/libmecab.a\n",
            "libtool: install: ranlib /usr/local/lib/libmecab.a\n",
            "libtool: finish: PATH=\"/opt/bin:/usr/local/nvidia/bin:/usr/local/cuda/bin:/usr/local/sbin:/usr/local/bin:/usr/sbin:/usr/bin:/sbin:/bin:/tools/node/bin:/tools/google-cloud-sdk/bin:/sbin\" ldconfig -n /usr/local/lib\n",
            "----------------------------------------------------------------------\n",
            "Libraries have been installed in:\n",
            "   /usr/local/lib\n",
            "\n",
            "If you ever happen to want to link against installed libraries\n",
            "in a given directory, LIBDIR, you must either use libtool, and\n",
            "specify the full pathname of the library, or use the `-LLIBDIR'\n",
            "flag during linking and do at least one of the following:\n",
            "   - add LIBDIR to the `LD_LIBRARY_PATH' environment variable\n",
            "     during execution\n",
            "   - add LIBDIR to the `LD_RUN_PATH' environment variable\n",
            "     during linking\n",
            "   - use the `-Wl,-rpath -Wl,LIBDIR' linker flag\n",
            "   - have your system administrator add LIBDIR to `/etc/ld.so.conf'\n",
            "\n",
            "See any operating system documentation about shared libraries for\n",
            "more information, such as the ld(1) and ld.so(8) manual pages.\n",
            "----------------------------------------------------------------------\n",
            "test -z \"/usr/local/bin\" || /bin/mkdir -p \"/usr/local/bin\"\n",
            "  /bin/bash ../libtool   --mode=install /usr/bin/install -c mecab '/usr/local/bin'\n",
            "libtool: install: /usr/bin/install -c .libs/mecab /usr/local/bin/mecab\n",
            "test -z \"/usr/local/libexec/mecab\" || /bin/mkdir -p \"/usr/local/libexec/mecab\"\n",
            "  /bin/bash ../libtool   --mode=install /usr/bin/install -c mecab-dict-index mecab-dict-gen mecab-cost-train mecab-system-eval mecab-test-gen '/usr/local/libexec/mecab'\n",
            "libtool: install: /usr/bin/install -c .libs/mecab-dict-index /usr/local/libexec/mecab/mecab-dict-index\n",
            "libtool: install: /usr/bin/install -c .libs/mecab-dict-gen /usr/local/libexec/mecab/mecab-dict-gen\n",
            "libtool: install: /usr/bin/install -c .libs/mecab-cost-train /usr/local/libexec/mecab/mecab-cost-train\n",
            "libtool: install: /usr/bin/install -c .libs/mecab-system-eval /usr/local/libexec/mecab/mecab-system-eval\n",
            "libtool: install: /usr/bin/install -c .libs/mecab-test-gen /usr/local/libexec/mecab/mecab-test-gen\n",
            "test -z \"/usr/local/include\" || /bin/mkdir -p \"/usr/local/include\"\n",
            " /usr/bin/install -c -m 644 mecab.h '/usr/local/include'\n",
            "make[2]: Leaving directory '/tmp/mecab-0.996-ko-0.9.2/src'\n",
            "make[1]: Leaving directory '/tmp/mecab-0.996-ko-0.9.2/src'\n",
            "Making install in man\n",
            "make[1]: Entering directory '/tmp/mecab-0.996-ko-0.9.2/man'\n",
            "make[2]: Entering directory '/tmp/mecab-0.996-ko-0.9.2/man'\n",
            "make[2]: Nothing to be done for 'install-exec-am'.\n",
            "test -z \"/usr/local/share/man/man1\" || /bin/mkdir -p \"/usr/local/share/man/man1\"\n",
            " /usr/bin/install -c -m 644 mecab.1 '/usr/local/share/man/man1'\n",
            "make[2]: Leaving directory '/tmp/mecab-0.996-ko-0.9.2/man'\n",
            "make[1]: Leaving directory '/tmp/mecab-0.996-ko-0.9.2/man'\n",
            "Making install in doc\n",
            "make[1]: Entering directory '/tmp/mecab-0.996-ko-0.9.2/doc'\n",
            "make[2]: Entering directory '/tmp/mecab-0.996-ko-0.9.2/doc'\n",
            "make[2]: Nothing to be done for 'install-exec-am'.\n",
            "make[2]: Nothing to be done for 'install-data-am'.\n",
            "make[2]: Leaving directory '/tmp/mecab-0.996-ko-0.9.2/doc'\n",
            "make[1]: Leaving directory '/tmp/mecab-0.996-ko-0.9.2/doc'\n",
            "Making install in tests\n",
            "make[1]: Entering directory '/tmp/mecab-0.996-ko-0.9.2/tests'\n",
            "make[2]: Entering directory '/tmp/mecab-0.996-ko-0.9.2/tests'\n",
            "make[2]: Nothing to be done for 'install-exec-am'.\n",
            "make[2]: Nothing to be done for 'install-data-am'.\n",
            "make[2]: Leaving directory '/tmp/mecab-0.996-ko-0.9.2/tests'\n",
            "make[1]: Leaving directory '/tmp/mecab-0.996-ko-0.9.2/tests'\n",
            "make[1]: Entering directory '/tmp/mecab-0.996-ko-0.9.2'\n",
            "make[2]: Entering directory '/tmp/mecab-0.996-ko-0.9.2'\n",
            "test -z \"/usr/local/bin\" || /bin/mkdir -p \"/usr/local/bin\"\n",
            " /usr/bin/install -c mecab-config '/usr/local/bin'\n",
            "test -z \"/usr/local/etc\" || /bin/mkdir -p \"/usr/local/etc\"\n",
            " /usr/bin/install -c -m 644 mecabrc '/usr/local/etc'\n",
            "make[2]: Leaving directory '/tmp/mecab-0.996-ko-0.9.2'\n",
            "make[1]: Leaving directory '/tmp/mecab-0.996-ko-0.9.2'\n",
            "/sbin/ldconfig.real: /usr/local/lib/python3.7/dist-packages/ideep4py/lib/libmkldnn.so.0 is not a symbolic link\n",
            "\n",
            "--2022-03-23 08:57:19--  https://www.dropbox.com/s/i8girnk5p80076c/mecab-ko-dic-2.1.1-20180720.tar.gz?dl=1\n",
            "Resolving www.dropbox.com (www.dropbox.com)... 162.125.2.18, 2620:100:6017:18::a27d:212\n",
            "Connecting to www.dropbox.com (www.dropbox.com)|162.125.2.18|:443... connected.\n",
            "HTTP request sent, awaiting response... 301 Moved Permanently\n",
            "Location: /s/dl/i8girnk5p80076c/mecab-ko-dic-2.1.1-20180720.tar.gz [following]\n",
            "--2022-03-23 08:57:19--  https://www.dropbox.com/s/dl/i8girnk5p80076c/mecab-ko-dic-2.1.1-20180720.tar.gz\n",
            "Reusing existing connection to www.dropbox.com:443.\n",
            "HTTP request sent, awaiting response... 302 Found\n",
            "Location: https://uca8d5d11a51d09d207597aae589.dl.dropboxusercontent.com/cd/0/get/Bh_R2_7vCIcUmcudqs3YKrldfjI88Xw1ixsqrfzk5_mXoQiEIuRw-ySbYbuno7Ih740xuaaMGvJjAUoAGu9_4baQ0wRUUkUv41lOcju549Y1iiL9_Hhw_0YjG90ZszzrBtbNHl5iobl1cee7DwQ6qnWOm4PZJzyWIuIIJxq0_IRI4sQ4cjFX12TZtYhANHMx5AI/file?dl=1# [following]\n",
            "--2022-03-23 08:57:20--  https://uca8d5d11a51d09d207597aae589.dl.dropboxusercontent.com/cd/0/get/Bh_R2_7vCIcUmcudqs3YKrldfjI88Xw1ixsqrfzk5_mXoQiEIuRw-ySbYbuno7Ih740xuaaMGvJjAUoAGu9_4baQ0wRUUkUv41lOcju549Y1iiL9_Hhw_0YjG90ZszzrBtbNHl5iobl1cee7DwQ6qnWOm4PZJzyWIuIIJxq0_IRI4sQ4cjFX12TZtYhANHMx5AI/file?dl=1\n",
            "Resolving uca8d5d11a51d09d207597aae589.dl.dropboxusercontent.com (uca8d5d11a51d09d207597aae589.dl.dropboxusercontent.com)... 162.125.2.15, 2620:100:6017:15::a27d:20f\n",
            "Connecting to uca8d5d11a51d09d207597aae589.dl.dropboxusercontent.com (uca8d5d11a51d09d207597aae589.dl.dropboxusercontent.com)|162.125.2.15|:443... connected.\n",
            "HTTP request sent, awaiting response... 200 OK\n",
            "Length: 49775061 (47M) [application/binary]\n",
            "Saving to: ‘mecab-ko-dic-2.1.1-20180720.tar.gz?dl=1’\n",
            "\n",
            "mecab-ko-dic-2.1.1- 100%[===================>]  47.47M  61.4MB/s    in 0.8s    \n",
            "\n",
            "2022-03-23 08:57:21 (61.4 MB/s) - ‘mecab-ko-dic-2.1.1-20180720.tar.gz?dl=1’ saved [49775061/49775061]\n",
            "\n",
            "Reading package lists... Done\n",
            "Building dependency tree       \n",
            "Reading state information... Done\n",
            "The following additional packages will be installed:\n",
            "  automake autotools-dev libsigsegv2 m4\n",
            "Suggested packages:\n",
            "  autoconf-archive gnu-standards autoconf-doc libtool gettext m4-doc\n",
            "The following NEW packages will be installed:\n",
            "  autoconf automake autotools-dev libsigsegv2 m4\n",
            "0 upgraded, 5 newly installed, 0 to remove and 39 not upgraded.\n",
            "Need to get 1,082 kB of archives.\n",
            "After this operation, 3,994 kB of additional disk space will be used.\n",
            "Get:1 http://archive.ubuntu.com/ubuntu bionic/main amd64 libsigsegv2 amd64 2.12-1 [14.7 kB]\n",
            "Get:2 http://archive.ubuntu.com/ubuntu bionic/main amd64 m4 amd64 1.4.18-1 [197 kB]\n",
            "Get:3 http://archive.ubuntu.com/ubuntu bionic/main amd64 autoconf all 2.69-11 [322 kB]\n",
            "Get:4 http://archive.ubuntu.com/ubuntu bionic/main amd64 autotools-dev all 20180224.1 [39.6 kB]\n",
            "Get:5 http://archive.ubuntu.com/ubuntu bionic/main amd64 automake all 1:1.15.1-3ubuntu2 [509 kB]\n",
            "Fetched 1,082 kB in 1s (1,509 kB/s)\n",
            "Selecting previously unselected package libsigsegv2:amd64.\n",
            "(Reading database ... 155335 files and directories currently installed.)\n",
            "Preparing to unpack .../libsigsegv2_2.12-1_amd64.deb ...\n",
            "Unpacking libsigsegv2:amd64 (2.12-1) ...\n",
            "Selecting previously unselected package m4.\n",
            "Preparing to unpack .../archives/m4_1.4.18-1_amd64.deb ...\n",
            "Unpacking m4 (1.4.18-1) ...\n",
            "Selecting previously unselected package autoconf.\n",
            "Preparing to unpack .../autoconf_2.69-11_all.deb ...\n",
            "Unpacking autoconf (2.69-11) ...\n",
            "Selecting previously unselected package autotools-dev.\n",
            "Preparing to unpack .../autotools-dev_20180224.1_all.deb ...\n",
            "Unpacking autotools-dev (20180224.1) ...\n",
            "Selecting previously unselected package automake.\n",
            "Preparing to unpack .../automake_1%3a1.15.1-3ubuntu2_all.deb ...\n",
            "Unpacking automake (1:1.15.1-3ubuntu2) ...\n",
            "Setting up libsigsegv2:amd64 (2.12-1) ...\n",
            "Setting up m4 (1.4.18-1) ...\n",
            "Setting up autotools-dev (20180224.1) ...\n",
            "Setting up autoconf (2.69-11) ...\n",
            "Setting up automake (1:1.15.1-3ubuntu2) ...\n",
            "update-alternatives: using /usr/bin/automake-1.15 to provide /usr/bin/automake (automake) in auto mode\n",
            "Processing triggers for libc-bin (2.27-3ubuntu1.3) ...\n",
            "/sbin/ldconfig.real: /usr/local/lib/python3.7/dist-packages/ideep4py/lib/libmkldnn.so.0 is not a symbolic link\n",
            "\n",
            "Processing triggers for man-db (2.8.3-2ubuntu0.1) ...\n",
            "mecab-ko-dic-2.1.1-20180720/\n",
            "mecab-ko-dic-2.1.1-20180720/configure\n",
            "mecab-ko-dic-2.1.1-20180720/COPYING\n",
            "mecab-ko-dic-2.1.1-20180720/autogen.sh\n",
            "mecab-ko-dic-2.1.1-20180720/Place-station.csv\n",
            "mecab-ko-dic-2.1.1-20180720/NNG.csv\n",
            "mecab-ko-dic-2.1.1-20180720/README\n",
            "mecab-ko-dic-2.1.1-20180720/EF.csv\n",
            "mecab-ko-dic-2.1.1-20180720/MAG.csv\n",
            "mecab-ko-dic-2.1.1-20180720/Preanalysis.csv\n",
            "mecab-ko-dic-2.1.1-20180720/NNB.csv\n",
            "mecab-ko-dic-2.1.1-20180720/Person-actor.csv\n",
            "mecab-ko-dic-2.1.1-20180720/VV.csv\n",
            "mecab-ko-dic-2.1.1-20180720/Makefile.in\n",
            "mecab-ko-dic-2.1.1-20180720/matrix.def\n",
            "mecab-ko-dic-2.1.1-20180720/EC.csv\n",
            "mecab-ko-dic-2.1.1-20180720/NNBC.csv\n",
            "mecab-ko-dic-2.1.1-20180720/clean\n",
            "mecab-ko-dic-2.1.1-20180720/ChangeLog\n",
            "mecab-ko-dic-2.1.1-20180720/J.csv\n",
            "mecab-ko-dic-2.1.1-20180720/.keep\n",
            "mecab-ko-dic-2.1.1-20180720/feature.def\n",
            "mecab-ko-dic-2.1.1-20180720/Foreign.csv\n",
            "mecab-ko-dic-2.1.1-20180720/XPN.csv\n",
            "mecab-ko-dic-2.1.1-20180720/EP.csv\n",
            "mecab-ko-dic-2.1.1-20180720/NR.csv\n",
            "mecab-ko-dic-2.1.1-20180720/left-id.def\n",
            "mecab-ko-dic-2.1.1-20180720/Place.csv\n",
            "mecab-ko-dic-2.1.1-20180720/Symbol.csv\n",
            "mecab-ko-dic-2.1.1-20180720/dicrc\n",
            "mecab-ko-dic-2.1.1-20180720/NP.csv\n",
            "mecab-ko-dic-2.1.1-20180720/ETM.csv\n",
            "mecab-ko-dic-2.1.1-20180720/IC.csv\n",
            "mecab-ko-dic-2.1.1-20180720/Place-address.csv\n",
            "mecab-ko-dic-2.1.1-20180720/Group.csv\n",
            "mecab-ko-dic-2.1.1-20180720/model.def\n",
            "mecab-ko-dic-2.1.1-20180720/XSN.csv\n",
            "mecab-ko-dic-2.1.1-20180720/INSTALL\n",
            "mecab-ko-dic-2.1.1-20180720/rewrite.def\n",
            "mecab-ko-dic-2.1.1-20180720/Inflect.csv\n",
            "mecab-ko-dic-2.1.1-20180720/configure.ac\n",
            "mecab-ko-dic-2.1.1-20180720/NNP.csv\n",
            "mecab-ko-dic-2.1.1-20180720/CoinedWord.csv\n",
            "mecab-ko-dic-2.1.1-20180720/XSV.csv\n",
            "mecab-ko-dic-2.1.1-20180720/pos-id.def\n",
            "mecab-ko-dic-2.1.1-20180720/Makefile.am\n",
            "mecab-ko-dic-2.1.1-20180720/unk.def\n",
            "mecab-ko-dic-2.1.1-20180720/missing\n",
            "mecab-ko-dic-2.1.1-20180720/VCP.csv\n",
            "mecab-ko-dic-2.1.1-20180720/install-sh\n",
            "mecab-ko-dic-2.1.1-20180720/Hanja.csv\n",
            "mecab-ko-dic-2.1.1-20180720/MAJ.csv\n",
            "mecab-ko-dic-2.1.1-20180720/XSA.csv\n",
            "mecab-ko-dic-2.1.1-20180720/Wikipedia.csv\n",
            "mecab-ko-dic-2.1.1-20180720/tools/\n",
            "mecab-ko-dic-2.1.1-20180720/tools/add-userdic.sh\n",
            "mecab-ko-dic-2.1.1-20180720/tools/mecab-bestn.sh\n",
            "mecab-ko-dic-2.1.1-20180720/tools/convert_for_using_store.sh\n",
            "mecab-ko-dic-2.1.1-20180720/user-dic/\n",
            "mecab-ko-dic-2.1.1-20180720/user-dic/nnp.csv\n",
            "mecab-ko-dic-2.1.1-20180720/user-dic/place.csv\n",
            "mecab-ko-dic-2.1.1-20180720/user-dic/person.csv\n",
            "mecab-ko-dic-2.1.1-20180720/user-dic/README.md\n",
            "mecab-ko-dic-2.1.1-20180720/NorthKorea.csv\n",
            "mecab-ko-dic-2.1.1-20180720/VX.csv\n",
            "mecab-ko-dic-2.1.1-20180720/right-id.def\n",
            "mecab-ko-dic-2.1.1-20180720/VA.csv\n",
            "mecab-ko-dic-2.1.1-20180720/char.def\n",
            "mecab-ko-dic-2.1.1-20180720/NEWS\n",
            "mecab-ko-dic-2.1.1-20180720/MM.csv\n",
            "mecab-ko-dic-2.1.1-20180720/ETN.csv\n",
            "mecab-ko-dic-2.1.1-20180720/AUTHORS\n",
            "mecab-ko-dic-2.1.1-20180720/Person.csv\n",
            "mecab-ko-dic-2.1.1-20180720/XR.csv\n",
            "mecab-ko-dic-2.1.1-20180720/VCN.csv\n",
            "Looking in current directory for macros.\n",
            "configure.ac:2: warning: AM_INIT_AUTOMAKE: two- and three-arguments forms are deprecated.  For more info, see:\n",
            "configure.ac:2: http://www.gnu.org/software/automake/manual/automake.html#Modernize-AM_005fINIT_005fAUTOMAKE-invocation\n",
            "checking for a BSD-compatible install... /usr/bin/install -c\n",
            "checking whether build environment is sane... yes\n",
            "/tmp/mecab-ko-dic-2.1.1-20180720/missing: Unknown `--is-lightweight' option\n",
            "Try `/tmp/mecab-ko-dic-2.1.1-20180720/missing --help' for more information\n",
            "configure: WARNING: 'missing' script is too old or missing\n",
            "checking for a thread-safe mkdir -p... /bin/mkdir -p\n",
            "checking for gawk... no\n",
            "checking for mawk... mawk\n",
            "checking whether make sets $(MAKE)... yes\n",
            "checking whether make supports nested variables... yes\n",
            "checking for mecab-config... /usr/local/bin/mecab-config\n",
            "checking that generated files are newer than configure... done\n",
            "configure: creating ./config.status\n",
            "config.status: creating Makefile\n",
            "/usr/local/libexec/mecab/mecab-dict-index -d . -o . -f UTF-8 -t UTF-8\n",
            "reading ./unk.def ... 13\n",
            "emitting double-array: 100% |###########################################| \n",
            "reading ./Inflect.csv ... 44820\n",
            "reading ./Place-station.csv ... 1145\n",
            "reading ./MM.csv ... 453\n",
            "reading ./NP.csv ... 342\n",
            "reading ./Person.csv ... 196459\n",
            "reading ./NNBC.csv ... 677\n",
            "reading ./NNP.csv ... 2371\n",
            "reading ./NorthKorea.csv ... 3\n",
            "reading ./VV.csv ... 7331\n",
            "reading ./ETN.csv ... 14\n",
            "reading ./VCP.csv ... 9\n",
            "reading ./XSN.csv ... 124\n",
            "reading ./EP.csv ... 51\n",
            "reading ./MAG.csv ... 14242\n",
            "reading ./IC.csv ... 1305\n",
            "reading ./Place.csv ... 30303\n",
            "reading ./XSA.csv ... 19\n",
            "reading ./EC.csv ... 2547\n",
            "reading ./NR.csv ... 482\n",
            "reading ./Preanalysis.csv ... 5\n",
            "reading ./VA.csv ... 2360\n",
            "reading ./NNB.csv ... 140\n",
            "reading ./J.csv ... 416\n",
            "reading ./VX.csv ... 125\n",
            "reading ./MAJ.csv ... 240\n",
            "reading ./Wikipedia.csv ... 36762\n",
            "reading ./Group.csv ... 3176\n",
            "reading ./XR.csv ... 3637\n",
            "reading ./NNG.csv ... 208524\n",
            "reading ./XPN.csv ... 83\n",
            "reading ./Hanja.csv ... 125750\n",
            "reading ./CoinedWord.csv ... 148\n",
            "reading ./Person-actor.csv ... 99230\n",
            "reading ./ETM.csv ... 133\n",
            "reading ./VCN.csv ... 7\n",
            "reading ./EF.csv ... 1820\n",
            "reading ./Foreign.csv ... 11690\n",
            "reading ./Symbol.csv ... 16\n",
            "reading ./XSV.csv ... 23\n",
            "reading ./Place-address.csv ... 19301\n",
            "emitting double-array: 100% |###########################################| \n",
            "reading ./matrix.def ... 3822x2693\n",
            "emitting matrix      : 100% |###########################################| \n",
            "\n",
            "done!\n",
            "echo To enable dictionary, rewrite /usr/local/etc/mecabrc as \\\"dicdir = /usr/local/lib/mecab/dic/mecab-ko-dic\\\"\n",
            "To enable dictionary, rewrite /usr/local/etc/mecabrc as \"dicdir = /usr/local/lib/mecab/dic/mecab-ko-dic\"\n",
            "make[1]: Entering directory '/tmp/mecab-ko-dic-2.1.1-20180720'\n",
            "make[1]: Nothing to be done for 'install-exec-am'.\n",
            " /bin/mkdir -p '/usr/local/lib/mecab/dic/mecab-ko-dic'\n",
            " /usr/bin/install -c -m 644 model.bin matrix.bin char.bin sys.dic unk.dic left-id.def right-id.def rewrite.def pos-id.def dicrc '/usr/local/lib/mecab/dic/mecab-ko-dic'\n",
            "make[1]: Leaving directory '/tmp/mecab-ko-dic-2.1.1-20180720'\n",
            "/sbin/ldconfig.real: /usr/local/lib/python3.7/dist-packages/ideep4py/lib/libmkldnn.so.0 is not a symbolic link\n",
            "\n",
            "Cloning into 'mecab-python-0.996'...\n",
            "Unpacking objects: 100% (17/17), done.\n",
            "running build\n",
            "running build_py\n",
            "creating build\n",
            "creating build/lib.linux-x86_64-3.7\n",
            "copying MeCab.py -> build/lib.linux-x86_64-3.7\n",
            "running build_ext\n",
            "building '_MeCab' extension\n",
            "creating build/temp.linux-x86_64-3.7\n",
            "x86_64-linux-gnu-gcc -pthread -Wno-unused-result -Wsign-compare -DNDEBUG -g -fwrapv -O2 -Wall -g -fdebug-prefix-map=/build/python3.7-pX47U3/python3.7-3.7.12=. -fstack-protector-strong -Wformat -Werror=format-security -g -fdebug-prefix-map=/build/python3.7-pX47U3/python3.7-3.7.12=. -fstack-protector-strong -Wformat -Werror=format-security -Wdate-time -D_FORTIFY_SOURCE=2 -fPIC -I/usr/local/include -I/usr/include/python3.7m -c MeCab_wrap.cxx -o build/temp.linux-x86_64-3.7/MeCab_wrap.o\n",
            "x86_64-linux-gnu-g++ -pthread -shared -Wl,-O1 -Wl,-Bsymbolic-functions -Wl,-Bsymbolic-functions -Wl,-z,relro -Wl,-Bsymbolic-functions -Wl,-z,relro -g -fdebug-prefix-map=/build/python3.7-pX47U3/python3.7-3.7.12=. -fstack-protector-strong -Wformat -Werror=format-security -Wdate-time -D_FORTIFY_SOURCE=2 build/temp.linux-x86_64-3.7/MeCab_wrap.o -L/usr/local/lib -lmecab -lstdc++ -o build/lib.linux-x86_64-3.7/_MeCab.cpython-37m-x86_64-linux-gnu.so\n",
            "running install\n",
            "running build\n",
            "running build_py\n",
            "running build_ext\n",
            "running install_lib\n",
            "copying build/lib.linux-x86_64-3.7/MeCab.py -> /usr/local/lib/python3.7/dist-packages\n",
            "copying build/lib.linux-x86_64-3.7/_MeCab.cpython-37m-x86_64-linux-gnu.so -> /usr/local/lib/python3.7/dist-packages\n",
            "byte-compiling /usr/local/lib/python3.7/dist-packages/MeCab.py to MeCab.cpython-37.pyc\n",
            "running install_egg_info\n",
            "Writing /usr/local/lib/python3.7/dist-packages/mecab_python-0.996_ko_0.9.2.egg-info\n",
            "Collecting konlpy\n",
            "  Downloading konlpy-0.6.0-py2.py3-none-any.whl (19.4 MB)\n",
            "\u001b[K     |████████████████████████████████| 19.4 MB 1.2 MB/s \n",
            "\u001b[?25hRequirement already satisfied: numpy>=1.6 in /usr/local/lib/python3.7/dist-packages (from konlpy) (1.21.5)\n",
            "Requirement already satisfied: lxml>=4.1.0 in /usr/local/lib/python3.7/dist-packages (from konlpy) (4.2.6)\n",
            "Collecting JPype1>=0.7.0\n",
            "  Downloading JPype1-1.3.0-cp37-cp37m-manylinux_2_5_x86_64.manylinux1_x86_64.whl (448 kB)\n",
            "\u001b[K     |████████████████████████████████| 448 kB 40.1 MB/s \n",
            "\u001b[?25hRequirement already satisfied: typing-extensions in /usr/local/lib/python3.7/dist-packages (from JPype1>=0.7.0->konlpy) (3.10.0.2)\n",
            "Installing collected packages: JPype1, konlpy\n",
            "Successfully installed JPype1-1.3.0 konlpy-0.6.0\n"
          ]
        }
      ],
      "source": [
        "# MeCab 형태소 분석기, konlpy 도 함께 설치! \n",
        "\n",
        "!curl -s https://raw.githubusercontent.com/teddylee777/machine-learning/master/99-Misc/01-Colab/mecab-colab.sh | bash"
      ]
    },
    {
      "cell_type": "code",
      "source": [
        "from konlpy.tag import Mecab\n",
        "\n",
        "mecab = Mecab()\n",
        "print(mecab.morphs('자연어처리가너무재밌어서밥먹는것도가끔까먹어요오그렇군요'))"
      ],
      "metadata": {
        "colab": {
          "base_uri": "https://localhost:8080/"
        },
        "id": "EKuCu_ht4j3U",
        "outputId": "4a4d4a1a-3ccb-423e-e520-0ae89bd658e2"
      },
      "execution_count": 4,
      "outputs": [
        {
          "output_type": "stream",
          "name": "stdout",
          "text": [
            "['자연어', '처리', '가', '너무', '재밌', '어서', '밥', '먹', '는', '것', '도', '가끔', '까먹', '어요오', '그렇', '군요']\n"
          ]
        }
      ]
    },
    {
      "cell_type": "markdown",
      "source": [
        "# SentencePiece 설치하기 \n",
        "\n",
        "\n",
        "* 이번 프로젝트에 사용할 Sentencepiece 를 설치합니다. \n",
        "- SentencePiece는 Google에서 제공하는 오픈소스 기반 Sentence Tokenizer/Detokenizer 로서, BPE와 unigram 2가지 subword 토크나이징 모델 중 하나를 선택해서 사용할 수 있도록 패키징한 것입니다. \n",
        "- [링크](https://github.com/google/sentencepiece) 의 페이지에서 상세한 내용을 파악할 수 있습니다. \n",
        "- 최근 사전학습된 모델들이 거의 SentencePiece를 tokenizer로 채용하면서, 사실상 표준의 역할을 하고있음. "
      ],
      "metadata": {
        "id": "zl-v6llMUNQI"
      }
    },
    {
      "cell_type": "code",
      "source": [
        "!pip install sentencepiece"
      ],
      "metadata": {
        "colab": {
          "base_uri": "https://localhost:8080/"
        },
        "id": "Xbe_qZeQHP5S",
        "outputId": "6210731a-592b-4e51-b9c2-80ce5a218ef1"
      },
      "execution_count": 5,
      "outputs": [
        {
          "output_type": "stream",
          "name": "stdout",
          "text": [
            "Collecting sentencepiece\n",
            "  Downloading sentencepiece-0.1.96-cp37-cp37m-manylinux_2_17_x86_64.manylinux2014_x86_64.whl (1.2 MB)\n",
            "\u001b[?25l\r\u001b[K     |▎                               | 10 kB 21.1 MB/s eta 0:00:01\r\u001b[K     |▌                               | 20 kB 25.7 MB/s eta 0:00:01\r\u001b[K     |▉                               | 30 kB 25.1 MB/s eta 0:00:01\r\u001b[K     |█                               | 40 kB 13.6 MB/s eta 0:00:01\r\u001b[K     |█▍                              | 51 kB 7.1 MB/s eta 0:00:01\r\u001b[K     |█▋                              | 61 kB 8.3 MB/s eta 0:00:01\r\u001b[K     |██                              | 71 kB 8.4 MB/s eta 0:00:01\r\u001b[K     |██▏                             | 81 kB 7.9 MB/s eta 0:00:01\r\u001b[K     |██▍                             | 92 kB 8.7 MB/s eta 0:00:01\r\u001b[K     |██▊                             | 102 kB 7.8 MB/s eta 0:00:01\r\u001b[K     |███                             | 112 kB 7.8 MB/s eta 0:00:01\r\u001b[K     |███▎                            | 122 kB 7.8 MB/s eta 0:00:01\r\u001b[K     |███▌                            | 133 kB 7.8 MB/s eta 0:00:01\r\u001b[K     |███▉                            | 143 kB 7.8 MB/s eta 0:00:01\r\u001b[K     |████                            | 153 kB 7.8 MB/s eta 0:00:01\r\u001b[K     |████▎                           | 163 kB 7.8 MB/s eta 0:00:01\r\u001b[K     |████▋                           | 174 kB 7.8 MB/s eta 0:00:01\r\u001b[K     |████▉                           | 184 kB 7.8 MB/s eta 0:00:01\r\u001b[K     |█████▏                          | 194 kB 7.8 MB/s eta 0:00:01\r\u001b[K     |█████▍                          | 204 kB 7.8 MB/s eta 0:00:01\r\u001b[K     |█████▊                          | 215 kB 7.8 MB/s eta 0:00:01\r\u001b[K     |██████                          | 225 kB 7.8 MB/s eta 0:00:01\r\u001b[K     |██████▏                         | 235 kB 7.8 MB/s eta 0:00:01\r\u001b[K     |██████▌                         | 245 kB 7.8 MB/s eta 0:00:01\r\u001b[K     |██████▊                         | 256 kB 7.8 MB/s eta 0:00:01\r\u001b[K     |███████                         | 266 kB 7.8 MB/s eta 0:00:01\r\u001b[K     |███████▎                        | 276 kB 7.8 MB/s eta 0:00:01\r\u001b[K     |███████▋                        | 286 kB 7.8 MB/s eta 0:00:01\r\u001b[K     |███████▉                        | 296 kB 7.8 MB/s eta 0:00:01\r\u001b[K     |████████                        | 307 kB 7.8 MB/s eta 0:00:01\r\u001b[K     |████████▍                       | 317 kB 7.8 MB/s eta 0:00:01\r\u001b[K     |████████▋                       | 327 kB 7.8 MB/s eta 0:00:01\r\u001b[K     |█████████                       | 337 kB 7.8 MB/s eta 0:00:01\r\u001b[K     |█████████▏                      | 348 kB 7.8 MB/s eta 0:00:01\r\u001b[K     |█████████▌                      | 358 kB 7.8 MB/s eta 0:00:01\r\u001b[K     |█████████▊                      | 368 kB 7.8 MB/s eta 0:00:01\r\u001b[K     |██████████                      | 378 kB 7.8 MB/s eta 0:00:01\r\u001b[K     |██████████▎                     | 389 kB 7.8 MB/s eta 0:00:01\r\u001b[K     |██████████▌                     | 399 kB 7.8 MB/s eta 0:00:01\r\u001b[K     |██████████▉                     | 409 kB 7.8 MB/s eta 0:00:01\r\u001b[K     |███████████                     | 419 kB 7.8 MB/s eta 0:00:01\r\u001b[K     |███████████▍                    | 430 kB 7.8 MB/s eta 0:00:01\r\u001b[K     |███████████▋                    | 440 kB 7.8 MB/s eta 0:00:01\r\u001b[K     |███████████▉                    | 450 kB 7.8 MB/s eta 0:00:01\r\u001b[K     |████████████▏                   | 460 kB 7.8 MB/s eta 0:00:01\r\u001b[K     |████████████▍                   | 471 kB 7.8 MB/s eta 0:00:01\r\u001b[K     |████████████▊                   | 481 kB 7.8 MB/s eta 0:00:01\r\u001b[K     |█████████████                   | 491 kB 7.8 MB/s eta 0:00:01\r\u001b[K     |█████████████▎                  | 501 kB 7.8 MB/s eta 0:00:01\r\u001b[K     |█████████████▌                  | 512 kB 7.8 MB/s eta 0:00:01\r\u001b[K     |█████████████▊                  | 522 kB 7.8 MB/s eta 0:00:01\r\u001b[K     |██████████████                  | 532 kB 7.8 MB/s eta 0:00:01\r\u001b[K     |██████████████▎                 | 542 kB 7.8 MB/s eta 0:00:01\r\u001b[K     |██████████████▋                 | 552 kB 7.8 MB/s eta 0:00:01\r\u001b[K     |██████████████▉                 | 563 kB 7.8 MB/s eta 0:00:01\r\u001b[K     |███████████████▏                | 573 kB 7.8 MB/s eta 0:00:01\r\u001b[K     |███████████████▍                | 583 kB 7.8 MB/s eta 0:00:01\r\u001b[K     |███████████████▋                | 593 kB 7.8 MB/s eta 0:00:01\r\u001b[K     |████████████████                | 604 kB 7.8 MB/s eta 0:00:01\r\u001b[K     |████████████████▏               | 614 kB 7.8 MB/s eta 0:00:01\r\u001b[K     |████████████████▌               | 624 kB 7.8 MB/s eta 0:00:01\r\u001b[K     |████████████████▊               | 634 kB 7.8 MB/s eta 0:00:01\r\u001b[K     |█████████████████               | 645 kB 7.8 MB/s eta 0:00:01\r\u001b[K     |█████████████████▎              | 655 kB 7.8 MB/s eta 0:00:01\r\u001b[K     |█████████████████▌              | 665 kB 7.8 MB/s eta 0:00:01\r\u001b[K     |█████████████████▉              | 675 kB 7.8 MB/s eta 0:00:01\r\u001b[K     |██████████████████              | 686 kB 7.8 MB/s eta 0:00:01\r\u001b[K     |██████████████████▍             | 696 kB 7.8 MB/s eta 0:00:01\r\u001b[K     |██████████████████▋             | 706 kB 7.8 MB/s eta 0:00:01\r\u001b[K     |███████████████████             | 716 kB 7.8 MB/s eta 0:00:01\r\u001b[K     |███████████████████▏            | 727 kB 7.8 MB/s eta 0:00:01\r\u001b[K     |███████████████████▍            | 737 kB 7.8 MB/s eta 0:00:01\r\u001b[K     |███████████████████▊            | 747 kB 7.8 MB/s eta 0:00:01\r\u001b[K     |████████████████████            | 757 kB 7.8 MB/s eta 0:00:01\r\u001b[K     |████████████████████▎           | 768 kB 7.8 MB/s eta 0:00:01\r\u001b[K     |████████████████████▌           | 778 kB 7.8 MB/s eta 0:00:01\r\u001b[K     |████████████████████▉           | 788 kB 7.8 MB/s eta 0:00:01\r\u001b[K     |█████████████████████           | 798 kB 7.8 MB/s eta 0:00:01\r\u001b[K     |█████████████████████▎          | 808 kB 7.8 MB/s eta 0:00:01\r\u001b[K     |█████████████████████▋          | 819 kB 7.8 MB/s eta 0:00:01\r\u001b[K     |█████████████████████▉          | 829 kB 7.8 MB/s eta 0:00:01\r\u001b[K     |██████████████████████▏         | 839 kB 7.8 MB/s eta 0:00:01\r\u001b[K     |██████████████████████▍         | 849 kB 7.8 MB/s eta 0:00:01\r\u001b[K     |██████████████████████▊         | 860 kB 7.8 MB/s eta 0:00:01\r\u001b[K     |███████████████████████         | 870 kB 7.8 MB/s eta 0:00:01\r\u001b[K     |███████████████████████▏        | 880 kB 7.8 MB/s eta 0:00:01\r\u001b[K     |███████████████████████▌        | 890 kB 7.8 MB/s eta 0:00:01\r\u001b[K     |███████████████████████▊        | 901 kB 7.8 MB/s eta 0:00:01\r\u001b[K     |████████████████████████        | 911 kB 7.8 MB/s eta 0:00:01\r\u001b[K     |████████████████████████▎       | 921 kB 7.8 MB/s eta 0:00:01\r\u001b[K     |████████████████████████▋       | 931 kB 7.8 MB/s eta 0:00:01\r\u001b[K     |████████████████████████▉       | 942 kB 7.8 MB/s eta 0:00:01\r\u001b[K     |█████████████████████████       | 952 kB 7.8 MB/s eta 0:00:01\r\u001b[K     |█████████████████████████▍      | 962 kB 7.8 MB/s eta 0:00:01\r\u001b[K     |█████████████████████████▋      | 972 kB 7.8 MB/s eta 0:00:01\r\u001b[K     |██████████████████████████      | 983 kB 7.8 MB/s eta 0:00:01\r\u001b[K     |██████████████████████████▏     | 993 kB 7.8 MB/s eta 0:00:01\r\u001b[K     |██████████████████████████▌     | 1.0 MB 7.8 MB/s eta 0:00:01\r\u001b[K     |██████████████████████████▊     | 1.0 MB 7.8 MB/s eta 0:00:01\r\u001b[K     |███████████████████████████     | 1.0 MB 7.8 MB/s eta 0:00:01\r\u001b[K     |███████████████████████████▎    | 1.0 MB 7.8 MB/s eta 0:00:01\r\u001b[K     |███████████████████████████▌    | 1.0 MB 7.8 MB/s eta 0:00:01\r\u001b[K     |███████████████████████████▉    | 1.1 MB 7.8 MB/s eta 0:00:01\r\u001b[K     |████████████████████████████    | 1.1 MB 7.8 MB/s eta 0:00:01\r\u001b[K     |████████████████████████████▍   | 1.1 MB 7.8 MB/s eta 0:00:01\r\u001b[K     |████████████████████████████▋   | 1.1 MB 7.8 MB/s eta 0:00:01\r\u001b[K     |████████████████████████████▉   | 1.1 MB 7.8 MB/s eta 0:00:01\r\u001b[K     |█████████████████████████████▏  | 1.1 MB 7.8 MB/s eta 0:00:01\r\u001b[K     |█████████████████████████████▍  | 1.1 MB 7.8 MB/s eta 0:00:01\r\u001b[K     |█████████████████████████████▊  | 1.1 MB 7.8 MB/s eta 0:00:01\r\u001b[K     |██████████████████████████████  | 1.1 MB 7.8 MB/s eta 0:00:01\r\u001b[K     |██████████████████████████████▎ | 1.1 MB 7.8 MB/s eta 0:00:01\r\u001b[K     |██████████████████████████████▌ | 1.2 MB 7.8 MB/s eta 0:00:01\r\u001b[K     |██████████████████████████████▊ | 1.2 MB 7.8 MB/s eta 0:00:01\r\u001b[K     |███████████████████████████████ | 1.2 MB 7.8 MB/s eta 0:00:01\r\u001b[K     |███████████████████████████████▎| 1.2 MB 7.8 MB/s eta 0:00:01\r\u001b[K     |███████████████████████████████▋| 1.2 MB 7.8 MB/s eta 0:00:01\r\u001b[K     |███████████████████████████████▉| 1.2 MB 7.8 MB/s eta 0:00:01\r\u001b[K     |████████████████████████████████| 1.2 MB 7.8 MB/s \n",
            "\u001b[?25hInstalling collected packages: sentencepiece\n",
            "Successfully installed sentencepiece-0.1.96\n"
          ]
        }
      ]
    },
    {
      "cell_type": "markdown",
      "source": [
        "\\"
      ],
      "metadata": {
        "id": "kAcF0WNb9xxG"
      }
    },
    {
      "cell_type": "markdown",
      "source": [
        "\n",
        "# 2-2 데이터 다운로드 및 분석 \n",
        "\n",
        "\n",
        "1. 먼저 프로젝트에 사용될 라이브러리를 불러옵니다.\n"
      ],
      "metadata": {
        "id": "C3FkuyZd6MMy"
      }
    },
    {
      "cell_type": "code",
      "source": [
        "import os,re\n",
        "import numpy as np\n",
        "import pandas as pd\n",
        "import tensorflow as tf\n",
        "import matplotlib.pyplot as plt\n",
        "import tarfile\n",
        "%matplotlib inline\n",
        "\n",
        "# 프로젝트 진행 시 추가된 내용 \n",
        "import sentencepiece as spm\n",
        "import urllib.request"
      ],
      "metadata": {
        "id": "kf-6QNSO6U4X"
      },
      "execution_count": 53,
      "outputs": []
    },
    {
      "cell_type": "code",
      "source": [
        "# !wget https://github.com/jungyeul/korean-parallel-corpora/raw/master/korean-english-news-v1/korean-english-park.train.tar.gz"
      ],
      "metadata": {
        "id": "_yt4PlsVBhVW"
      },
      "execution_count": 7,
      "outputs": []
    },
    {
      "cell_type": "code",
      "source": [
        "# $ wget https://github.com/jungyeul/korean-parallel-corpora/raw/master/korean-english-news-v1/korean-english-park.train.tar.gz\n",
        "# $ mkdir -p ~/aiffel/sp_tokenizer/data"
      ],
      "metadata": {
        "id": "Y8fvxtPmIznc"
      },
      "execution_count": 8,
      "outputs": []
    },
    {
      "cell_type": "code",
      "source": [
        "# 우선 위치를 확인 해 보고 (드라이브상에서 폴더를 만들고 저장해 줬음.)\n",
        "os.getcwd()"
      ],
      "metadata": {
        "colab": {
          "base_uri": "https://localhost:8080/",
          "height": 36
        },
        "id": "gxr3vfFTH7oc",
        "outputId": "0ca45ac4-c637-4ef8-8b53-642f4b73a184"
      },
      "execution_count": 9,
      "outputs": [
        {
          "output_type": "execute_result",
          "data": {
            "text/plain": [
              "'/content'"
            ],
            "application/vnd.google.colaboratory.intrinsic+json": {
              "type": "string"
            }
          },
          "metadata": {},
          "execution_count": 9
        }
      ]
    },
    {
      "cell_type": "code",
      "source": [
        "# 이동! \n",
        "os.chdir('/content/gdrive/MyDrive/AIFFEL/mkdir/sp_tokenizer/data')"
      ],
      "metadata": {
        "id": "4iaD0AQqIPZl"
      },
      "execution_count": 10,
      "outputs": []
    },
    {
      "cell_type": "code",
      "source": [
        "# 압축 해제! \n",
        "!tar -xzvf korean-english-park.train.tar.gz"
      ],
      "metadata": {
        "id": "L3fqESl4Ik0B",
        "colab": {
          "base_uri": "https://localhost:8080/"
        },
        "outputId": "5a6e5090-53e8-4fd5-91af-cc139d7bd4d8"
      },
      "execution_count": 11,
      "outputs": [
        {
          "output_type": "stream",
          "name": "stdout",
          "text": [
            "korean-english-park.train.en\n",
            "korean-english-park.train.ko\n"
          ]
        }
      ]
    },
    {
      "cell_type": "code",
      "source": [
        "# 데이터 파일을 불러와 확인 해 볼까요? \n",
        "path_to_file = '/content/gdrive/MyDrive/AIFFEL/mkdir/sp_tokenizer/data/korean-english-park.train.ko'\n",
        "\n",
        "with open(path_to_file, \"r\") as f:\n",
        "    raw = f.read().splitlines()\n",
        "\n",
        "print(\"Data Size:\", len(raw))\n",
        "\n",
        "print(\"Example:\")\n",
        "for sen in raw[0:100][::20]: print(\">>\", sen)"
      ],
      "metadata": {
        "id": "vqu31f4MF8jQ",
        "colab": {
          "base_uri": "https://localhost:8080/"
        },
        "outputId": "3506605a-19c1-409e-9ef2-167aa700e7f0"
      },
      "execution_count": 12,
      "outputs": [
        {
          "output_type": "stream",
          "name": "stdout",
          "text": [
            "Data Size: 94123\n",
            "Example:\n",
            ">> 개인용 컴퓨터 사용의 상당 부분은 \"이것보다 뛰어날 수 있느냐?\"\n",
            ">> 북한의 핵무기 계획을 포기하도록 하려는 압력이 거세지고 있는 가운데, 일본과 북한의 외교관들이 외교 관계를 정상화하려는 회담을 재개했다.\n",
            ">> \"경호 로보트가 침입자나 화재를 탐지하기 위해서 개인적으로, 그리고 전문적으로 사용되고 있습니다.\"\n",
            ">> 수자원부 당국은 논란이 되고 있고, 막대한 비용이 드는 이 사업에 대해 내년에 건설을 시작할 계획이다.\n",
            ">> 또한 근력 운동은 활발하게 걷는 것이나 최소한 20분 동안 뛰는 것과 같은 유산소 활동에서 얻는 운동 효과를 심장과 폐에 주지 않기 때문에, 연구학자들은 근력 운동이 심장에 큰 영향을 미치는지 여부에 대해 논쟁을 해왔다.\n"
          ]
        }
      ]
    },
    {
      "cell_type": "markdown",
      "source": [
        "- 데이터 개수는 94123개!\n",
        "- 각 문장이 어느 정도의 길이를 가지는지 확인 해 봅니다.\n",
        "    - 지나치게 긴 데이터를 삭제하거나\n",
        "        - 연산량을 감소시켜 학습 속도가 빨라짐\n",
        "    - 지나치게 짧은 데이터를 검증할 수 있음.\n",
        "        - 단어 - 단어 라면 번역을 할 순 있겠지.\n",
        "    - 데이터를 얼마나 사용할 지 타협점을 정의할 수 있음!\n",
        "- 문장의 최단 길이, 최장 길이, 평균 길이를 구한 후 문장 길이 분포를 막대그래프로 표현해주는 코드!"
      ],
      "metadata": {
        "id": "Cb6KwYQRG471"
      }
    },
    {
      "cell_type": "code",
      "source": [
        "min_len = 999 # 절때 최소가 될 수 없는 수로 잡아준다 \n",
        "max_len = 0\n",
        "sum_len = 0\n",
        "\n",
        "for sen in raw:\n",
        "    length = len(sen)\n",
        "    if min_len > length: min_len = length\n",
        "    if max_len < length: max_len = length\n",
        "    sum_len += length\n",
        "\n",
        "print(\"문장의 최단 길이:\", min_len)\n",
        "print(\"문장의 최장 길이:\", max_len)\n",
        "print(\"문장의 평균 길이:\", sum_len // len(raw))\n",
        "\n",
        "sentence_length = np.zeros((max_len), dtype=np.int)\n",
        "\n",
        "for sen in raw:\n",
        "    sentence_length[len(sen)-1] += 1\n",
        "\n",
        "plt.bar(range(max_len), sentence_length, width=1.0)\n",
        "plt.title(\"Sentence Length Distribution\")\n",
        "plt.show()"
      ],
      "metadata": {
        "id": "zSw7K6wNBPVR",
        "colab": {
          "base_uri": "https://localhost:8080/",
          "height": 414
        },
        "outputId": "7a8abcfd-8d12-438d-ea1a-f48212b22c92"
      },
      "execution_count": 13,
      "outputs": [
        {
          "output_type": "stream",
          "name": "stdout",
          "text": [
            "문장의 최단 길이: 1\n",
            "문장의 최장 길이: 377\n",
            "문장의 평균 길이: 60\n"
          ]
        },
        {
          "output_type": "stream",
          "name": "stderr",
          "text": [
            "/usr/local/lib/python3.7/dist-packages/ipykernel_launcher.py:15: DeprecationWarning: `np.int` is a deprecated alias for the builtin `int`. To silence this warning, use `int` by itself. Doing this will not modify any behavior and is safe. When replacing `np.int`, you may wish to use e.g. `np.int64` or `np.int32` to specify the precision. If you wish to review your current use, check the release note link for additional information.\n",
            "Deprecated in NumPy 1.20; for more details and guidance: https://numpy.org/devdocs/release/1.20.0-notes.html#deprecations\n",
            "  from ipykernel import kernelapp as app\n"
          ]
        },
        {
          "output_type": "display_data",
          "data": {
            "text/plain": [
              "<Figure size 432x288 with 1 Axes>"
            ],
            "image/png": "[encoded data removed]"
          },
          "metadata": {
            "needs_background": "light"
          }
        }
      ]
    },
    {
      "cell_type": "markdown",
      "source": [
        "\\\\\n"
      ],
      "metadata": {
        "id": "PBAogsvoBS9d"
      }
    },
    {
      "cell_type": "markdown",
      "source": [
        "## 최대, 최소값 결과를 보고 생각할 수 있을 만한 것들? \n",
        "- 길이 1짜리 문장은 대체 무엇인가\n",
        "- 0과 50 사이에 치솟는 부분은 무엇인가\n",
        "- 어디서부터 어디까지 자를것인가!"
      ],
      "metadata": {
        "id": "gewlzKZVBWf2"
      }
    },
    {
      "cell_type": "markdown",
      "source": [
        "### 1. 길이 1 짜리 문장은 대체 무엇인가..?"
      ],
      "metadata": {
        "id": "PY-TRQiOBchw"
      }
    },
    {
      "cell_type": "code",
      "source": [
        "def check_sentence_with_length(raw, length):\n",
        "\t\tcount = 0\n",
        "\n",
        "\t\tfor sen in raw:\n",
        "\t\t\t\tif len(sen) == length:\n",
        "\t\t\t\t\t\tprint(sen)\n",
        "\t\t\t\t\t\tcount += 1\n",
        "\t\t\t\t\t\tif count > 100: return \n",
        "\n",
        "check_sentence_with_length(raw, 1)"
      ],
      "metadata": {
        "id": "4m2l23hDGSA-",
        "colab": {
          "base_uri": "https://localhost:8080/"
        },
        "outputId": "0f3a00f1-dd87-4f2f-e2aa-a56c0919a04f"
      },
      "execution_count": 14,
      "outputs": [
        {
          "output_type": "stream",
          "name": "stdout",
          "text": [
            "’\n"
          ]
        }
      ]
    },
    {
      "cell_type": "markdown",
      "source": [
        "* ’ 도 하나의 문장으로 쳤기 때문에 짧은 문장이라구 나온거구나.. "
      ],
      "metadata": {
        "id": "zC1B9wOnGTTv"
      }
    },
    {
      "cell_type": "markdown",
      "source": [
        "### 2. 문장의 수가 1500을 초과하는 문장"
      ],
      "metadata": {
        "id": "vaNMDsWDGYbL"
      }
    },
    {
      "cell_type": "code",
      "source": [
        "for idx, _sum in enumerate(sentence_length):\n",
        "    # 문장의 수가 1500을 초과하는 문장 길이를 추출합니다.\n",
        "    if _sum > 1500:\n",
        "        print(\"Outlier Index:\", idx+1)"
      ],
      "metadata": {
        "id": "gWEYWuabGhLN",
        "colab": {
          "base_uri": "https://localhost:8080/"
        },
        "outputId": "328ea187-ce6d-45af-e297-c52944d44741"
      },
      "execution_count": 15,
      "outputs": [
        {
          "output_type": "stream",
          "name": "stdout",
          "text": [
            "Outlier Index: 11\n",
            "Outlier Index: 19\n",
            "Outlier Index: 21\n"
          ]
        }
      ]
    },
    {
      "cell_type": "code",
      "source": [
        "#index 11 에 대한 문장을 출력 해 봅니다 \n",
        "check_sentence_with_length(raw, 11)"
      ],
      "metadata": {
        "id": "9rbNbsV5Gifn",
        "colab": {
          "base_uri": "https://localhost:8080/"
        },
        "outputId": "7d16d08b-db82-4652-bb6b-23b0ad5cfb54"
      },
      "execution_count": 16,
      "outputs": [
        {
          "output_type": "stream",
          "name": "stdout",
          "text": [
            "라고 조던이 말했다.\n",
            "- 모르고 있습니다.\n",
            "- 네, 보이는군요.\n",
            "디즈니사만이 아니다.\n",
            "큰 파티는 아니지요.\n",
            "의자는 비어 있었다.\n",
            "이 일은 계속됩니다.\n",
            "나는 크게 실망했다.\n",
            "그 이유는 간단하다.\n",
            "이력서와 자기 소개서\n",
            "시대가 변하고 있다.\n",
            "는 돌발질문을 했다.\n",
            "9. 몇 분간의 명상\n",
            "하와이, 빅 아일랜드\n",
            "키스를 잘 하는 방법\n",
            "키스를 잘 하는 방법\n",
            "스피어스가 뚱뚱한가?\n",
            "산 위를 나는 느낌.\n",
            "세 시간쯤 걸었을까?\n",
            "(아직 읽고있습니까?\n",
            "처음에는 장난이었다.\n",
            "우리는 운이 좋았다.\n",
            "아기가 숨을 멈출 때\n",
            "건물 전체 무너져내려\n",
            "그녀의 아름다운 눈.\n",
            "대답은 다음과 같다.\n",
            "\"사과할 것이 없다.\n",
            "폭탄테러가 공포 유발\n",
            "그는 \"잘 모르겠다.\n",
            "그는 \"잘 모르겠다.\n",
            "그는 \"잘 모르겠다.\n",
            "그는 \"잘 모르겠다.\n",
            "그는 \"잘 모르겠다.\n",
            "그는 \"잘 모르겠다.\n",
            "그는 \"잘 모르겠다.\n",
            "그는 \"잘 모르겠다.\n",
            "그는 \"잘 모르겠다.\n",
            "케냐 야생동물 고아원\n",
            "경유 1200원대로…\n",
            "더 내려야 하는 이유\n",
            "케냐 야생동물 고아원\n",
            "경유 1200원대로…\n",
            "더 내려야 하는 이유\n",
            "케냐 야생동물 고아원\n",
            "경유 1200원대로…\n",
            "더 내려야 하는 이유\n",
            "케냐 야생동물 고아원\n",
            "경유 1200원대로…\n",
            "더 내려야 하는 이유\n",
            "케냐 야생동물 고아원\n",
            "경유 1200원대로…\n",
            "더 내려야 하는 이유\n",
            "케냐 야생동물 고아원\n",
            "경유 1200원대로…\n",
            "더 내려야 하는 이유\n",
            "케냐 야생동물 고아원\n",
            "경유 1200원대로…\n",
            "더 내려야 하는 이유\n",
            "케냐 야생동물 고아원\n",
            "경유 1200원대로…\n",
            "더 내려야 하는 이유\n",
            "케냐 야생동물 고아원\n",
            "경유 1200원대로…\n",
            "더 내려야 하는 이유\n",
            "케냐 야생동물 고아원\n",
            "경유 1200원대로…\n",
            "더 내려야 하는 이유\n",
            "케냐 야생동물 고아원\n",
            "경유 1200원대로…\n",
            "더 내려야 하는 이유\n",
            "케냐 야생동물 고아원\n",
            "경유 1200원대로…\n",
            "더 내려야 하는 이유\n",
            "케냐 야생동물 고아원\n",
            "경유 1200원대로…\n",
            "더 내려야 하는 이유\n",
            "케냐 야생동물 고아원\n",
            "경유 1200원대로…\n",
            "더 내려야 하는 이유\n",
            "케냐 야생동물 고아원\n",
            "경유 1200원대로…\n",
            "더 내려야 하는 이유\n",
            "케냐 야생동물 고아원\n",
            "경유 1200원대로…\n",
            "더 내려야 하는 이유\n",
            "케냐 야생동물 고아원\n",
            "경유 1200원대로…\n",
            "더 내려야 하는 이유\n",
            "케냐 야생동물 고아원\n",
            "경유 1200원대로…\n",
            "더 내려야 하는 이유\n",
            "케냐 야생동물 고아원\n",
            "경유 1200원대로…\n",
            "더 내려야 하는 이유\n",
            "케냐 야생동물 고아원\n",
            "경유 1200원대로…\n",
            "더 내려야 하는 이유\n",
            "조금은 새침한 샬롯？\n",
            "조금은 새침한 샬롯？\n",
            "케냐 야생동물 고아원\n",
            "경유 1200원대로…\n"
          ]
        }
      ]
    },
    {
      "cell_type": "markdown",
      "source": [
        "- 중복.. 처리가.. 제대로 되지 않아서 글자수가 이렇게 길었던거였어..\n",
        "- 중복 제거는 `set` 자료형을 활용합니다.\n",
        "    - 집합을 정의하는 자료형\n",
        "    - **중복을 허용하지 아니함 ⇒ 변환 과정에서 자동으로 중복된 요소를 제거해줌!!**\n",
        "    - 주의 : list의 순서가 뒤바뀔 수 있음"
      ],
      "metadata": {
        "id": "_M732g09GkAf"
      }
    },
    {
      "cell_type": "code",
      "source": [
        "# 중복을 제거한 후, 앞에서 분포를 확인한 소스를 다시 실행시켜 봅니다. \n",
        "min_len = 999\n",
        "max_len = 0\n",
        "sum_len = 0\n",
        "\n",
        "cleaned_corpus = list(set(raw))  # set를 사용해서 중복을 제거합니다.\n",
        "print(\"Data Size:\", len(cleaned_corpus))\n",
        "\n",
        "for sen in cleaned_corpus:\n",
        "    length = len(sen)\n",
        "    if min_len > length: min_len = length\n",
        "    if max_len < length: max_len = length\n",
        "    sum_len += length\n",
        "\n",
        "print(\"문장의 최단 길이:\", min_len)\n",
        "print(\"문장의 최장 길이:\", max_len)\n",
        "print(\"문장의 평균 길이:\", sum_len // len(cleaned_corpus))\n",
        "\n",
        "sentence_length = np.zeros((max_len), dtype=np.int)\n",
        "\n",
        "for sen in cleaned_corpus:   # 중복이 제거된 코퍼스 기준\n",
        "    sentence_length[len(sen)-1] += 1\n",
        "\n",
        "plt.bar(range(max_len), sentence_length, width=1.0)\n",
        "plt.title(\"Sentence Length Distribution\")\n",
        "plt.show()"
      ],
      "metadata": {
        "id": "-4dM_U_ZGnt3",
        "colab": {
          "base_uri": "https://localhost:8080/",
          "height": 414
        },
        "outputId": "3f8718d8-d1aa-4bea-c1e5-75166c7f5904"
      },
      "execution_count": 17,
      "outputs": [
        {
          "output_type": "stream",
          "name": "stdout",
          "text": [
            "Data Size: 77591\n",
            "문장의 최단 길이: 1\n",
            "문장의 최장 길이: 377\n",
            "문장의 평균 길이: 64\n"
          ]
        },
        {
          "output_type": "stream",
          "name": "stderr",
          "text": [
            "/usr/local/lib/python3.7/dist-packages/ipykernel_launcher.py:19: DeprecationWarning: `np.int` is a deprecated alias for the builtin `int`. To silence this warning, use `int` by itself. Doing this will not modify any behavior and is safe. When replacing `np.int`, you may wish to use e.g. `np.int64` or `np.int32` to specify the precision. If you wish to review your current use, check the release note link for additional information.\n",
            "Deprecated in NumPy 1.20; for more details and guidance: https://numpy.org/devdocs/release/1.20.0-notes.html#deprecations\n"
          ]
        },
        {
          "output_type": "display_data",
          "data": {
            "text/plain": [
              "<Figure size 432x288 with 1 Axes>"
            ],
            "image/png": "[encoded data removed]"
          },
          "metadata": {
            "needs_background": "light"
          }
        }
      ]
    },
    {
      "cell_type": "markdown",
      "source": [
        "* 데이터가 17000개 가량 줄어들었다.  \n",
        "\n",
        "\\\\\n",
        "\n",
        "\n",
        "### 3. 모든 데이터를 다 사용할꺼야? \n",
        "\n",
        "\n",
        "- 후에 미니배치를 만들 것을 생각하면 연산 측면에선 비효율적!\n",
        "    - 각 데이터의 크기가 모두 동일해야하기 때문에 가장 긴 데이터로 padding 처리를 해 줘야하기 때문에!\n",
        "    - ex) 길이가 100 인 문장 까지만 사용할 경우\n",
        "  - $[(77591 - 길이 100 초과 문장 수)\\times 100]$\n",
        "    - 데이터를 모두 사용할 경우\n",
        "  - $[77591\\times377]$\n",
        "    \n",
        "    ⇒ 전자보다 최소 3.7배 큰 메모리를 차지하게 됨. 학습시간이 늘어나는건 덤! \n",
        "    \n",
        "- 길이별로 정렬해서 미니배치를 구성하는 방법으로 padding을 최소화 하는 방법도 있음.\n",
        "    - But, 데이터를 섞는 데 편향성이 생길 수 있으므로 지양합시다! (안됨안됨 ㄴㄴㄴ)\n",
        "- 길이 150 이상의 데이터를 제거하고 사용합니다. \n",
        "또한, 길이 10 미만의 데이터도 제거합니다.\n",
        "    - 오히려 노이즈로 작용할 수 있기 때문에"
      ],
      "metadata": {
        "id": "aqaAXIyUHo5_"
      }
    },
    {
      "cell_type": "code",
      "source": [
        "max_len = 150\n",
        "min_len = 10\n",
        "\n",
        "# 길이 조건에 맞는 문장만 선택합니다.\n",
        "filtered_corpus = [s for s in cleaned_corpus if (len(s) < max_len) & (len(s) >= min_len)]\n",
        "\n",
        "# 분포도를 다시 그려봅니다.\n",
        "sentence_length = np.zeros((max_len), dtype=np.int)\n",
        "\n",
        "for sen in filtered_corpus:\n",
        "    sentence_length[len(sen)-1] += 1\n",
        "\n",
        "plt.bar(range(max_len), sentence_length, width=1.0)\n",
        "plt.title(\"Sentence Length Distribution\")\n",
        "plt.show()"
      ],
      "metadata": {
        "id": "yaE5-wdeH62q",
        "colab": {
          "base_uri": "https://localhost:8080/",
          "height": 358
        },
        "outputId": "5c394e29-0a16-423c-a2b0-f753c1986d7e"
      },
      "execution_count": 18,
      "outputs": [
        {
          "output_type": "stream",
          "name": "stderr",
          "text": [
            "/usr/local/lib/python3.7/dist-packages/ipykernel_launcher.py:8: DeprecationWarning: `np.int` is a deprecated alias for the builtin `int`. To silence this warning, use `int` by itself. Doing this will not modify any behavior and is safe. When replacing `np.int`, you may wish to use e.g. `np.int64` or `np.int32` to specify the precision. If you wish to review your current use, check the release note link for additional information.\n",
            "Deprecated in NumPy 1.20; for more details and guidance: https://numpy.org/devdocs/release/1.20.0-notes.html#deprecations\n",
            "  \n"
          ]
        },
        {
          "output_type": "display_data",
          "data": {
            "text/plain": [
              "<Figure size 432x288 with 1 Axes>"
            ],
            "image/png": "[encoded data removed]"
          },
          "metadata": {
            "needs_background": "light"
          }
        }
      ]
    },
    {
      "cell_type": "markdown",
      "source": [
        "\\\\\n",
        "\n",
        "\n",
        "-----"
      ],
      "metadata": {
        "id": "W3j7tPXGIEEy"
      }
    },
    {
      "cell_type": "markdown",
      "source": [
        "# 공백 기반 토큰화\n",
        "\n",
        "- 먼저, 공백 기반 토큰화를 진행합니다.\n",
        "- 정제된 데이터를 공백 기반으로 토큰화 하여 list에 저장한 후, 아래 `tokenize()` 함수를 사용해 단어 사전과 Tensor 데이터를 얻고, 단어 사전의 크기도 확인 해봅니다."
      ],
      "metadata": {
        "id": "cYY83O22ILBv"
      }
    },
    {
      "cell_type": "markdown",
      "source": [
        "## 1. 공백기반 토큰화 하기! "
      ],
      "metadata": {
        "id": "xWS-c0LNJxh2"
      }
    },
    {
      "cell_type": "code",
      "source": [
        "def tokenize(corpus):  # corpus: Tokenized Sentence's List\n",
        "    tokenizer = tf.keras.preprocessing.text.Tokenizer(filters='')\n",
        "    tokenizer.fit_on_texts(corpus)\n",
        "\n",
        "    tensor = tokenizer.texts_to_sequences(corpus)\n",
        "\n",
        "    tensor = tf.keras.preprocessing.sequence.pad_sequences(tensor, padding='post')\n",
        "\n",
        "    return tensor, tokenizer"
      ],
      "metadata": {
        "id": "g-wdWMwUIOSW"
      },
      "execution_count": 19,
      "outputs": []
    },
    {
      "cell_type": "code",
      "source": [
        "# 정제된 데이터를 공백 기반으로 토큰화하여 저장하는 코드를 직접 작성해봅니다. \n",
        "split_corpus = []\n",
        "\n",
        "for kor in filtered_corpus:\n",
        "    split_corpus.append(kor.split())"
      ],
      "metadata": {
        "id": "9gamlnAOIXMw"
      },
      "execution_count": 20,
      "outputs": []
    },
    {
      "cell_type": "markdown",
      "source": [
        "## 2. 단어사전 길이 확인해보기 "
      ],
      "metadata": {
        "id": "DV52-yLYLdiY"
      }
    },
    {
      "cell_type": "code",
      "source": [
        "# 단어사전의 길이를 확인 해봅니다.\n",
        "split_tensor, split_tokenizer = tokenize(split_corpus)\n",
        "\n",
        "print('Split Vocab Size : ', len(split_tokenizer.index_word))"
      ],
      "metadata": {
        "id": "Pd-JOg68LFD9",
        "colab": {
          "base_uri": "https://localhost:8080/"
        },
        "outputId": "48a409fb-8712-41ab-bc2c-ee24dd12b4cf"
      },
      "execution_count": 21,
      "outputs": [
        {
          "output_type": "stream",
          "name": "stdout",
          "text": [
            "Split Vocab Size :  237435\n"
          ]
        }
      ]
    },
    {
      "cell_type": "markdown",
      "source": [
        "* 생성된 단어 사전을 확인 해 볼까요?"
      ],
      "metadata": {
        "id": "ZROO193RLws3"
      }
    },
    {
      "cell_type": "code",
      "source": [
        "for idx, word in enumerate(split_tokenizer.word_index):\n",
        "    print(idx, ':', word)\n",
        "\n",
        "    if idx > 10 : break"
      ],
      "metadata": {
        "id": "vbgPyURFL2vX",
        "colab": {
          "base_uri": "https://localhost:8080/"
        },
        "outputId": "4e0b67cb-fc20-4125-d234-c9cde101fe55"
      },
      "execution_count": 22,
      "outputs": [
        {
          "output_type": "stream",
          "name": "stdout",
          "text": [
            "0 : 이\n",
            "1 : 밝혔다.\n",
            "2 : 있다.\n",
            "3 : 말했다.\n",
            "4 : 수\n",
            "5 : 있는\n",
            "6 : 그는\n",
            "7 : 대한\n",
            "8 : 위해\n",
            "9 : 전했다.\n",
            "10 : 지난\n",
            "11 : 이번\n"
          ]
        }
      ]
    },
    {
      "cell_type": "markdown",
      "source": [
        "## 3. 공백 기반 토큰화의 문제점?\n",
        "\n",
        "- 밝혔다. 는 밝히다, 밝다 와 유사한 의미를 가지고 있음에도 전혀 다른 단어로 분류 되었을 것.\n",
        "    1. 불필요하게 큰 단어사전을 가지게 됨 ⇒ **연산량 증가!** \n",
        "    2. `밝 + 혔다` 라고 토큰화 됬더라면..? ⇒ 학습 중에 의미 파악 하기가 수월 해 질 것.\n",
        "    3. ⇒ 이때 필요한 것이 형태소 분석기다 이말이지"
      ],
      "metadata": {
        "id": "ipLSZyvBMCjQ"
      }
    },
    {
      "cell_type": "markdown",
      "source": [
        "\\\\\n",
        "\n",
        "\n",
        "-----\n",
        "\n",
        "\n",
        "\\\\"
      ],
      "metadata": {
        "id": "F2yuc1XiMpKj"
      }
    },
    {
      "cell_type": "markdown",
      "source": [
        "# 형태소 기반 토큰화 \n",
        "\n",
        "\n",
        "- 대표적인 한국어 형태소 분석기!\n",
        "    - `Khaiii` , `KoNLPy`\n",
        "- `KoNLPy` 중에서도 가장 성능이 우수한 `**MeCab` 클래스를 활용**합니다.\n",
        "- 앞서 작성했던 코드를 활용해 MeCab 기반으로 생성된 단어 사전과 Tensor 데이터를 얻어봅니다."
      ],
      "metadata": {
        "id": "6crAsuj8Mrta"
      }
    },
    {
      "cell_type": "markdown",
      "source": [
        "## 1. MeCab 단어 사전 만들기 "
      ],
      "metadata": {
        "id": "Tk7SYUJAN2RH"
      }
    },
    {
      "cell_type": "code",
      "source": [
        "# 위에서 사용한 코드를 활용해 MeCab 단어 사전을 만들어보세요. \n",
        "# Hint : mecab.morphs()를 사용해서 형태소분석을 합니다.\n",
        "\n",
        "def mecab_split(sentence):\n",
        "    return mecab.morphs(sentence)\n",
        "\n",
        "mecab_corpus = []\n",
        "\n",
        "for kor in filtered_corpus:\n",
        "    mecab_corpus.append(mecab_split(kor))"
      ],
      "metadata": {
        "id": "yTVr6qvyMusV"
      },
      "execution_count": 23,
      "outputs": []
    },
    {
      "cell_type": "markdown",
      "source": [
        "* 형태소 기반 토큰화를 진행한 후, 단어 사전의 길이를 확인 해 봅니다. "
      ],
      "metadata": {
        "id": "C8NgbuaiNwGR"
      }
    },
    {
      "cell_type": "code",
      "source": [
        "mecab_tensor, mecab_tokenizer = tokenize(mecab_corpus)\n",
        "\n",
        "print('MeCab 단어장 사이즈 : ', len(mecab_tokenizer.index_word))"
      ],
      "metadata": {
        "id": "VK0vJYlcNzw_",
        "colab": {
          "base_uri": "https://localhost:8080/"
        },
        "outputId": "ed8c15b0-e3a8-412e-8434-84703c678090"
      },
      "execution_count": 24,
      "outputs": [
        {
          "output_type": "stream",
          "name": "stdout",
          "text": [
            "MeCab 단어장 사이즈 :  52279\n"
          ]
        }
      ]
    },
    {
      "cell_type": "markdown",
      "source": [
        "\\\\\n",
        "## 2. Tensor를 문장으로 Decoding\n",
        "\n",
        "\n",
        "- tensor를 encoding 하는 과정을 거쳤으니, Decoding 해서 원문으로 돌려주는 작업도 필요합니다.\n",
        "- `tokenizer.sequences_to_texts()` 함수를 사용하여 Decoding\n",
        "- `tokenizer.index_word` 를 사용하여 Decoding\n",
        "- 두 가지 방법으로 해 보겠습니다!\n"
      ],
      "metadata": {
        "id": "xpQruAVpOqzg"
      }
    },
    {
      "cell_type": "code",
      "source": [
        "# Case 1 : tokenizer.sequences_to_texts()\n",
        "\n",
        "texts = mecab_tokenizer.sequences_to_texts([mecab_tensor[100]])\n",
        "print(texts[0])"
      ],
      "metadata": {
        "id": "12Qs8fYUTjpT",
        "colab": {
          "base_uri": "https://localhost:8080/"
        },
        "outputId": "7a0e13eb-c391-4c15-b9fb-6d89130d57b7"
      },
      "execution_count": 25,
      "outputs": [
        {
          "output_type": "stream",
          "name": "stdout",
          "text": [
            "“ 이번 발병 의 실체 를 파악 하 고 사태 를 진정 시키 기 위해 매우 적극 적 인 대응 노력 을 기울이 고 있 습니다 . ”\n"
          ]
        }
      ]
    },
    {
      "cell_type": "code",
      "source": [
        "# Case 2 : tokenizer.index_word\n",
        "sentence = ''\n",
        "\n",
        "for w in mecab_tensor[100]:\n",
        "    if w == 0: continue\n",
        "    sentence += mecab_tokenizer.index_word[w] + ''\n",
        "\n",
        "print(sentence)\n"
      ],
      "metadata": {
        "id": "Cuhfy2eVTq9Q",
        "colab": {
          "base_uri": "https://localhost:8080/"
        },
        "outputId": "86b162d8-cf15-45de-eb6a-65b890ac8fbd"
      },
      "execution_count": 26,
      "outputs": [
        {
          "output_type": "stream",
          "name": "stdout",
          "text": [
            "“이번발병의실체를파악하고사태를진정시키기위해매우적극적인대응노력을기울이고있습니다.”\n"
          ]
        }
      ]
    },
    {
      "cell_type": "markdown",
      "source": [
        "\n",
        "\n",
        "\\\\\n",
        "\n",
        "\n",
        "----\n",
        "\n",
        "\n",
        "\\\\\n",
        "\n",
        "#  SentencePiece 모델 학습\n",
        "\n",
        "\n",
        "```\n",
        "def tokenize(corpus):  # corpus: Tokenized Sentence's List\n",
        "    tokenizer = tf.keras.preprocessing.text.Tokenizer(filters='')\n",
        "    tokenizer.fit_on_texts(corpus)\n",
        "\n",
        "    tensor = tokenizer.texts_to_sequences(corpus)\n",
        "\n",
        "    tensor = tf.keras.preprocessing.sequence.pad_sequences(tensor, padding='post')\n",
        "\n",
        "    return tensor, tokenizer\n",
        "```\n",
        "\n",
        "* `tf.keras.preprocessing.text.Tokenizer`에 `corpus`를 주고 `tokenizer.fit_on_texts(corpus)`을 하면 토크나이저 내부적으로 단어사전과 토크나이저 기능을 `corpus`에 맞춤형으로 자동 생성 해 주는 `tokenize` 함수를 만들었었습니다. \n",
        "* 위와 같은 과정을 해 주기 전에 SentencePiece 모델을 학습하는 과정을 거쳐야 한다... 라고 하네요? \n",
        "* 우선 예제에서 다뤄봤던 `korean-parallel-corpora` 데이터셋을 가져와 SentencePiece 모델을 학습시켜 보겠습니다. \n"
      ],
      "metadata": {
        "id": "LFlOwvs-Hv4r"
      }
    },
    {
      "cell_type": "code",
      "source": [
        "vocab_size = 8000\n",
        "\n",
        "with open(path_to_file, 'w') as f:\n",
        "    for row in filtered_corpus:\n",
        "        f.write(str(row) + '\\n')\n",
        "\n",
        "spm.SentencePieceTrainer.Train(\n",
        "    '--input={} --model_prefix=korean_spm --vocab_size={}'.format(path_to_file, vocab_size)    \n",
        ")\n",
        "#위 Train에서  --model_type = 'unigram'이 디폴트 적용되어 있습니다. --model_type = 'bpe' 로 옵션을 주어 변경할 수 있습니다.\n",
        "# korean_spm* 안에 있는 -l 속성을 파일명과 함께 보는 코드 \n",
        "!ls -l korean_spm*"
      ],
      "metadata": {
        "id": "SBUpahPuIDe_",
        "colab": {
          "base_uri": "https://localhost:8080/"
        },
        "outputId": "56047c86-8ab9-4d10-dc77-64ef9148a315"
      },
      "execution_count": 92,
      "outputs": [
        {
          "output_type": "stream",
          "name": "stdout",
          "text": [
            "-rw------- 1 root root 375145 Mar 23 10:14 korean_spm.model\n",
            "-rw------- 1 root root 144504 Mar 23 10:14 korean_spm.vocab\n"
          ]
        }
      ]
    },
    {
      "cell_type": "markdown",
      "source": [
        "* 위 코드를 실행하면 정상적으로 SentencePiece 모델 학습이 완료된 후 `korean_spm.model` 파일과 `korean_spm.vocab` vocabulary 파일이 생성되었음을 확인할 수 있습니다. \n",
        "\n",
        "\n",
        "* 그럼 이렇게 학습된 SentencePiece 모델을 어떻게 활용하는지 살펴보겠습니다."
      ],
      "metadata": {
        "id": "JLhRQm8BJqBu"
      }
    },
    {
      "cell_type": "code",
      "source": [
        "s = spm.SentencePieceProcessor()\n",
        "s.Load('korean_spm.model')\n",
        "\n",
        "# SentencePiece를 활용한 sentence -> encoding\n",
        "tokensIDs = s.EncodeAsIds('아버지가방에들어가신다.')\n",
        "print(tokensIDs)\n",
        "\n",
        "# SentencePiece를 활용한 sentence -> encoded pieces\n",
        "print(s.SampleEncodeAsPieces('아버지가방에들어가신다.',1, 0.0))\n",
        "\n",
        "# SentencePiece를 활용한 encoding -> sentence 복원\n",
        "print(s.DecodeIds(tokensIDs))"
      ],
      "metadata": {
        "id": "mASOdjuatbh0",
        "colab": {
          "base_uri": "https://localhost:8080/"
        },
        "outputId": "b33aed91-0db8-48c8-e9a6-c2c150180ffa"
      },
      "execution_count": 93,
      "outputs": [
        {
          "output_type": "stream",
          "name": "stdout",
          "text": [
            "[1661, 9, 463, 16, 1381, 9, 158, 15, 4]\n",
            "['▁아버지', '가', '방', '에', '들어', '가', '신', '다', '.']\n",
            "아버지가방에들어가신다.\n"
          ]
        }
      ]
    },
    {
      "cell_type": "markdown",
      "source": [
        "\\\\\n",
        "\n",
        "\n",
        "---\n",
        "\n",
        "\n",
        "# Tokenizer 함수 작성 \n",
        "\n",
        "* 위에서 훈련 시킨 SentencePiece를 활용하여 위 함수와 유사한 기능을 하는  `sp_tokenize()` 함수를 정의합니다.\n",
        "* 정의 할 때, 아래 조건에 만족하는 함수를 정의합니다. \n",
        "\n",
        "> 조건!   \n",
        "    1) 매개변수로 토큰화된 문장의 list를 전달하는 대신 온전한 문장의 list 를 전달합니다.  \\\\\n",
        "    2) 생성된 vocab 파일을 읽어와 { <word> : <idx> } 형태를 가지는 word_index 사전과 { <idx> : <word>} 형태를 가지는 index_word 사전을 생성하고 함께 반환합니다.  \\\\\n",
        "    3) 리턴값인 tensor 는 앞의 함수와 동일하게 토큰화한 후 Encoding된 문장입니다. 바로 학습에 사용할 수 있게 Padding은 당연히 해야겠죠?\n"
      ],
      "metadata": {
        "id": "ampiDGxQtdJ1"
      }
    },
    {
      "cell_type": "code",
      "source": [
        "def sp_tokenize(s, corpus):\n",
        "\n",
        "    tensor = []\n",
        "\n",
        "    for sen in corpus:\n",
        "        tensor.append(s.EncodeAsIds(sen))\n",
        "\n",
        "    with open(\"./korean_spm.vocab\", 'r') as f:\n",
        "        vocab = f.readlines()\n",
        "\n",
        "    word_index = {}\n",
        "    index_word = {}\n",
        "\n",
        "    for idx, line in enumerate(vocab):\n",
        "        word = line.split(\"\\t\")[0]\n",
        "\n",
        "        word_index.update({idx:word})\n",
        "        index_word.update({word:idx})\n",
        "\n",
        "    tensor = tf.keras.preprocessing.sequence.pad_sequences(tensor, padding='post')\n",
        "\n",
        "    return tensor, word_index, index_word"
      ],
      "metadata": {
        "id": "rxm0cEDxykuo"
      },
      "execution_count": 94,
      "outputs": []
    },
    {
      "cell_type": "code",
      "source": [
        "#sp_tokenize(s, corpus) 사용예제\n",
        "\n",
        "my_corpus = ['나는 밥을 먹었습니다.', '그러나 여전히 ㅠㅠ 배가 고픕니다...']\n",
        "tensor, word_index, index_word = sp_tokenize(s, my_corpus)\n",
        "print(tensor)"
      ],
      "metadata": {
        "id": "D5BwbBvAy8fa",
        "colab": {
          "base_uri": "https://localhost:8080/"
        },
        "outputId": "d7548ab5-389d-4992-cbe7-0f84fffcccb9"
      },
      "execution_count": 95,
      "outputs": [
        {
          "output_type": "stream",
          "name": "stdout",
          "text": [
            "[[ 515 3257   14 1097 2572    4    0    0    0]\n",
            " [1597 2169  228  544    9  280 7922  756    8]]\n"
          ]
        }
      ]
    },
    {
      "cell_type": "markdown",
      "source": [
        "\\\\\n",
        "\n",
        "\n",
        "---- \n",
        "\n",
        "# 네이버 영화리뷰 감정 분석 문제에 SentencePiece 적용해 보기\n",
        "\n",
        "\n",
        "\\\\\n",
        "* [네이버 영화리뷰 감정 분석 태스크](https://github.com/e9t/nsmc/)가 있습니다. 한국어로 된 corpus를 다루어야 하므로 주로 KoNLPy에서 제공하는 형태소 분석기를 사용하여 텍스트를 전처리해서 RNN 모델을 분류기로 사용하게 되는데요 ,  \n",
        "만약 이 문제에서 tokenizer를 SentencePiece로 바꾸어 다시 풀어본다면 더 성능이 좋아질까요? 비교해 보는 것도 흥미로울 것입니다. \n",
        "\n",
        "\n",
        "* 네이버 영화리뷰 감정 분석 코퍼스에 SentencePiece를 적용시킨 모델 학습하기\n",
        "* 학습된 모델로 sp_tokenize() 메소드 구현하기\n",
        "* 구현된 토크나이저를 적용하여 네이버 영화리뷰 감정 분석 모델을 재학습하기\n",
        "* KoNLPy 형태소 분석기를 사용한 모델과 성능 비교하기\n",
        "* (보너스) SentencePiece 모델의 model_type, vocab_size 등을 변경해 가면서 성능 개선 여부 확인하기"
      ],
      "metadata": {
        "id": "Q9LQW8Kcy9wA"
      }
    },
    {
      "cell_type": "markdown",
      "source": [
        "## &nbsp;&nbsp; 4-1 네이버 영화리뷰 감정 분석 태스크 불러오기 \n",
        "\n",
        "\n",
        "* exp6 에서 사용해 봤던, 네이버 영화 리뷰 감정 분석 태스크를 가져오겠습니다. \n"
      ],
      "metadata": {
        "id": "_4Scx4fREu-D"
      }
    },
    {
      "cell_type": "code",
      "source": [
        "# train 데이터 가져오기\n",
        "\n",
        "urllib.request.urlretrieve(\"https://raw.githubusercontent.com/e9t/nsmc/master/ratings_train.txt\", filename=\"ratings_train.txt\")"
      ],
      "metadata": {
        "id": "UXF7uR8xHJ10",
        "colab": {
          "base_uri": "https://localhost:8080/"
        },
        "outputId": "2a830a91-ad36-4188-ea23-e2610f30955a"
      },
      "execution_count": 31,
      "outputs": [
        {
          "output_type": "execute_result",
          "data": {
            "text/plain": [
              "('ratings_train.txt', <http.client.HTTPMessage at 0x7fced7050290>)"
            ]
          },
          "metadata": {},
          "execution_count": 31
        }
      ]
    },
    {
      "cell_type": "code",
      "source": [
        "# test 데이터 가져오기\n",
        "\n",
        "urllib.request.urlretrieve(\"https://raw.githubusercontent.com/e9t/nsmc/master/ratings_test.txt\", filename=\"ratings_test.txt\")"
      ],
      "metadata": {
        "id": "oWfz05LlHJvT",
        "colab": {
          "base_uri": "https://localhost:8080/"
        },
        "outputId": "bf9237d9-c02c-4763-e5d5-079dae2eee0a"
      },
      "execution_count": 32,
      "outputs": [
        {
          "output_type": "execute_result",
          "data": {
            "text/plain": [
              "('ratings_test.txt', <http.client.HTTPMessage at 0x7fced602a5d0>)"
            ]
          },
          "metadata": {},
          "execution_count": 32
        }
      ]
    },
    {
      "cell_type": "code",
      "source": [
        "train_data = pd.read_csv('ratings_train.txt', sep= '\\t', engine='python', encoding='utf-8')\n",
        "test_data = pd.read_csv('ratings_test.txt', sep= '\\t', engine='python', encoding='utf-8')"
      ],
      "metadata": {
        "id": "GGI7w-x5HJph"
      },
      "execution_count": 33,
      "outputs": []
    },
    {
      "cell_type": "code",
      "source": [
        "train_data.head(5)"
      ],
      "metadata": {
        "colab": {
          "base_uri": "https://localhost:8080/",
          "height": 206
        },
        "id": "hdPd_85z80vA",
        "outputId": "2354c695-8484-494c-df2f-c7b2e27522fa"
      },
      "execution_count": 34,
      "outputs": [
        {
          "output_type": "execute_result",
          "data": {
            "text/plain": [
              "         id                                           document  label\n",
              "0   9976970                                아 더빙.. 진짜 짜증나네요 목소리      0\n",
              "1   3819312                  흠...포스터보고 초딩영화줄....오버연기조차 가볍지 않구나      1\n",
              "2  10265843                                  너무재밓었다그래서보는것을추천한다      0\n",
              "3   9045019                      교도소 이야기구먼 ..솔직히 재미는 없다..평점 조정      0\n",
              "4   6483659  사이몬페그의 익살스런 연기가 돋보였던 영화!스파이더맨에서 늙어보이기만 했던 커스틴 ...      1"
            ],
            "text/html": [
              "\n",
              "  <div id=\"df-e1358102-8d48-464f-9afc-15283702f663\">\n",
              "    <div class=\"colab-df-container\">\n",
              "      <div>\n",
              "<style scoped>\n",
              "    .dataframe tbody tr th:only-of-type {\n",
              "        vertical-align: middle;\n",
              "    }\n",
              "\n",
              "    .dataframe tbody tr th {\n",
              "        vertical-align: top;\n",
              "    }\n",
              "\n",
              "    .dataframe thead th {\n",
              "        text-align: right;\n",
              "    }\n",
              "</style>\n",
              "<table border=\"1\" class=\"dataframe\">\n",
              "  <thead>\n",
              "    <tr style=\"text-align: right;\">\n",
              "      <th></th>\n",
              "      <th>id</th>\n",
              "      <th>document</th>\n",
              "      <th>label</th>\n",
              "    </tr>\n",
              "  </thead>\n",
              "  <tbody>\n",
              "    <tr>\n",
              "      <th>0</th>\n",
              "      <td>9976970</td>\n",
              "      <td>아 더빙.. 진짜 짜증나네요 목소리</td>\n",
              "      <td>0</td>\n",
              "    </tr>\n",
              "    <tr>\n",
              "      <th>1</th>\n",
              "      <td>3819312</td>\n",
              "      <td>흠...포스터보고 초딩영화줄....오버연기조차 가볍지 않구나</td>\n",
              "      <td>1</td>\n",
              "    </tr>\n",
              "    <tr>\n",
              "      <th>2</th>\n",
              "      <td>10265843</td>\n",
              "      <td>너무재밓었다그래서보는것을추천한다</td>\n",
              "      <td>0</td>\n",
              "    </tr>\n",
              "    <tr>\n",
              "      <th>3</th>\n",
              "      <td>9045019</td>\n",
              "      <td>교도소 이야기구먼 ..솔직히 재미는 없다..평점 조정</td>\n",
              "      <td>0</td>\n",
              "    </tr>\n",
              "    <tr>\n",
              "      <th>4</th>\n",
              "      <td>6483659</td>\n",
              "      <td>사이몬페그의 익살스런 연기가 돋보였던 영화!스파이더맨에서 늙어보이기만 했던 커스틴 ...</td>\n",
              "      <td>1</td>\n",
              "    </tr>\n",
              "  </tbody>\n",
              "</table>\n",
              "</div>\n",
              "      <button class=\"colab-df-convert\" onclick=\"convertToInteractive('df-e1358102-8d48-464f-9afc-15283702f663')\"\n",
              "              title=\"Convert this dataframe to an interactive table.\"\n",
              "              style=\"display:none;\">\n",
              "        \n",
              "  <svg xmlns=\"http://www.w3.org/2000/svg\" height=\"24px\"viewBox=\"0 0 24 24\"\n",
              "       width=\"24px\">\n",
              "    <path d=\"M0 0h24v24H0V0z\" fill=\"none\"/>\n",
              "    <path d=\"M18.56 5.44l.94 2.06.94-2.06 2.06-.94-2.06-.94-.94-2.06-.94 2.06-2.06.94zm-11 1L8.5 8.5l.94-2.06 2.06-.94-2.06-.94L8.5 2.5l-.94 2.06-2.06.94zm10 10l.94 2.06.94-2.06 2.06-.94-2.06-.94-.94-2.06-.94 2.06-2.06.94z\"/><path d=\"M17.41 7.96l-1.37-1.37c-.4-.4-.92-.59-1.43-.59-.52 0-1.04.2-1.43.59L10.3 9.45l-7.72 7.72c-.78.78-.78 2.05 0 2.83L4 21.41c.39.39.9.59 1.41.59.51 0 1.02-.2 1.41-.59l7.78-7.78 2.81-2.81c.8-.78.8-2.07 0-2.86zM5.41 20L4 18.59l7.72-7.72 1.47 1.35L5.41 20z\"/>\n",
              "  </svg>\n",
              "      </button>\n",
              "      \n",
              "  <style>\n",
              "    .colab-df-container {\n",
              "      display:flex;\n",
              "      flex-wrap:wrap;\n",
              "      gap: 12px;\n",
              "    }\n",
              "\n",
              "    .colab-df-convert {\n",
              "      background-color: #E8F0FE;\n",
              "      border: none;\n",
              "      border-radius: 50%;\n",
              "      cursor: pointer;\n",
              "      display: none;\n",
              "      fill: #1967D2;\n",
              "      height: 32px;\n",
              "      padding: 0 0 0 0;\n",
              "      width: 32px;\n",
              "    }\n",
              "\n",
              "    .colab-df-convert:hover {\n",
              "      background-color: #E2EBFA;\n",
              "      box-shadow: 0px 1px 2px rgba(60, 64, 67, 0.3), 0px 1px 3px 1px rgba(60, 64, 67, 0.15);\n",
              "      fill: #174EA6;\n",
              "    }\n",
              "\n",
              "    [theme=dark] .colab-df-convert {\n",
              "      background-color: #3B4455;\n",
              "      fill: #D2E3FC;\n",
              "    }\n",
              "\n",
              "    [theme=dark] .colab-df-convert:hover {\n",
              "      background-color: #434B5C;\n",
              "      box-shadow: 0px 1px 3px 1px rgba(0, 0, 0, 0.15);\n",
              "      filter: drop-shadow(0px 1px 2px rgba(0, 0, 0, 0.3));\n",
              "      fill: #FFFFFF;\n",
              "    }\n",
              "  </style>\n",
              "\n",
              "      <script>\n",
              "        const buttonEl =\n",
              "          document.querySelector('#df-e1358102-8d48-464f-9afc-15283702f663 button.colab-df-convert');\n",
              "        buttonEl.style.display =\n",
              "          google.colab.kernel.accessAllowed ? 'block' : 'none';\n",
              "\n",
              "        async function convertToInteractive(key) {\n",
              "          const element = document.querySelector('#df-e1358102-8d48-464f-9afc-15283702f663');\n",
              "          const dataTable =\n",
              "            await google.colab.kernel.invokeFunction('convertToInteractive',\n",
              "                                                     [key], {});\n",
              "          if (!dataTable) return;\n",
              "\n",
              "          const docLinkHtml = 'Like what you see? Visit the ' +\n",
              "            '<a target=\"_blank\" href=https://colab.research.google.com/notebooks/data_table.ipynb>data table notebook</a>'\n",
              "            + ' to learn more about interactive tables.';\n",
              "          element.innerHTML = '';\n",
              "          dataTable['output_type'] = 'display_data';\n",
              "          await google.colab.output.renderOutput(dataTable, element);\n",
              "          const docLink = document.createElement('div');\n",
              "          docLink.innerHTML = docLinkHtml;\n",
              "          element.appendChild(docLink);\n",
              "        }\n",
              "      </script>\n",
              "    </div>\n",
              "  </div>\n",
              "  "
            ]
          },
          "metadata": {},
          "execution_count": 34
        }
      ]
    },
    {
      "cell_type": "code",
      "source": [
        "test_data.tail(5)"
      ],
      "metadata": {
        "colab": {
          "base_uri": "https://localhost:8080/",
          "height": 206
        },
        "id": "0qKwcCag80m0",
        "outputId": "d10dcb10-a014-4944-b11d-03c4d11e84f2"
      },
      "execution_count": 35,
      "outputs": [
        {
          "output_type": "execute_result",
          "data": {
            "text/plain": [
              "            id                                        document  label\n",
              "49995  4608761       오랜만에 평점 로긴했네ㅋㅋ 킹왕짱 쌈뽕한 영화를 만났습니다 강렬하게 육쾌함      1\n",
              "49996  5308387    의지 박약들이나 하는거다 탈영은 일단 주인공 김대희 닮았고 이등병 찐따 OOOO      0\n",
              "49997  9072549              그림도 좋고 완성도도 높았지만... 보는 내내 불안하게 만든다      0\n",
              "49998  5802125  절대 봐서는 안 될 영화.. 재미도 없고 기분만 잡치고.. 한 세트장에서 다 해먹네      0\n",
              "49999  6070594                                      마무리는 또 왜이래      0"
            ],
            "text/html": [
              "\n",
              "  <div id=\"df-2f2beb10-a06c-4158-9327-bdd302a72072\">\n",
              "    <div class=\"colab-df-container\">\n",
              "      <div>\n",
              "<style scoped>\n",
              "    .dataframe tbody tr th:only-of-type {\n",
              "        vertical-align: middle;\n",
              "    }\n",
              "\n",
              "    .dataframe tbody tr th {\n",
              "        vertical-align: top;\n",
              "    }\n",
              "\n",
              "    .dataframe thead th {\n",
              "        text-align: right;\n",
              "    }\n",
              "</style>\n",
              "<table border=\"1\" class=\"dataframe\">\n",
              "  <thead>\n",
              "    <tr style=\"text-align: right;\">\n",
              "      <th></th>\n",
              "      <th>id</th>\n",
              "      <th>document</th>\n",
              "      <th>label</th>\n",
              "    </tr>\n",
              "  </thead>\n",
              "  <tbody>\n",
              "    <tr>\n",
              "      <th>49995</th>\n",
              "      <td>4608761</td>\n",
              "      <td>오랜만에 평점 로긴했네ㅋㅋ 킹왕짱 쌈뽕한 영화를 만났습니다 강렬하게 육쾌함</td>\n",
              "      <td>1</td>\n",
              "    </tr>\n",
              "    <tr>\n",
              "      <th>49996</th>\n",
              "      <td>5308387</td>\n",
              "      <td>의지 박약들이나 하는거다 탈영은 일단 주인공 김대희 닮았고 이등병 찐따 OOOO</td>\n",
              "      <td>0</td>\n",
              "    </tr>\n",
              "    <tr>\n",
              "      <th>49997</th>\n",
              "      <td>9072549</td>\n",
              "      <td>그림도 좋고 완성도도 높았지만... 보는 내내 불안하게 만든다</td>\n",
              "      <td>0</td>\n",
              "    </tr>\n",
              "    <tr>\n",
              "      <th>49998</th>\n",
              "      <td>5802125</td>\n",
              "      <td>절대 봐서는 안 될 영화.. 재미도 없고 기분만 잡치고.. 한 세트장에서 다 해먹네</td>\n",
              "      <td>0</td>\n",
              "    </tr>\n",
              "    <tr>\n",
              "      <th>49999</th>\n",
              "      <td>6070594</td>\n",
              "      <td>마무리는 또 왜이래</td>\n",
              "      <td>0</td>\n",
              "    </tr>\n",
              "  </tbody>\n",
              "</table>\n",
              "</div>\n",
              "      <button class=\"colab-df-convert\" onclick=\"convertToInteractive('df-2f2beb10-a06c-4158-9327-bdd302a72072')\"\n",
              "              title=\"Convert this dataframe to an interactive table.\"\n",
              "              style=\"display:none;\">\n",
              "        \n",
              "  <svg xmlns=\"http://www.w3.org/2000/svg\" height=\"24px\"viewBox=\"0 0 24 24\"\n",
              "       width=\"24px\">\n",
              "    <path d=\"M0 0h24v24H0V0z\" fill=\"none\"/>\n",
              "    <path d=\"M18.56 5.44l.94 2.06.94-2.06 2.06-.94-2.06-.94-.94-2.06-.94 2.06-2.06.94zm-11 1L8.5 8.5l.94-2.06 2.06-.94-2.06-.94L8.5 2.5l-.94 2.06-2.06.94zm10 10l.94 2.06.94-2.06 2.06-.94-2.06-.94-.94-2.06-.94 2.06-2.06.94z\"/><path d=\"M17.41 7.96l-1.37-1.37c-.4-.4-.92-.59-1.43-.59-.52 0-1.04.2-1.43.59L10.3 9.45l-7.72 7.72c-.78.78-.78 2.05 0 2.83L4 21.41c.39.39.9.59 1.41.59.51 0 1.02-.2 1.41-.59l7.78-7.78 2.81-2.81c.8-.78.8-2.07 0-2.86zM5.41 20L4 18.59l7.72-7.72 1.47 1.35L5.41 20z\"/>\n",
              "  </svg>\n",
              "      </button>\n",
              "      \n",
              "  <style>\n",
              "    .colab-df-container {\n",
              "      display:flex;\n",
              "      flex-wrap:wrap;\n",
              "      gap: 12px;\n",
              "    }\n",
              "\n",
              "    .colab-df-convert {\n",
              "      background-color: #E8F0FE;\n",
              "      border: none;\n",
              "      border-radius: 50%;\n",
              "      cursor: pointer;\n",
              "      display: none;\n",
              "      fill: #1967D2;\n",
              "      height: 32px;\n",
              "      padding: 0 0 0 0;\n",
              "      width: 32px;\n",
              "    }\n",
              "\n",
              "    .colab-df-convert:hover {\n",
              "      background-color: #E2EBFA;\n",
              "      box-shadow: 0px 1px 2px rgba(60, 64, 67, 0.3), 0px 1px 3px 1px rgba(60, 64, 67, 0.15);\n",
              "      fill: #174EA6;\n",
              "    }\n",
              "\n",
              "    [theme=dark] .colab-df-convert {\n",
              "      background-color: #3B4455;\n",
              "      fill: #D2E3FC;\n",
              "    }\n",
              "\n",
              "    [theme=dark] .colab-df-convert:hover {\n",
              "      background-color: #434B5C;\n",
              "      box-shadow: 0px 1px 3px 1px rgba(0, 0, 0, 0.15);\n",
              "      filter: drop-shadow(0px 1px 2px rgba(0, 0, 0, 0.3));\n",
              "      fill: #FFFFFF;\n",
              "    }\n",
              "  </style>\n",
              "\n",
              "      <script>\n",
              "        const buttonEl =\n",
              "          document.querySelector('#df-2f2beb10-a06c-4158-9327-bdd302a72072 button.colab-df-convert');\n",
              "        buttonEl.style.display =\n",
              "          google.colab.kernel.accessAllowed ? 'block' : 'none';\n",
              "\n",
              "        async function convertToInteractive(key) {\n",
              "          const element = document.querySelector('#df-2f2beb10-a06c-4158-9327-bdd302a72072');\n",
              "          const dataTable =\n",
              "            await google.colab.kernel.invokeFunction('convertToInteractive',\n",
              "                                                     [key], {});\n",
              "          if (!dataTable) return;\n",
              "\n",
              "          const docLinkHtml = 'Like what you see? Visit the ' +\n",
              "            '<a target=\"_blank\" href=https://colab.research.google.com/notebooks/data_table.ipynb>data table notebook</a>'\n",
              "            + ' to learn more about interactive tables.';\n",
              "          element.innerHTML = '';\n",
              "          dataTable['output_type'] = 'display_data';\n",
              "          await google.colab.output.renderOutput(dataTable, element);\n",
              "          const docLink = document.createElement('div');\n",
              "          docLink.innerHTML = docLinkHtml;\n",
              "          element.appendChild(docLink);\n",
              "        }\n",
              "      </script>\n",
              "    </div>\n",
              "  </div>\n",
              "  "
            ]
          },
          "metadata": {},
          "execution_count": 35
        }
      ]
    },
    {
      "cell_type": "markdown",
      "source": [
        "\n",
        "\n",
        "* 불러온 데이터를 확인 해 보고, 한꺼번에 필요한 처리를 해 주기 위해 train data와 test data를 합쳐줍니다. \n"
      ],
      "metadata": {
        "id": "kLkIjs4Y8bwZ"
      }
    },
    {
      "cell_type": "code",
      "source": [
        "data = pd.concat([train_data, test_data], ignore_index=True)\n",
        "data"
      ],
      "metadata": {
        "colab": {
          "base_uri": "https://localhost:8080/",
          "height": 424
        },
        "id": "GvboTJvu8wlZ",
        "outputId": "6c2136cd-b3ea-48dd-a020-16016aa486f3"
      },
      "execution_count": 101,
      "outputs": [
        {
          "output_type": "execute_result",
          "data": {
            "text/plain": [
              "              id                                           document  label\n",
              "0        9976970                                아 더빙.. 진짜 짜증나네요 목소리      0\n",
              "1        3819312                  흠...포스터보고 초딩영화줄....오버연기조차 가볍지 않구나      1\n",
              "2       10265843                                  너무재밓었다그래서보는것을추천한다      0\n",
              "3        9045019                      교도소 이야기구먼 ..솔직히 재미는 없다..평점 조정      0\n",
              "4        6483659  사이몬페그의 익살스런 연기가 돋보였던 영화!스파이더맨에서 늙어보이기만 했던 커스틴 ...      1\n",
              "...          ...                                                ...    ...\n",
              "199995   4608761          오랜만에 평점 로긴했네ㅋㅋ 킹왕짱 쌈뽕한 영화를 만났습니다 강렬하게 육쾌함      1\n",
              "199996   5308387       의지 박약들이나 하는거다 탈영은 일단 주인공 김대희 닮았고 이등병 찐따 OOOO      0\n",
              "199997   9072549                 그림도 좋고 완성도도 높았지만... 보는 내내 불안하게 만든다      0\n",
              "199998   5802125     절대 봐서는 안 될 영화.. 재미도 없고 기분만 잡치고.. 한 세트장에서 다 해먹네      0\n",
              "199999   6070594                                         마무리는 또 왜이래      0\n",
              "\n",
              "[200000 rows x 3 columns]"
            ],
            "text/html": [
              "\n",
              "  <div id=\"df-53dfa3c5-5002-4d36-aa8e-8d11bca122a1\">\n",
              "    <div class=\"colab-df-container\">\n",
              "      <div>\n",
              "<style scoped>\n",
              "    .dataframe tbody tr th:only-of-type {\n",
              "        vertical-align: middle;\n",
              "    }\n",
              "\n",
              "    .dataframe tbody tr th {\n",
              "        vertical-align: top;\n",
              "    }\n",
              "\n",
              "    .dataframe thead th {\n",
              "        text-align: right;\n",
              "    }\n",
              "</style>\n",
              "<table border=\"1\" class=\"dataframe\">\n",
              "  <thead>\n",
              "    <tr style=\"text-align: right;\">\n",
              "      <th></th>\n",
              "      <th>id</th>\n",
              "      <th>document</th>\n",
              "      <th>label</th>\n",
              "    </tr>\n",
              "  </thead>\n",
              "  <tbody>\n",
              "    <tr>\n",
              "      <th>0</th>\n",
              "      <td>9976970</td>\n",
              "      <td>아 더빙.. 진짜 짜증나네요 목소리</td>\n",
              "      <td>0</td>\n",
              "    </tr>\n",
              "    <tr>\n",
              "      <th>1</th>\n",
              "      <td>3819312</td>\n",
              "      <td>흠...포스터보고 초딩영화줄....오버연기조차 가볍지 않구나</td>\n",
              "      <td>1</td>\n",
              "    </tr>\n",
              "    <tr>\n",
              "      <th>2</th>\n",
              "      <td>10265843</td>\n",
              "      <td>너무재밓었다그래서보는것을추천한다</td>\n",
              "      <td>0</td>\n",
              "    </tr>\n",
              "    <tr>\n",
              "      <th>3</th>\n",
              "      <td>9045019</td>\n",
              "      <td>교도소 이야기구먼 ..솔직히 재미는 없다..평점 조정</td>\n",
              "      <td>0</td>\n",
              "    </tr>\n",
              "    <tr>\n",
              "      <th>4</th>\n",
              "      <td>6483659</td>\n",
              "      <td>사이몬페그의 익살스런 연기가 돋보였던 영화!스파이더맨에서 늙어보이기만 했던 커스틴 ...</td>\n",
              "      <td>1</td>\n",
              "    </tr>\n",
              "    <tr>\n",
              "      <th>...</th>\n",
              "      <td>...</td>\n",
              "      <td>...</td>\n",
              "      <td>...</td>\n",
              "    </tr>\n",
              "    <tr>\n",
              "      <th>199995</th>\n",
              "      <td>4608761</td>\n",
              "      <td>오랜만에 평점 로긴했네ㅋㅋ 킹왕짱 쌈뽕한 영화를 만났습니다 강렬하게 육쾌함</td>\n",
              "      <td>1</td>\n",
              "    </tr>\n",
              "    <tr>\n",
              "      <th>199996</th>\n",
              "      <td>5308387</td>\n",
              "      <td>의지 박약들이나 하는거다 탈영은 일단 주인공 김대희 닮았고 이등병 찐따 OOOO</td>\n",
              "      <td>0</td>\n",
              "    </tr>\n",
              "    <tr>\n",
              "      <th>199997</th>\n",
              "      <td>9072549</td>\n",
              "      <td>그림도 좋고 완성도도 높았지만... 보는 내내 불안하게 만든다</td>\n",
              "      <td>0</td>\n",
              "    </tr>\n",
              "    <tr>\n",
              "      <th>199998</th>\n",
              "      <td>5802125</td>\n",
              "      <td>절대 봐서는 안 될 영화.. 재미도 없고 기분만 잡치고.. 한 세트장에서 다 해먹네</td>\n",
              "      <td>0</td>\n",
              "    </tr>\n",
              "    <tr>\n",
              "      <th>199999</th>\n",
              "      <td>6070594</td>\n",
              "      <td>마무리는 또 왜이래</td>\n",
              "      <td>0</td>\n",
              "    </tr>\n",
              "  </tbody>\n",
              "</table>\n",
              "<p>200000 rows × 3 columns</p>\n",
              "</div>\n",
              "      <button class=\"colab-df-convert\" onclick=\"convertToInteractive('df-53dfa3c5-5002-4d36-aa8e-8d11bca122a1')\"\n",
              "              title=\"Convert this dataframe to an interactive table.\"\n",
              "              style=\"display:none;\">\n",
              "        \n",
              "  <svg xmlns=\"http://www.w3.org/2000/svg\" height=\"24px\"viewBox=\"0 0 24 24\"\n",
              "       width=\"24px\">\n",
              "    <path d=\"M0 0h24v24H0V0z\" fill=\"none\"/>\n",
              "    <path d=\"M18.56 5.44l.94 2.06.94-2.06 2.06-.94-2.06-.94-.94-2.06-.94 2.06-2.06.94zm-11 1L8.5 8.5l.94-2.06 2.06-.94-2.06-.94L8.5 2.5l-.94 2.06-2.06.94zm10 10l.94 2.06.94-2.06 2.06-.94-2.06-.94-.94-2.06-.94 2.06-2.06.94z\"/><path d=\"M17.41 7.96l-1.37-1.37c-.4-.4-.92-.59-1.43-.59-.52 0-1.04.2-1.43.59L10.3 9.45l-7.72 7.72c-.78.78-.78 2.05 0 2.83L4 21.41c.39.39.9.59 1.41.59.51 0 1.02-.2 1.41-.59l7.78-7.78 2.81-2.81c.8-.78.8-2.07 0-2.86zM5.41 20L4 18.59l7.72-7.72 1.47 1.35L5.41 20z\"/>\n",
              "  </svg>\n",
              "      </button>\n",
              "      \n",
              "  <style>\n",
              "    .colab-df-container {\n",
              "      display:flex;\n",
              "      flex-wrap:wrap;\n",
              "      gap: 12px;\n",
              "    }\n",
              "\n",
              "    .colab-df-convert {\n",
              "      background-color: #E8F0FE;\n",
              "      border: none;\n",
              "      border-radius: 50%;\n",
              "      cursor: pointer;\n",
              "      display: none;\n",
              "      fill: #1967D2;\n",
              "      height: 32px;\n",
              "      padding: 0 0 0 0;\n",
              "      width: 32px;\n",
              "    }\n",
              "\n",
              "    .colab-df-convert:hover {\n",
              "      background-color: #E2EBFA;\n",
              "      box-shadow: 0px 1px 2px rgba(60, 64, 67, 0.3), 0px 1px 3px 1px rgba(60, 64, 67, 0.15);\n",
              "      fill: #174EA6;\n",
              "    }\n",
              "\n",
              "    [theme=dark] .colab-df-convert {\n",
              "      background-color: #3B4455;\n",
              "      fill: #D2E3FC;\n",
              "    }\n",
              "\n",
              "    [theme=dark] .colab-df-convert:hover {\n",
              "      background-color: #434B5C;\n",
              "      box-shadow: 0px 1px 3px 1px rgba(0, 0, 0, 0.15);\n",
              "      filter: drop-shadow(0px 1px 2px rgba(0, 0, 0, 0.3));\n",
              "      fill: #FFFFFF;\n",
              "    }\n",
              "  </style>\n",
              "\n",
              "      <script>\n",
              "        const buttonEl =\n",
              "          document.querySelector('#df-53dfa3c5-5002-4d36-aa8e-8d11bca122a1 button.colab-df-convert');\n",
              "        buttonEl.style.display =\n",
              "          google.colab.kernel.accessAllowed ? 'block' : 'none';\n",
              "\n",
              "        async function convertToInteractive(key) {\n",
              "          const element = document.querySelector('#df-53dfa3c5-5002-4d36-aa8e-8d11bca122a1');\n",
              "          const dataTable =\n",
              "            await google.colab.kernel.invokeFunction('convertToInteractive',\n",
              "                                                     [key], {});\n",
              "          if (!dataTable) return;\n",
              "\n",
              "          const docLinkHtml = 'Like what you see? Visit the ' +\n",
              "            '<a target=\"_blank\" href=https://colab.research.google.com/notebooks/data_table.ipynb>data table notebook</a>'\n",
              "            + ' to learn more about interactive tables.';\n",
              "          element.innerHTML = '';\n",
              "          dataTable['output_type'] = 'display_data';\n",
              "          await google.colab.output.renderOutput(dataTable, element);\n",
              "          const docLink = document.createElement('div');\n",
              "          docLink.innerHTML = docLinkHtml;\n",
              "          element.appendChild(docLink);\n",
              "        }\n",
              "      </script>\n",
              "    </div>\n",
              "  </div>\n",
              "  "
            ]
          },
          "metadata": {},
          "execution_count": 101
        }
      ]
    },
    {
      "cell_type": "markdown",
      "source": [
        "* 불필요한 column을 삭제합니다. 이번 프로젝트에선 리뷰부분인 `document` 부분만 남기겠습니다. "
      ],
      "metadata": {
        "id": "ZEBHKt5l9P56"
      }
    },
    {
      "cell_type": "code",
      "source": [
        "data = data.drop(['id', 'label'], axis = 1)\n",
        "data"
      ],
      "metadata": {
        "colab": {
          "base_uri": "https://localhost:8080/",
          "height": 424
        },
        "id": "CUrDGLDI9bD1",
        "outputId": "9862814d-46b3-4f70-d196-574829ff8db4"
      },
      "execution_count": 102,
      "outputs": [
        {
          "output_type": "execute_result",
          "data": {
            "text/plain": [
              "                                                 document\n",
              "0                                     아 더빙.. 진짜 짜증나네요 목소리\n",
              "1                       흠...포스터보고 초딩영화줄....오버연기조차 가볍지 않구나\n",
              "2                                       너무재밓었다그래서보는것을추천한다\n",
              "3                           교도소 이야기구먼 ..솔직히 재미는 없다..평점 조정\n",
              "4       사이몬페그의 익살스런 연기가 돋보였던 영화!스파이더맨에서 늙어보이기만 했던 커스틴 ...\n",
              "...                                                   ...\n",
              "199995          오랜만에 평점 로긴했네ㅋㅋ 킹왕짱 쌈뽕한 영화를 만났습니다 강렬하게 육쾌함\n",
              "199996       의지 박약들이나 하는거다 탈영은 일단 주인공 김대희 닮았고 이등병 찐따 OOOO\n",
              "199997                 그림도 좋고 완성도도 높았지만... 보는 내내 불안하게 만든다\n",
              "199998     절대 봐서는 안 될 영화.. 재미도 없고 기분만 잡치고.. 한 세트장에서 다 해먹네\n",
              "199999                                         마무리는 또 왜이래\n",
              "\n",
              "[200000 rows x 1 columns]"
            ],
            "text/html": [
              "\n",
              "  <div id=\"df-b45e0be3-627c-48d2-96ca-465ed25b4050\">\n",
              "    <div class=\"colab-df-container\">\n",
              "      <div>\n",
              "<style scoped>\n",
              "    .dataframe tbody tr th:only-of-type {\n",
              "        vertical-align: middle;\n",
              "    }\n",
              "\n",
              "    .dataframe tbody tr th {\n",
              "        vertical-align: top;\n",
              "    }\n",
              "\n",
              "    .dataframe thead th {\n",
              "        text-align: right;\n",
              "    }\n",
              "</style>\n",
              "<table border=\"1\" class=\"dataframe\">\n",
              "  <thead>\n",
              "    <tr style=\"text-align: right;\">\n",
              "      <th></th>\n",
              "      <th>document</th>\n",
              "    </tr>\n",
              "  </thead>\n",
              "  <tbody>\n",
              "    <tr>\n",
              "      <th>0</th>\n",
              "      <td>아 더빙.. 진짜 짜증나네요 목소리</td>\n",
              "    </tr>\n",
              "    <tr>\n",
              "      <th>1</th>\n",
              "      <td>흠...포스터보고 초딩영화줄....오버연기조차 가볍지 않구나</td>\n",
              "    </tr>\n",
              "    <tr>\n",
              "      <th>2</th>\n",
              "      <td>너무재밓었다그래서보는것을추천한다</td>\n",
              "    </tr>\n",
              "    <tr>\n",
              "      <th>3</th>\n",
              "      <td>교도소 이야기구먼 ..솔직히 재미는 없다..평점 조정</td>\n",
              "    </tr>\n",
              "    <tr>\n",
              "      <th>4</th>\n",
              "      <td>사이몬페그의 익살스런 연기가 돋보였던 영화!스파이더맨에서 늙어보이기만 했던 커스틴 ...</td>\n",
              "    </tr>\n",
              "    <tr>\n",
              "      <th>...</th>\n",
              "      <td>...</td>\n",
              "    </tr>\n",
              "    <tr>\n",
              "      <th>199995</th>\n",
              "      <td>오랜만에 평점 로긴했네ㅋㅋ 킹왕짱 쌈뽕한 영화를 만났습니다 강렬하게 육쾌함</td>\n",
              "    </tr>\n",
              "    <tr>\n",
              "      <th>199996</th>\n",
              "      <td>의지 박약들이나 하는거다 탈영은 일단 주인공 김대희 닮았고 이등병 찐따 OOOO</td>\n",
              "    </tr>\n",
              "    <tr>\n",
              "      <th>199997</th>\n",
              "      <td>그림도 좋고 완성도도 높았지만... 보는 내내 불안하게 만든다</td>\n",
              "    </tr>\n",
              "    <tr>\n",
              "      <th>199998</th>\n",
              "      <td>절대 봐서는 안 될 영화.. 재미도 없고 기분만 잡치고.. 한 세트장에서 다 해먹네</td>\n",
              "    </tr>\n",
              "    <tr>\n",
              "      <th>199999</th>\n",
              "      <td>마무리는 또 왜이래</td>\n",
              "    </tr>\n",
              "  </tbody>\n",
              "</table>\n",
              "<p>200000 rows × 1 columns</p>\n",
              "</div>\n",
              "      <button class=\"colab-df-convert\" onclick=\"convertToInteractive('df-b45e0be3-627c-48d2-96ca-465ed25b4050')\"\n",
              "              title=\"Convert this dataframe to an interactive table.\"\n",
              "              style=\"display:none;\">\n",
              "        \n",
              "  <svg xmlns=\"http://www.w3.org/2000/svg\" height=\"24px\"viewBox=\"0 0 24 24\"\n",
              "       width=\"24px\">\n",
              "    <path d=\"M0 0h24v24H0V0z\" fill=\"none\"/>\n",
              "    <path d=\"M18.56 5.44l.94 2.06.94-2.06 2.06-.94-2.06-.94-.94-2.06-.94 2.06-2.06.94zm-11 1L8.5 8.5l.94-2.06 2.06-.94-2.06-.94L8.5 2.5l-.94 2.06-2.06.94zm10 10l.94 2.06.94-2.06 2.06-.94-2.06-.94-.94-2.06-.94 2.06-2.06.94z\"/><path d=\"M17.41 7.96l-1.37-1.37c-.4-.4-.92-.59-1.43-.59-.52 0-1.04.2-1.43.59L10.3 9.45l-7.72 7.72c-.78.78-.78 2.05 0 2.83L4 21.41c.39.39.9.59 1.41.59.51 0 1.02-.2 1.41-.59l7.78-7.78 2.81-2.81c.8-.78.8-2.07 0-2.86zM5.41 20L4 18.59l7.72-7.72 1.47 1.35L5.41 20z\"/>\n",
              "  </svg>\n",
              "      </button>\n",
              "      \n",
              "  <style>\n",
              "    .colab-df-container {\n",
              "      display:flex;\n",
              "      flex-wrap:wrap;\n",
              "      gap: 12px;\n",
              "    }\n",
              "\n",
              "    .colab-df-convert {\n",
              "      background-color: #E8F0FE;\n",
              "      border: none;\n",
              "      border-radius: 50%;\n",
              "      cursor: pointer;\n",
              "      display: none;\n",
              "      fill: #1967D2;\n",
              "      height: 32px;\n",
              "      padding: 0 0 0 0;\n",
              "      width: 32px;\n",
              "    }\n",
              "\n",
              "    .colab-df-convert:hover {\n",
              "      background-color: #E2EBFA;\n",
              "      box-shadow: 0px 1px 2px rgba(60, 64, 67, 0.3), 0px 1px 3px 1px rgba(60, 64, 67, 0.15);\n",
              "      fill: #174EA6;\n",
              "    }\n",
              "\n",
              "    [theme=dark] .colab-df-convert {\n",
              "      background-color: #3B4455;\n",
              "      fill: #D2E3FC;\n",
              "    }\n",
              "\n",
              "    [theme=dark] .colab-df-convert:hover {\n",
              "      background-color: #434B5C;\n",
              "      box-shadow: 0px 1px 3px 1px rgba(0, 0, 0, 0.15);\n",
              "      filter: drop-shadow(0px 1px 2px rgba(0, 0, 0, 0.3));\n",
              "      fill: #FFFFFF;\n",
              "    }\n",
              "  </style>\n",
              "\n",
              "      <script>\n",
              "        const buttonEl =\n",
              "          document.querySelector('#df-b45e0be3-627c-48d2-96ca-465ed25b4050 button.colab-df-convert');\n",
              "        buttonEl.style.display =\n",
              "          google.colab.kernel.accessAllowed ? 'block' : 'none';\n",
              "\n",
              "        async function convertToInteractive(key) {\n",
              "          const element = document.querySelector('#df-b45e0be3-627c-48d2-96ca-465ed25b4050');\n",
              "          const dataTable =\n",
              "            await google.colab.kernel.invokeFunction('convertToInteractive',\n",
              "                                                     [key], {});\n",
              "          if (!dataTable) return;\n",
              "\n",
              "          const docLinkHtml = 'Like what you see? Visit the ' +\n",
              "            '<a target=\"_blank\" href=https://colab.research.google.com/notebooks/data_table.ipynb>data table notebook</a>'\n",
              "            + ' to learn more about interactive tables.';\n",
              "          element.innerHTML = '';\n",
              "          dataTable['output_type'] = 'display_data';\n",
              "          await google.colab.output.renderOutput(dataTable, element);\n",
              "          const docLink = document.createElement('div');\n",
              "          docLink.innerHTML = docLinkHtml;\n",
              "          element.appendChild(docLink);\n",
              "        }\n",
              "      </script>\n",
              "    </div>\n",
              "  </div>\n",
              "  "
            ]
          },
          "metadata": {},
          "execution_count": 102
        }
      ]
    },
    {
      "cell_type": "markdown",
      "source": [
        ""
      ],
      "metadata": {
        "id": "GvqgvKnw9pPF"
      }
    },
    {
      "cell_type": "markdown",
      "source": [
        "## &nbsp;&nbsp; 4-2 데이터 살펴보기 \n",
        "\n",
        "* 중복 데이터를 확인 해 보고, 중복 샘플을 제거합니다. \n",
        "* null 값도 확인 해볼까요?\n",
        "* 각 문장의 길이를 알아봅니다. 최단길이, 최장길이, 평균 길이를 구한 후, 문장 길이 분포를 막대그래프로도 표현 해봅시다. \n",
        "* 문제가 되는 부분이 있다면 제거 해 봅시다 :) "
      ],
      "metadata": {
        "id": "uHl6pJP4kvTC"
      }
    },
    {
      "cell_type": "code",
      "source": [
        "print('document 열에서 중복을 배제한 유일한 샘플의 수 :', data['document'].nunique())"
      ],
      "metadata": {
        "colab": {
          "base_uri": "https://localhost:8080/"
        },
        "id": "tKIwpiShqfp3",
        "outputId": "cc6a582d-0d3e-40c4-9f83-46bb5a9fd2d2"
      },
      "execution_count": 103,
      "outputs": [
        {
          "output_type": "stream",
          "name": "stdout",
          "text": [
            "document 열에서 중복을 배제한 유일한 샘플의 수 : 194543\n"
          ]
        }
      ]
    },
    {
      "cell_type": "code",
      "source": [
        "# null값도 확인 해 볼게요!\n",
        "print('Null값도 있나 확인 해봤어요! 그랬더니! ->', data.isnull().sum())"
      ],
      "metadata": {
        "colab": {
          "base_uri": "https://localhost:8080/"
        },
        "id": "thXY0SbKuDNE",
        "outputId": "7e158ac2-24d0-4cdf-a814-1bffc145a3f5"
      },
      "execution_count": 104,
      "outputs": [
        {
          "output_type": "stream",
          "name": "stdout",
          "text": [
            "Null값도 있나 확인 해봤어요! 그랬더니! -> document    8\n",
            "dtype: int64\n"
          ]
        }
      ]
    },
    {
      "cell_type": "markdown",
      "source": [
        "* 중복된 부분이 약 6000개 가량 있는걸 확인 할 수 있었다.\n",
        "* 빈 데이터도 8부분이나 있었다. \n",
        "* 중복 샘플과 Null 값을 제거해 주겠습니다!\n"
      ],
      "metadata": {
        "id": "F-GNL5m5tt74"
      }
    },
    {
      "cell_type": "code",
      "source": [
        "# 중복 샘플 제거하기 \n",
        "# inplace=True를 설정하면 DataFrame 타입 값을 return하지 않고 data 내부를 직접적으로 바꿈.\n",
        "data.drop_duplicates(subset = ['document'], inplace=True)\n",
        "print('전체 샘플수:', (len(data)))\n"
      ],
      "metadata": {
        "colab": {
          "base_uri": "https://localhost:8080/"
        },
        "id": "h0f3t08Qtt_C",
        "outputId": "7a70192d-8068-453d-aa1f-23e1adbb4b45"
      },
      "execution_count": 105,
      "outputs": [
        {
          "output_type": "stream",
          "name": "stdout",
          "text": [
            "전체 샘플수: 194544\n"
          ]
        }
      ]
    },
    {
      "cell_type": "code",
      "source": [
        "# null 샘플 제거\n",
        "data.dropna(axis = 0, inplace=True)\n",
        "print('전체 샘플수 :', (len(data)))"
      ],
      "metadata": {
        "colab": {
          "base_uri": "https://localhost:8080/"
        },
        "id": "svOlunAqtuCX",
        "outputId": "938ccea5-1062-4fa1-e8d2-23d68c5589eb"
      },
      "execution_count": 106,
      "outputs": [
        {
          "output_type": "stream",
          "name": "stdout",
          "text": [
            "전체 샘플수 : 194543\n"
          ]
        }
      ]
    },
    {
      "cell_type": "markdown",
      "source": [
        "## &nbsp;&nbsp; 4-3 데이터 전처리 하기.\n",
        "\n",
        "\n",
        "* 가져온 데이터를 전처리 합니다. 전처리 과정은 지금까지 진행한 익스들의 전처리 과정을 확인 해보고, 적용해 보겠습니다. 이번 프로젝트에서 진행 해 볼건,  sentencepiece를 적용해 보는것 이기 때문에 잘 분류를 할 수 있게끔 해주면 될것같다. \n",
        "\n",
        "* 시작하기에 앞서, 가져온 데이터셋의 특징을 살펴보고, 전처리 했으면 좋겠다 싶은 부분을 정리 해보는 작업을 가지겠습니다.\n",
        "\n",
        "* 그 다음, 위에서 파악한 부분을 토대로 데이터를 전처리 해 주겠습니다.\n",
        "\n",
        "* 4-2 에서 알아봤던 너무 긴 문장도 추려주겠습니다. \n",
        "\n"
      ],
      "metadata": {
        "id": "nM5xEWj-kuGt"
      }
    },
    {
      "cell_type": "markdown",
      "source": [
        "### 전처리 해 볼만한 부분?\n",
        "\n",
        "1. 특수문자 제거 \n",
        "    - `!`, `.` 같은 자주 쓰이는 문장부호\n",
        "    - `^^`, `-` 등등  감정 표현등에 사용했을 법 한 특수문자\n",
        "\n",
        "2. 자음, 모음으로만 이루어진 문자들 \n",
        "    - `ㅋㅋㅋㅋㅋㅋㅋㅋㅋㅋㅋㅋㅋㅋㅋㅋㅋㅋㅋㅋㅋㅋㅋㅋㅋㅋ`,`ㅠㅠㅠㅠㅠ`, `ㅎㅎㅎ`\n",
        "\n",
        "3. 오타로 간주될 것 같은 영어문자, 단어 들 \n",
        "* 한국어를 분류해 볼 것이기 때문에, 영어로 이루어진 문자, 잘못 기입했을 법한 알파벳들도 없애줍니다. \n"
      ],
      "metadata": {
        "id": "TIJzMrMYldfZ"
      }
    },
    {
      "cell_type": "code",
      "source": [
        "# 전처리 함수\n",
        "def preprocess_sentence(sentence):\n",
        "    sentence = sentence.lower().strip()\n",
        "\n",
        "  # 단어와 구두점(punctuation) 사이의 거리를 만듭니다.\n",
        "  # 예를 들어서 \"I am a student.\" => \"I am a student .\"와 같이\n",
        "  # student와 온점 사이에 거리를 만듭니다.\n",
        "    sentence = re.sub(r\"([?.!,])\", r\" \\1 \", sentence)\n",
        "    sentence = re.sub(r'[\" \"]+', \" \", sentence)\n",
        "\n",
        "  # 한글로 이루어진 단어를 제외한 모든 문자를 공백인 ' '로 대체합니다.\n",
        "    sentence = re.sub(r\"[^가-힣\\d]+\", \" \", sentence)\n",
        "    sentence = sentence.strip()\n",
        "    return sentence\n",
        "\n",
        "print(\"전처리 함수가 만들어졌어요!\")\n",
        "\n",
        "preprocess_sentence('우리집 ㅠㅠㅠㅠ oh 오늘 ㅇexp..,. ㄷ..ㄷㄷ.. ..\\[].. 대박쓰; ')"
      ],
      "metadata": {
        "colab": {
          "base_uri": "https://localhost:8080/",
          "height": 55
        },
        "id": "qNUJzA2DGvfG",
        "outputId": "98ab1b30-4cf5-4109-b112-3b7b966854c8"
      },
      "execution_count": 177,
      "outputs": [
        {
          "output_type": "stream",
          "name": "stdout",
          "text": [
            "전처리 함수가 만들어졌어요!\n"
          ]
        },
        {
          "output_type": "execute_result",
          "data": {
            "text/plain": [
              "'우리집 오늘 대박쓰'"
            ],
            "application/vnd.google.colaboratory.intrinsic+json": {
              "type": "string"
            }
          },
          "metadata": {},
          "execution_count": 177
        }
      ]
    },
    {
      "cell_type": "code",
      "source": [
        "print(raw.count())"
      ],
      "metadata": {
        "colab": {
          "base_uri": "https://localhost:8080/"
        },
        "id": "yjRxnXzeUHDk",
        "outputId": "77013df6-8c97-4543-c589-5fd97fdff261"
      },
      "execution_count": 178,
      "outputs": [
        {
          "output_type": "stream",
          "name": "stdout",
          "text": [
            "194543\n"
          ]
        }
      ]
    },
    {
      "cell_type": "code",
      "source": [
        "# for문을 돌려주기 위해 index 초기화 \n",
        "raw = raw.reset_index(drop=True)"
      ],
      "metadata": {
        "id": "mL5_bH1bVDFC"
      },
      "execution_count": 179,
      "outputs": []
    },
    {
      "cell_type": "code",
      "source": [
        "# 문제가 됬던 부분 확인 \n",
        "raw[1058]"
      ],
      "metadata": {
        "colab": {
          "base_uri": "https://localhost:8080/",
          "height": 36
        },
        "id": "_I1VIJVNVy47",
        "outputId": "9330967a-2616-46a4-e8eb-56a92b315d95"
      },
      "execution_count": 180,
      "outputs": [
        {
          "output_type": "execute_result",
          "data": {
            "text/plain": [
              "'기분 완전 상콤해지는데? ㅋ'"
            ],
            "application/vnd.google.colaboratory.intrinsic+json": {
              "type": "string"
            }
          },
          "metadata": {},
          "execution_count": 180
        }
      ]
    },
    {
      "cell_type": "code",
      "source": [
        "# 전처리 함수 영화 리뷰 데이터에 적용하기 \n",
        "# preprocess_sentence(raw[1])\n",
        "changed_sentence = []\n",
        "\n",
        "for i in range(194543):\n",
        "    chge = preprocess_sentence(raw[i])\n",
        "    changed_sentence.append(chge)\n"
      ],
      "metadata": {
        "id": "a7RtEUzESkEn"
      },
      "execution_count": 181,
      "outputs": []
    },
    {
      "cell_type": "code",
      "source": [
        "changed_sentence[0]"
      ],
      "metadata": {
        "colab": {
          "base_uri": "https://localhost:8080/",
          "height": 36
        },
        "id": "YD3ugjUCWMSf",
        "outputId": "87587ffa-b1c0-432a-966c-c84cd60bc5ba"
      },
      "execution_count": 182,
      "outputs": [
        {
          "output_type": "execute_result",
          "data": {
            "text/plain": [
              "'아 더빙 진짜 짜증나네요 목소리'"
            ],
            "application/vnd.google.colaboratory.intrinsic+json": {
              "type": "string"
            }
          },
          "metadata": {},
          "execution_count": 182
        }
      ]
    },
    {
      "cell_type": "markdown",
      "source": [
        "## 긴 문장, 짧은 문장 cut! \n",
        "\n",
        "\n",
        "* 가장 긴 데이터로 padding 처리가 들어가기 때문에, 60이상의 너무 긴 문장은 제거 해줍니다.\n",
        "* 3 미만의 짧은 문장도, 오히려 노이즈로 작용될 수 있기 때문에 삭제합니다. \n"
      ],
      "metadata": {
        "id": "PT0FEXcVldmK"
      }
    },
    {
      "cell_type": "markdown",
      "source": [
        "* 리뷰 문장의 최대 길이, 최소길이 등을 알아보겠습니다. \n",
        "* 막대 그래프로 시각화해서 확인 해 보겠습니다."
      ],
      "metadata": {
        "id": "cy4FgQZJxDXi"
      }
    },
    {
      "cell_type": "code",
      "source": [
        "min_len = 999\n",
        "max_len = 0\n",
        "sum_len = 0\n",
        "\n",
        "for sen in changed_sentence:\n",
        "    length = len(sen)\n",
        "    if min_len > length: min_len = length\n",
        "    if max_len < length: max_len = length\n",
        "    sum_len += length\n",
        "\n",
        "print(\"문장의 최단 길이:\", min_len)\n",
        "print(\"문장의 최장 길이:\", max_len)\n",
        "print(\"문장의 평균 길이:\", sum_len // len(raw))\n",
        "\n",
        "# sentence_length = np.zeros((max_len), dtype=np.int)\n",
        "\n",
        "# for sen in raw:\n",
        "#     sentence_length[len(sen)-1] += 1\n",
        "\n",
        "# plt.bar(range(max_len), sentence_length, width=1.0)\n",
        "# plt.title(\"Sentence Length Distribution\")\n",
        "# plt.show()"
      ],
      "metadata": {
        "colab": {
          "base_uri": "https://localhost:8080/"
        },
        "id": "X161QUb9-8o5",
        "outputId": "4f2c3dfe-06b7-43e0-8a28-d169176b3499"
      },
      "execution_count": 195,
      "outputs": [
        {
          "output_type": "stream",
          "name": "stdout",
          "text": [
            "문장의 최단 길이: 0\n",
            "문장의 최장 길이: 140\n",
            "문장의 평균 길이: 33\n"
          ]
        }
      ]
    },
    {
      "cell_type": "markdown",
      "source": [
        "\\\\\n",
        "\n",
        "\n",
        "## 최단길이, 최장길이 등을 보고 확인 해 볼 만한 것들 \n",
        "\n",
        "- 길이 1짜리 문장은 대체 무엇인가\n",
        "- 0과 50 사이에 치솟는 부분은 무엇인가\n",
        "- 어디서부터 어디까지 자를것인가!"
      ],
      "metadata": {
        "id": "-IRJ5dUrAdDj"
      }
    },
    {
      "cell_type": "markdown",
      "source": [
        "### 길이 1 짜리 문장 확인 해 보기 "
      ],
      "metadata": {
        "id": "i-uarfrkB6Qh"
      }
    },
    {
      "cell_type": "code",
      "source": [
        "def check_sentence_with_length(raw, length):\n",
        "\t\tcount = 0\n",
        "\n",
        "\t\tfor sen in raw:\n",
        "\t\t\t\tif len(sen) == length:\n",
        "\t\t\t\t\t\tprint(sen)\n",
        "\t\t\t\t\t\tcount += 1\n",
        "\t\t\t\t\t\tif count > 100: return \n",
        "\n",
        "check_sentence_with_length(changed_sentence, 1)"
      ],
      "metadata": {
        "colab": {
          "base_uri": "https://localhost:8080/"
        },
        "id": "_QMBojeC_B0r",
        "outputId": "b024f24e-94a1-490d-b026-220ec114400a"
      },
      "execution_count": 192,
      "outputs": [
        {
          "output_type": "stream",
          "name": "stdout",
          "text": [
            "아\n",
            "잼\n",
            "즐\n",
            "끙\n",
            "1\n",
            "4\n",
            "와\n",
            "굿\n",
            "굿\n",
            "기\n",
            "짱\n",
            "휴\n",
            "야\n",
            "음\n",
            "즐\n",
            "바\n",
            "즐\n",
            "굳\n",
            "아\n",
            "하\n",
            "네\n",
            "굿\n",
            "굿\n",
            "굿\n",
            "굿\n",
            "음\n",
            "짱\n",
            "우\n",
            "쒯\n",
            "0\n",
            "굿\n",
            "아\n",
            "쩝\n",
            "토\n",
            "아\n",
            "즐\n",
            "굿\n",
            "똥\n",
            "굿\n",
            "아\n",
            "굿\n",
            "흠\n",
            "하\n",
            "앜\n",
            "류\n",
            "헐\n",
            "쩝\n",
            "굿\n",
            "삼\n",
            "풉\n",
            "꽝\n",
            "음\n",
            "음\n",
            "굳\n",
            "굳\n",
            "굿\n",
            "아\n",
            "풉\n",
            "오\n",
            "아\n",
            "왜\n",
            "쉣\n",
            "좇\n",
            "봐\n",
            "굿\n",
            "까\n",
            "뿌\n",
            "짱\n",
            "하\n",
            "굳\n",
            "참\n",
            "0\n",
            "굿\n",
            "가\n",
            "잼\n",
            "음\n",
            "굿\n",
            "굳\n",
            "흥\n",
            "7\n",
            "음\n",
            "2\n",
            "찜\n",
            "굿\n",
            "올\n",
            "흠\n",
            "기\n",
            "귯\n",
            "린\n",
            "아\n",
            "후\n",
            "쨩\n",
            "흠\n",
            "시\n",
            "굿\n",
            "짱\n",
            "짱\n",
            "왜\n",
            "기\n",
            "흠\n",
            "굿\n"
          ]
        }
      ]
    },
    {
      "cell_type": "markdown",
      "source": [
        "2. 문장의 길이가 3000을 초과하는 문장은? "
      ],
      "metadata": {
        "id": "uRx37UrKB-v3"
      }
    },
    {
      "cell_type": "code",
      "source": [
        "for idx, _sum in enumerate(sentence_length):\n",
        "    # 문장의 수가 3000을 초과하는 문장 길이를 추출합니다.\n",
        "    if _sum > 3000:\n",
        "        print(\"Outlier Index:\", idx+1)"
      ],
      "metadata": {
        "id": "Ls3kLcWFDKWV"
      },
      "execution_count": 196,
      "outputs": []
    },
    {
      "cell_type": "code",
      "source": [
        "#index 11 에 대한 문장을 출력 해 봅니다 \n",
        "check_sentence_with_length(changed_sentence, 11)\n"
      ],
      "metadata": {
        "colab": {
          "base_uri": "https://localhost:8080/"
        },
        "id": "qlNwz7toDQMB",
        "outputId": "76103af5-8bc8-4ab5-dd7f-274d5fbac72c"
      },
      "execution_count": 197,
      "outputs": [
        {
          "output_type": "stream",
          "name": "stdout",
          "text": [
            "아햏햏 아햏햏 아햏햏\n",
            "용가리 진짜짱짱맨이다\n",
            "무술인이 왜 총을드나\n",
            "내 생의 최고의 영화\n",
            "현실은 꿈 꿈은 현실\n",
            "아진짜너무좋아요 짱짱\n",
            "이적의 소설 재미없다\n",
            "그냥 레전드다 레전드\n",
            "이딴게 한국 영화라니\n",
            "짜가인가 이게뭐여 뭔\n",
            "번지수 잃고 갈팡질팡\n",
            "역시 명작은 명작이다\n",
            "너무나 감동적인 영화\n",
            "안타까울뿐 안타까울뿐\n",
            "드릴브라 에서 뿜었다\n",
            "내 인생 최고의 영화\n",
            "감독 다신영화찍지마라\n",
            "이런 영화가 참 좋다\n",
            "커스틴 때문에 좋겠다\n",
            "재미있게봄 감동적이고\n",
            "딱 90년대코미디영화\n",
            "정말 광해와 비슷한가\n",
            "잠을 청할 수 있었다\n",
            "내 인생 최고의 미드\n",
            "파란색 슬픔이 영화에\n",
            "내사랑 키아누 리브스\n",
            "기적은 이미 일어났다\n",
            "답을 알려고 하지마라\n",
            "야경꾼보다 엉망지루함\n",
            "자식을 그렇게 때리냐\n",
            "딱말해준다잉 안나온다\n",
            "가슴이 뭉클 아름답딘\n",
            "장선우 여전히 쓰레기\n",
            "한국영화흥행의 시작점\n",
            "이런건 보는거 아니야\n",
            "시대착오적 애니메이션\n",
            "우아하다는 말에 공감\n",
            "실력이 필요없는 상황\n",
            "감동과 웃음을 한방에\n",
            "난 이거 되게 재밌네\n",
            "명작인데 왜들 이러지\n",
            "거 참 재밌는 영화균\n",
            "어른이 보기에도 잼남\n",
            "시간가는줄모르고 봤다\n",
            "그냥 보통으로 보았다\n",
            "뷰우우우우티이이이이풀\n",
            "개꿀잼 개꿀잼 10자\n",
            "재밌어요 나름 괜찮음\n",
            "유치해 너무 재미없어\n",
            "그냥 쓰레기지 쓰레기\n",
            "별로에요 재미없네요호\n",
            "이거 뭐지 이거 영화\n",
            "이건무슨 내용이 없어\n",
            "어색한 연기 어쩔거야\n",
            "이제보니까 장백기였네\n",
            "어차피 우승은 송민호\n",
            "어이없어 그저 웃지요\n",
            "이상형이 바뀌었습니다\n",
            "화가 난다 화가 난다\n",
            "역시 산드라블록 누님\n",
            "결국 엄마가 죽인거네\n",
            "대역이 더 맘에 드넹\n",
            "원주율 좀 만들어보자\n",
            "그녀의 용기에 박수룰\n",
            "얍얍 콩 나와라 뚝딱\n",
            "우연이 만들어낸 사랑\n",
            "나도 다큐나 찍어볼까\n",
            "마지막에어이없네왜죽어\n",
            "이건 정말 명작이네요\n",
            "역시 명작 최고입니다\n",
            "좀더 재미있게 만들면\n",
            "별덤높이기다디다디도러\n",
            "무조건 봐야되여 강추\n",
            "간만에쓰레기영화보네요\n",
            "정말 현실성없는 영화\n",
            "가 죽임 스케일도크고\n",
            "어린아이들만 재미있고\n",
            "그렇게 대단하지 않다\n",
            "견자단 액션 너무좋음\n",
            "좋은 프로 감사합니다\n",
            "짱 오늘 티비로 봤음\n",
            "아무리 저예산이라지만\n",
            "내용을말로표현못하게씀\n",
            "성룡영화는 전부 명작\n",
            "잼있습니다 야호호호호\n",
            "정말 훈훈한방송입니다\n",
            "화끈하긴 하네 살인만\n",
            "연출이 너무 귀여워요\n",
            "캐스팅돋네 잘금사인방\n",
            "반전이 꽤나 신선했다\n",
            "병만옹 짱짜아악앙맨앤\n",
            "재미있네요 훌륭합니다\n",
            "좀 식상한 스릴러영화\n",
            "이영화 어디서 보나요\n",
            "정말 재미 있게 봤다\n",
            "굉장히 마음에 듭니다\n",
            "저능아 수준의 연출력\n",
            "귀신 라그래 졸라웃겨\n",
            "기억이 가물가물하네요\n",
            "꿀잼 다시보고싶은영화\n",
            "뒤로 갈수록 유치뽕짝\n"
          ]
        }
      ]
    },
    {
      "cell_type": "markdown",
      "source": [
        "* 중복 보다는 다른 리뷰가 한데 짬뽕되어 버린것 같다... 아님 저렇게 길게 적었을리가.."
      ],
      "metadata": {
        "id": "x-cG1fUtDeZa"
      }
    },
    {
      "cell_type": "code",
      "source": [
        "max_len = 60\n",
        "min_len = 3\n",
        "\n",
        "# 길이 조건에 맞는 문장만 선택합니다.\n",
        "filtered_corpus = [s for s in cleaned_corpus if (len(s) < max_len) & (len(s) >= min_len)]\n",
        "\n",
        "# 분포도를 다시 그려봅니다.\n",
        "sentence_length = np.zeros((max_len), dtype=np.int)\n",
        "\n",
        "for sen in filtered_corpus:\n",
        "    sentence_length[len(sen)-1] += 1\n",
        "\n",
        "plt.bar(range(max_len), sentence_length, width=1.0)\n",
        "plt.title(\"Sentence Length Distribution\")\n",
        "plt.show()\n"
      ],
      "metadata": {
        "id": "YbkHhX_Yldpg",
        "colab": {
          "base_uri": "https://localhost:8080/",
          "height": 358
        },
        "outputId": "8923bd42-9265-4f65-a8f4-cc1032b0090e"
      },
      "execution_count": 198,
      "outputs": [
        {
          "output_type": "stream",
          "name": "stderr",
          "text": [
            "/usr/local/lib/python3.7/dist-packages/ipykernel_launcher.py:8: DeprecationWarning: `np.int` is a deprecated alias for the builtin `int`. To silence this warning, use `int` by itself. Doing this will not modify any behavior and is safe. When replacing `np.int`, you may wish to use e.g. `np.int64` or `np.int32` to specify the precision. If you wish to review your current use, check the release note link for additional information.\n",
            "Deprecated in NumPy 1.20; for more details and guidance: https://numpy.org/devdocs/release/1.20.0-notes.html#deprecations\n",
            "  \n"
          ]
        },
        {
          "output_type": "display_data",
          "data": {
            "text/plain": [
              "<Figure size 432x288 with 1 Axes>"
            ],
            "image/png": "[encoded data removed]"
          },
          "metadata": {
            "needs_background": "light"
          }
        }
      ]
    },
    {
      "cell_type": "markdown",
      "source": [
        "\n",
        "\n",
        "---\n",
        "\n",
        "\n"
      ],
      "metadata": {
        "id": "ob8gRNofq6q7"
      }
    },
    {
      "cell_type": "markdown",
      "source": [
        "\n",
        "\\\\\n",
        "\n",
        "\n",
        "# SentencePiece를 적용시킨 모델을 네이버 감정분석 코퍼스에 적용 해 보기!  \n",
        "\n",
        "* 적용 해 보기 위해선, 위에서 정제된 문장들의 type가 str이 되야 합니다. \n"
      ],
      "metadata": {
        "id": "iFMfYmiMldtQ"
      }
    },
    {
      "cell_type": "code",
      "source": [
        "print(type(changed_sentence))"
      ],
      "metadata": {
        "colab": {
          "base_uri": "https://localhost:8080/"
        },
        "id": "x9ccuBtUX0pg",
        "outputId": "10204e58-c082-4fdd-c3bc-95e48fe1ecb6"
      },
      "execution_count": 188,
      "outputs": [
        {
          "output_type": "stream",
          "name": "stdout",
          "text": [
            "<class 'list'>\n"
          ]
        }
      ]
    },
    {
      "cell_type": "code",
      "source": [
        "s = spm.SentencePieceProcessor()\n",
        "s.Load('korean_spm.model')"
      ],
      "metadata": {
        "id": "rYRlRtmqYWJ9"
      },
      "execution_count": null,
      "outputs": []
    },
    {
      "cell_type": "code",
      "source": [
        "def sentence_piece_here(row) :\n",
        "    # SentencePiece를 활용한 sentence -> encoding\n",
        "    tokensIDs = s.EncodeAsIds(row)\n",
        "    print(tokensIDs)\n",
        "\n",
        "    # SentencePiece를 활용한 sentence -> encoded pieces\n",
        "    print(s.SampleEncodeAsPieces(row,1, 0.0))\n",
        "\n",
        "    # SentencePiece를 활용한 encoding -> sentence 복원\n",
        "    print(s.DecodeIds(tokensIDs))\n"
      ],
      "metadata": {
        "id": "7WpA-nbEYXPV"
      },
      "execution_count": 189,
      "outputs": []
    },
    {
      "cell_type": "code",
      "source": [
        "sentence_piece_here(changed_sentence[1])"
      ],
      "metadata": {
        "colab": {
          "base_uri": "https://localhost:8080/"
        },
        "id": "qRckCtanY9Ff",
        "outputId": "2b933415-869a-49e1-be38-d7c0cf356241"
      },
      "execution_count": 190,
      "outputs": [
        {
          "output_type": "stream",
          "name": "stdout",
          "text": [
            "[1414, 1210, 166, 1401, 31, 243, 2842, 340, 1519, 4460, 19, 684, 437]\n",
            "['▁흠', '▁포스터', '보고', '▁초딩', '영화', '줄', '▁오버', '연기', '조차', '▁가볍', '지', '▁않', '구나']\n",
            "흠 포스터보고 초딩영화줄 오버연기조차 가볍지 않구나\n"
          ]
        }
      ]
    },
    {
      "cell_type": "markdown",
      "source": [
        "----\n"
      ],
      "metadata": {
        "id": "7IDkFt_veLlB"
      }
    },
    {
      "cell_type": "markdown",
      "source": [
        "# 이번에도 돌아왔습니다! 갑자기 분위기 회고~~(안기쁨) \n",
        "\n",
        "\n",
        "* 책상 한켠에 적어둔 글귀가 있다. \n",
        "\n",
        "###`겁먹지 말고 일단 해 보자. 해 보면 분명 재밌을 것이다.`\n",
        "\n",
        "* 프로젝트를 시작하기 전 까진 어떻게 해야할지 막막하고, 어떻게 하면 좋을 지 생각만 하다가 결국 실천을 하지 못하였다.결국 마지막 날 되서 본격적으로 하게 됬는데, 하다보니 네이버 데이터를 가져와 합치고, 필요없는 셀을 지우고, 텍스트 데이터를 전처리하는 과정이 너무 재밌었다. 전처리 해 보는것도, txt 형식 파일을 dataframe으로 만들었다가, str 형태 데이터로 추출하는것 등등, 처음엔 막막하다고만 생각했던 것 들인데, 막상 시작해 보니 재밌었다:) 적어 놓은 글귀 처럼, 일단 시작하니 과정이 점점 재밌어졌다. 분명 여태까지 익스를 진행 하면서 느꼈을 부분이였을텐데..  다음 프로젝트부턴 다양하게 시도 해보고 자신을 가지고, 꼭 엄청 잘 해야한단 생각을 내려놓고, 조금만 잘 하면서 재밌게 해 보도록 노력 해 봐야지:D \n",
        "\n",
        "* "
      ],
      "metadata": {
        "id": "BV4_FSdBeLId"
      }
    },
    {
      "cell_type": "markdown",
      "source": [
        "-----\n",
        "\\\\\n",
        "\n",
        "# 🖇 참고 페이지 \n",
        "\n",
        "\n",
        "## 데이터 불러오기 \n",
        "* [네이버 영화 리뷰 감정 분류 wikidocs](https://wikidocs.net/44249)\n",
        "\n",
        "\n",
        "## 네이버 영화 데이터 전처리 및 확인\n",
        "* exp 8. 뉴스 요약봇 만들기 "
      ],
      "metadata": {
        "id": "zKaC0DKvG7AK"
      }
    }
  ]
}