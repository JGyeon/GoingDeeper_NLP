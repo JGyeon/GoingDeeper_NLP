{
  "nbformat": 4,
  "nbformat_minor": 0,
  "metadata": {
    "colab": {
      "name": "[GDP-06]Measure bias across all genres.ipynb",
      "provenance": [],
      "collapsed_sections": []
    },
    "kernelspec": {
      "name": "python3",
      "display_name": "Python 3"
    },
    "language_info": {
      "name": "python"
    },
    "accelerator": "GPU"
  },
  "cells": [
    {
      "cell_type": "markdown",
      "source": [
        "# 🎥 GDP-06 모든 장르 간 편향성 측정해보기 \n",
        "\n",
        "\n",
        "- 이번 시간에는 임베딩 안의 편향성을 확인 해 보고, 이를 WEAT(Word Embedding Association Test) 방식을 이용해 임베딩 모델의 편향을 측정 해 보고, 영화 시놉시스 코퍼스를 이용해 영화 구분과 영화 장르 간에 내재된 편향성을 측정해 보았습니다.\n",
        "- 이번 프로젝트에선 모든 영화 장르에 대해 영화  구분과의 편향성 정도를 측정해 봅니다. \n"
      ],
      "metadata": {
        "id": "Oe8FIDqTedFO"
      }
    },
    {
      "cell_type": "markdown",
      "source": [
        "----\n",
        "\\\\"
      ],
      "metadata": {
        "id": "V3OLB7gigIi6"
      }
    },
    {
      "cell_type": "markdown",
      "source": [
        "# 루브릭 평가 기준 \n",
        "\n",
        "| 평가문항 | 상세기준 |\n",
        "| --- | --- |\n",
        "| 1. 주어진 영화 코퍼스를 바탕으로 워드임베딩 모델을 정상적으로 만들었다. | 워드임베딩의 most_similar() 메소드 결과가 의미상 바르게 나왔다. |\n",
        "| 2. 영화 구분, 장르별로 target, attribute에 대한 대표성있는 단어 셋을 생성하였다. | 타당한 방법론을 통해 중복이 잘 제거되고 개념축을 의미적으로 잘 대표하는 단어 셋이 만들어졌다. |\n",
        "| 3. WEAT score 계산 및 시각화를 정상적으로 진행하였다. | 전체 영화 장르별로 예술/일반 영화에 대한 편향성 WEAT score가 상식에 부합하는 수치로 얻어졌으며 이를 잘 시각화하였다. |\n"
      ],
      "metadata": {
        "id": "GyggJ12ofmRD"
      }
    },
    {
      "cell_type": "markdown",
      "source": [
        "----\n",
        "\\\\"
      ],
      "metadata": {
        "id": "C-fOjPSqgNbu"
      }
    },
    {
      "cell_type": "markdown",
      "source": [
        "# 목차\n",
        "\n",
        "## 1. 데이터 및 라이브러리 불러오기 \n",
        "## 2. 형태소 분석기를 이용하여 품사가 명사인 경우, 해당 언어를 추출하기\n",
        "## 3. 추출된 결과로 embedding model 만들기\n",
        "## 4. TF/IDF로 해당 데이터를 가장 잘 표현하는 단어 셋 만들기\n",
        "## 후기\n",
        "## 🖇 참고 페이지 "
      ],
      "metadata": {
        "id": "OyrPtXkOfxT3"
      }
    },
    {
      "cell_type": "markdown",
      "source": [
        "----\n",
        "\\\\"
      ],
      "metadata": {
        "id": "1Gr7MtoJgQje"
      }
    },
    {
      "cell_type": "markdown",
      "source": [
        "# 1. 데이터 및 라이브러리 불러오기 \n",
        "\n",
        "\n",
        "* 프로젝트에 진행에 필요한 라이브러리와 데이터를 가져옵니다. \n",
        "\n",
        "* target, attribute 단어 셋 만들기에 필요한 시놉시스 데이터를 가져옵니다.\n",
        "\n",
        "* gensim 등 필요한 패키지를 설치 한 다음, 불러와 줍니다.\n"
      ],
      "metadata": {
        "id": "zxa9l_rWgQP9"
      }
    },
    {
      "cell_type": "code",
      "source": [
        "# 폰트 설치 - 폰트 깨졌을 때! \n",
        "# 폰트 설치 후, 런타임 재시작 해야 안깨짐 \n",
        "!sudo apt-get install -y fonts-nanum\n",
        "!sudo fc-cache -fv\n",
        "!rm ~/.cache/matplotlib -rf\n"
      ],
      "metadata": {
        "colab": {
          "base_uri": "https://localhost:8080/"
        },
        "id": "bsNb4FarfjDH",
        "outputId": "18da72b2-1220-43c1-c12e-415f29783b85"
      },
      "execution_count": 62,
      "outputs": [
        {
          "output_type": "stream",
          "name": "stdout",
          "text": [
            "Reading package lists... Done\n",
            "Building dependency tree       \n",
            "Reading state information... Done\n",
            "fonts-nanum is already the newest version (20170925-1).\n",
            "0 upgraded, 0 newly installed, 0 to remove and 39 not upgraded.\n",
            "/usr/share/fonts: caching, new cache contents: 0 fonts, 1 dirs\n",
            "/usr/share/fonts/truetype: caching, new cache contents: 0 fonts, 3 dirs\n",
            "/usr/share/fonts/truetype/humor-sans: caching, new cache contents: 1 fonts, 0 dirs\n",
            "/usr/share/fonts/truetype/liberation: caching, new cache contents: 16 fonts, 0 dirs\n",
            "/usr/share/fonts/truetype/nanum: caching, new cache contents: 10 fonts, 0 dirs\n",
            "/usr/local/share/fonts: caching, new cache contents: 0 fonts, 0 dirs\n",
            "/root/.local/share/fonts: skipping, no such directory\n",
            "/root/.fonts: skipping, no such directory\n",
            "/var/cache/fontconfig: cleaning cache directory\n",
            "/root/.cache/fontconfig: not cleaning non-existent cache directory\n",
            "/root/.fontconfig: not cleaning non-existent cache directory\n",
            "fc-cache: succeeded\n"
          ]
        }
      ]
    },
    {
      "cell_type": "code",
      "source": [
        "# konlpy 설치 \n",
        "!pip install konlpy"
      ],
      "metadata": {
        "colab": {
          "base_uri": "https://localhost:8080/"
        },
        "id": "P-lMQcRZhnjc",
        "outputId": "03c6d0c9-a11e-4920-93b2-cf1d15077e3c"
      },
      "execution_count": 63,
      "outputs": [
        {
          "output_type": "stream",
          "name": "stdout",
          "text": [
            "Requirement already satisfied: konlpy in /usr/local/lib/python3.7/dist-packages (0.6.0)\n",
            "Requirement already satisfied: lxml>=4.1.0 in /usr/local/lib/python3.7/dist-packages (from konlpy) (4.2.6)\n",
            "Requirement already satisfied: numpy>=1.6 in /usr/local/lib/python3.7/dist-packages (from konlpy) (1.21.5)\n",
            "Requirement already satisfied: JPype1>=0.7.0 in /usr/local/lib/python3.7/dist-packages (from konlpy) (1.3.0)\n",
            "Requirement already satisfied: typing-extensions in /usr/local/lib/python3.7/dist-packages (from JPype1>=0.7.0->konlpy) (3.10.0.2)\n"
          ]
        }
      ]
    },
    {
      "cell_type": "code",
      "source": [
        "# 필요한 라이브러리 및 모듈 불러오기\n",
        "\n",
        "import pandas as pd\n",
        "import numpy as np\n",
        "import seaborn as sns\n",
        "import os, gensim, sklearn, konlpy\n",
        "\n",
        "# 2. 형태소 분석기로 명사인 단어 추출 \n",
        "from konlpy.tag import Okt\n",
        "\n",
        "# 3. 추출된 결과로 embedding model 만들기\n",
        "from gensim.models import Word2Vec\n",
        "\n",
        "# 4. TF/IDF로 단어 셋 만들기\n",
        "from sklearn.feature_extraction.text import TfidfVectorizer\n",
        "\n",
        "# 5. WEAT score 계산하기\n",
        "from numpy import dot\n",
        "from numpy.linalg import norm\n",
        "\n",
        "# 6. 시각화\n",
        "from sklearn.decomposition import PCA\n",
        "import matplotlib.pyplot as plt"
      ],
      "metadata": {
        "id": "J3l3j2Vrhsvr"
      },
      "execution_count": 64,
      "outputs": []
    },
    {
      "cell_type": "code",
      "source": [
        "# 각 라이브러리의 버전 확인하기 \n",
        "print(konlpy.__version__)\n",
        "print(gensim.__version__)\n",
        "print(sklearn.__version__)\n",
        "print(sns.__version__)"
      ],
      "metadata": {
        "colab": {
          "base_uri": "https://localhost:8080/"
        },
        "id": "Nr0MFtt2i6pL",
        "outputId": "9b41b160-cd65-4fb8-fd0c-d46099ad5ba8"
      },
      "execution_count": 65,
      "outputs": [
        {
          "output_type": "stream",
          "name": "stdout",
          "text": [
            "0.6.0\n",
            "3.6.0\n",
            "1.0.2\n",
            "0.11.2\n"
          ]
        }
      ]
    },
    {
      "cell_type": "code",
      "source": [
        "# 글꼴 설정 확인\n",
        "!python --version\n",
        "def current_font():\n",
        "  print(f\"설정 폰트 글꼴: {plt.rcParams['font.family']}, 설정 폰트 사이즈: {plt.rcParams['font.size']}\")  # 파이썬 3.6 이상 사용가능하다\n",
        "        \n",
        "current_font()"
      ],
      "metadata": {
        "colab": {
          "base_uri": "https://localhost:8080/"
        },
        "id": "3_HxcY0QgWwT",
        "outputId": "889f4b99-8805-453e-b95f-a33744325c5a"
      },
      "execution_count": 66,
      "outputs": [
        {
          "output_type": "stream",
          "name": "stdout",
          "text": [
            "Python 3.7.13\n",
            "설정 폰트 글꼴: ['NanumBarunGothic'], 설정 폰트 사이즈: 12.0\n"
          ]
        }
      ]
    },
    {
      "cell_type": "code",
      "source": [
        "# synopsis 폴더로 이동 \n",
        "os.chdir('/content/drive/MyDrive/AIFFEL/mkdir/weat/synopsis')"
      ],
      "metadata": {
        "id": "c2IRYaP8kVTT"
      },
      "execution_count": 67,
      "outputs": []
    },
    {
      "cell_type": "markdown",
      "source": [
        "* 코랩의 gensim 버전은 3.x 버전이기 때문에, 4.X 버전 기준으로 작성된 LMS 노드의 코드를 가져올 땐 꼭 오류가 발생하지 않는지 확인 해야합니다. \n",
        "\n",
        "* 데이터셋이 있는 폴더로 작업 환경을 이동합니다. \n",
        "* 제대로 연결 되었는지, 다섯 문장을 추출 해 읽어와보겠습니다."
      ],
      "metadata": {
        "id": "mhzmdj4ujOyC"
      }
    },
    {
      "cell_type": "code",
      "source": [
        "# 데이터셋에 있는 폴더로 이동했기 때문에, 긴 경로를 작성할 필요가 없습니다. \n",
        "with open('synopsis.txt', 'r') as file:\n",
        "    for i in range(5):\n",
        "        print(file.readline(), end='')"
      ],
      "metadata": {
        "colab": {
          "base_uri": "https://localhost:8080/"
        },
        "id": "SpVA-NfWkf-h",
        "outputId": "160d6064-a2bd-4928-a57c-8faab93fd90d"
      },
      "execution_count": 68,
      "outputs": [
        {
          "output_type": "stream",
          "name": "stdout",
          "text": [
            "사운드 엔지니어 상우(유지태 분)는 치매에 걸린 할머니(백성희 분)와\n",
            " 젊은 시절 상처한 한 아버지(박인환 분), 고모(신신애 분)와 함께 살고 있다.\n",
            " 어느 겨울 그는 지방 방송국 라디오 PD 은수(이영애 분)를 만난다.\n",
            " 자연의 소리를 채집해 틀어주는 라디오 프로그램을 준비하는 은수는 상우와 녹음 여행을 떠난다.\n",
            " 자연스레 가까워지는 두 사람은 어느 날, 은수의 아파트에서 밤을 보낸다.\n"
          ]
        }
      ]
    },
    {
      "cell_type": "markdown",
      "source": [
        "----\n",
        "\\\\"
      ],
      "metadata": {
        "id": "vYGhP5Zfj7x7"
      }
    },
    {
      "cell_type": "markdown",
      "source": [
        "# 2. 형태소 분석기를 이용하여 품사가 명사인 경우, 해당 언어를 추출하기 \n",
        "\n",
        "\n",
        "* synopsis.txt 파일의 데이터를 konlpy 패키지를 이용해 품사가 명사인 경우만 남겨 tokenized\n",
        "라는 변수명으로 저장 해 봅니다. "
      ],
      "metadata": {
        "id": "GBOmLWiTjh-T"
      }
    },
    {
      "cell_type": "code",
      "source": [
        "# tokenized 변수에 저장 \n",
        "okt = Okt()\n",
        "tokenized = []\n",
        "with open('synopsis.txt', 'r') as file:\n",
        "    while True:\n",
        "        line = file.readline()\n",
        "        if not line: break\n",
        "        words = okt.pos(line, stem=True, norm=True)\n",
        "        res = []\n",
        "        for w in words:\n",
        "            if w[1] in ['Noun']:\n",
        "                res.append(w[0]) # 명사일 때만 tokenized에 저장 \n",
        "        tokenized.append(res)\n",
        "\n",
        "print('tokenized 변수에 저장~~')"
      ],
      "metadata": {
        "colab": {
          "base_uri": "https://localhost:8080/"
        },
        "id": "0Is7FSNylKXV",
        "outputId": "05d5082d-57f3-423c-b475-c0c1f58bba5c"
      },
      "execution_count": 69,
      "outputs": [
        {
          "output_type": "stream",
          "name": "stdout",
          "text": [
            "tokenized 변수에 저장~~\n"
          ]
        }
      ]
    },
    {
      "cell_type": "code",
      "source": [
        "# tokenized의 데이터 수 \n",
        "print(len(tokenized))"
      ],
      "metadata": {
        "colab": {
          "base_uri": "https://localhost:8080/"
        },
        "id": "qX5yLY-fl-GX",
        "outputId": "3b86e75f-d661-4a17-8fd3-5232882088de"
      },
      "execution_count": 70,
      "outputs": [
        {
          "output_type": "stream",
          "name": "stdout",
          "text": [
            "71156\n"
          ]
        }
      ]
    },
    {
      "cell_type": "code",
      "source": [
        "# tokenized 의 type 확인 \n",
        "print(type(tokenized))"
      ],
      "metadata": {
        "colab": {
          "base_uri": "https://localhost:8080/"
        },
        "id": "VDH0PEmNpNme",
        "outputId": "3c8afcab-2235-40ed-cc98-9009e30fb1bb"
      },
      "execution_count": 71,
      "outputs": [
        {
          "output_type": "stream",
          "name": "stdout",
          "text": [
            "<class 'list'>\n"
          ]
        }
      ]
    },
    {
      "cell_type": "code",
      "source": [
        "# 5개만 불러와서 확인 해봅니다. \n",
        "tokenized[:5]"
      ],
      "metadata": {
        "colab": {
          "base_uri": "https://localhost:8080/"
        },
        "id": "VpXFA1OfpQMd",
        "outputId": "44998438-04e4-47c4-b092-13411f31545a"
      },
      "execution_count": 72,
      "outputs": [
        {
          "output_type": "execute_result",
          "data": {
            "text/plain": [
              "[['사운드', '엔지니어', '상우', '유지태', '분', '치매', '할머니', '백성희', '분'],\n",
              " ['시절', '상처', '아버지', '박인환', '분', '고모', '신신애', '분', '살'],\n",
              " ['겨울', '그', '지방', '방송국', '라디오', '은수', '이영애', '분', '를'],\n",
              " ['자연', '소리', '채집', '라디오', '프로그램', '준비', '은수', '상우', '녹음', '여행'],\n",
              " ['두', '사람', '날', '은수', '아파트', '밤']]"
            ]
          },
          "metadata": {},
          "execution_count": 72
        }
      ]
    },
    {
      "cell_type": "markdown",
      "source": [
        "----\n",
        "\\\\"
      ],
      "metadata": {
        "id": "UJ2EP0K8mlSl"
      }
    },
    {
      "cell_type": "markdown",
      "source": [
        "# 3. 추출 된 결과로 Embedding Model 만들기 \n",
        "\n",
        "\n",
        "* 2번에서 추출한 `tokenize` 에 담긴 데이터를 가지고 Word2Vec을 생성합니다. \n",
        "\n",
        "* 잘 훈련 되었는지도 확인 해 봅니다."
      ],
      "metadata": {
        "id": "3z0kTVIymAxi"
      }
    },
    {
      "cell_type": "code",
      "source": [
        "# Embedding Model 생성하기 \n",
        "model = Word2Vec(tokenized, size=100, window=5, min_count=3, sg=0)  \n",
        "model.most_similar(positive=['영화'])"
      ],
      "metadata": {
        "id": "OvHltTjjnQGd",
        "colab": {
          "base_uri": "https://localhost:8080/"
        },
        "outputId": "fc2bf359-97be-4157-b5e3-9ef2d91715f2"
      },
      "execution_count": 73,
      "outputs": [
        {
          "output_type": "stream",
          "name": "stderr",
          "text": [
            "/usr/local/lib/python3.7/dist-packages/ipykernel_launcher.py:3: DeprecationWarning: Call to deprecated `most_similar` (Method will be removed in 4.0.0, use self.wv.most_similar() instead).\n",
            "  This is separate from the ipykernel package so we can avoid doing imports until\n"
          ]
        },
        {
          "output_type": "execute_result",
          "data": {
            "text/plain": [
              "[('작품', 0.8987511992454529),\n",
              " ('다큐멘터리', 0.8540351986885071),\n",
              " ('드라마', 0.823577344417572),\n",
              " ('영화로', 0.8163931965827942),\n",
              " ('형식', 0.8151457905769348),\n",
              " ('코미디', 0.8006949424743652),\n",
              " ('주제', 0.791531503200531),\n",
              " ('스토리', 0.7834060788154602),\n",
              " ('편의', 0.7816134691238403),\n",
              " ('소재', 0.7803533673286438)]"
            ]
          },
          "metadata": {},
          "execution_count": 73
        }
      ]
    },
    {
      "cell_type": "markdown",
      "source": [
        "* Word2Vec 모델 학습에 사용된 하이퍼 파라미터 \n",
        "\n",
        "    - `sentences` : 각 문장 마다 하나의 토큰 list를 생성하며 토큰 list의 개수는 문장 개수 n개 만큼 생성하여 sentences에 저장해둠\n",
        "    - `size` : word 벡터 차원\n",
        "    - `window` : 현재 단어와 예측 단어의 최대 거리\n",
        "    - `min_count` : min_count의 빈도수보다 낮은 빈도수인 단어는 무시합니다.\n",
        "    - `sg` : sg 값이 1이면 skip-gram이지만 그렇지 않으면 CBOW 알고리즘을 이용합니다.\n",
        "\n"
      ],
      "metadata": {
        "id": "paJffwBIoDnK"
      }
    },
    {
      "cell_type": "code",
      "source": [
        "# 다른 단어를 입력해, 학습이 잘 되었는지 확인 해 봅니다.\n",
        "model.wv.most_similar(positive=['지구'])"
      ],
      "metadata": {
        "colab": {
          "base_uri": "https://localhost:8080/"
        },
        "id": "CiA-uz95p4_k",
        "outputId": "f9271339-0081-4601-adce-153d1d3b87c6"
      },
      "execution_count": 74,
      "outputs": [
        {
          "output_type": "execute_result",
          "data": {
            "text/plain": [
              "[('우주', 0.9403133988380432),\n",
              " ('인류', 0.9311428070068359),\n",
              " ('행성', 0.9195505380630493),\n",
              " ('외계', 0.8754429817199707),\n",
              " ('파괴', 0.8747604489326477),\n",
              " ('지배', 0.8665487766265869),\n",
              " ('재앙', 0.8623397350311279),\n",
              " ('물리', 0.8585426211357117),\n",
              " ('멸망', 0.8522101044654846),\n",
              " ('평화', 0.8513023853302002)]"
            ]
          },
          "metadata": {},
          "execution_count": 74
        }
      ]
    },
    {
      "cell_type": "code",
      "source": [
        "model.wv.most_similar(positive=['조폭'])"
      ],
      "metadata": {
        "colab": {
          "base_uri": "https://localhost:8080/"
        },
        "id": "1M0iRo_0qSL9",
        "outputId": "f438df11-f4f3-4190-9634-4384a2ea2c90"
      },
      "execution_count": 75,
      "outputs": [
        {
          "output_type": "execute_result",
          "data": {
            "text/plain": [
              "[('털이범', 0.9705249071121216),\n",
              " ('폭주족', 0.9700404405593872),\n",
              " ('소매치기', 0.967260479927063),\n",
              " ('지명', 0.9669005870819092),\n",
              " ('콕스', 0.9651473760604858),\n",
              " ('폭력배', 0.9646561741828918),\n",
              " ('회계사', 0.9632391333580017),\n",
              " ('냉혈', 0.962638258934021),\n",
              " ('주조', 0.962540864944458),\n",
              " ('스트리퍼', 0.9625027179718018)]"
            ]
          },
          "metadata": {},
          "execution_count": 75
        }
      ]
    },
    {
      "cell_type": "code",
      "source": [
        "model.wv.most_similar(positive=['풀잎'])"
      ],
      "metadata": {
        "colab": {
          "base_uri": "https://localhost:8080/"
        },
        "id": "I5SrXjO2qWF-",
        "outputId": "0d2ab895-cee4-48e9-faca-796313051d56"
      },
      "execution_count": 76,
      "outputs": [
        {
          "output_type": "execute_result",
          "data": {
            "text/plain": [
              "[('재미나', 0.8681221604347229),\n",
              " ('반딧불', 0.860020101070404),\n",
              " ('맑은', 0.8478657007217407),\n",
              " ('눈사람', 0.8460125923156738),\n",
              " ('실업계', 0.8448861837387085),\n",
              " ('육중', 0.8393086194992065),\n",
              " ('노을', 0.8388099074363708),\n",
              " ('다문화', 0.8373083472251892),\n",
              " ('허황', 0.8353900909423828),\n",
              " ('눈높이', 0.8349448442459106)]"
            ]
          },
          "metadata": {},
          "execution_count": 76
        }
      ]
    },
    {
      "cell_type": "markdown",
      "source": [
        "* 관련있는 단어를 잘 찾아낸 것 같다! \n",
        "* 영화의 장르와 관련 있을 법한 단어의 유사 단어는 잘 찾아내는 반면, 관련이 없어보이는 단어는 영화와 관련있는 단어보다 유사도도 낮고, 관련 없어보이는 단어들도 몇몇 보인다. "
      ],
      "metadata": {
        "id": "toF4vRH1qeW3"
      }
    },
    {
      "cell_type": "markdown",
      "source": [
        "----\n",
        "\\\\"
      ],
      "metadata": {
        "id": "MbmXBTXbmlaX"
      }
    },
    {
      "cell_type": "markdown",
      "source": [
        "# 4. TF/IDF로 해당 데이터를 가장 잘 표현하는 단어 셋 만들기\n",
        "\n",
        "\n",
        "* WEAT score를 구할 때 필요한 단어 셋을 만들어 줍니다. \n",
        "    - targets_X, targets_Y, attribute_A, attribute_B\n",
        "- 두 축을 어떤 기준으로 잡고, 해당 축의 어떤 항목을 사용할 지 정합니다.\n",
        "- 여기선 영화 장르, 영화 구분 정보를 두 축으로 이용합니다.\n",
        "    - 영화 구분 정보 : 일반영화, 예술영화, 독립영화로 구분된 정보 \n",
        "    KOBIS에서 제공한 정보를 기준으로 분류."
      ],
      "metadata": {
        "id": "Kv1youdOrYt8"
      }
    },
    {
      "cell_type": "code",
      "source": [
        "art_txt = 'synopsis_art.txt'\n",
        "gen_txt = 'synopsis_gen.txt'\n",
        "\n",
        "def read_token(file_name):\n",
        "    okt = Okt()\n",
        "    result = []\n",
        "    with open(file_name, 'r') as fread: \n",
        "        print(file_name, '파일을 읽고 있습니다.')\n",
        "        while True:\n",
        "            line = fread.readline() \n",
        "            if not line: break \n",
        "            tokenlist = okt.pos(line, stem=True, norm=True) \n",
        "            for word in tokenlist:\n",
        "                if word[1] in [\"Noun\"]:#, \"Adjective\", \"Verb\"]:\n",
        "                    result.append((word[0])) \n",
        "    return ' '.join(result)\n",
        "\n",
        "print(\"슝~\")"
      ],
      "metadata": {
        "colab": {
          "base_uri": "https://localhost:8080/"
        },
        "id": "DkzYfSDgwF3m",
        "outputId": "a0823edf-9e4f-4416-82d9-fd1697b78b82"
      },
      "execution_count": 77,
      "outputs": [
        {
          "output_type": "stream",
          "name": "stdout",
          "text": [
            "슝~\n"
          ]
        }
      ]
    },
    {
      "cell_type": "code",
      "source": [
        "# 2개의 파일을 처리하는데 10분 가량 걸립니다. \n",
        "art = read_token(art_txt)\n",
        "gen = read_token(gen_txt)"
      ],
      "metadata": {
        "colab": {
          "base_uri": "https://localhost:8080/"
        },
        "id": "IQeru26TwXm5",
        "outputId": "4385b095-7b21-459b-c6a7-b5e087cde76e"
      },
      "execution_count": 78,
      "outputs": [
        {
          "output_type": "stream",
          "name": "stdout",
          "text": [
            "synopsis_art.txt 파일을 읽고 있습니다.\n",
            "synopsis_gen.txt 파일을 읽고 있습니다.\n"
          ]
        }
      ]
    },
    {
      "cell_type": "code",
      "source": [
        "print(type(art), type(gen))\n",
        "print(len(art), len(gen))"
      ],
      "metadata": {
        "colab": {
          "base_uri": "https://localhost:8080/"
        },
        "id": "J6n-40iFx9Nm",
        "outputId": "48b8c59d-519f-4a3c-cb9a-7e10b2d0c4e1"
      },
      "execution_count": 79,
      "outputs": [
        {
          "output_type": "stream",
          "name": "stdout",
          "text": [
            "<class 'str'> <class 'str'>\n",
            "620208 3014815\n"
          ]
        }
      ]
    },
    {
      "cell_type": "markdown",
      "source": [
        "### TF-IDF 사용\n",
        "\n",
        "- 단어 분석에 TF-IDF를 사용합니다.\n",
        "- 코퍼스에서 자주 나타는(TF가 높은) 단어지만, 다른 코퍼스에까지 두루 걸쳐 나오지 않는(IDF 가 높은! ) 단어를 선정하기 위해서!"
      ],
      "metadata": {
        "id": "9jEfaX-gx9Kk"
      }
    },
    {
      "cell_type": "code",
      "source": [
        "#TF-IDF로 벡터화! \n",
        "vectorizer = TfidfVectorizer()\n",
        "X = vectorizer.fit_transform([art, gen])\n",
        "\n",
        "print(X.shape)"
      ],
      "metadata": {
        "colab": {
          "base_uri": "https://localhost:8080/"
        },
        "id": "4a7cmOsBx9Hm",
        "outputId": "6d9d758f-54e9-4229-9346-2d603d2cce4b"
      },
      "execution_count": 80,
      "outputs": [
        {
          "output_type": "stream",
          "name": "stdout",
          "text": [
            "(2, 41082)\n"
          ]
        }
      ]
    },
    {
      "cell_type": "code",
      "source": [
        "\n",
        "print(vectorizer.vocabulary_['영화'])\n",
        "print(vectorizer.get_feature_names()[23976])"
      ],
      "metadata": {
        "colab": {
          "base_uri": "https://localhost:8080/"
        },
        "id": "BSEzPtGpx9ES",
        "outputId": "c1aa499e-0dd5-49c3-9f0b-9d2622662255"
      },
      "execution_count": 81,
      "outputs": [
        {
          "output_type": "stream",
          "name": "stdout",
          "text": [
            "23976\n",
            "영화\n"
          ]
        },
        {
          "output_type": "stream",
          "name": "stderr",
          "text": [
            "/usr/local/lib/python3.7/dist-packages/sklearn/utils/deprecation.py:87: FutureWarning: Function get_feature_names is deprecated; get_feature_names is deprecated in 1.0 and will be removed in 1.2. Please use get_feature_names_out instead.\n",
            "  warnings.warn(msg, category=FutureWarning)\n"
          ]
        }
      ]
    },
    {
      "cell_type": "code",
      "source": [
        "m1 = X[0].tocoo()   # art를 TF-IDF로 표현한 sparse matrix를 가져옵니다. \n",
        "m2 = X[1].tocoo()   # gen을 TF-IDF로 표현한 sparse matrix를 가져옵니다. \n",
        "\n",
        "w1 = [[i, j] for i, j in zip(m1.col, m1.data)]\n",
        "w2 = [[i, j] for i, j in zip(m2.col, m2.data)]\n",
        "\n",
        "w1.sort(key=lambda x: x[1], reverse=True)   #art를 구성하는 단어들을 TF-IDF가 높은 순으로 정렬합니다. \n",
        "w2.sort(key=lambda x: x[1], reverse=True)   #gen을 구성하는 단어들을 TF-IDF가 높은 순으로 정렬합니다. \n",
        "\n",
        "print('예술영화를 대표하는 단어들:')\n",
        "for i in range(100):\n",
        "    print(vectorizer.get_feature_names()[w1[i][0]], end=', ')\n",
        "\n",
        "print('\\n')\n",
        "    \n",
        "print('일반영화를 대표하는 단어들:')\n",
        "for i in range(100):\n",
        "    print(vectorizer.get_feature_names()[w2[i][0]], end=', ')"
      ],
      "metadata": {
        "colab": {
          "base_uri": "https://localhost:8080/"
        },
        "id": "P1CBmdpmx9Bb",
        "outputId": "a2674c54-3e65-4fa2-c369-dcef11f413c7"
      },
      "execution_count": 82,
      "outputs": [
        {
          "output_type": "stream",
          "name": "stdout",
          "text": [
            "예술영화를 대표하는 단어들:\n",
            "그녀, 자신, 시작, "
          ]
        },
        {
          "output_type": "stream",
          "name": "stderr",
          "text": [
            "/usr/local/lib/python3.7/dist-packages/sklearn/utils/deprecation.py:87: FutureWarning: Function get_feature_names is deprecated; get_feature_names is deprecated in 1.0 and will be removed in 1.2. Please use get_feature_names_out instead.\n",
            "  warnings.warn(msg, category=FutureWarning)\n"
          ]
        },
        {
          "output_type": "stream",
          "name": "stdout",
          "text": [
            "위해, 사랑, 사람, 영화, 친구, 남자, 가족, 이야기, 마을, 사건, 마음, 세상, 아버지, 아이, 엄마, 모든, 여자, 대한, 서로, 과연, 다시, 시간, 아들, 소녀, 아내, 다른, 사이, 영화제, 세계, 사실, 하나, 점점, 남편, 감독, 여행, 인생, 발견, 모두, 순간, 우리, 가장, 마지막, 생활, 아빠, 모습, 통해, 죽음, 기억, 비밀, 학교, 음악, 한편, 소년, 생각, 도시, 명의, 사고, 결혼, 전쟁, 때문, 위기, 이제, 최고, 이자, 과거, 일상, 경찰, 상황, 간다, 미국, 결심, 운명, 현실, 관계, 지금, 단편, 여인, 하루, 이름, 이후, 준비, 인간, 감정, 만난, 국제, 처음, 충격, 살인, 누구, 동안, 존재, 그린, 어머니, 연인, 계속, 동생, 작품, \n",
            "\n",
            "일반영화를 대표하는 단어들:\n",
            "자신, 그녀, 영화제, 위해, 사람, 시작, 국제, 영화, 친구, 사랑, 남자, 이야기, 대한, 서울, 여자, 사건, 남편, 아이, 가족, 아버지, 다른, 마을, 시간, 엄마, 아들, 모든, 단편, 마음, 사실, 다시, 세계, 모습, 작품, 통해, 생각, 서로, 세상, 발견, 감독, 아내, 관계, 소녀, 사이, 하나, 우리, 애니메이션, 때문, 여성, 죽음, 과연, 점점, 인간, 생활, 한편, 결혼, 상황, 모두, 기억, 명의, 소년, 여행, 가장, 간다, 순간, 이제, 도시, 비밀, 학교, 과거, 가지, 이자, 경찰, 마지막, 미국, 동안, 전쟁, 주인공, 대해, 존재, 현실, 연출, 사고, 살인, 일상, 어머니, 계속, 사회, 인생, 다큐멘터리, 부문, 섹스, 최고, 바로, 동생, 의도, 하루, 위기, 계획, 정체, 한국, "
          ]
        }
      ]
    },
    {
      "cell_type": "markdown",
      "source": [
        "- 100개의 단어들 중 중복되는 단어를 제외하고 상위 n(=15)개의 단어를 추출합니다."
      ],
      "metadata": {
        "id": "G63mT1mN_vmt"
      }
    },
    {
      "cell_type": "code",
      "source": [
        "n = 15\n",
        "w1_, w2_ = [], []\n",
        "for i in range(100):\n",
        "    w1_.append(vectorizer.get_feature_names()[w1[i][0]])\n",
        "    w2_.append(vectorizer.get_feature_names()[w2[i][0]])\n",
        "\n",
        "# w1에만 있고 w2에는 없는, 예술영화를 잘 대표하는 단어를 15개 추출한다.\n",
        "target_art, target_gen = [], []\n",
        "for i in range(100):\n",
        "    if (w1_[i] not in w2_) and (w1_[i] in model.wv): target_art.append(w1_[i])\n",
        "    if len(target_art) == n: break \n",
        "\n",
        "# w2에만 있고 w1에는 없는, 일반영화를 잘 대표하는 단어를 15개 추출한다.\n",
        "for i in range(100):\n",
        "    if (w2_[i] not in w1_) and (w2_[i] in model.wv): target_gen.append(w2_[i])\n",
        "    if len(target_gen) == n: break"
      ],
      "metadata": {
        "colab": {
          "base_uri": "https://localhost:8080/"
        },
        "id": "XEBjwyTXx8-T",
        "outputId": "3b80053c-e6c3-4714-e635-5049e4aea693"
      },
      "execution_count": 83,
      "outputs": [
        {
          "output_type": "stream",
          "name": "stderr",
          "text": [
            "/usr/local/lib/python3.7/dist-packages/sklearn/utils/deprecation.py:87: FutureWarning: Function get_feature_names is deprecated; get_feature_names is deprecated in 1.0 and will be removed in 1.2. Please use get_feature_names_out instead.\n",
            "  warnings.warn(msg, category=FutureWarning)\n"
          ]
        }
      ]
    },
    {
      "cell_type": "code",
      "source": [
        "len(w1_), len(w2_)"
      ],
      "metadata": {
        "id": "Z-tXxbAQAwNq",
        "outputId": "d2975def-d3c5-4df3-d13a-d5b180242972",
        "colab": {
          "base_uri": "https://localhost:8080/"
        }
      },
      "execution_count": 84,
      "outputs": [
        {
          "output_type": "execute_result",
          "data": {
            "text/plain": [
              "(100, 100)"
            ]
          },
          "metadata": {},
          "execution_count": 84
        }
      ]
    },
    {
      "cell_type": "code",
      "source": [
        "print(target_art)"
      ],
      "metadata": {
        "colab": {
          "base_uri": "https://localhost:8080/"
        },
        "id": "Mnrl6Q0ix864",
        "outputId": "cea75efc-b402-4df3-e620-22c730bef686"
      },
      "execution_count": 85,
      "outputs": [
        {
          "output_type": "stream",
          "name": "stdout",
          "text": [
            "['아빠', '음악', '결심', '운명', '지금', '여인', '이름', '이후', '준비', '감정', '만난', '처음', '충격', '누구', '그린']\n"
          ]
        }
      ]
    },
    {
      "cell_type": "code",
      "source": [
        "print(target_gen)"
      ],
      "metadata": {
        "colab": {
          "base_uri": "https://localhost:8080/"
        },
        "id": "0w2O4Akix83e",
        "outputId": "2a509dc0-c03a-47f2-ddb5-70c99841ea9f"
      },
      "execution_count": 86,
      "outputs": [
        {
          "output_type": "stream",
          "name": "stdout",
          "text": [
            "['서울', '애니메이션', '여성', '가지', '주인공', '대해', '연출', '사회', '다큐멘터리', '부문', '섹스', '바로', '의도', '계획', '정체']\n"
          ]
        }
      ]
    },
    {
      "cell_type": "code",
      "source": [
        "genre_txt = ['synopsis_SF.txt', 'synopsis_family.txt', 'synopsis_show.txt', 'synopsis_horror.txt', 'synopsis_etc.txt', \n",
        "             'synopsis_documentary.txt', 'synopsis_drama.txt', 'synopsis_romance.txt', 'synopsis_musical.txt', \n",
        "             'synopsis_mystery.txt', 'synopsis_crime.txt', 'synopsis_historical.txt', 'synopsis_western.txt', \n",
        "             'synopsis_adult.txt', 'synopsis_thriller.txt', 'synopsis_animation.txt', 'synopsis_action.txt', \n",
        "             'synopsis_adventure.txt', 'synopsis_war.txt', 'synopsis_comedy.txt', 'synopsis_fantasy.txt']\n",
        "genre_name = ['SF', '가족', '공연', '공포(호러)', '기타', '다큐멘터리', '드라마', '멜로로맨스', '뮤지컬', '미스터리', '범죄', '사극', '서부극(웨스턴)',\n",
        "         '성인물(에로)', '스릴러', '애니메이션', '액션', '어드벤처', '전쟁', '코미디', '판타지']"
      ],
      "metadata": {
        "id": "eOrRRAtgvvYL"
      },
      "execution_count": 87,
      "outputs": []
    },
    {
      "cell_type": "code",
      "source": [
        "# 약 10분정도 걸립니다.\n",
        "genre = []\n",
        "for file_name in genre_txt:\n",
        "    genre.append(read_token(file_name))"
      ],
      "metadata": {
        "id": "Fyb8zLiuvzCb",
        "colab": {
          "base_uri": "https://localhost:8080/"
        },
        "outputId": "4ad8ea43-34db-4a73-fa3f-42ccfcca4e14"
      },
      "execution_count": 88,
      "outputs": [
        {
          "output_type": "stream",
          "name": "stdout",
          "text": [
            "synopsis_SF.txt 파일을 읽고 있습니다.\n",
            "synopsis_family.txt 파일을 읽고 있습니다.\n",
            "synopsis_show.txt 파일을 읽고 있습니다.\n",
            "synopsis_horror.txt 파일을 읽고 있습니다.\n",
            "synopsis_etc.txt 파일을 읽고 있습니다.\n",
            "synopsis_documentary.txt 파일을 읽고 있습니다.\n",
            "synopsis_drama.txt 파일을 읽고 있습니다.\n",
            "synopsis_romance.txt 파일을 읽고 있습니다.\n",
            "synopsis_musical.txt 파일을 읽고 있습니다.\n",
            "synopsis_mystery.txt 파일을 읽고 있습니다.\n",
            "synopsis_crime.txt 파일을 읽고 있습니다.\n",
            "synopsis_historical.txt 파일을 읽고 있습니다.\n",
            "synopsis_western.txt 파일을 읽고 있습니다.\n",
            "synopsis_adult.txt 파일을 읽고 있습니다.\n",
            "synopsis_thriller.txt 파일을 읽고 있습니다.\n",
            "synopsis_animation.txt 파일을 읽고 있습니다.\n",
            "synopsis_action.txt 파일을 읽고 있습니다.\n",
            "synopsis_adventure.txt 파일을 읽고 있습니다.\n",
            "synopsis_war.txt 파일을 읽고 있습니다.\n",
            "synopsis_comedy.txt 파일을 읽고 있습니다.\n",
            "synopsis_fantasy.txt 파일을 읽고 있습니다.\n"
          ]
        }
      ]
    },
    {
      "cell_type": "code",
      "source": [
        "len(genre)"
      ],
      "metadata": {
        "colab": {
          "base_uri": "https://localhost:8080/"
        },
        "id": "lOvszGAPnTds",
        "outputId": "5b17e249-ead5-4748-86dd-a3cce5aa6878"
      },
      "execution_count": 89,
      "outputs": [
        {
          "output_type": "execute_result",
          "data": {
            "text/plain": [
              "21"
            ]
          },
          "metadata": {},
          "execution_count": 89
        }
      ]
    },
    {
      "cell_type": "code",
      "source": [
        "vectorizer = TfidfVectorizer()\n",
        "X = vectorizer.fit_transform(genre)\n",
        "\n",
        "print(X.shape)"
      ],
      "metadata": {
        "colab": {
          "base_uri": "https://localhost:8080/"
        },
        "id": "N6h2HzX9nTnp",
        "outputId": "f852d24b-f4ca-4c15-bd14-5b5ba7ddec65"
      },
      "execution_count": 90,
      "outputs": [
        {
          "output_type": "stream",
          "name": "stdout",
          "text": [
            "(21, 42191)\n"
          ]
        }
      ]
    },
    {
      "cell_type": "code",
      "source": [
        "m = [X[i].tocoo() for i in range(X.shape[0])]\n",
        "\n",
        "w = [[[i, j] for i, j in zip(mm.col, mm.data)] for mm in m]\n",
        "\n",
        "for i in range(len(w)):\n",
        "    w[i].sort(key=lambda x: x[1], reverse = True)\n",
        "attributes = []\n",
        "for i in range(len(w)):\n",
        "    print(genre_name[i], end =': ')\n",
        "    attr = []\n",
        "    j = 0\n",
        "    while (len(attr) < 15):\n",
        "        if vectorizer.get_feature_names()[w[i][j][0]] in model.wv:\n",
        "            attr.append(vectorizer.get_feature_names()[w[i][j][0]])\n",
        "            print(vectorizer.get_feature_names()[w[i][j][0]], end=',')\n",
        "        j += 1\n",
        "    attributes.append(attr)\n",
        "    print()"
      ],
      "metadata": {
        "colab": {
          "base_uri": "https://localhost:8080/"
        },
        "id": "E0o9hLKOnTsF",
        "outputId": "ff93973a-86b9-4a6c-e344-262e6d404920"
      },
      "execution_count": 91,
      "outputs": [
        {
          "output_type": "stream",
          "name": "stdout",
          "text": [
            "SF: 위해,자신,"
          ]
        },
        {
          "output_type": "stream",
          "name": "stderr",
          "text": [
            "/usr/local/lib/python3.7/dist-packages/sklearn/utils/deprecation.py:87: FutureWarning: Function get_feature_names is deprecated; get_feature_names is deprecated in 1.0 and will be removed in 1.2. Please use get_feature_names_out instead.\n",
            "  warnings.warn(msg, category=FutureWarning)\n"
          ]
        },
        {
          "output_type": "stream",
          "name": "stdout",
          "text": [
            "지구,시작,사람,인류,인간,미래,우주,그녀,로봇,세계,모든,박사,우주선,\n",
            "가족: 엄마,아빠,가족,영화제,자신,위해,친구,아주르,아버지,시작,그녀,아들,마을,국제,낙타,\n",
            "공연: 오페라,사랑,토스카,실황,올레,자신,카바,그녀,공연,오텔로,리골레토,백작,프레,베르디,위해,\n",
            "공포(호러): 시작,위해,사람,자신,친구,그녀,사건,공포,발견,죽음,마을,가족,악령,남자,좀비,\n",
            "기타: 영화제,국제,서울,단편,영화,자신,사람,이야기,그녀,남자,위해,시작,사랑,뉴미디어,페스티벌,\n",
            "다큐멘터리: 영화제,영화,다큐,국제,다큐멘터리,사람,이야기,대한,자신,감독,위해,서울,우리,시작,세계,\n",
            "드라마: 자신,영화제,그녀,사람,사랑,영화,위해,시작,국제,남자,친구,이야기,엄마,여자,아버지,\n",
            "멜로로맨스: 그녀,사랑,자신,시작,남편,남자,여자,사람,친구,섹스,위해,마음,결혼,서로,아내,\n",
            "뮤지컬: 뮤지컬,사랑,에스메랄다,그녀,음악,충무로,모차르트,영화,토스카,자신,니웨,카바,영화제,바흐,페뷔스,\n",
            "미스터리: 사건,그녀,시작,자신,위해,사람,발견,사고,진실,죽음,기억,살인,친구,아내,남자,\n",
            "범죄: 사건,위해,자신,경찰,시작,그녀,범죄,조직,살인,사람,마약,형사,남자,모든,살해,\n",
            "사극: 조선,위해,시작,신기전,사랑,자신,아가멤논,황제,그녀,루안,최고,운명,사람,하선,전쟁,\n",
            "서부극(웨스턴): 서부,보안관,위해,벌린,카우보이,그레이프바인,헨리,마을,자신,개릿,아이,시작,무법자,프린트,마적,\n",
            "성인물(에로): 그녀,남편,마사지,자신,섹스,관계,영화,정사,남자,위해,시작,여자,유부녀,마음,사랑,\n",
            "스릴러: 자신,그녀,사건,시작,위해,사람,살인,남자,발견,아내,경찰,친구,모든,사실,살해,\n",
            "애니메이션: 애니메이션,국제,영화제,친구,인디애니페스트,위해,자신,시작,사람,페스티벌,서울,이야기,아이,마을,소녀,\n",
            "액션: 위해,자신,시작,조직,사건,사람,그녀,경찰,전쟁,모든,목숨,사실,친구,가족,요원,\n",
            "어드벤처: 위해,자신,시작,친구,마을,아버지,영화,아이,사람,여행,세계,앤트,세상,가족,모험,\n",
            "전쟁: 전쟁,독일군,전투,위해,작전,시작,부대,윈터스,독일,연합군,미군,임무,자신,사람,나치,\n",
            "코미디: 그녀,자신,시작,위해,사랑,사람,친구,영화,남자,여자,영화제,가족,과연,마을,사건,\n",
            "판타지: 자신,그녀,시작,위해,사람,사랑,요괴,영화제,이야기,영화,소녀,남자,인간,세상,마을,\n"
          ]
        }
      ]
    },
    {
      "cell_type": "code",
      "source": [
        ""
      ],
      "metadata": {
        "id": "5ehspv4fnTvY"
      },
      "execution_count": 91,
      "outputs": []
    },
    {
      "cell_type": "markdown",
      "source": [
        "----\n",
        "\\\\"
      ],
      "metadata": {
        "id": "NXPp4jm4mldQ"
      }
    },
    {
      "cell_type": "markdown",
      "source": [
        "# 5. WEAT score 계산하기 \n",
        "\n",
        "\n",
        "* 영화 시놉시스 데이터셋을 계산해 보기 전에, 예제에 있던 내용을 가지고 먼저 계산 연습을 해 보겠습니다. \n",
        "    * 단어 셋을 정의하고, WEAT score를 계산하여 평균값까지 계산하여 연관성을 알아봅니다.\n"
      ],
      "metadata": {
        "id": "8qyPt-jEnYL0"
      }
    },
    {
      "cell_type": "markdown",
      "source": [
        "## &nbsp;&nbsp; 5-1 예제로 알아보는 WEAT Score 계산법\n",
        "\n",
        "1. target, attribute 단어 셋 정의 하기\n",
        "\n",
        "- 단어 셋을 정할 때는 두 개의 target 셋의 크기가 같아야 하고, 두 개의 attribute 셋의 크기가 같아야 합니다.\n",
        "    - targets\n",
        "        - X set(꽃) : 장미, 튤립, 백합, 데이지\n",
        "        - Y set(곤충) : 거미, 모기, 파리, 메뚜기\n",
        "    - attributes\n",
        "        - A set(유쾌) : 사랑, 행복, 웃음\n",
        "        - B set(불쾌) : 재난, 고통, 증오"
      ],
      "metadata": {
        "id": "I4e0K0LXrWAD"
      }
    },
    {
      "cell_type": "code",
      "source": [
        "# 위 단어의 임베딩 결과 가 아래와 같다 했을때, \n",
        "target_X = {\n",
        "    '사랑':[2.8,  4.2, 4.3,  0.3, 5.0],\n",
        "    '행복':[3.8,  3.0, -1.2,  4.4, 4.9],\n",
        "    '웃음':[3.7, -0.3,  1.2, -2.5, 3.9]\n",
        "}\n",
        "target_Y = {\n",
        "    '재난': [-0.2, -2.8, -4.7, -4.3, -4.7],\n",
        "    '고통': [-4.5, -2.1,  -3.8, -3.6, -3.1],\n",
        "    '증오': [-3.6, -3.3, -3.5,  -3.7, -4.4]\n",
        "}\n",
        "\n",
        "attribute_A = {\n",
        "    '장미': [4.1, 1.2, -2.4, 0.5, 4.1],\n",
        "    '튤립': [3.1, 0.5, 3.6, 1.7, 5.8],\n",
        "    '백합': [2.9, -1.3, 0.4, 1.1, 3.7],\n",
        "    '데이지': [5.4, 2.5, 4.6, -1.0, 3.6]\n",
        "}\n",
        "attribute_B = {\n",
        "    '거미': [-1.5, 0.2, -0.6, -4.6, -5.3],\n",
        "    '모기': [0.4, 0.7, -1.9, -4.5, -2.9],\n",
        "    '파리': [0.9, 1.4, -2.3, -3.9, -4.7],\n",
        "    '메뚜기': [0.7, 0.9, -0.4, -4.1, -3.9]\n",
        "}"
      ],
      "metadata": {
        "id": "Xz26Q1m-sccy"
      },
      "execution_count": 92,
      "outputs": []
    },
    {
      "cell_type": "code",
      "source": [
        "# 각 셋들을 A, B, X, Y 라는 변수에 numpy 배열로 할당 \n",
        "A = np.array([v for v in attribute_A.values()])\n",
        "B = np.array([v for v in attribute_B.values()])\n",
        "X = np.array([v for v in target_X.values()])\n",
        "Y = np.array([v for v in target_Y.values()])"
      ],
      "metadata": {
        "id": "ZeCyej_ZscSr"
      },
      "execution_count": 93,
      "outputs": []
    },
    {
      "cell_type": "code",
      "source": [
        "# 잘 들어갔는지 확인! \n",
        "print(X)\n",
        "print(Y)"
      ],
      "metadata": {
        "colab": {
          "base_uri": "https://localhost:8080/"
        },
        "id": "RRIBFC7AfQDO",
        "outputId": "4207b22c-7baa-41a7-87e0-d8763198ec25"
      },
      "execution_count": 94,
      "outputs": [
        {
          "output_type": "stream",
          "name": "stdout",
          "text": [
            "[[ 2.8  4.2  4.3  0.3  5. ]\n",
            " [ 3.8  3.  -1.2  4.4  4.9]\n",
            " [ 3.7 -0.3  1.2 -2.5  3.9]]\n",
            "[[-0.2 -2.8 -4.7 -4.3 -4.7]\n",
            " [-4.5 -2.1 -3.8 -3.6 -3.1]\n",
            " [-3.6 -3.3 -3.5 -3.7 -4.4]]\n"
          ]
        }
      ]
    },
    {
      "cell_type": "code",
      "source": [
        "# 잘 들어갔는지 확인! (2)\n",
        "print(A)\n",
        "print(B)"
      ],
      "metadata": {
        "colab": {
          "base_uri": "https://localhost:8080/"
        },
        "id": "yaPSdeY4scZL",
        "outputId": "5c5fa772-49f0-41c1-abf4-740a9f037401"
      },
      "execution_count": 95,
      "outputs": [
        {
          "output_type": "stream",
          "name": "stdout",
          "text": [
            "[[ 4.1  1.2 -2.4  0.5  4.1]\n",
            " [ 3.1  0.5  3.6  1.7  5.8]\n",
            " [ 2.9 -1.3  0.4  1.1  3.7]\n",
            " [ 5.4  2.5  4.6 -1.   3.6]]\n",
            "[[-1.5  0.2 -0.6 -4.6 -5.3]\n",
            " [ 0.4  0.7 -1.9 -4.5 -2.9]\n",
            " [ 0.9  1.4 -2.3 -3.9 -4.7]\n",
            " [ 0.7  0.9 -0.4 -4.1 -3.9]]\n"
          ]
        }
      ]
    },
    {
      "cell_type": "code",
      "source": [
        "def cos_sim(i, j):\n",
        "    return dot(i, j.T)/(norm(i)*norm(j))\n",
        "\n",
        "def s(w, A, B):\n",
        "    c_a = cos_sim(w, A)\n",
        "    c_b = cos_sim(w, B)\n",
        "    mean_A = np.mean(c_a, axis = -1)\n",
        "    mean_b = np.mean(c_b, axis = -1)\n",
        "    return mean_A - mean_b\n"
      ],
      "metadata": {
        "id": "63cv541tscGw"
      },
      "execution_count": 96,
      "outputs": []
    },
    {
      "cell_type": "code",
      "source": [
        "# target x 에 있는 '장미' 란 단어가 attribute A, B 중에 어디에 더 가까울까요?\n",
        "# 제시한 단어가 A에 가깝다면 양수, B에 가깝다면 음수? \n",
        "print(s(target_X['사랑'], A, B))"
      ],
      "metadata": {
        "colab": {
          "base_uri": "https://localhost:8080/"
        },
        "id": "9EgOvQ55tAh-",
        "outputId": "2fff820d-cf28-44ae-c219-24c9adb441bb"
      },
      "execution_count": 97,
      "outputs": [
        {
          "output_type": "stream",
          "name": "stdout",
          "text": [
            "0.5901751654626237\n"
          ]
        }
      ]
    },
    {
      "cell_type": "code",
      "source": [
        "print(s(target_Y['재난'], A, B))"
      ],
      "metadata": {
        "colab": {
          "base_uri": "https://localhost:8080/"
        },
        "id": "iMEwn3HDs2JA",
        "outputId": "2b72fa96-f9c1-4cf4-b43f-d7162d73b05f"
      },
      "execution_count": 98,
      "outputs": [
        {
          "output_type": "stream",
          "name": "stdout",
          "text": [
            "-0.6691842929755343\n"
          ]
        }
      ]
    },
    {
      "cell_type": "markdown",
      "source": [
        "2. 두 attribute의 평균 값 알아보기\n",
        "\n",
        "\n",
        "- target_X와 attribute_A, attribute_B 사의의 평균값, 그리고 target_Y와 attribute_A, attribute_B 사의의 평균값은 어떻게 될까요?"
      ],
      "metadata": {
        "id": "lZJB8ximzAxS"
      }
    },
    {
      "cell_type": "code",
      "source": [
        "print(s(X, A, B))\n",
        "print(round(np.mean(s(X, A, B)), 3))"
      ],
      "metadata": {
        "colab": {
          "base_uri": "https://localhost:8080/"
        },
        "id": "m8ykQFAds2eZ",
        "outputId": "ed1c42a2-4a00-4d94-869e-dd10cee3d6a5"
      },
      "execution_count": 99,
      "outputs": [
        {
          "output_type": "stream",
          "name": "stdout",
          "text": [
            "[0.37181942 0.41632807 0.21117431]\n",
            "0.333\n"
          ]
        }
      ]
    },
    {
      "cell_type": "code",
      "source": [
        "print(s(Y, A, B))\n",
        "print(round(np.mean(s(Y, A, B)), 3))"
      ],
      "metadata": {
        "colab": {
          "base_uri": "https://localhost:8080/"
        },
        "id": "5giuCITgs2hi",
        "outputId": "a803a6dd-6499-4443-eed4-28b834145afe"
      },
      "execution_count": 100,
      "outputs": [
        {
          "output_type": "stream",
          "name": "stdout",
          "text": [
            "[-0.39609272 -0.37389852 -0.41242037]\n",
            "-0.394\n"
          ]
        }
      ]
    },
    {
      "cell_type": "markdown",
      "source": [
        "* WEAT score 계산 함수 생성\n"
      ],
      "metadata": {
        "id": "XwYgVouEs2oA"
      }
    },
    {
      "cell_type": "code",
      "source": [
        "def weat_score(X, Y, A, B):\n",
        "    s_X = s(X, A, B)\n",
        "    s_Y = s(Y, A, B)\n",
        "\n",
        "    mean_X = np.mean(s_X)\n",
        "    mean_Y = np.mean(s_Y)\n",
        "\n",
        "    std_dev = np.std(np.concatenate([s_X, s_Y], axis=0))\n",
        "\n",
        "    return (mean_X-mean_Y) / std_dev\n",
        "\n",
        "print(round(weat_score(X, Y, A, B), 3))"
      ],
      "metadata": {
        "colab": {
          "base_uri": "https://localhost:8080/"
        },
        "id": "ZAs4XuCBs2ku",
        "outputId": "0f6af9f8-f8b3-4067-d5ed-9693dc618208"
      },
      "execution_count": 101,
      "outputs": [
        {
          "output_type": "stream",
          "name": "stdout",
          "text": [
            "1.97\n"
          ]
        }
      ]
    },
    {
      "cell_type": "markdown",
      "source": [
        "* 시각화"
      ],
      "metadata": {
        "id": "hbM4X5bjAp0O"
      }
    },
    {
      "cell_type": "code",
      "source": [
        "pca = PCA(n_components=2)\n",
        "pc_A = pca.fit_transform(A)\n",
        "pc_B = pca.fit_transform(B)\n",
        "pc_X = pca.fit_transform(X)\n",
        "pc_Y = pca.fit_transform(Y)\n",
        "\n",
        "fig, ax = plt.subplots()\n",
        "ax.scatter(pc_A[:,0],pc_A[:,1], c='blue', label='A')\n",
        "ax.scatter(pc_B[:,0],pc_B[:,1], c='red', label='B')\n",
        "ax.scatter(pc_X[:,0],pc_X[:,1], c='skyblue', label='X')\n",
        "ax.scatter(pc_Y[:,0],pc_Y[:,1], c='pink', label='Y')\n"
      ],
      "metadata": {
        "colab": {
          "base_uri": "https://localhost:8080/",
          "height": 289
        },
        "id": "uDMQ7CBJtCwx",
        "outputId": "eaa3076a-92bb-411c-ea80-e83c1f0354eb"
      },
      "execution_count": 102,
      "outputs": [
        {
          "output_type": "execute_result",
          "data": {
            "text/plain": [
              "<matplotlib.collections.PathCollection at 0x7fdb16e1b690>"
            ]
          },
          "metadata": {},
          "execution_count": 102
        },
        {
          "output_type": "display_data",
          "data": {
            "text/plain": [
              "<Figure size 432x288 with 1 Axes>"
            ],
            "image/png": "[encoded data removed]"
          },
          "metadata": {}
        }
      ]
    },
    {
      "cell_type": "markdown",
      "source": [
        "- WEAT score가 매우 높게 나온 것을 알 수 있습니다. 즉, 꽃은 유쾌한 단어와 상대적으로 가깝고, 곤충은 불쾌한 단어와 가깝다는 것을 수치적으로 확인할 수 있었습니다.\n"
      ],
      "metadata": {
        "id": "M0SQnLmqAsYB"
      }
    },
    {
      "cell_type": "markdown",
      "source": [
        "## &nbsp;&nbsp; 5-2 시놉시스 데이터셋 WEAT Score 계산하기 "
      ],
      "metadata": {
        "id": "-r2KIj7VAciA"
      }
    },
    {
      "cell_type": "code",
      "source": [
        "# 구현결과를 담을 21x21 matrix\n",
        "matrix = [[0 for _ in range(len(genre_name))] for _ in range(len(genre_name))]"
      ],
      "metadata": {
        "id": "8i8vaPzItCz7"
      },
      "execution_count": 103,
      "outputs": []
    },
    {
      "cell_type": "code",
      "source": [
        "# target이 될 예술영화와 일반영화의 임베딩 결과를 각각 A, B에 할당. \n",
        "A = np.array([model.wv[word] for word in target_art]) # 예술영화\n",
        "B = np.array([model.wv[word] for word in target_gen]) # 일반영화 \n",
        "\n",
        "# Attribute 는 만들어둔 영화 장르에서 유연하게 선택 가능. \n",
        "for i in range(len(genre_name)-1):\n",
        "    for j in range(i+1, len(genre_name)):\n",
        "        X = np.array([model.wv[word] for word in attributes[i]])\n",
        "        Y = np.array([model.wv[word] for word in attributes[j]])\n",
        "        matrix[i][j] = weat_score(X, Y, A, B)"
      ],
      "metadata": {
        "id": "LpCiONt8tC3B"
      },
      "execution_count": 104,
      "outputs": []
    },
    {
      "cell_type": "code",
      "source": [
        "# WEAT Score를 출력해 볼까나! \n",
        "for i in range(len(genre_name)-1):\n",
        "    for j in range(i+1, len(genre_name)):\n",
        "        # score가 1.1보다 크거나, -1.1보다 작은경우 출력합니다. \n",
        "        if matrix[i][j] > 1.1 or matrix[i][j] < -1.1:\n",
        "            print(genre_name[i],genre_name[j],matrix[i][j])"
      ],
      "metadata": {
        "colab": {
          "base_uri": "https://localhost:8080/"
        },
        "id": "lpD-8RRItC55",
        "outputId": "0906a09f-2e5e-42a9-bd1e-8948d576d88d"
      },
      "execution_count": 121,
      "outputs": [
        {
          "output_type": "stream",
          "name": "stdout",
          "text": [
            "SF 멜로로맨스 -1.3503379\n",
            "공포(호러) 다큐멘터리 1.2175647\n",
            "기타 멜로로맨스 -1.1930088\n",
            "다큐멘터리 멜로로맨스 -1.5001531\n",
            "다큐멘터리 미스터리 -1.3323402\n",
            "다큐멘터리 성인물(에로) -1.2638773\n",
            "다큐멘터리 스릴러 -1.2259527\n",
            "멜로로맨스 범죄 1.2146842\n",
            "멜로로맨스 서부극(웨스턴) 1.1775393\n",
            "멜로로맨스 애니메이션 1.177749\n",
            "멜로로맨스 액션 1.1020045\n",
            "멜로로맨스 전쟁 1.4624602\n",
            "미스터리 전쟁 1.18296\n"
          ]
        }
      ]
    },
    {
      "cell_type": "markdown",
      "source": [
        "### 결과 해석!\n",
        "\n",
        "* 예제의 WEAT Score를 해석으로 봤을 때,\n",
        "    - A = 예술영화, B = 일반영화 \n",
        "    - score가 양수일 경우 왼쪽에 있는 값이 A에 가깝고, 오른쪽에 있는게 B와 가깝다 라고 해석 했었던것 같다. \n",
        "\n",
        "* 이를 위 내용을 토대로 결과를 해석 해 본다면,\n",
        "\n",
        "| index | Weat score | 예술영화 | 일반영화 |\n",
        "| --- | --- | --- | --- |\n",
        "| 1 | 음 | 멜로로맨스 | SF |\n",
        "| 2 | 양 | 공포(호러) | 다큐멘터리 |\n",
        "| 3 | 음 | 기타 | 멜로로맨스 |\n",
        "| 4 | 음 | 멜로로맨스 | 다큐멘터리 |\n",
        "| 5 | 음 | 미스터리 | 다큐멘터리 |\n",
        "| 6 | 음 | 성인물(애로) | 다큐멘터리 |\n",
        "| 7 | 음 | 스릴러 | 다큐멘터리 |\n",
        "| 8 | 양 | 멜로로맨스 | 범죄 |\n",
        "| 9 | 양 | 멜로로맨스 | 서부극(웨스턴) |\n",
        "| 10 | 양 | 멜로로맨스 | 애니메이션 |\n",
        "| 11 | 양 | 멜로로맨스 | 액션 |\n",
        "| 12 | 양 | 멜로로맨스 | 전쟁 |\n",
        "| 13 | 양 | 미스터리 | 전쟁 |\n",
        "\n",
        "* 멜로로맨스가 예술영화와 가깝고, 다큐멘터리가 일반영화와 가깝다고 할 수 있겠다. "
      ],
      "metadata": {
        "id": "utozc5il-G5i"
      }
    },
    {
      "cell_type": "markdown",
      "source": [
        "----\n",
        "\\\\"
      ],
      "metadata": {
        "id": "uzT2YnaDxq0l"
      }
    },
    {
      "cell_type": "markdown",
      "source": [
        "# 6. 시각화 \n",
        "\n",
        "* 5번에서 구한 WEAT Score를 가지고 Heatmap을 그려봅니다. \n",
        "* 한국어 지원 폰트가 없으면, 그래프 출력 시 범례 글자가 깨져서 출력되기 때문에 꼭 한국어 지원 폰트로 바꿔주어야 한다. \n",
        "* 코랩의 경우, 폰트를 지정해 준 다음, 런타임 다시시작을 해 줘야 정상적으로 폰트가 반영된다. "
      ],
      "metadata": {
        "id": "XKPMl4kOtCs-"
      }
    },
    {
      "cell_type": "code",
      "source": [
        "np.random.seed(0)\n",
        "\n",
        "# 한글 지원 폰트\n",
        "sns.set(font='NanumBarunGothic')\n",
        "\n",
        "# 마이너스 부호 \n",
        "\n",
        "plt.rcParams['axes.unicode_minus'] = False\n",
        "\n",
        "ax = sns.heatmap(matrix, xticklabels=genre_name, yticklabels=genre_name, annot=True,  cmap='inferno_r', linewidths=.5\n",
        ")\n",
        "ax"
      ],
      "metadata": {
        "colab": {
          "base_uri": "https://localhost:8080/",
          "height": 347
        },
        "id": "102EdigctC83",
        "outputId": "d65c0d4b-b342-4a6e-cca4-ec14dab34f55"
      },
      "execution_count": 116,
      "outputs": [
        {
          "output_type": "execute_result",
          "data": {
            "text/plain": [
              "<matplotlib.axes._subplots.AxesSubplot at 0x7fdb0da5b250>"
            ]
          },
          "metadata": {},
          "execution_count": 116
        },
        {
          "output_type": "display_data",
          "data": {
            "text/plain": [
              "<Figure size 432x288 with 2 Axes>"
            ],
            "image/png": "[encoded data removed]"
          },
          "metadata": {}
        }
      ]
    },
    {
      "cell_type": "markdown",
      "source": [
        "----\n",
        "\\\\"
      ],
      "metadata": {
        "id": "g4OSmqjQmlf1"
      }
    },
    {
      "cell_type": "markdown",
      "source": [
        "# 회고!\n",
        "\n",
        "\n"
      ],
      "metadata": {
        "id": "_I08pY-3zgPp"
      }
    },
    {
      "cell_type": "markdown",
      "source": [
        "* 아이펠에서 정말 다양한 모델을 만들어보고, 결과값을 도출 해 봤지만.. 단어의 편향도 체크 해 볼 수 있다니 기술은 이만큼이나 발전했나! 라고 새삼 느꼈다. 일단 그런 사람만이 할 수 있을것이라 생각했던 부분 까지 수치로 계산해서, 컴퓨터가 분류 할 수 있게끔 만들었다는것 자체가 너무 신기했고, 점점 더 수학을 외면 할 수 없게되었다..... 😞\n",
        "\n",
        "* tokenize를 만들 때, 각 하이퍼 파라미터에 대한 설명이 궁금해 찾아봤었는데, 위에 적용된 것들 말고도 다양한 하이퍼 파라미터들이 있었다. 적용해 볼 수 있는 하이퍼파라미터를 이용해 적용하면, 임베딩 모델의 성능이 나아졌을까? 성능이 좋았다면 분명 LMS에서 바꿔보라고 권하셨겠지만.. 딱히 권하시질 않은걸 보니 그렇게 큰 성능 변화는 없을.. 지도 모른다는 생각에 시도해 보진 않았다. 의문만 의문만.. \n",
        "\n",
        "* heatmap 시각화 할 때, 다른 색은 쓰고싶은데, 뭣도 모르고 파스텔 톤 하고싶다구 `pastel` 적어서 오류 메세지 띄워서 다른색으로 바꿔야 할 때, 또는 특정 파레트로 하고싶은데 무슨 느낌인지 모를때를 위해 사이트 하나 찾아뒀다. 색이라도 다양하게, 입맛대로 바꿀 수 있으면 그래프 그리기가 좀 더 수월하겠지..?   \n",
        "[페이지는 이쪽!](https://medium.com/@morganjonesartist/color-guide-to-seaborn-palettes-da849406d44f)"
      ],
      "metadata": {
        "id": "AtjJ7-VcDXJ-"
      }
    },
    {
      "cell_type": "markdown",
      "source": [
        "----\n",
        "\\\\"
      ],
      "metadata": {
        "id": "wdeKlO5Ezf1l"
      }
    },
    {
      "cell_type": "markdown",
      "source": [
        "# 🖇 참고 페이지 \n",
        "\n",
        "## Word2Vec 관련 \n",
        "\n",
        "- [Word2Vec 하이퍼 파라미터 설명](https://happygrammer.github.io/nlp/word2vec/)\n",
        "\n",
        "- [Word2Vec document](https://radimrehurek.com/gensim/models/word2vec.html)\n",
        "\n",
        "\n",
        "## 폰트 설치 \n",
        "\n",
        "- [코랩 한글 깨짐 현상](https://wooono.tistory.com/357)"
      ],
      "metadata": {
        "id": "fF4GI-YRnzTW"
      }
    }
  ]
}